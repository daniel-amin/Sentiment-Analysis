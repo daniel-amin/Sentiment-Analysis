{
 "cells": [
  {
   "cell_type": "markdown",
   "metadata": {
    "heading_collapsed": true
   },
   "source": [
    "## Importing and creating train features"
   ]
  },
  {
   "cell_type": "code",
   "execution_count": 1,
   "metadata": {
    "colab": {},
    "colab_type": "code",
    "hidden": true,
    "id": "4PJ8MohpF1Ht"
   },
   "outputs": [],
   "source": [
    "import pandas as pd\n",
    "import numpy as np\n",
    "import csv\n",
    "import sys\n",
    "import nltk\n",
    "from nltk.corpus import stopwords\n",
    "import glob\n",
    "import os\n",
    "import string"
   ]
  },
  {
   "cell_type": "code",
   "execution_count": 10,
   "metadata": {
    "colab": {},
    "colab_type": "code",
    "hidden": true,
    "id": "mKHimIdaF1Hy",
    "outputId": "ace05c3c-6a8d-4ec0-8db9-6e016f161f7c",
    "tags": []
   },
   "outputs": [
    {
     "name": "stdout",
     "output_type": "stream",
     "text": [
      "160000\n"
     ]
    },
    {
     "data": {
      "text/html": [
       "<div>\n",
       "<style scoped>\n",
       "    .dataframe tbody tr th:only-of-type {\n",
       "        vertical-align: middle;\n",
       "    }\n",
       "\n",
       "    .dataframe tbody tr th {\n",
       "        vertical-align: top;\n",
       "    }\n",
       "\n",
       "    .dataframe thead th {\n",
       "        text-align: right;\n",
       "    }\n",
       "</style>\n",
       "<table border=\"1\" class=\"dataframe\">\n",
       "  <thead>\n",
       "    <tr style=\"text-align: right;\">\n",
       "      <th></th>\n",
       "      <th>text</th>\n",
       "      <th>label</th>\n",
       "    </tr>\n",
       "  </thead>\n",
       "  <tbody>\n",
       "    <tr>\n",
       "      <th>3533945</th>\n",
       "      <td>usability and programming history: This was a ...</td>\n",
       "      <td>1</td>\n",
       "    </tr>\n",
       "    <tr>\n",
       "      <th>302956</th>\n",
       "      <td>This case is pretty good: Fits gameboy with Pe...</td>\n",
       "      <td>2</td>\n",
       "    </tr>\n",
       "    <tr>\n",
       "      <th>3086621</th>\n",
       "      <td>Bones Reds are awesome!: I got these today, an...</td>\n",
       "      <td>2</td>\n",
       "    </tr>\n",
       "    <tr>\n",
       "      <th>946241</th>\n",
       "      <td>This cd rocks hard: i love this cd i can turn ...</td>\n",
       "      <td>2</td>\n",
       "    </tr>\n",
       "    <tr>\n",
       "      <th>2803661</th>\n",
       "      <td>Too tough: Since I really loved Buffalo Bill's...</td>\n",
       "      <td>1</td>\n",
       "    </tr>\n",
       "  </tbody>\n",
       "</table>\n",
       "</div>"
      ],
      "text/plain": [
       "                                                      text  label\n",
       "3533945  usability and programming history: This was a ...      1\n",
       "302956   This case is pretty good: Fits gameboy with Pe...      2\n",
       "3086621  Bones Reds are awesome!: I got these today, an...      2\n",
       "946241   This cd rocks hard: i love this cd i can turn ...      2\n",
       "2803661  Too tough: Since I really loved Buffalo Bill's...      1"
      ]
     },
     "execution_count": 10,
     "metadata": {},
     "output_type": "execute_result"
    }
   ],
   "source": [
    "#Load training file\n",
    "\n",
    "text_file = open(\"train.txt.txt\", \"r\", encoding=\"utf8\")\n",
    "lines = text_file.read().split('\\n')\n",
    "\n",
    "labels = []\n",
    "for item in lines:\n",
    "    first_four_letters = item[:10]\n",
    "    if first_four_letters == '__label__1':\n",
    "        labels.append(int(1))\n",
    "    else:\n",
    "        labels.append(int(2))\n",
    "        \n",
    "def remove_label(s):\n",
    "    return s[11:]\n",
    "lines = [remove_label(s) for s in lines]\n",
    "\n",
    "df = pd.DataFrame()\n",
    "df['text'] = lines\n",
    "df['label'] = labels\n",
    "\n",
    "df = df.sample(160000)\n",
    "print(len(df))\n",
    "df.head()"
   ]
  },
  {
   "cell_type": "code",
   "execution_count": 11,
   "metadata": {
    "colab": {},
    "colab_type": "code",
    "hidden": true,
    "id": "zUTpz7RZF1H1",
    "tags": []
   },
   "outputs": [],
   "source": [
    "#Clean text\n",
    "\n",
    "stop = stopwords.words('english')\n",
    "w_tokenizer = nltk.tokenize.WhitespaceTokenizer()\n",
    "lemmatizer = nltk.stem.WordNetLemmatizer()\n",
    "\n",
    "def lemmatize_text(text):\n",
    "    return [lemmatizer.lemmatize(w) for w in w_tokenizer.tokenize(text)]\n",
    "\n",
    "#lowercase and remove punctuation, remove stopwords        \n",
    "df['text'] = df['text'].str.lower()\n",
    "df['text'] = df['text'].str.replace('-', ' ')\n",
    "df['text'] = df['text'].str.split(' ')\n",
    "df['text'] = df['text'].apply(lambda x: [item for item in x if item not in stop])\n",
    "df['text'] = df['text'].apply(', '.join)\n",
    "df['text'] = df['text'].str.replace('[{}]'.format(string.punctuation), '')\n",
    "df['text'] = df['text'].apply(lemmatize_text)\n",
    "df['text'] = df['text'].apply(', '.join)\n",
    "df['text'] = df['text'].str.replace('[{}]'.format(string.punctuation), '')\n",
    "df['text'] = df['text'].str.replace('\\\\', ' ')\n"
   ]
  },
  {
   "cell_type": "code",
   "execution_count": 12,
   "metadata": {
    "colab": {},
    "colab_type": "code",
    "hidden": true,
    "id": "v716GFtjF1H4"
   },
   "outputs": [],
   "source": [
    "#Train Word2Vec\n",
    "\n",
    "from gensim.models import Word2Vec\n",
    "\n",
    "text = [row.split() for row in df['text']]\n",
    "model_w2v = Word2Vec(text)"
   ]
  },
  {
   "cell_type": "code",
   "execution_count": 13,
   "metadata": {
    "colab": {},
    "colab_type": "code",
    "hidden": true,
    "id": "DeO9W1afF1H6"
   },
   "outputs": [],
   "source": [
    "model_w2v.save('model_w2v.bin')"
   ]
  },
  {
   "cell_type": "code",
   "execution_count": 14,
   "metadata": {
    "colab": {},
    "colab_type": "code",
    "hidden": true,
    "id": "okwCWi8WF1H8",
    "outputId": "9de3534a-ed71-436e-8977-6e81c611e796",
    "tags": []
   },
   "outputs": [
    {
     "data": {
      "application/vnd.jupyter.widget-view+json": {
       "model_id": "3c09b3d994294dd185873d8640ad3e85",
       "version_major": 2,
       "version_minor": 0
      },
      "text/plain": [
       "HBox(children=(FloatProgress(value=0.0, max=160000.0), HTML(value='')))"
      ]
     },
     "metadata": {},
     "output_type": "display_data"
    },
    {
     "name": "stdout",
     "output_type": "stream",
     "text": [
      "\n"
     ]
    }
   ],
   "source": [
    "#Average Word2Vec Vectors for BOW\n",
    "\n",
    "from tqdm import tqdm_notebook as tqdm\n",
    "\n",
    "text_vec = []\n",
    "text_avg_vec = []\n",
    "count = 0\n",
    "for row in tqdm(range(len(text))):\n",
    "    [word.split(' ', 1) for word in text[row]]\n",
    "  \n",
    "    for i in range(len(text[row])):\n",
    "        try:\n",
    "            text_vec.append(model_w2v[text[row][i]])\n",
    "            count = count + 1\n",
    "        except KeyError as e:\n",
    "            text_vec.append([0]*100)\n",
    "  \n",
    "    average = np.add.reduce(text_vec)\n",
    "    if count==0:\n",
    "        count = 1\n",
    "    average = np.divide(average, count)\n",
    "    text_avg_vec.append(average)\n",
    "    text_vec = []\n",
    "    count = 0"
   ]
  },
  {
   "cell_type": "code",
   "execution_count": 15,
   "metadata": {
    "colab": {},
    "colab_type": "code",
    "hidden": true,
    "id": "TEdesJclF1H_"
   },
   "outputs": [],
   "source": [
    "for i in range(len(text_avg_vec)):\n",
    "    if type(text_avg_vec[i]) != np.ndarray:\n",
    "        text_avg_vec[i] = np.zeros(100)"
   ]
  },
  {
   "cell_type": "code",
   "execution_count": 16,
   "metadata": {
    "hidden": true
   },
   "outputs": [
    {
     "data": {
      "text/plain": [
       "array([-2.39594962e-02, -3.52297321e-01,  1.82629284e-01,  3.50403552e-02,\n",
       "       -3.42428980e-01,  2.96911069e-01,  3.62364998e-01, -1.40412820e-01,\n",
       "       -2.38565522e-01, -9.53779967e-02, -7.59008595e-02,  2.46695624e-03,\n",
       "       -5.98871699e-02, -3.29450190e-01, -1.35016516e-01, -1.41912155e-01,\n",
       "        2.55528346e-02,  3.11567659e-01, -2.08746480e-01,  1.05372929e-01,\n",
       "        1.42134485e-01, -1.61325655e-01,  9.18009292e-03,  1.58887904e-01,\n",
       "        4.95492782e-01,  1.53667141e-01, -3.70266686e-01,  3.57450015e-01,\n",
       "        1.26190499e-01, -3.48605867e-01, -2.21555804e-01, -1.99812797e-01,\n",
       "        1.80274532e-01,  6.28552006e-01, -1.89942103e-01,  4.37229785e-01,\n",
       "        8.32161781e-02, -1.19431146e-01, -7.16513588e-01, -2.51545378e-01,\n",
       "        4.79025925e-01, -2.21111028e-01, -3.15386977e-04,  2.27327358e-01,\n",
       "       -2.21959181e-01,  1.63623010e-01,  3.95685532e-01, -1.00819586e-01,\n",
       "       -7.88121291e-01,  2.45670173e-01,  1.90602971e-01, -2.31535771e-01,\n",
       "        1.95498465e-02,  2.78641509e-01, -2.68808424e-01, -3.51242900e-01,\n",
       "        1.43664316e-01, -6.45426322e-02, -1.05346115e-01, -2.13707259e-01,\n",
       "       -4.93179110e-01,  5.45761407e-01, -3.95184836e-02,  6.14716917e-01,\n",
       "        4.98392846e-01, -8.38584994e-02,  1.72957985e-02,  1.01551840e-02,\n",
       "       -3.36202965e-01, -9.72444355e-02, -2.09879129e-01,  4.76688023e-02,\n",
       "       -6.35518118e-02,  1.63608013e-01, -6.34592576e-01, -1.81351315e-01,\n",
       "        1.42840338e-01, -3.24894987e-01,  1.48662650e-01,  1.41430050e-01,\n",
       "        2.35694252e-02, -3.75426125e-02, -2.15812878e-02,  3.00980815e-01,\n",
       "        4.41569802e-01,  1.31976961e-03, -2.14450536e-02,  6.87228511e-02,\n",
       "       -4.32921296e-01,  7.22569106e-02, -3.50352505e-01, -4.59975488e-02,\n",
       "       -4.43963241e-01,  2.77739142e-01,  1.86955277e-01,  1.59111585e-01,\n",
       "       -9.26943380e-02, -1.47805802e-01, -3.89637413e-01, -2.83125362e-01])"
      ]
     },
     "execution_count": 16,
     "metadata": {},
     "output_type": "execute_result"
    }
   ],
   "source": [
    "text_avg_vec[0]"
   ]
  },
  {
   "cell_type": "code",
   "execution_count": 17,
   "metadata": {
    "colab": {},
    "colab_type": "code",
    "hidden": true,
    "id": "LEbtDl_-F1IC",
    "tags": []
   },
   "outputs": [
    {
     "name": "stdout",
     "output_type": "stream",
     "text": [
      "120000\n",
      "40000\n"
     ]
    }
   ],
   "source": [
    "x_train = text_avg_vec\n",
    "#x_train = np.c_[x_train]\n",
    "\n",
    "df['label'] = df['label'] - 1\n",
    "\n",
    "y_train= np.asarray(df.label)\n",
    "\n",
    "from sklearn.model_selection import train_test_split\n",
    "x_train, x_val, y_train, y_val = train_test_split(x_train, y_train, test_size=40000, random_state=42)\n",
    "\n",
    "print(len(x_train))\n",
    "print(len(x_val))"
   ]
  },
  {
   "cell_type": "markdown",
   "metadata": {
    "heading_collapsed": true
   },
   "source": [
    "## Modeling"
   ]
  },
  {
   "cell_type": "code",
   "execution_count": 18,
   "metadata": {
    "colab": {},
    "colab_type": "code",
    "hidden": true,
    "id": "VYOMPOgOF1IE",
    "outputId": "8d45e2c8-90f8-4889-827f-fb462dd3b2ab"
   },
   "outputs": [
    {
     "name": "stderr",
     "output_type": "stream",
     "text": [
      "C:\\Users\\danie\\anaconda3\\lib\\site-packages\\sklearn\\linear_model\\_logistic.py:940: ConvergenceWarning: lbfgs failed to converge (status=1):\n",
      "STOP: TOTAL NO. of ITERATIONS REACHED LIMIT.\n",
      "\n",
      "Increase the number of iterations (max_iter) or scale the data as shown in:\n",
      "    https://scikit-learn.org/stable/modules/preprocessing.html\n",
      "Please also refer to the documentation for alternative solver options:\n",
      "    https://scikit-learn.org/stable/modules/linear_model.html#logistic-regression\n",
      "  extra_warning_msg=_LOGISTIC_SOLVER_CONVERGENCE_MSG)\n"
     ]
    }
   ],
   "source": [
    "#Logistic Regression Training\n",
    "\n",
    "from sklearn.linear_model import LogisticRegression\n",
    "from sklearn.model_selection import StratifiedKFold\n",
    "\n",
    "lr = LogisticRegression().fit(x_train, y_train)"
   ]
  },
  {
   "cell_type": "code",
   "execution_count": 14,
   "metadata": {
    "colab": {},
    "colab_type": "code",
    "hidden": true,
    "id": "6fJCW9CRF1IH"
   },
   "outputs": [],
   "source": [
    "#Naive Bayes Training\n",
    "\n",
    "from sklearn.naive_bayes import GaussianNB\n",
    "clf = GaussianNB().fit(x_train, y_train)"
   ]
  },
  {
   "cell_type": "code",
   "execution_count": null,
   "metadata": {
    "colab": {},
    "colab_type": "code",
    "hidden": true,
    "id": "3i2eWSaLF1IJ",
    "outputId": "291db352-78e8-4a8b-f9ae-a6fceb9d7601"
   },
   "outputs": [
    {
     "name": "stdout",
     "output_type": "stream",
     "text": [
      "Model: \"sequential_2\"\n",
      "_________________________________________________________________\n",
      "Layer (type)                 Output Shape              Param #   \n",
      "=================================================================\n",
      "dense_14 (Dense)             (None, 32)                3232      \n",
      "_________________________________________________________________\n",
      "activation_14 (Activation)   (None, 32)                0         \n",
      "_________________________________________________________________\n",
      "batch_normalization_12 (Batc (None, 32)                128       \n",
      "_________________________________________________________________\n",
      "dense_15 (Dense)             (None, 32)                1056      \n",
      "_________________________________________________________________\n",
      "activation_15 (Activation)   (None, 32)                0         \n",
      "_________________________________________________________________\n",
      "batch_normalization_13 (Batc (None, 32)                128       \n",
      "_________________________________________________________________\n",
      "dropout_6 (Dropout)          (None, 32)                0         \n",
      "_________________________________________________________________\n",
      "dense_16 (Dense)             (None, 32)                1056      \n",
      "_________________________________________________________________\n",
      "activation_16 (Activation)   (None, 32)                0         \n",
      "_________________________________________________________________\n",
      "batch_normalization_14 (Batc (None, 32)                128       \n",
      "_________________________________________________________________\n",
      "dense_17 (Dense)             (None, 64)                2112      \n",
      "_________________________________________________________________\n",
      "activation_17 (Activation)   (None, 64)                0         \n",
      "_________________________________________________________________\n",
      "batch_normalization_15 (Batc (None, 64)                256       \n",
      "_________________________________________________________________\n",
      "dropout_7 (Dropout)          (None, 64)                0         \n",
      "_________________________________________________________________\n",
      "dense_18 (Dense)             (None, 64)                4160      \n",
      "_________________________________________________________________\n",
      "activation_18 (Activation)   (None, 64)                0         \n",
      "_________________________________________________________________\n",
      "batch_normalization_16 (Batc (None, 64)                256       \n",
      "_________________________________________________________________\n",
      "dense_19 (Dense)             (None, 64)                4160      \n",
      "_________________________________________________________________\n",
      "activation_19 (Activation)   (None, 64)                0         \n",
      "_________________________________________________________________\n",
      "batch_normalization_17 (Batc (None, 64)                256       \n",
      "_________________________________________________________________\n",
      "dropout_8 (Dropout)          (None, 64)                0         \n",
      "_________________________________________________________________\n",
      "dense_20 (Dense)             (None, 1)                 65        \n",
      "_________________________________________________________________\n",
      "activation_20 (Activation)   (None, 1)                 0         \n",
      "=================================================================\n",
      "Total params: 16,993\n",
      "Trainable params: 16,417\n",
      "Non-trainable params: 576\n",
      "_________________________________________________________________\n",
      "Train on 96000 samples, validate on 24000 samples\n",
      "Epoch 1/100\n",
      "95808/96000 [============================>.] - ETA: 0s - loss: 0.4178 - accuracy: 0.8113\n",
      "Epoch 00001: val_accuracy improved from -inf to 0.84704, saving model to NN.model\n",
      "INFO:tensorflow:Assets written to: NN.model/assets\n",
      "96000/96000 [==============================] - 22s 234us/sample - loss: 0.4179 - accuracy: 0.8113 - val_loss: 0.3487 - val_accuracy: 0.8470\n",
      "Epoch 2/100\n",
      "95808/96000 [============================>.] - ETA: 0s - loss: 0.3712 - accuracy: 0.8367\n",
      "Epoch 00002: val_accuracy improved from 0.84704 to 0.85250, saving model to NN.model\n",
      "INFO:tensorflow:Assets written to: NN.model/assets\n",
      "96000/96000 [==============================] - 19s 200us/sample - loss: 0.3711 - accuracy: 0.8367 - val_loss: 0.3367 - val_accuracy: 0.8525\n",
      "Epoch 3/100\n",
      "95808/96000 [============================>.] - ETA: 0s - loss: 0.3660 - accuracy: 0.8386\n",
      "Epoch 00003: val_accuracy did not improve from 0.85250\n",
      "96000/96000 [==============================] - 17s 181us/sample - loss: 0.3658 - accuracy: 0.8387 - val_loss: 0.3490 - val_accuracy: 0.8465\n",
      "Epoch 4/100\n",
      "95776/96000 [============================>.] - ETA: 0s - loss: 0.3609 - accuracy: 0.8422\n",
      "Epoch 00004: val_accuracy improved from 0.85250 to 0.85404, saving model to NN.model\n",
      "INFO:tensorflow:Assets written to: NN.model/assets\n",
      "96000/96000 [==============================] - 20s 210us/sample - loss: 0.3610 - accuracy: 0.8422 - val_loss: 0.3390 - val_accuracy: 0.8540\n",
      "Epoch 5/100\n",
      "95936/96000 [============================>.] - ETA: 0s - loss: 0.3566 - accuracy: 0.8435\n",
      "Epoch 00005: val_accuracy did not improve from 0.85404\n",
      "96000/96000 [==============================] - 17s 175us/sample - loss: 0.3565 - accuracy: 0.8435 - val_loss: 0.3439 - val_accuracy: 0.8518\n",
      "Epoch 6/100\n",
      "95776/96000 [============================>.] - ETA: 0s - loss: 0.3557 - accuracy: 0.8434\n",
      "Epoch 00006: val_accuracy did not improve from 0.85404\n",
      "96000/96000 [==============================] - 17s 175us/sample - loss: 0.3557 - accuracy: 0.8434 - val_loss: 0.3387 - val_accuracy: 0.8507\n",
      "Epoch 7/100\n",
      "95744/96000 [============================>.] - ETA: 0s - loss: 0.3525 - accuracy: 0.8455\n",
      "Epoch 00007: val_accuracy improved from 0.85404 to 0.85425, saving model to NN.model\n",
      "INFO:tensorflow:Assets written to: NN.model/assets\n",
      "96000/96000 [==============================] - 19s 198us/sample - loss: 0.3524 - accuracy: 0.8455 - val_loss: 0.3297 - val_accuracy: 0.8543\n",
      "Epoch 8/100\n",
      "95808/96000 [============================>.] - ETA: 0s - loss: 0.3514 - accuracy: 0.8475\n",
      "Epoch 00008: val_accuracy improved from 0.85425 to 0.85617, saving model to NN.model\n",
      "INFO:tensorflow:Assets written to: NN.model/assets\n",
      "96000/96000 [==============================] - 19s 203us/sample - loss: 0.3514 - accuracy: 0.8475 - val_loss: 0.3311 - val_accuracy: 0.8562\n",
      "Epoch 9/100\n",
      "95936/96000 [============================>.] - ETA: 0s - loss: 0.3494 - accuracy: 0.8476\n",
      "Epoch 00009: val_accuracy improved from 0.85617 to 0.85779, saving model to NN.model\n",
      "INFO:tensorflow:Assets written to: NN.model/assets\n",
      "96000/96000 [==============================] - 20s 207us/sample - loss: 0.3495 - accuracy: 0.8476 - val_loss: 0.3283 - val_accuracy: 0.8578\n",
      "Epoch 10/100\n",
      "95808/96000 [============================>.] - ETA: 0s - loss: 0.3464 - accuracy: 0.8504\n",
      "Epoch 00010: val_accuracy did not improve from 0.85779\n",
      "96000/96000 [==============================] - 17s 178us/sample - loss: 0.3464 - accuracy: 0.8504 - val_loss: 0.3281 - val_accuracy: 0.8574\n",
      "Epoch 11/100\n",
      "95712/96000 [============================>.] - ETA: 0s - loss: 0.3455 - accuracy: 0.8507\n",
      "Epoch 00011: val_accuracy did not improve from 0.85779\n",
      "96000/96000 [==============================] - 17s 181us/sample - loss: 0.3456 - accuracy: 0.8506 - val_loss: 0.3337 - val_accuracy: 0.8545\n",
      "Epoch 12/100\n",
      "95680/96000 [============================>.] - ETA: 0s - loss: 0.3457 - accuracy: 0.8502\n",
      "Epoch 00012: val_accuracy improved from 0.85779 to 0.86042, saving model to NN.model\n",
      "INFO:tensorflow:Assets written to: NN.model/assets\n",
      "96000/96000 [==============================] - 20s 207us/sample - loss: 0.3458 - accuracy: 0.8501 - val_loss: 0.3271 - val_accuracy: 0.8604\n",
      "Epoch 13/100\n",
      "95744/96000 [============================>.] - ETA: 0s - loss: 0.3428 - accuracy: 0.8514\n",
      "Epoch 00013: val_accuracy did not improve from 0.86042\n",
      "96000/96000 [==============================] - 17s 179us/sample - loss: 0.3428 - accuracy: 0.8513 - val_loss: 0.3277 - val_accuracy: 0.8589\n",
      "Epoch 14/100\n",
      "95968/96000 [============================>.] - ETA: 0s - loss: 0.3428 - accuracy: 0.8526\n",
      "Epoch 00014: val_accuracy did not improve from 0.86042\n",
      "96000/96000 [==============================] - 17s 182us/sample - loss: 0.3428 - accuracy: 0.8526 - val_loss: 0.3280 - val_accuracy: 0.8577\n",
      "Epoch 15/100\n",
      "95648/96000 [============================>.] - ETA: 0s - loss: 0.3393 - accuracy: 0.8539\n",
      "Epoch 00015: val_accuracy did not improve from 0.86042\n",
      "96000/96000 [==============================] - 17s 172us/sample - loss: 0.3394 - accuracy: 0.8538 - val_loss: 0.3305 - val_accuracy: 0.8585\n",
      "Epoch 16/100\n",
      "95936/96000 [============================>.] - ETA: 0s - loss: 0.3407 - accuracy: 0.8539\n",
      "Epoch 00016: val_accuracy did not improve from 0.86042\n",
      "96000/96000 [==============================] - 17s 182us/sample - loss: 0.3407 - accuracy: 0.8539 - val_loss: 0.3253 - val_accuracy: 0.8585\n",
      "Epoch 17/100\n",
      "95744/96000 [============================>.] - ETA: 0s - loss: 0.3395 - accuracy: 0.8547\n",
      "Epoch 00017: val_accuracy did not improve from 0.86042\n",
      "96000/96000 [==============================] - 17s 177us/sample - loss: 0.3395 - accuracy: 0.8547 - val_loss: 0.3268 - val_accuracy: 0.8576\n",
      "Epoch 18/100\n",
      "95776/96000 [============================>.] - ETA: 0s - loss: 0.3384 - accuracy: 0.8549\n",
      "Epoch 00018: val_accuracy did not improve from 0.86042\n",
      "96000/96000 [==============================] - 17s 179us/sample - loss: 0.3386 - accuracy: 0.8548 - val_loss: 0.3267 - val_accuracy: 0.8598\n",
      "Epoch 19/100\n",
      "95968/96000 [============================>.] - ETA: 0s - loss: 0.3369 - accuracy: 0.8552\n",
      "Epoch 00019: val_accuracy did not improve from 0.86042\n",
      "96000/96000 [==============================] - 17s 175us/sample - loss: 0.3370 - accuracy: 0.8552 - val_loss: 0.3299 - val_accuracy: 0.8584\n",
      "Epoch 20/100\n",
      "95808/96000 [============================>.] - ETA: 0s - loss: 0.3355 - accuracy: 0.8559\n",
      "Epoch 00020: val_accuracy did not improve from 0.86042\n",
      "96000/96000 [==============================] - 17s 176us/sample - loss: 0.3355 - accuracy: 0.8559 - val_loss: 0.3279 - val_accuracy: 0.8577\n",
      "Epoch 21/100\n",
      "95776/96000 [============================>.] - ETA: 0s - loss: 0.3352 - accuracy: 0.8563\n",
      "Epoch 00021: val_accuracy did not improve from 0.86042\n",
      "96000/96000 [==============================] - 17s 177us/sample - loss: 0.3351 - accuracy: 0.8563 - val_loss: 0.3285 - val_accuracy: 0.8583\n",
      "Epoch 22/100\n",
      "95808/96000 [============================>.] - ETA: 0s - loss: 0.3357 - accuracy: 0.8561\n",
      "Epoch 00022: val_accuracy did not improve from 0.86042\n",
      "96000/96000 [==============================] - 17s 180us/sample - loss: 0.3358 - accuracy: 0.8560 - val_loss: 0.3255 - val_accuracy: 0.8604\n",
      "Epoch 23/100\n",
      "95872/96000 [============================>.] - ETA: 0s - loss: 0.3337 - accuracy: 0.8577\n",
      "Epoch 00023: val_accuracy did not improve from 0.86042\n",
      "96000/96000 [==============================] - 17s 178us/sample - loss: 0.3337 - accuracy: 0.8577 - val_loss: 0.3294 - val_accuracy: 0.8569\n",
      "Epoch 24/100\n",
      "95808/96000 [============================>.] - ETA: 0s - loss: 0.3350 - accuracy: 0.8569\n",
      "Epoch 00024: val_accuracy did not improve from 0.86042\n",
      "96000/96000 [==============================] - 16s 172us/sample - loss: 0.3350 - accuracy: 0.8569 - val_loss: 0.3250 - val_accuracy: 0.8595\n",
      "Epoch 25/100\n",
      "95840/96000 [============================>.] - ETA: 0s - loss: 0.3327 - accuracy: 0.8584\n",
      "Epoch 00025: val_accuracy did not improve from 0.86042\n",
      "96000/96000 [==============================] - 17s 178us/sample - loss: 0.3327 - accuracy: 0.8584 - val_loss: 0.3266 - val_accuracy: 0.8592\n",
      "Epoch 26/100\n",
      "95744/96000 [============================>.] - ETA: 0s - loss: 0.3335 - accuracy: 0.8581\n",
      "Epoch 00026: val_accuracy did not improve from 0.86042\n",
      "96000/96000 [==============================] - 18s 183us/sample - loss: 0.3338 - accuracy: 0.8580 - val_loss: 0.3296 - val_accuracy: 0.8584\n",
      "Epoch 27/100\n",
      "95776/96000 [============================>.] - ETA: 0s - loss: 0.3326 - accuracy: 0.8566\n",
      "Epoch 00027: val_accuracy did not improve from 0.86042\n",
      "96000/96000 [==============================] - 17s 174us/sample - loss: 0.3325 - accuracy: 0.8567 - val_loss: 0.3314 - val_accuracy: 0.8571\n",
      "Epoch 28/100\n",
      "95872/96000 [============================>.] - ETA: 0s - loss: 0.3321 - accuracy: 0.8582\n",
      "Epoch 00028: val_accuracy did not improve from 0.86042\n",
      "96000/96000 [==============================] - 18s 183us/sample - loss: 0.3321 - accuracy: 0.8582 - val_loss: 0.3268 - val_accuracy: 0.8546\n",
      "Epoch 29/100\n",
      "95968/96000 [============================>.] - ETA: 0s - loss: 0.3305 - accuracy: 0.8596\n",
      "Epoch 00029: val_accuracy did not improve from 0.86042\n",
      "96000/96000 [==============================] - 17s 180us/sample - loss: 0.3305 - accuracy: 0.8595 - val_loss: 0.3328 - val_accuracy: 0.8594\n",
      "Epoch 30/100\n",
      "95904/96000 [============================>.] - ETA: 0s - loss: 0.3303 - accuracy: 0.8590\n",
      "Epoch 00030: val_accuracy did not improve from 0.86042\n",
      "96000/96000 [==============================] - 17s 175us/sample - loss: 0.3303 - accuracy: 0.8591 - val_loss: 0.3253 - val_accuracy: 0.8595\n",
      "Epoch 31/100\n",
      "95776/96000 [============================>.] - ETA: 0s - loss: 0.3287 - accuracy: 0.8598\n",
      "Epoch 00031: val_accuracy did not improve from 0.86042\n",
      "96000/96000 [==============================] - 17s 174us/sample - loss: 0.3287 - accuracy: 0.8597 - val_loss: 0.3307 - val_accuracy: 0.8601\n",
      "Epoch 32/100\n",
      "95808/96000 [============================>.] - ETA: 0s - loss: 0.3303 - accuracy: 0.8593\n",
      "Epoch 00032: val_accuracy did not improve from 0.86042\n",
      "96000/96000 [==============================] - 18s 184us/sample - loss: 0.3302 - accuracy: 0.8593 - val_loss: 0.3285 - val_accuracy: 0.8575\n",
      "Epoch 33/100\n",
      "95872/96000 [============================>.] - ETA: 0s - loss: 0.3294 - accuracy: 0.8599\n",
      "Epoch 00033: val_accuracy improved from 0.86042 to 0.86054, saving model to NN.model\n",
      "INFO:tensorflow:Assets written to: NN.model/assets\n",
      "96000/96000 [==============================] - 19s 201us/sample - loss: 0.3295 - accuracy: 0.8599 - val_loss: 0.3254 - val_accuracy: 0.8605\n",
      "Epoch 34/100\n",
      "95904/96000 [============================>.] - ETA: 0s - loss: 0.3284 - accuracy: 0.8597\n",
      "Epoch 00034: val_accuracy improved from 0.86054 to 0.86058, saving model to NN.model\n",
      "INFO:tensorflow:Assets written to: NN.model/assets\n",
      "96000/96000 [==============================] - 20s 205us/sample - loss: 0.3285 - accuracy: 0.8597 - val_loss: 0.3265 - val_accuracy: 0.8606\n",
      "Epoch 35/100\n",
      "95936/96000 [============================>.] - ETA: 0s - loss: 0.3325 - accuracy: 0.8576\n",
      "Epoch 00035: val_accuracy did not improve from 0.86058\n",
      "96000/96000 [==============================] - 17s 175us/sample - loss: 0.3325 - accuracy: 0.8576 - val_loss: 0.3347 - val_accuracy: 0.8593\n",
      "Epoch 36/100\n",
      "95936/96000 [============================>.] - ETA: 0s - loss: 0.3308 - accuracy: 0.8582\n",
      "Epoch 00036: val_accuracy did not improve from 0.86058\n",
      "96000/96000 [==============================] - 17s 175us/sample - loss: 0.3308 - accuracy: 0.8581 - val_loss: 0.3264 - val_accuracy: 0.8587\n",
      "Epoch 37/100\n",
      "95968/96000 [============================>.] - ETA: 0s - loss: 0.3277 - accuracy: 0.8606\n",
      "Epoch 00037: val_accuracy did not improve from 0.86058\n",
      "96000/96000 [==============================] - 17s 176us/sample - loss: 0.3276 - accuracy: 0.8606 - val_loss: 0.3274 - val_accuracy: 0.8596\n",
      "Epoch 38/100\n",
      "95808/96000 [============================>.] - ETA: 0s - loss: 0.3295 - accuracy: 0.8595\n",
      "Epoch 00038: val_accuracy did not improve from 0.86058\n",
      "96000/96000 [==============================] - 17s 179us/sample - loss: 0.3294 - accuracy: 0.8595 - val_loss: 0.3250 - val_accuracy: 0.8590\n",
      "Epoch 39/100\n",
      "95968/96000 [============================>.] - ETA: 0s - loss: 0.3306 - accuracy: 0.8576\n",
      "Epoch 00039: val_accuracy did not improve from 0.86058\n",
      "96000/96000 [==============================] - 17s 174us/sample - loss: 0.3305 - accuracy: 0.8576 - val_loss: 0.3293 - val_accuracy: 0.8548\n",
      "Epoch 40/100\n",
      "95808/96000 [============================>.] - ETA: 0s - loss: 0.3309 - accuracy: 0.8581\n",
      "Epoch 00040: val_accuracy did not improve from 0.86058\n",
      "96000/96000 [==============================] - 17s 176us/sample - loss: 0.3309 - accuracy: 0.8581 - val_loss: 1.5805 - val_accuracy: 0.8589\n",
      "Epoch 41/100\n",
      "95648/96000 [============================>.] - ETA: 0s - loss: 0.3304 - accuracy: 0.8592\n",
      "Epoch 00041: val_accuracy did not improve from 0.86058\n",
      "96000/96000 [==============================] - 17s 174us/sample - loss: 0.3303 - accuracy: 0.8592 - val_loss: 0.3269 - val_accuracy: 0.8574\n",
      "Epoch 42/100\n",
      "95936/96000 [============================>.] - ETA: 0s - loss: 0.3293 - accuracy: 0.8605\n",
      "Epoch 00042: val_accuracy did not improve from 0.86058\n",
      "96000/96000 [==============================] - 17s 172us/sample - loss: 0.3293 - accuracy: 0.8604 - val_loss: 0.3528 - val_accuracy: 0.8460\n",
      "Epoch 43/100\n",
      "95968/96000 [============================>.] - ETA: 0s - loss: 0.3297 - accuracy: 0.8595\n",
      "Epoch 00043: val_accuracy did not improve from 0.86058\n",
      "96000/96000 [==============================] - 17s 172us/sample - loss: 0.3297 - accuracy: 0.8594 - val_loss: 0.7732 - val_accuracy: 0.8593\n",
      "Epoch 44/100\n",
      "95712/96000 [============================>.] - ETA: 0s - loss: 0.3286 - accuracy: 0.8605\n",
      "Epoch 00044: val_accuracy did not improve from 0.86058\n",
      "96000/96000 [==============================] - 17s 175us/sample - loss: 0.3287 - accuracy: 0.8604 - val_loss: 0.3286 - val_accuracy: 0.8596\n",
      "Epoch 45/100\n",
      "95712/96000 [============================>.] - ETA: 0s - loss: 0.3279 - accuracy: 0.8602\n",
      "Epoch 00045: val_accuracy did not improve from 0.86058\n",
      "96000/96000 [==============================] - 17s 174us/sample - loss: 0.3277 - accuracy: 0.8603 - val_loss: 0.3447 - val_accuracy: 0.8531\n",
      "Epoch 46/100\n",
      "95776/96000 [============================>.] - ETA: 0s - loss: 0.3261 - accuracy: 0.8603\n",
      "Epoch 00046: val_accuracy did not improve from 0.86058\n",
      "96000/96000 [==============================] - 17s 176us/sample - loss: 0.3261 - accuracy: 0.8603 - val_loss: 0.3323 - val_accuracy: 0.8601\n",
      "Epoch 47/100\n",
      "95840/96000 [============================>.] - ETA: 0s - loss: 0.3262 - accuracy: 0.8604\n",
      "Epoch 00047: val_accuracy did not improve from 0.86058\n",
      "96000/96000 [==============================] - 17s 174us/sample - loss: 0.3263 - accuracy: 0.8605 - val_loss: 0.3241 - val_accuracy: 0.8596\n",
      "Epoch 48/100\n",
      "95744/96000 [============================>.] - ETA: 0s - loss: 0.3261 - accuracy: 0.8608\n",
      "Epoch 00048: val_accuracy did not improve from 0.86058\n",
      "96000/96000 [==============================] - 17s 174us/sample - loss: 0.3262 - accuracy: 0.8608 - val_loss: 0.3294 - val_accuracy: 0.8594\n",
      "Epoch 49/100\n",
      "95968/96000 [============================>.] - ETA: 0s - loss: 0.3247 - accuracy: 0.8623\n",
      "Epoch 00049: val_accuracy improved from 0.86058 to 0.86063, saving model to NN.model\n",
      "INFO:tensorflow:Assets written to: NN.model/assets\n",
      "96000/96000 [==============================] - 19s 196us/sample - loss: 0.3248 - accuracy: 0.8622 - val_loss: 0.3766 - val_accuracy: 0.8606\n",
      "Epoch 50/100\n",
      "95744/96000 [============================>.] - ETA: 0s - loss: 0.3267 - accuracy: 0.8612\n",
      "Epoch 00050: val_accuracy did not improve from 0.86063\n",
      "96000/96000 [==============================] - 16s 171us/sample - loss: 0.3267 - accuracy: 0.8612 - val_loss: 0.4556 - val_accuracy: 0.8543\n",
      "Epoch 51/100\n",
      "95968/96000 [============================>.] - ETA: 0s - loss: 0.3278 - accuracy: 0.8607\n",
      "Epoch 00051: val_accuracy did not improve from 0.86063\n",
      "96000/96000 [==============================] - 17s 175us/sample - loss: 0.3278 - accuracy: 0.8608 - val_loss: 0.3279 - val_accuracy: 0.8578\n",
      "Epoch 52/100\n",
      "95712/96000 [============================>.] - ETA: 0s - loss: 0.3263 - accuracy: 0.8625\n",
      "Epoch 00052: val_accuracy did not improve from 0.86063\n",
      "96000/96000 [==============================] - 17s 175us/sample - loss: 0.3262 - accuracy: 0.8624 - val_loss: 0.3251 - val_accuracy: 0.8581\n",
      "Epoch 53/100\n",
      "95648/96000 [============================>.] - ETA: 0s - loss: 0.3264 - accuracy: 0.8602\n",
      "Epoch 00053: val_accuracy did not improve from 0.86063\n",
      "96000/96000 [==============================] - 17s 173us/sample - loss: 0.3262 - accuracy: 0.8603 - val_loss: 1.6039 - val_accuracy: 0.8578\n",
      "Epoch 54/100\n",
      "95744/96000 [============================>.] - ETA: 0s - loss: 0.3232 - accuracy: 0.8615\n",
      "Epoch 00054: val_accuracy did not improve from 0.86063\n",
      "96000/96000 [==============================] - 17s 175us/sample - loss: 0.3231 - accuracy: 0.8616 - val_loss: 0.3319 - val_accuracy: 0.8569\n",
      "Epoch 55/100\n",
      "95776/96000 [============================>.] - ETA: 0s - loss: 0.3268 - accuracy: 0.8617\n",
      "Epoch 00055: val_accuracy did not improve from 0.86063\n",
      "96000/96000 [==============================] - 17s 173us/sample - loss: 0.3268 - accuracy: 0.8617 - val_loss: 0.3957 - val_accuracy: 0.8575\n",
      "Epoch 56/100\n",
      "95712/96000 [============================>.] - ETA: 0s - loss: 0.3256 - accuracy: 0.8614\n",
      "Epoch 00056: val_accuracy did not improve from 0.86063\n",
      "96000/96000 [==============================] - 17s 177us/sample - loss: 0.3255 - accuracy: 0.8614 - val_loss: 0.4153 - val_accuracy: 0.8603\n",
      "Epoch 57/100\n",
      "95872/96000 [============================>.] - ETA: 0s - loss: 0.3236 - accuracy: 0.8624\n",
      "Epoch 00057: val_accuracy did not improve from 0.86063\n",
      "96000/96000 [==============================] - 17s 173us/sample - loss: 0.3235 - accuracy: 0.8624 - val_loss: 0.3261 - val_accuracy: 0.8605\n",
      "Epoch 58/100\n",
      "95968/96000 [============================>.] - ETA: 0s - loss: 0.3228 - accuracy: 0.8619\n",
      "Epoch 00058: val_accuracy did not improve from 0.86063\n",
      "96000/96000 [==============================] - 17s 174us/sample - loss: 0.3228 - accuracy: 0.8619 - val_loss: 0.5037 - val_accuracy: 0.8606\n",
      "Epoch 59/100\n",
      "95680/96000 [============================>.] - ETA: 0s - loss: 0.3244 - accuracy: 0.8624\n",
      "Epoch 00059: val_accuracy did not improve from 0.86063\n",
      "96000/96000 [==============================] - 16s 172us/sample - loss: 0.3248 - accuracy: 0.8622 - val_loss: 0.3324 - val_accuracy: 0.8585\n",
      "Epoch 60/100\n",
      "95808/96000 [============================>.] - ETA: 0s - loss: 0.3230 - accuracy: 0.8632\n",
      "Epoch 00060: val_accuracy did not improve from 0.86063\n",
      "96000/96000 [==============================] - 17s 172us/sample - loss: 0.3231 - accuracy: 0.8631 - val_loss: 0.3553 - val_accuracy: 0.8580\n",
      "Epoch 61/100\n",
      "95840/96000 [============================>.] - ETA: 0s - loss: 0.3235 - accuracy: 0.8621\n",
      "Epoch 00061: val_accuracy did not improve from 0.86063\n",
      "96000/96000 [==============================] - 17s 175us/sample - loss: 0.3236 - accuracy: 0.8621 - val_loss: 0.9798 - val_accuracy: 0.8547\n",
      "Epoch 62/100\n",
      "95744/96000 [============================>.] - ETA: 0s - loss: 0.3250 - accuracy: 0.8617\n",
      "Epoch 00062: val_accuracy did not improve from 0.86063\n",
      "96000/96000 [==============================] - 17s 172us/sample - loss: 0.3251 - accuracy: 0.8617 - val_loss: 0.4018 - val_accuracy: 0.8588\n",
      "Epoch 63/100\n",
      "95840/96000 [============================>.] - ETA: 0s - loss: 0.3237 - accuracy: 0.8624\n",
      "Epoch 00063: val_accuracy did not improve from 0.86063\n",
      "96000/96000 [==============================] - 17s 173us/sample - loss: 0.3237 - accuracy: 0.8624 - val_loss: 0.3311 - val_accuracy: 0.8583\n",
      "Epoch 64/100\n",
      "95776/96000 [============================>.] - ETA: 0s - loss: 0.3248 - accuracy: 0.8616\n",
      "Epoch 00064: val_accuracy did not improve from 0.86063\n",
      "96000/96000 [==============================] - 17s 174us/sample - loss: 0.3248 - accuracy: 0.8616 - val_loss: 0.3301 - val_accuracy: 0.8562\n",
      "Epoch 65/100\n",
      "95904/96000 [============================>.] - ETA: 0s - loss: 0.3236 - accuracy: 0.8629\n",
      "Epoch 00065: val_accuracy did not improve from 0.86063\n",
      "96000/96000 [==============================] - 17s 177us/sample - loss: 0.3237 - accuracy: 0.8628 - val_loss: 0.3284 - val_accuracy: 0.8572\n",
      "Epoch 66/100\n",
      "95936/96000 [============================>.] - ETA: 0s - loss: 0.3233 - accuracy: 0.8619\n",
      "Epoch 00066: val_accuracy did not improve from 0.86063\n",
      "96000/96000 [==============================] - 17s 174us/sample - loss: 0.3233 - accuracy: 0.8618 - val_loss: 0.3400 - val_accuracy: 0.8573\n",
      "Epoch 67/100\n",
      "95968/96000 [============================>.] - ETA: 0s - loss: 0.3218 - accuracy: 0.8639\n",
      "Epoch 00067: val_accuracy did not improve from 0.86063\n",
      "96000/96000 [==============================] - 17s 175us/sample - loss: 0.3218 - accuracy: 0.8639 - val_loss: 0.3272 - val_accuracy: 0.8584\n",
      "Epoch 68/100\n",
      "95808/96000 [============================>.] - ETA: 0s - loss: 0.3255 - accuracy: 0.8609\n",
      "Epoch 00068: val_accuracy did not improve from 0.86063\n",
      "96000/96000 [==============================] - 17s 175us/sample - loss: 0.3254 - accuracy: 0.8610 - val_loss: 0.3297 - val_accuracy: 0.8583\n",
      "Epoch 69/100\n",
      "95936/96000 [============================>.] - ETA: 0s - loss: 0.3213 - accuracy: 0.8632\n",
      "Epoch 00069: val_accuracy did not improve from 0.86063\n",
      "96000/96000 [==============================] - 17s 178us/sample - loss: 0.3213 - accuracy: 0.8632 - val_loss: 0.3411 - val_accuracy: 0.8473\n",
      "Epoch 70/100\n",
      "95712/96000 [============================>.] - ETA: 0s - loss: 0.3230 - accuracy: 0.8618\n",
      "Epoch 00070: val_accuracy did not improve from 0.86063\n",
      "96000/96000 [==============================] - 17s 176us/sample - loss: 0.3230 - accuracy: 0.8618 - val_loss: 0.3246 - val_accuracy: 0.8587\n",
      "Epoch 71/100\n",
      "95872/96000 [============================>.] - ETA: 0s - loss: 0.3260 - accuracy: 0.8614\n",
      "Epoch 00071: val_accuracy did not improve from 0.86063\n",
      "96000/96000 [==============================] - 17s 175us/sample - loss: 0.3260 - accuracy: 0.8615 - val_loss: 0.3342 - val_accuracy: 0.8589\n",
      "Epoch 72/100\n",
      "95840/96000 [============================>.] - ETA: 0s - loss: 0.3235 - accuracy: 0.8626\n",
      "Epoch 00072: val_accuracy did not improve from 0.86063\n",
      "96000/96000 [==============================] - 16s 172us/sample - loss: 0.3237 - accuracy: 0.8625 - val_loss: 0.3993 - val_accuracy: 0.8587\n",
      "Epoch 73/100\n",
      "95904/96000 [============================>.] - ETA: 0s - loss: 0.3231 - accuracy: 0.8626\n",
      "Epoch 00073: val_accuracy did not improve from 0.86063\n",
      "96000/96000 [==============================] - 17s 172us/sample - loss: 0.3231 - accuracy: 0.8626 - val_loss: 0.3259 - val_accuracy: 0.8589\n",
      "Epoch 74/100\n",
      "95872/96000 [============================>.] - ETA: 0s - loss: 0.3226 - accuracy: 0.8625\n",
      "Epoch 00074: val_accuracy did not improve from 0.86063\n",
      "96000/96000 [==============================] - 17s 175us/sample - loss: 0.3225 - accuracy: 0.8625 - val_loss: 0.5345 - val_accuracy: 0.8588\n",
      "Epoch 75/100\n",
      "95936/96000 [============================>.] - ETA: 0s - loss: 0.3228 - accuracy: 0.8633\n",
      "Epoch 00075: val_accuracy did not improve from 0.86063\n",
      "96000/96000 [==============================] - 17s 173us/sample - loss: 0.3227 - accuracy: 0.8634 - val_loss: 0.3862 - val_accuracy: 0.8588\n",
      "Epoch 76/100\n",
      "95680/96000 [============================>.] - ETA: 0s - loss: 0.3210 - accuracy: 0.8631\n",
      "Epoch 00076: val_accuracy did not improve from 0.86063\n",
      "96000/96000 [==============================] - 17s 172us/sample - loss: 0.3209 - accuracy: 0.8632 - val_loss: 2.1161 - val_accuracy: 0.8595\n",
      "Epoch 77/100\n",
      "95840/96000 [============================>.] - ETA: 0s - loss: 0.3217 - accuracy: 0.8635\n",
      "Epoch 00077: val_accuracy did not improve from 0.86063\n",
      "96000/96000 [==============================] - 17s 176us/sample - loss: 0.3218 - accuracy: 0.8634 - val_loss: 0.3355 - val_accuracy: 0.8583\n",
      "Epoch 78/100\n",
      "95776/96000 [============================>.] - ETA: 0s - loss: 0.3223 - accuracy: 0.8631\n",
      "Epoch 00078: val_accuracy did not improve from 0.86063\n",
      "96000/96000 [==============================] - 17s 172us/sample - loss: 0.3223 - accuracy: 0.8632 - val_loss: 0.3324 - val_accuracy: 0.8595\n",
      "Epoch 79/100\n",
      "95936/96000 [============================>.] - ETA: 0s - loss: 0.3211 - accuracy: 0.8632\n",
      "Epoch 00079: val_accuracy did not improve from 0.86063\n",
      "96000/96000 [==============================] - 17s 172us/sample - loss: 0.3211 - accuracy: 0.8632 - val_loss: 0.3464 - val_accuracy: 0.8584\n",
      "Epoch 80/100\n",
      "95776/96000 [============================>.] - ETA: 0s - loss: 0.3210 - accuracy: 0.8639\n",
      "Epoch 00080: val_accuracy did not improve from 0.86063\n",
      "96000/96000 [==============================] - 17s 178us/sample - loss: 0.3210 - accuracy: 0.8639 - val_loss: 0.3425 - val_accuracy: 0.8597\n",
      "Epoch 81/100\n",
      "95808/96000 [============================>.] - ETA: 0s - loss: 0.3210 - accuracy: 0.8637\n",
      "Epoch 00081: val_accuracy did not improve from 0.86063\n",
      "96000/96000 [==============================] - 16s 172us/sample - loss: 0.3209 - accuracy: 0.8637 - val_loss: 0.3273 - val_accuracy: 0.8598\n",
      "Epoch 82/100\n",
      "95872/96000 [============================>.] - ETA: 0s - loss: 0.3197 - accuracy: 0.8641\n",
      "Epoch 00082: val_accuracy did not improve from 0.86063\n",
      "96000/96000 [==============================] - 17s 175us/sample - loss: 0.3197 - accuracy: 0.8641 - val_loss: 0.3298 - val_accuracy: 0.8561\n",
      "Epoch 83/100\n",
      "95744/96000 [============================>.] - ETA: 0s - loss: 0.3197 - accuracy: 0.8643\n",
      "Epoch 00083: val_accuracy did not improve from 0.86063\n",
      "96000/96000 [==============================] - 17s 173us/sample - loss: 0.3198 - accuracy: 0.8643 - val_loss: 1.9804 - val_accuracy: 0.8576\n",
      "Epoch 84/100\n",
      "95840/96000 [============================>.] - ETA: 0s - loss: 0.3201 - accuracy: 0.8637\n",
      "Epoch 00084: val_accuracy did not improve from 0.86063\n",
      "96000/96000 [==============================] - 17s 173us/sample - loss: 0.3200 - accuracy: 0.8637 - val_loss: 0.3293 - val_accuracy: 0.8586\n",
      "Epoch 85/100\n",
      "95712/96000 [============================>.] - ETA: 0s - loss: 0.3207 - accuracy: 0.8628\n",
      "Epoch 00085: val_accuracy did not improve from 0.86063\n",
      "96000/96000 [==============================] - 16s 170us/sample - loss: 0.3205 - accuracy: 0.8628 - val_loss: 1.2762 - val_accuracy: 0.8590\n",
      "Epoch 86/100\n",
      "95712/96000 [============================>.] - ETA: 0s - loss: 0.3174 - accuracy: 0.8656\n",
      "Epoch 00086: val_accuracy did not improve from 0.86063\n",
      "96000/96000 [==============================] - 17s 173us/sample - loss: 0.3176 - accuracy: 0.8655 - val_loss: 4.7551 - val_accuracy: 0.8592\n",
      "Epoch 87/100\n",
      "95968/96000 [============================>.] - ETA: 0s - loss: 0.3206 - accuracy: 0.8638\n",
      "Epoch 00087: val_accuracy did not improve from 0.86063\n",
      "96000/96000 [==============================] - 16s 171us/sample - loss: 0.3205 - accuracy: 0.8638 - val_loss: 0.6558 - val_accuracy: 0.8574\n",
      "Epoch 88/100\n",
      "95872/96000 [============================>.] - ETA: 0s - loss: 0.3186 - accuracy: 0.8642\n",
      "Epoch 00088: val_accuracy did not improve from 0.86063\n",
      "96000/96000 [==============================] - 16s 172us/sample - loss: 0.3186 - accuracy: 0.8642 - val_loss: 0.3336 - val_accuracy: 0.8578\n",
      "Epoch 89/100\n",
      "95744/96000 [============================>.] - ETA: 0s - loss: 0.3193 - accuracy: 0.8642\n",
      "Epoch 00089: val_accuracy did not improve from 0.86063\n",
      "96000/96000 [==============================] - 17s 173us/sample - loss: 0.3194 - accuracy: 0.8642 - val_loss: 0.3333 - val_accuracy: 0.8569\n",
      "Epoch 90/100\n",
      "95648/96000 [============================>.] - ETA: 0s - loss: 0.3205 - accuracy: 0.8628\n",
      "Epoch 00090: val_accuracy did not improve from 0.86063\n",
      "96000/96000 [==============================] - 17s 175us/sample - loss: 0.3204 - accuracy: 0.8628 - val_loss: 0.3262 - val_accuracy: 0.8597\n",
      "Epoch 91/100\n",
      "95840/96000 [============================>.] - ETA: 0s - loss: 0.3203 - accuracy: 0.8631\n",
      "Epoch 00091: val_accuracy did not improve from 0.86063\n",
      "96000/96000 [==============================] - 17s 178us/sample - loss: 0.3205 - accuracy: 0.8631 - val_loss: 0.4272 - val_accuracy: 0.8568\n",
      "Epoch 92/100\n",
      "95744/96000 [============================>.] - ETA: 0s - loss: 0.3212 - accuracy: 0.8630\n",
      "Epoch 00092: val_accuracy did not improve from 0.86063\n",
      "96000/96000 [==============================] - 18s 185us/sample - loss: 0.3211 - accuracy: 0.8630 - val_loss: 0.3521 - val_accuracy: 0.8600\n",
      "Epoch 93/100\n",
      "95968/96000 [============================>.] - ETA: 0s - loss: 0.3221 - accuracy: 0.8629\n",
      "Epoch 00093: val_accuracy did not improve from 0.86063\n",
      "96000/96000 [==============================] - 19s 200us/sample - loss: 0.3221 - accuracy: 0.8629 - val_loss: 0.3278 - val_accuracy: 0.8584\n",
      "Epoch 94/100\n",
      "95776/96000 [============================>.] - ETA: 0s - loss: 0.3183 - accuracy: 0.8646\n",
      "Epoch 00094: val_accuracy did not improve from 0.86063\n",
      "96000/96000 [==============================] - 17s 180us/sample - loss: 0.3182 - accuracy: 0.8647 - val_loss: 0.3309 - val_accuracy: 0.8595\n",
      "Epoch 95/100\n",
      "95840/96000 [============================>.] - ETA: 0s - loss: 0.3183 - accuracy: 0.8644\n",
      "Epoch 00095: val_accuracy did not improve from 0.86063\n",
      "96000/96000 [==============================] - 18s 182us/sample - loss: 0.3183 - accuracy: 0.8644 - val_loss: 2.6574 - val_accuracy: 0.8589\n",
      "Epoch 96/100\n",
      "95968/96000 [============================>.] - ETA: 0s - loss: 0.3176 - accuracy: 0.8657\n",
      "Epoch 00096: val_accuracy did not improve from 0.86063\n",
      "96000/96000 [==============================] - 18s 188us/sample - loss: 0.3176 - accuracy: 0.8657 - val_loss: 0.3273 - val_accuracy: 0.8592\n",
      "Epoch 97/100\n",
      "95968/96000 [============================>.] - ETA: 0s - loss: 0.3195 - accuracy: 0.8632\n",
      "Epoch 00097: val_accuracy did not improve from 0.86063\n",
      "96000/96000 [==============================] - 18s 184us/sample - loss: 0.3196 - accuracy: 0.8631 - val_loss: 0.3307 - val_accuracy: 0.8583\n",
      "Epoch 98/100\n",
      "95936/96000 [============================>.] - ETA: 0s - loss: 0.3183 - accuracy: 0.8646\n",
      "Epoch 00098: val_accuracy did not improve from 0.86063\n",
      "96000/96000 [==============================] - 17s 177us/sample - loss: 0.3184 - accuracy: 0.8646 - val_loss: 2.2439 - val_accuracy: 0.8604\n",
      "Epoch 99/100\n",
      "95936/96000 [============================>.] - ETA: 0s - loss: 0.3179 - accuracy: 0.8649\n",
      "Epoch 00099: val_accuracy did not improve from 0.86063\n",
      "96000/96000 [==============================] - 18s 184us/sample - loss: 0.3179 - accuracy: 0.8649 - val_loss: 0.6588 - val_accuracy: 0.8586\n",
      "Epoch 100/100\n",
      "95648/96000 [============================>.] - ETA: 0s - loss: 0.3202 - accuracy: 0.8637\n",
      "Epoch 00100: val_accuracy did not improve from 0.86063\n",
      "96000/96000 [==============================] - 17s 178us/sample - loss: 0.3202 - accuracy: 0.8637 - val_loss: 0.5610 - val_accuracy: 0.8595\n"
     ]
    }
   ],
   "source": [
    "#Deep Neural net Training\n",
    "\n",
    "import tensorflow as tf\n",
    "from tensorflow import keras\n",
    "from tensorflow.keras import layers\n",
    "from tensorflow.keras.models import Sequential, load_model\n",
    "\n",
    "# mini batches Nadam optimizer with dropout and batch normalization\n",
    "epochs = 100\n",
    "model = tf.keras.Sequential()\n",
    "model.add(layers.Dense(32, input_dim=100))\n",
    "model.add(layers.Activation('relu'))\n",
    "model.add(layers.BatchNormalization())\n",
    "model.add(layers.Dense(32))\n",
    "model.add(layers.Activation('relu'))\n",
    "model.add(layers.BatchNormalization())\n",
    "model.add(layers.Dropout(rate = 0.2))\n",
    "model.add(layers.Dense(32))\n",
    "model.add(layers.Activation('relu'))\n",
    "model.add(layers.BatchNormalization())\n",
    "model.add(layers.Dense(64))\n",
    "model.add(layers.Activation('relu'))\n",
    "model.add(layers.BatchNormalization())\n",
    "model.add(layers.Dropout(rate = 0.3))\n",
    "model.add(layers.Dense(64))\n",
    "model.add(layers.Activation('relu'))\n",
    "model.add(layers.BatchNormalization())\n",
    "model.add(layers.Dense(64))\n",
    "model.add(layers.Activation('relu'))\n",
    "model.add(layers.BatchNormalization())\n",
    "model.add(layers.Dropout(rate = 0.4))\n",
    "\n",
    "model.add(layers.Dense(1))\n",
    "model.add(layers.Activation('sigmoid'))\n",
    "model.compile(loss='binary_crossentropy',\n",
    "              optimizer=keras.optimizers.Nadam(lr=0.002, beta_1=0.9, beta_2=0.999),\n",
    "              metrics=['accuracy'])\n",
    "checkpoint = keras.callbacks.ModelCheckpoint(\"NN.model\", monitor='val_accuracy', verbose=1, save_best_only=True)\n",
    "\n",
    "model.summary()\n",
    "model1 = model.fit(x_train, y_train, epochs=epochs, validation_split=0.2, callbacks=[checkpoint])\n",
    "#history = model.fit(x_train, y_train, epochs = epochs, validation_split=0.2)"
   ]
  },
  {
   "cell_type": "code",
   "execution_count": null,
   "metadata": {
    "colab": {},
    "colab_type": "code",
    "hidden": true,
    "id": "mk1DENr1F1IM",
    "outputId": "400fe73d-38e3-440a-c119-54e9a7f673cd"
   },
   "outputs": [
    {
     "name": "stdout",
     "output_type": "stream",
     "text": [
      "(120000, 100, 1)\n"
     ]
    }
   ],
   "source": [
    "x_train1 = x_train.reshape(120000, x_train.shape[1], 1)\n",
    "print(x_train1.shape)"
   ]
  },
  {
   "cell_type": "code",
   "execution_count": null,
   "metadata": {
    "colab": {},
    "colab_type": "code",
    "hidden": true,
    "id": "LksvhGHzF1IO"
   },
   "outputs": [],
   "source": [
    "#CNN Training\n",
    "\n",
    "import tensorflow as tf\n",
    "\n",
    "shape = (x_train.shape[1], 1)\n",
    "model = tf.keras.models.Sequential()\n",
    "\n",
    "model.add(tf.keras.layers.Conv1D(32, kernel_size=3, activation=tf.nn.relu, input_shape=shape))\n",
    "model.add(tf.keras.layers.Conv1D(32, kernel_size=3, activation=tf.nn.relu))\n",
    "\n",
    "model.add(tf.keras.layers.MaxPooling1D(pool_size=2))\n",
    "          \n",
    "model.add(tf.keras.layers.Conv1D(64, kernel_size=3, activation=tf.nn.relu))\n",
    "model.add(tf.keras.layers.Conv1D(64, kernel_size=3, activation=tf.nn.relu))\n",
    "          \n",
    "model.add(tf.keras.layers.MaxPooling1D(pool_size=2))\n",
    "          \n",
    "model.add(tf.keras.layers.Conv1D(128, kernel_size=3, activation=tf.nn.relu))\n",
    "model.add(tf.keras.layers.Conv1D(128, kernel_size=3, activation=tf.nn.relu))\n",
    "          \n",
    "model.add(tf.keras.layers.MaxPooling1D(pool_size=2))\n",
    "          \n",
    "model.add(tf.keras.layers.Conv1D(256, kernel_size=3, activation=tf.nn.relu))\n",
    "model.add(tf.keras.layers.Conv1D(256, kernel_size=3, activation=tf.nn.relu))\n",
    "          \n",
    "model.add(tf.keras.layers.MaxPooling1D(pool_size=5))\n",
    "\n",
    "model.add(tf.keras.layers.Flatten())\n",
    "model.add(tf.keras.layers.BatchNormalization())\n",
    "          \n",
    "model.add(tf.keras.layers.Dense(200, activation=tf.nn.relu))\n",
    "model.add(tf.keras.layers.Dense(100, activation=tf.nn.relu))\n",
    "model.add(tf.keras.layers.Dense(1, activation=tf.nn.sigmoid))\n",
    "\n",
    "\n",
    "model.compile(loss='binary_crossentropy', optimizer='adam', metrics=['accuracy'])"
   ]
  },
  {
   "cell_type": "code",
   "execution_count": null,
   "metadata": {
    "colab": {},
    "colab_type": "code",
    "hidden": true,
    "id": "gZsmP3VAF1IQ",
    "outputId": "4be1564e-b6bc-483f-c0b9-876dde82b12b"
   },
   "outputs": [
    {
     "name": "stdout",
     "output_type": "stream",
     "text": [
      "Train on 96000 samples, validate on 24000 samples\n",
      "Epoch 1/100\n",
      "95840/96000 [============================>.] - ETA: 0s - loss: 0.4179 - accuracy: 0.8086\n",
      "Epoch 00001: val_accuracy improved from -inf to 0.83017, saving model to CNN.model\n",
      "INFO:tensorflow:Assets written to: CNN.model/assets\n",
      "96000/96000 [==============================] - 19s 201us/sample - loss: 0.4180 - accuracy: 0.8086 - val_loss: 0.3828 - val_accuracy: 0.8302\n",
      "Epoch 2/100\n",
      "95840/96000 [============================>.] - ETA: 0s - loss: 0.3789 - accuracy: 0.8310\n",
      "Epoch 00002: val_accuracy did not improve from 0.83017\n",
      "96000/96000 [==============================] - 17s 179us/sample - loss: 0.3788 - accuracy: 0.8311 - val_loss: 0.4988 - val_accuracy: 0.7315\n",
      "Epoch 3/100\n",
      "95872/96000 [============================>.] - ETA: 0s - loss: 0.3662 - accuracy: 0.8375\n",
      "Epoch 00003: val_accuracy improved from 0.83017 to 0.84704, saving model to CNN.model\n",
      "INFO:tensorflow:Assets written to: CNN.model/assets\n",
      "96000/96000 [==============================] - 18s 186us/sample - loss: 0.3661 - accuracy: 0.8376 - val_loss: 0.3748 - val_accuracy: 0.8470\n",
      "Epoch 4/100\n",
      "95648/96000 [============================>.] - ETA: 0s - loss: 0.3567 - accuracy: 0.8430\n",
      "Epoch 00004: val_accuracy did not improve from 0.84704\n",
      "96000/96000 [==============================] - 16s 169us/sample - loss: 0.3567 - accuracy: 0.8430 - val_loss: 0.3489 - val_accuracy: 0.8432\n",
      "Epoch 5/100\n",
      "95936/96000 [============================>.] - ETA: 0s - loss: 0.3509 - accuracy: 0.8442\n",
      "Epoch 00005: val_accuracy did not improve from 0.84704\n",
      "96000/96000 [==============================] - 17s 178us/sample - loss: 0.3510 - accuracy: 0.8442 - val_loss: 0.4477 - val_accuracy: 0.7830\n",
      "Epoch 6/100\n",
      "95712/96000 [============================>.] - ETA: 0s - loss: 0.3475 - accuracy: 0.8472\n",
      "Epoch 00006: val_accuracy did not improve from 0.84704\n",
      "96000/96000 [==============================] - 16s 166us/sample - loss: 0.3475 - accuracy: 0.8471 - val_loss: 0.3644 - val_accuracy: 0.8428\n",
      "Epoch 7/100\n",
      "95840/96000 [============================>.] - ETA: 0s - loss: 0.3419 - accuracy: 0.8496\n",
      "Epoch 00007: val_accuracy improved from 0.84704 to 0.84800, saving model to CNN.model\n",
      "INFO:tensorflow:Assets written to: CNN.model/assets\n",
      "96000/96000 [==============================] - 16s 169us/sample - loss: 0.3420 - accuracy: 0.8496 - val_loss: 0.3433 - val_accuracy: 0.8480\n",
      "Epoch 8/100\n",
      "95840/96000 [============================>.] - ETA: 0s - loss: 0.3391 - accuracy: 0.8511\n",
      "Epoch 00008: val_accuracy improved from 0.84800 to 0.84808, saving model to CNN.model\n",
      "INFO:tensorflow:Assets written to: CNN.model/assets\n",
      "96000/96000 [==============================] - 18s 185us/sample - loss: 0.3390 - accuracy: 0.8511 - val_loss: 0.3443 - val_accuracy: 0.8481\n",
      "Epoch 9/100\n",
      "95808/96000 [============================>.] - ETA: 0s - loss: 0.3344 - accuracy: 0.8540\n",
      "Epoch 00009: val_accuracy did not improve from 0.84808\n",
      "96000/96000 [==============================] - 16s 168us/sample - loss: 0.3345 - accuracy: 0.8540 - val_loss: 0.3547 - val_accuracy: 0.8426\n",
      "Epoch 10/100\n",
      "95744/96000 [============================>.] - ETA: 0s - loss: 0.3414 - accuracy: 0.8506\n",
      "Epoch 00010: val_accuracy did not improve from 0.84808\n",
      "96000/96000 [==============================] - 15s 157us/sample - loss: 0.3416 - accuracy: 0.8505 - val_loss: 0.4350 - val_accuracy: 0.8138\n",
      "Epoch 11/100\n",
      "95808/96000 [============================>.] - ETA: 0s - loss: 0.3336 - accuracy: 0.8531\n",
      "Epoch 00011: val_accuracy improved from 0.84808 to 0.85071, saving model to CNN.model\n",
      "INFO:tensorflow:Assets written to: CNN.model/assets\n",
      "96000/96000 [==============================] - 16s 170us/sample - loss: 0.3336 - accuracy: 0.8531 - val_loss: 0.3367 - val_accuracy: 0.8507\n",
      "Epoch 12/100\n",
      "95744/96000 [============================>.] - ETA: 0s - loss: 0.3289 - accuracy: 0.8561\n",
      "Epoch 00012: val_accuracy did not improve from 0.85071\n",
      "96000/96000 [==============================] - 16s 169us/sample - loss: 0.3289 - accuracy: 0.8561 - val_loss: 0.3924 - val_accuracy: 0.8449\n",
      "Epoch 13/100\n",
      "95712/96000 [============================>.] - ETA: 0s - loss: 0.3258 - accuracy: 0.8580\n",
      "Epoch 00013: val_accuracy did not improve from 0.85071\n",
      "96000/96000 [==============================] - 16s 170us/sample - loss: 0.3258 - accuracy: 0.8580 - val_loss: 0.3425 - val_accuracy: 0.8488\n",
      "Epoch 14/100\n",
      "95968/96000 [============================>.] - ETA: 0s - loss: 0.3241 - accuracy: 0.8592\n",
      "Epoch 00014: val_accuracy did not improve from 0.85071\n",
      "96000/96000 [==============================] - 15s 161us/sample - loss: 0.3241 - accuracy: 0.8592 - val_loss: 0.3445 - val_accuracy: 0.8465\n",
      "Epoch 15/100\n",
      "95840/96000 [============================>.] - ETA: 0s - loss: 0.3208 - accuracy: 0.8602\n",
      "Epoch 00015: val_accuracy improved from 0.85071 to 0.85362, saving model to CNN.model\n",
      "INFO:tensorflow:Assets written to: CNN.model/assets\n",
      "96000/96000 [==============================] - 17s 174us/sample - loss: 0.3208 - accuracy: 0.8602 - val_loss: 0.3372 - val_accuracy: 0.8536\n",
      "Epoch 16/100\n",
      "95680/96000 [============================>.] - ETA: 0s - loss: 0.3179 - accuracy: 0.8626\n",
      "Epoch 00016: val_accuracy did not improve from 0.85362\n",
      "96000/96000 [==============================] - 16s 162us/sample - loss: 0.3179 - accuracy: 0.8626 - val_loss: 0.3440 - val_accuracy: 0.8490\n",
      "Epoch 17/100\n",
      "95872/96000 [============================>.] - ETA: 0s - loss: 0.3157 - accuracy: 0.8618\n",
      "Epoch 00017: val_accuracy did not improve from 0.85362\n",
      "96000/96000 [==============================] - 16s 166us/sample - loss: 0.3159 - accuracy: 0.8617 - val_loss: 0.3430 - val_accuracy: 0.8471\n",
      "Epoch 18/100\n",
      "95648/96000 [============================>.] - ETA: 0s - loss: 0.3124 - accuracy: 0.8639\n",
      "Epoch 00018: val_accuracy did not improve from 0.85362\n",
      "96000/96000 [==============================] - 17s 173us/sample - loss: 0.3123 - accuracy: 0.8640 - val_loss: 0.3887 - val_accuracy: 0.8316\n",
      "Epoch 19/100\n",
      "95872/96000 [============================>.] - ETA: 0s - loss: 0.3103 - accuracy: 0.8637\n",
      "Epoch 00019: val_accuracy did not improve from 0.85362\n",
      "96000/96000 [==============================] - 15s 160us/sample - loss: 0.3103 - accuracy: 0.8637 - val_loss: 0.3445 - val_accuracy: 0.8489\n",
      "Epoch 20/100\n",
      "95936/96000 [============================>.] - ETA: 0s - loss: 0.3082 - accuracy: 0.8673\n",
      "Epoch 00020: val_accuracy did not improve from 0.85362\n",
      "96000/96000 [==============================] - 15s 159us/sample - loss: 0.3082 - accuracy: 0.8673 - val_loss: 0.3420 - val_accuracy: 0.8515\n",
      "Epoch 21/100\n",
      "95648/96000 [============================>.] - ETA: 0s - loss: 0.3046 - accuracy: 0.8684\n",
      "Epoch 00021: val_accuracy did not improve from 0.85362\n",
      "96000/96000 [==============================] - 17s 175us/sample - loss: 0.3044 - accuracy: 0.8684 - val_loss: 0.3594 - val_accuracy: 0.8493\n",
      "Epoch 22/100\n",
      "95872/96000 [============================>.] - ETA: 0s - loss: 0.3027 - accuracy: 0.8682\n",
      "Epoch 00022: val_accuracy did not improve from 0.85362\n",
      "96000/96000 [==============================] - 16s 169us/sample - loss: 0.3027 - accuracy: 0.8683 - val_loss: 0.3493 - val_accuracy: 0.8509\n",
      "Epoch 23/100\n",
      "95776/96000 [============================>.] - ETA: 0s - loss: 0.3003 - accuracy: 0.8702\n",
      "Epoch 00023: val_accuracy did not improve from 0.85362\n",
      "96000/96000 [==============================] - 16s 164us/sample - loss: 0.3005 - accuracy: 0.8701 - val_loss: 0.3554 - val_accuracy: 0.8456\n",
      "Epoch 24/100\n",
      "95584/96000 [============================>.] - ETA: 0s - loss: 0.2970 - accuracy: 0.8712\n",
      "Epoch 00024: val_accuracy did not improve from 0.85362\n",
      "96000/96000 [==============================] - 16s 162us/sample - loss: 0.2972 - accuracy: 0.8712 - val_loss: 0.3451 - val_accuracy: 0.8496\n",
      "Epoch 25/100\n",
      "95968/96000 [============================>.] - ETA: 0s - loss: 0.2939 - accuracy: 0.8719\n",
      "Epoch 00025: val_accuracy did not improve from 0.85362\n",
      "96000/96000 [==============================] - 15s 156us/sample - loss: 0.2939 - accuracy: 0.8719 - val_loss: 0.3592 - val_accuracy: 0.8447\n",
      "Epoch 26/100\n",
      "95968/96000 [============================>.] - ETA: 0s - loss: 0.2938 - accuracy: 0.8722\n",
      "Epoch 00026: val_accuracy did not improve from 0.85362\n",
      "96000/96000 [==============================] - 15s 160us/sample - loss: 0.2938 - accuracy: 0.8722 - val_loss: 0.3678 - val_accuracy: 0.8384\n",
      "Epoch 27/100\n",
      "95808/96000 [============================>.] - ETA: 0s - loss: 0.2888 - accuracy: 0.8746\n",
      "Epoch 00027: val_accuracy did not improve from 0.85362\n",
      "96000/96000 [==============================] - 15s 160us/sample - loss: 0.2887 - accuracy: 0.8747 - val_loss: 0.3530 - val_accuracy: 0.8498\n",
      "Epoch 28/100\n",
      "95872/96000 [============================>.] - ETA: 0s - loss: 0.2875 - accuracy: 0.8753\n",
      "Epoch 00028: val_accuracy did not improve from 0.85362\n",
      "96000/96000 [==============================] - 15s 156us/sample - loss: 0.2874 - accuracy: 0.8753 - val_loss: 0.3534 - val_accuracy: 0.8475\n",
      "Epoch 29/100\n",
      "95872/96000 [============================>.] - ETA: 0s - loss: 0.2842 - accuracy: 0.8768\n",
      "Epoch 00029: val_accuracy did not improve from 0.85362\n",
      "96000/96000 [==============================] - 15s 158us/sample - loss: 0.2842 - accuracy: 0.8767 - val_loss: 0.3616 - val_accuracy: 0.8491\n",
      "Epoch 30/100\n",
      "95680/96000 [============================>.] - ETA: 0s - loss: 0.2814 - accuracy: 0.8776\n",
      "Epoch 00030: val_accuracy did not improve from 0.85362\n",
      "96000/96000 [==============================] - 15s 156us/sample - loss: 0.2814 - accuracy: 0.8776 - val_loss: 0.3518 - val_accuracy: 0.8495\n",
      "Epoch 31/100\n",
      "95712/96000 [============================>.] - ETA: 0s - loss: 0.2776 - accuracy: 0.8795\n",
      "Epoch 00031: val_accuracy did not improve from 0.85362\n",
      "96000/96000 [==============================] - 15s 155us/sample - loss: 0.2778 - accuracy: 0.8794 - val_loss: 0.3604 - val_accuracy: 0.8461\n",
      "Epoch 32/100\n",
      "95968/96000 [============================>.] - ETA: 0s - loss: 0.2764 - accuracy: 0.8806\n",
      "Epoch 00032: val_accuracy did not improve from 0.85362\n",
      "96000/96000 [==============================] - 16s 163us/sample - loss: 0.2764 - accuracy: 0.8806 - val_loss: 0.3666 - val_accuracy: 0.8463\n",
      "Epoch 33/100\n",
      "95744/96000 [============================>.] - ETA: 0s - loss: 0.2735 - accuracy: 0.8818\n",
      "Epoch 00033: val_accuracy did not improve from 0.85362\n",
      "96000/96000 [==============================] - 16s 162us/sample - loss: 0.2736 - accuracy: 0.8818 - val_loss: 0.3764 - val_accuracy: 0.8449\n",
      "Epoch 34/100\n",
      "95744/96000 [============================>.] - ETA: 0s - loss: 0.2708 - accuracy: 0.8834\n",
      "Epoch 00034: val_accuracy did not improve from 0.85362\n",
      "96000/96000 [==============================] - 15s 155us/sample - loss: 0.2708 - accuracy: 0.8834 - val_loss: 0.3706 - val_accuracy: 0.8417\n",
      "Epoch 35/100\n",
      "95904/96000 [============================>.] - ETA: 0s - loss: 0.2683 - accuracy: 0.8837\n",
      "Epoch 00035: val_accuracy did not improve from 0.85362\n",
      "96000/96000 [==============================] - 15s 154us/sample - loss: 0.2683 - accuracy: 0.8837 - val_loss: 0.3733 - val_accuracy: 0.8428\n",
      "Epoch 36/100\n",
      "95808/96000 [============================>.] - ETA: 0s - loss: 0.2662 - accuracy: 0.8843\n",
      "Epoch 00036: val_accuracy did not improve from 0.85362\n",
      "96000/96000 [==============================] - 16s 164us/sample - loss: 0.2662 - accuracy: 0.8842 - val_loss: 0.3945 - val_accuracy: 0.8436\n",
      "Epoch 37/100\n",
      "95712/96000 [============================>.] - ETA: 0s - loss: 0.2640 - accuracy: 0.8851\n",
      "Epoch 00037: val_accuracy did not improve from 0.85362\n",
      "96000/96000 [==============================] - 16s 168us/sample - loss: 0.2640 - accuracy: 0.8850 - val_loss: 0.3906 - val_accuracy: 0.8385\n",
      "Epoch 38/100\n",
      "95872/96000 [============================>.] - ETA: 0s - loss: 0.2614 - accuracy: 0.8868\n",
      "Epoch 00038: val_accuracy did not improve from 0.85362\n",
      "96000/96000 [==============================] - 15s 159us/sample - loss: 0.2614 - accuracy: 0.8869 - val_loss: 0.3779 - val_accuracy: 0.8417\n",
      "Epoch 39/100\n",
      "95904/96000 [============================>.] - ETA: 0s - loss: 0.2572 - accuracy: 0.8883\n",
      "Epoch 00039: val_accuracy did not improve from 0.85362\n",
      "96000/96000 [==============================] - 15s 161us/sample - loss: 0.2574 - accuracy: 0.8882 - val_loss: 0.4085 - val_accuracy: 0.8406\n",
      "Epoch 40/100\n",
      "95712/96000 [============================>.] - ETA: 0s - loss: 0.2560 - accuracy: 0.8897\n",
      "Epoch 00040: val_accuracy did not improve from 0.85362\n",
      "96000/96000 [==============================] - 16s 162us/sample - loss: 0.2559 - accuracy: 0.8897 - val_loss: 0.4031 - val_accuracy: 0.8420\n",
      "Epoch 41/100\n",
      "95904/96000 [============================>.] - ETA: 0s - loss: 0.2542 - accuracy: 0.8898\n",
      "Epoch 00041: val_accuracy did not improve from 0.85362\n",
      "96000/96000 [==============================] - 15s 158us/sample - loss: 0.2541 - accuracy: 0.8898 - val_loss: 0.3894 - val_accuracy: 0.8450\n",
      "Epoch 42/100\n",
      "95616/96000 [============================>.] - ETA: 0s - loss: 0.2505 - accuracy: 0.8919\n",
      "Epoch 00042: val_accuracy did not improve from 0.85362\n",
      "96000/96000 [==============================] - 15s 153us/sample - loss: 0.2505 - accuracy: 0.8919 - val_loss: 0.3951 - val_accuracy: 0.8362\n",
      "Epoch 43/100\n",
      "95968/96000 [============================>.] - ETA: 0s - loss: 0.2486 - accuracy: 0.8916\n",
      "Epoch 00043: val_accuracy did not improve from 0.85362\n",
      "96000/96000 [==============================] - 14s 149us/sample - loss: 0.2486 - accuracy: 0.8916 - val_loss: 0.4142 - val_accuracy: 0.8434\n",
      "Epoch 44/100\n",
      "95744/96000 [============================>.] - ETA: 0s - loss: 0.2463 - accuracy: 0.8925\n",
      "Epoch 00044: val_accuracy did not improve from 0.85362\n",
      "96000/96000 [==============================] - 15s 152us/sample - loss: 0.2462 - accuracy: 0.8925 - val_loss: 0.4177 - val_accuracy: 0.8430\n",
      "Epoch 45/100\n",
      "95872/96000 [============================>.] - ETA: 0s - loss: 0.2437 - accuracy: 0.8946\n",
      "Epoch 00045: val_accuracy did not improve from 0.85362\n",
      "96000/96000 [==============================] - 15s 160us/sample - loss: 0.2436 - accuracy: 0.8946 - val_loss: 0.4134 - val_accuracy: 0.8398\n",
      "Epoch 46/100\n",
      "95648/96000 [============================>.] - ETA: 0s - loss: 0.2414 - accuracy: 0.8950\n",
      "Epoch 00046: val_accuracy did not improve from 0.85362\n",
      "96000/96000 [==============================] - 15s 154us/sample - loss: 0.2414 - accuracy: 0.8950 - val_loss: 0.4254 - val_accuracy: 0.8419\n",
      "Epoch 47/100\n",
      "95904/96000 [============================>.] - ETA: 0s - loss: 0.2395 - accuracy: 0.8954\n",
      "Epoch 00047: val_accuracy did not improve from 0.85362\n",
      "96000/96000 [==============================] - 15s 157us/sample - loss: 0.2396 - accuracy: 0.8954 - val_loss: 0.4281 - val_accuracy: 0.8414\n",
      "Epoch 48/100\n",
      "95648/96000 [============================>.] - ETA: 0s - loss: 0.2360 - accuracy: 0.8979\n",
      "Epoch 00048: val_accuracy did not improve from 0.85362\n",
      "96000/96000 [==============================] - 16s 164us/sample - loss: 0.2360 - accuracy: 0.8978 - val_loss: 0.4375 - val_accuracy: 0.8322\n",
      "Epoch 49/100\n",
      "95872/96000 [============================>.] - ETA: 0s - loss: 0.2341 - accuracy: 0.8982\n",
      "Epoch 00049: val_accuracy did not improve from 0.85362\n",
      "96000/96000 [==============================] - 16s 163us/sample - loss: 0.2340 - accuracy: 0.8982 - val_loss: 0.4324 - val_accuracy: 0.8372\n",
      "Epoch 50/100\n",
      "95872/96000 [============================>.] - ETA: 0s - loss: 0.2319 - accuracy: 0.8986\n",
      "Epoch 00050: val_accuracy did not improve from 0.85362\n",
      "96000/96000 [==============================] - 15s 161us/sample - loss: 0.2319 - accuracy: 0.8987 - val_loss: 0.4272 - val_accuracy: 0.8390\n",
      "Epoch 51/100\n",
      "95680/96000 [============================>.] - ETA: 0s - loss: 0.2308 - accuracy: 0.8995\n",
      "Epoch 00051: val_accuracy did not improve from 0.85362\n",
      "96000/96000 [==============================] - 15s 156us/sample - loss: 0.2308 - accuracy: 0.8995 - val_loss: 0.4270 - val_accuracy: 0.8384\n",
      "Epoch 52/100\n",
      "95744/96000 [============================>.] - ETA: 0s - loss: 0.2289 - accuracy: 0.9002\n",
      "Epoch 00052: val_accuracy did not improve from 0.85362\n",
      "96000/96000 [==============================] - 15s 157us/sample - loss: 0.2288 - accuracy: 0.9001 - val_loss: 0.4932 - val_accuracy: 0.8332\n",
      "Epoch 53/100\n",
      "95648/96000 [============================>.] - ETA: 0s - loss: 0.2264 - accuracy: 0.9017\n",
      "Epoch 00053: val_accuracy did not improve from 0.85362\n",
      "96000/96000 [==============================] - 14s 150us/sample - loss: 0.2264 - accuracy: 0.9017 - val_loss: 0.4477 - val_accuracy: 0.8429\n",
      "Epoch 54/100\n",
      "95872/96000 [============================>.] - ETA: 0s - loss: 0.2245 - accuracy: 0.9029\n",
      "Epoch 00054: val_accuracy did not improve from 0.85362\n",
      "96000/96000 [==============================] - 15s 155us/sample - loss: 0.2244 - accuracy: 0.9030 - val_loss: 0.4230 - val_accuracy: 0.8370\n",
      "Epoch 55/100\n",
      "95744/96000 [============================>.] - ETA: 0s - loss: 0.2215 - accuracy: 0.9038\n",
      "Epoch 00055: val_accuracy did not improve from 0.85362\n",
      "96000/96000 [==============================] - 14s 149us/sample - loss: 0.2215 - accuracy: 0.9038 - val_loss: 0.5340 - val_accuracy: 0.8271\n",
      "Epoch 56/100\n",
      "95712/96000 [============================>.] - ETA: 0s - loss: 0.2200 - accuracy: 0.9051\n",
      "Epoch 00056: val_accuracy did not improve from 0.85362\n",
      "96000/96000 [==============================] - 15s 159us/sample - loss: 0.2201 - accuracy: 0.9051 - val_loss: 0.4992 - val_accuracy: 0.8387\n",
      "Epoch 57/100\n",
      "95904/96000 [============================>.] - ETA: 0s - loss: 0.2161 - accuracy: 0.9068\n",
      "Epoch 00057: val_accuracy did not improve from 0.85362\n",
      "96000/96000 [==============================] - 15s 151us/sample - loss: 0.2160 - accuracy: 0.9068 - val_loss: 0.4579 - val_accuracy: 0.8380\n",
      "Epoch 58/100\n",
      "95584/96000 [============================>.] - ETA: 0s - loss: 0.2153 - accuracy: 0.9067\n",
      "Epoch 00058: val_accuracy did not improve from 0.85362\n",
      "96000/96000 [==============================] - 15s 153us/sample - loss: 0.2153 - accuracy: 0.9066 - val_loss: 0.4742 - val_accuracy: 0.8321\n",
      "Epoch 59/100\n",
      "95808/96000 [============================>.] - ETA: 0s - loss: 0.2127 - accuracy: 0.9074\n",
      "Epoch 00059: val_accuracy did not improve from 0.85362\n",
      "96000/96000 [==============================] - 15s 157us/sample - loss: 0.2127 - accuracy: 0.9074 - val_loss: 0.5148 - val_accuracy: 0.8314\n",
      "Epoch 60/100\n",
      "95808/96000 [============================>.] - ETA: 0s - loss: 0.2126 - accuracy: 0.9090\n",
      "Epoch 00060: val_accuracy did not improve from 0.85362\n",
      "96000/96000 [==============================] - 15s 155us/sample - loss: 0.2125 - accuracy: 0.9091 - val_loss: 0.4736 - val_accuracy: 0.8365\n",
      "Epoch 61/100\n",
      "95744/96000 [============================>.] - ETA: 0s - loss: 0.2093 - accuracy: 0.9090\n",
      "Epoch 00061: val_accuracy did not improve from 0.85362\n",
      "96000/96000 [==============================] - 14s 150us/sample - loss: 0.2093 - accuracy: 0.9090 - val_loss: 0.4817 - val_accuracy: 0.8370\n",
      "Epoch 62/100\n",
      "95680/96000 [============================>.] - ETA: 0s - loss: 0.2078 - accuracy: 0.9105\n",
      "Epoch 00062: val_accuracy did not improve from 0.85362\n",
      "96000/96000 [==============================] - 15s 155us/sample - loss: 0.2079 - accuracy: 0.9105 - val_loss: 0.4906 - val_accuracy: 0.8355\n",
      "Epoch 63/100\n",
      "95648/96000 [============================>.] - ETA: 0s - loss: 0.2070 - accuracy: 0.9103\n",
      "Epoch 00063: val_accuracy did not improve from 0.85362\n",
      "96000/96000 [==============================] - 14s 149us/sample - loss: 0.2071 - accuracy: 0.9103 - val_loss: 0.4858 - val_accuracy: 0.8334\n",
      "Epoch 64/100\n",
      "95680/96000 [============================>.] - ETA: 0s - loss: 0.2021 - accuracy: 0.9119\n",
      "Epoch 00064: val_accuracy did not improve from 0.85362\n",
      "96000/96000 [==============================] - 14s 149us/sample - loss: 0.2021 - accuracy: 0.9120 - val_loss: 0.4885 - val_accuracy: 0.8291\n",
      "Epoch 65/100\n",
      "95808/96000 [============================>.] - ETA: 0s - loss: 0.2041 - accuracy: 0.9118\n",
      "Epoch 00065: val_accuracy did not improve from 0.85362\n",
      "96000/96000 [==============================] - 15s 153us/sample - loss: 0.2040 - accuracy: 0.9118 - val_loss: 0.4918 - val_accuracy: 0.8398\n",
      "Epoch 66/100\n",
      "95904/96000 [============================>.] - ETA: 0s - loss: 0.1995 - accuracy: 0.9143\n",
      "Epoch 00066: val_accuracy did not improve from 0.85362\n",
      "96000/96000 [==============================] - 14s 149us/sample - loss: 0.1995 - accuracy: 0.9143 - val_loss: 0.4937 - val_accuracy: 0.8255\n",
      "Epoch 67/100\n",
      "95840/96000 [============================>.] - ETA: 0s - loss: 0.1985 - accuracy: 0.9140\n",
      "Epoch 00067: val_accuracy did not improve from 0.85362\n",
      "96000/96000 [==============================] - 14s 151us/sample - loss: 0.1985 - accuracy: 0.9140 - val_loss: 0.5528 - val_accuracy: 0.8378\n",
      "Epoch 68/100\n",
      "95840/96000 [============================>.] - ETA: 0s - loss: 0.1956 - accuracy: 0.9148\n",
      "Epoch 00068: val_accuracy did not improve from 0.85362\n",
      "96000/96000 [==============================] - 14s 148us/sample - loss: 0.1955 - accuracy: 0.9149 - val_loss: 0.4973 - val_accuracy: 0.8317\n",
      "Epoch 69/100\n",
      "95968/96000 [============================>.] - ETA: 0s - loss: 0.1950 - accuracy: 0.9154\n",
      "Epoch 00069: val_accuracy did not improve from 0.85362\n",
      "96000/96000 [==============================] - 15s 153us/sample - loss: 0.1950 - accuracy: 0.9154 - val_loss: 0.5137 - val_accuracy: 0.8270\n",
      "Epoch 70/100\n",
      "95648/96000 [============================>.] - ETA: 0s - loss: 0.1928 - accuracy: 0.9165\n",
      "Epoch 00070: val_accuracy did not improve from 0.85362\n",
      "96000/96000 [==============================] - 15s 157us/sample - loss: 0.1928 - accuracy: 0.9166 - val_loss: 0.5159 - val_accuracy: 0.8264\n",
      "Epoch 71/100\n",
      "95968/96000 [============================>.] - ETA: 0s - loss: 0.1922 - accuracy: 0.9170\n",
      "Epoch 00071: val_accuracy did not improve from 0.85362\n",
      "96000/96000 [==============================] - 15s 157us/sample - loss: 0.1922 - accuracy: 0.9170 - val_loss: 0.9014 - val_accuracy: 0.8264\n",
      "Epoch 72/100\n",
      "95776/96000 [============================>.] - ETA: 0s - loss: 0.1914 - accuracy: 0.9173\n",
      "Epoch 00072: val_accuracy did not improve from 0.85362\n",
      "96000/96000 [==============================] - 16s 163us/sample - loss: 0.1915 - accuracy: 0.9172 - val_loss: 0.5106 - val_accuracy: 0.8251\n",
      "Epoch 73/100\n",
      "95680/96000 [============================>.] - ETA: 0s - loss: 0.1886 - accuracy: 0.9188\n",
      "Epoch 00073: val_accuracy did not improve from 0.85362\n",
      "96000/96000 [==============================] - 15s 155us/sample - loss: 0.1886 - accuracy: 0.9188 - val_loss: 0.5354 - val_accuracy: 0.8220\n",
      "Epoch 74/100\n",
      "95840/96000 [============================>.] - ETA: 0s - loss: 0.1880 - accuracy: 0.9190\n",
      "Epoch 00074: val_accuracy did not improve from 0.85362\n",
      "96000/96000 [==============================] - 15s 152us/sample - loss: 0.1880 - accuracy: 0.9189 - val_loss: 0.5211 - val_accuracy: 0.8316\n",
      "Epoch 75/100\n",
      "95776/96000 [============================>.] - ETA: 0s - loss: 0.1860 - accuracy: 0.9194\n",
      "Epoch 00075: val_accuracy did not improve from 0.85362\n",
      "96000/96000 [==============================] - 15s 155us/sample - loss: 0.1858 - accuracy: 0.9195 - val_loss: 0.5368 - val_accuracy: 0.8273\n",
      "Epoch 76/100\n",
      "95616/96000 [============================>.] - ETA: 0s - loss: 0.1838 - accuracy: 0.9200\n",
      "Epoch 00076: val_accuracy did not improve from 0.85362\n",
      "96000/96000 [==============================] - 15s 157us/sample - loss: 0.1839 - accuracy: 0.9199 - val_loss: 0.5445 - val_accuracy: 0.8294\n",
      "Epoch 77/100\n",
      "95968/96000 [============================>.] - ETA: 0s - loss: 0.1830 - accuracy: 0.9206\n",
      "Epoch 00077: val_accuracy did not improve from 0.85362\n",
      "96000/96000 [==============================] - 17s 172us/sample - loss: 0.1830 - accuracy: 0.9206 - val_loss: 0.5717 - val_accuracy: 0.8326\n",
      "Epoch 78/100\n",
      "95776/96000 [============================>.] - ETA: 0s - loss: 0.1808 - accuracy: 0.9219\n",
      "Epoch 00078: val_accuracy did not improve from 0.85362\n",
      "96000/96000 [==============================] - 15s 156us/sample - loss: 0.1808 - accuracy: 0.9219 - val_loss: 0.5757 - val_accuracy: 0.8341\n",
      "Epoch 79/100\n",
      "95616/96000 [============================>.] - ETA: 0s - loss: 0.1804 - accuracy: 0.9228\n",
      "Epoch 00079: val_accuracy did not improve from 0.85362\n",
      "96000/96000 [==============================] - 15s 158us/sample - loss: 0.1803 - accuracy: 0.9229 - val_loss: 0.5651 - val_accuracy: 0.8278\n",
      "Epoch 80/100\n",
      "95680/96000 [============================>.] - ETA: 0s - loss: 0.1769 - accuracy: 0.9236\n",
      "Epoch 00080: val_accuracy did not improve from 0.85362\n",
      "96000/96000 [==============================] - 16s 162us/sample - loss: 0.1769 - accuracy: 0.9235 - val_loss: 0.5846 - val_accuracy: 0.8272\n",
      "Epoch 81/100\n",
      "95968/96000 [============================>.] - ETA: 0s - loss: 0.1766 - accuracy: 0.9242\n",
      "Epoch 00081: val_accuracy did not improve from 0.85362\n",
      "96000/96000 [==============================] - 15s 154us/sample - loss: 0.1765 - accuracy: 0.9243 - val_loss: 0.5678 - val_accuracy: 0.8257\n",
      "Epoch 82/100\n",
      "95648/96000 [============================>.] - ETA: 0s - loss: 0.1757 - accuracy: 0.9243\n",
      "Epoch 00082: val_accuracy did not improve from 0.85362\n",
      "96000/96000 [==============================] - 16s 163us/sample - loss: 0.1756 - accuracy: 0.9243 - val_loss: 0.7349 - val_accuracy: 0.8283\n",
      "Epoch 83/100\n",
      "95968/96000 [============================>.] - ETA: 0s - loss: 0.1741 - accuracy: 0.9258\n",
      "Epoch 00083: val_accuracy did not improve from 0.85362\n",
      "96000/96000 [==============================] - 15s 157us/sample - loss: 0.1741 - accuracy: 0.9258 - val_loss: 0.5583 - val_accuracy: 0.8291\n",
      "Epoch 84/100\n",
      "95936/96000 [============================>.] - ETA: 0s - loss: 0.1727 - accuracy: 0.9251\n",
      "Epoch 00084: val_accuracy did not improve from 0.85362\n",
      "96000/96000 [==============================] - 14s 149us/sample - loss: 0.1727 - accuracy: 0.9251 - val_loss: 0.5827 - val_accuracy: 0.8191\n",
      "Epoch 85/100\n",
      "95776/96000 [============================>.] - ETA: 0s - loss: 0.1699 - accuracy: 0.9274\n",
      "Epoch 00085: val_accuracy did not improve from 0.85362\n",
      "96000/96000 [==============================] - 15s 161us/sample - loss: 0.1698 - accuracy: 0.9274 - val_loss: 0.5887 - val_accuracy: 0.8274\n",
      "Epoch 86/100\n",
      "95680/96000 [============================>.] - ETA: 0s - loss: 0.1704 - accuracy: 0.9268\n",
      "Epoch 00086: val_accuracy did not improve from 0.85362\n",
      "96000/96000 [==============================] - 15s 153us/sample - loss: 0.1706 - accuracy: 0.9267 - val_loss: 0.5894 - val_accuracy: 0.8322\n",
      "Epoch 87/100\n",
      "95680/96000 [============================>.] - ETA: 0s - loss: 0.1680 - accuracy: 0.9277\n",
      "Epoch 00087: val_accuracy did not improve from 0.85362\n",
      "96000/96000 [==============================] - 14s 148us/sample - loss: 0.1679 - accuracy: 0.9277 - val_loss: 0.6177 - val_accuracy: 0.8290\n",
      "Epoch 88/100\n",
      "95648/96000 [============================>.] - ETA: 0s - loss: 0.1664 - accuracy: 0.9282\n",
      "Epoch 00088: val_accuracy did not improve from 0.85362\n",
      "96000/96000 [==============================] - 14s 150us/sample - loss: 0.1664 - accuracy: 0.9282 - val_loss: 0.5839 - val_accuracy: 0.8294\n",
      "Epoch 89/100\n",
      "95872/96000 [============================>.] - ETA: 0s - loss: 0.1669 - accuracy: 0.9279\n",
      "Epoch 00089: val_accuracy did not improve from 0.85362\n",
      "96000/96000 [==============================] - 15s 153us/sample - loss: 0.1669 - accuracy: 0.9278 - val_loss: 0.9700 - val_accuracy: 0.8105\n",
      "Epoch 90/100\n",
      "95776/96000 [============================>.] - ETA: 0s - loss: 0.1648 - accuracy: 0.9292\n",
      "Epoch 00090: val_accuracy did not improve from 0.85362\n",
      "96000/96000 [==============================] - 14s 146us/sample - loss: 0.1647 - accuracy: 0.9292 - val_loss: 0.6576 - val_accuracy: 0.8260\n",
      "Epoch 91/100\n",
      "95616/96000 [============================>.] - ETA: 0s - loss: 0.1640 - accuracy: 0.9302\n",
      "Epoch 00091: val_accuracy did not improve from 0.85362\n",
      "96000/96000 [==============================] - 15s 155us/sample - loss: 0.1639 - accuracy: 0.9303 - val_loss: 0.5789 - val_accuracy: 0.8250\n",
      "Epoch 92/100\n",
      "95744/96000 [============================>.] - ETA: 0s - loss: 0.1636 - accuracy: 0.9294\n",
      "Epoch 00092: val_accuracy did not improve from 0.85362\n",
      "96000/96000 [==============================] - 15s 154us/sample - loss: 0.1636 - accuracy: 0.9294 - val_loss: 0.5957 - val_accuracy: 0.8295\n",
      "Epoch 93/100\n",
      "95744/96000 [============================>.] - ETA: 0s - loss: 0.1606 - accuracy: 0.9314\n",
      "Epoch 00093: val_accuracy did not improve from 0.85362\n",
      "96000/96000 [==============================] - 14s 151us/sample - loss: 0.1607 - accuracy: 0.9312 - val_loss: 0.6080 - val_accuracy: 0.8259\n",
      "Epoch 94/100\n",
      "95968/96000 [============================>.] - ETA: 0s - loss: 0.1599 - accuracy: 0.9320\n",
      "Epoch 00094: val_accuracy did not improve from 0.85362\n",
      "96000/96000 [==============================] - 15s 158us/sample - loss: 0.1599 - accuracy: 0.9320 - val_loss: 1.2811 - val_accuracy: 0.8257\n",
      "Epoch 95/100\n",
      "95840/96000 [============================>.] - ETA: 0s - loss: 0.1579 - accuracy: 0.9325\n",
      "Epoch 00095: val_accuracy did not improve from 0.85362\n",
      "96000/96000 [==============================] - 15s 156us/sample - loss: 0.1579 - accuracy: 0.9325 - val_loss: 0.5933 - val_accuracy: 0.8280\n",
      "Epoch 96/100\n",
      "95712/96000 [============================>.] - ETA: 0s - loss: 0.1574 - accuracy: 0.9335\n",
      "Epoch 00096: val_accuracy did not improve from 0.85362\n",
      "96000/96000 [==============================] - 15s 154us/sample - loss: 0.1574 - accuracy: 0.9334 - val_loss: 1.5745 - val_accuracy: 0.8277\n",
      "Epoch 97/100\n",
      "95712/96000 [============================>.] - ETA: 0s - loss: 0.1540 - accuracy: 0.9346\n",
      "Epoch 00097: val_accuracy did not improve from 0.85362\n",
      "96000/96000 [==============================] - 15s 159us/sample - loss: 0.1540 - accuracy: 0.9346 - val_loss: 0.6456 - val_accuracy: 0.8255\n",
      "Epoch 98/100\n",
      "95968/96000 [============================>.] - ETA: 0s - loss: 0.1568 - accuracy: 0.9341\n",
      "Epoch 00098: val_accuracy did not improve from 0.85362\n",
      "96000/96000 [==============================] - 15s 152us/sample - loss: 0.1569 - accuracy: 0.9340 - val_loss: 0.6258 - val_accuracy: 0.8207\n",
      "Epoch 99/100\n",
      "95712/96000 [============================>.] - ETA: 0s - loss: 0.1528 - accuracy: 0.9348\n",
      "Epoch 00099: val_accuracy did not improve from 0.85362\n",
      "96000/96000 [==============================] - 15s 154us/sample - loss: 0.1528 - accuracy: 0.9348 - val_loss: 0.6323 - val_accuracy: 0.8241\n",
      "Epoch 100/100\n",
      "95904/96000 [============================>.] - ETA: 0s - loss: 0.1526 - accuracy: 0.9358\n",
      "Epoch 00100: val_accuracy did not improve from 0.85362\n",
      "96000/96000 [==============================] - 15s 155us/sample - loss: 0.1526 - accuracy: 0.9358 - val_loss: 0.6435 - val_accuracy: 0.8268\n"
     ]
    }
   ],
   "source": [
    "checkpoint = tf.keras.callbacks.ModelCheckpoint(\"CNN.model\", monitor='val_accuracy', verbose=1, save_best_only=True)\n",
    "model2 = model.fit(x_train1, y_train, epochs=100, validation_split=0.2, callbacks=[checkpoint])"
   ]
  },
  {
   "cell_type": "markdown",
   "metadata": {
    "heading_collapsed": true
   },
   "source": [
    "## Load test features"
   ]
  },
  {
   "cell_type": "code",
   "execution_count": 76,
   "metadata": {
    "colab": {},
    "colab_type": "code",
    "hidden": true,
    "id": "Rfak2r_3F1IT"
   },
   "outputs": [],
   "source": [
    "#Load and Clean test file\n",
    "\n",
    "text_file = open(\"test.txt.txt\", \"r\", encoding=\"utf8\")\n",
    "lines = text_file.read().split('\\n')\n",
    "\n",
    "labels = []\n",
    "for item in lines:\n",
    "    first_four_letters = item[:10]\n",
    "    if first_four_letters == '__label__1':\n",
    "        labels.append(int(1))\n",
    "    else:\n",
    "        labels.append(int(2))\n",
    "        \n",
    "def remove_label(s):\n",
    "    return s[11:]\n",
    "lines = [remove_label(s) for s in lines]\n",
    "\n",
    "df = pd.DataFrame()\n",
    "df['text'] = lines\n",
    "df['label'] = labels\n",
    "\n",
    "stop = stopwords.words('english')\n",
    "w_tokenizer = nltk.tokenize.WhitespaceTokenizer()\n",
    "lemmatizer = nltk.stem.WordNetLemmatizer()\n",
    "\n",
    "def lemmatize_text(text):\n",
    "    return [lemmatizer.lemmatize(w) for w in w_tokenizer.tokenize(text)]\n",
    "\n",
    "#lowercase and remove punctuation, remove stopwords        \n",
    "df['text'] = df['text'].str.lower()\n",
    "df['text'] = df['text'].str.replace('-', ' ')\n",
    "df['text'] = df['text'].str.split(' ')\n",
    "df['text'] = df['text'].apply(lambda x: [item for item in x if item not in stop])\n",
    "df['text'] = df['text'].apply(', '.join)\n",
    "df['text'] = df['text'].str.replace('[{}]'.format(string.punctuation), '')\n",
    "df['text'] = df['text'].apply(lemmatize_text)\n",
    "df['text'] = df['text'].apply(', '.join)\n",
    "df['text'] = df['text'].str.replace('[{}]'.format(string.punctuation), '')\n",
    "df['text'] = df['text'].str.replace('\\\\', ' ')\n",
    "\n",
    "df = df.sample(40000)"
   ]
  },
  {
   "cell_type": "code",
   "execution_count": 70,
   "metadata": {
    "colab": {},
    "colab_type": "code",
    "hidden": true,
    "id": "cMhYlNcnF1IV",
    "outputId": "bdb06eba-7493-4e4f-d0f6-f6ab037e7f76",
    "tags": []
   },
   "outputs": [
    {
     "name": "stderr",
     "output_type": "stream",
     "text": [
      "/opt/anaconda3/lib/python3.7/site-packages/ipykernel_launcher.py:9: TqdmDeprecationWarning: This function will be removed in tqdm==5.0.0\n",
      "Please use `tqdm.notebook.tqdm` instead of `tqdm.tqdm_notebook`\n",
      "  if __name__ == '__main__':\n"
     ]
    },
    {
     "data": {
      "application/vnd.jupyter.widget-view+json": {
       "model_id": "899c24b069fa4b0f86804ea8b467948b",
       "version_major": 2,
       "version_minor": 0
      },
      "text/plain": [
       "HBox(children=(FloatProgress(value=0.0, max=40000.0), HTML(value='')))"
      ]
     },
     "metadata": {},
     "output_type": "display_data"
    },
    {
     "name": "stderr",
     "output_type": "stream",
     "text": [
      "/opt/anaconda3/lib/python3.7/site-packages/ipykernel_launcher.py:14: DeprecationWarning: Call to deprecated `__getitem__` (Method will be removed in 4.0.0, use self.wv.__getitem__() instead).\n",
      "  \n"
     ]
    },
    {
     "name": "stdout",
     "output_type": "stream",
     "text": [
      "\n"
     ]
    }
   ],
   "source": [
    "#Embed Word2Vec and BOW\n",
    "\n",
    "from tqdm import tqdm_notebook as tqdm\n",
    "\n",
    "text = [row.split() for row in df['text']]\n",
    "text_vec = []\n",
    "text_avg_vec = []\n",
    "count = 0\n",
    "for row in tqdm(range(len(text))):\n",
    "    [word.split(' ', 1) for word in text[row]]\n",
    "  \n",
    "    for i in range(len(text[row])):\n",
    "        try:\n",
    "            text_vec.append(model_w2v[text[row][i]])\n",
    "            count = count + 1\n",
    "        except KeyError as e:\n",
    "            text_vec.append([0]*100)\n",
    "  \n",
    "    average = np.add.reduce(text_vec)\n",
    "    if count==0:\n",
    "        count = 1\n",
    "    average = np.divide(average, count)\n",
    "    text_avg_vec.append(average)\n",
    "    text_vec = []\n",
    "    count = 0"
   ]
  },
  {
   "cell_type": "code",
   "execution_count": 71,
   "metadata": {
    "colab": {},
    "colab_type": "code",
    "hidden": true,
    "id": "U1tz0Ls2F1IY"
   },
   "outputs": [],
   "source": [
    "for i in range(len(text_avg_vec)):\n",
    "    if type(text_avg_vec[i]) != np.ndarray:\n",
    "        text_avg_vec[i] = np.zeros(100)"
   ]
  },
  {
   "cell_type": "code",
   "execution_count": 45,
   "metadata": {
    "colab": {},
    "colab_type": "code",
    "hidden": true,
    "id": "cPDOp-FDF1Ia"
   },
   "outputs": [],
   "source": [
    "x_test = text_avg_vec\n",
    "#x_test = np.c_[x_test]\n",
    "\n",
    "df['label'] = df['label'] - 1"
   ]
  },
  {
   "cell_type": "markdown",
   "metadata": {
    "heading_collapsed": true
   },
   "source": [
    "## Evaluation"
   ]
  },
  {
   "cell_type": "code",
   "execution_count": 27,
   "metadata": {
    "colab": {},
    "colab_type": "code",
    "hidden": true,
    "id": "8aWBzII0F1Ic"
   },
   "outputs": [],
   "source": [
    "#Logistic Regression Results\n",
    "\n",
    "predicted = lr.predict(x_test)\n",
    "\n",
    "df['prediction'] = predicted"
   ]
  },
  {
   "cell_type": "code",
   "execution_count": 29,
   "metadata": {
    "colab": {},
    "colab_type": "code",
    "hidden": true,
    "id": "-MFxnsMbF1If",
    "outputId": "b3e10d03-5ec1-4f3c-edd3-b49278b13a4a"
   },
   "outputs": [
    {
     "name": "stdout",
     "output_type": "stream",
     "text": [
      "precision: [0.84831461 0.8540179 ]\n",
      "recall: [0.85460282 0.84770889]\n",
      "fscore: [0.85144711 0.8508517 ]\n",
      "support: [19966 20034]\n"
     ]
    }
   ],
   "source": [
    "from sklearn.metrics import precision_recall_fscore_support as score\n",
    "\n",
    "predicted = predicted \n",
    "y_test = df['label']\n",
    "\n",
    "precision, recall, fscore, support = score(y_test, predicted, labels=[0, 1])\n",
    "\n",
    "print('precision: {}'.format(precision))\n",
    "print('recall: {}'.format(recall))\n",
    "print('fscore: {}'.format(fscore))\n",
    "print('support: {}'.format(support))"
   ]
  },
  {
   "cell_type": "code",
   "execution_count": 30,
   "metadata": {
    "colab": {},
    "colab_type": "code",
    "hidden": true,
    "id": "Zy4rr4qUF1Ik",
    "outputId": "4ef95d11-642c-42c3-90a9-df0ccad3440b"
   },
   "outputs": [
    {
     "name": "stdout",
     "output_type": "stream",
     "text": [
      "Accuracy on test set: 0.85115\n",
      "False pos: 0.072575\n",
      "False neg: 0.076275\n"
     ]
    }
   ],
   "source": [
    "count_true = 0\n",
    "false_pos = 0\n",
    "false_neg = 0\n",
    "\n",
    "for index, row in df.iterrows():\n",
    "    if row['label'] == row['prediction']:\n",
    "        count_true = count_true + 1\n",
    "    elif row['label'] == 0 and row['prediction'] == 1:\n",
    "        false_pos = false_pos + 1\n",
    "    elif row['label'] == 1 and row['prediction'] == 0:\n",
    "        false_neg = false_neg + 1\n",
    "\n",
    "print(\"Accuracy on test set: \" + str(count_true/len(df)))\n",
    "print(\"False pos: \" + str(false_pos/len(df)))\n",
    "print(\"False neg: \" + str(false_neg/len(df)))"
   ]
  },
  {
   "cell_type": "code",
   "execution_count": 22,
   "metadata": {
    "colab": {},
    "colab_type": "code",
    "hidden": true,
    "id": "xS_UTlNGF1In"
   },
   "outputs": [],
   "source": [
    "#Naive Bayes Results\n",
    "\n",
    "predicted = clf.predict(x_test)\n",
    "\n",
    "df['prediction'] = predicted"
   ]
  },
  {
   "cell_type": "code",
   "execution_count": 23,
   "metadata": {
    "colab": {},
    "colab_type": "code",
    "hidden": true,
    "id": "51HmYgNcF1Iq",
    "outputId": "7acaad1c-92b8-4421-f81f-1d4ffef900f8"
   },
   "outputs": [
    {
     "name": "stdout",
     "output_type": "stream",
     "text": [
      "Accuracy on test set: 0.731675\n",
      "False pos: 0.13345\n",
      "False neg: 0.134875\n"
     ]
    }
   ],
   "source": [
    "count_true = 0\n",
    "false_pos = 0\n",
    "false_neg = 0\n",
    "\n",
    "for index, row in df.iterrows():\n",
    "    if row['label'] == row['prediction']:\n",
    "        count_true = count_true + 1\n",
    "    elif row['label'] == 0 and row['prediction'] == 1:\n",
    "        false_pos = false_pos + 1\n",
    "    elif row['label'] == 1 and row['prediction'] == 0:\n",
    "        false_neg = false_neg + 1\n",
    "\n",
    "print(\"Accuracy on test set: \" + str(count_true/len(df)))\n",
    "print(\"False pos: \" + str(false_pos/len(df)))\n",
    "print(\"False neg: \" + str(false_neg/len(df)))"
   ]
  },
  {
   "cell_type": "code",
   "execution_count": 24,
   "metadata": {
    "colab": {},
    "colab_type": "code",
    "hidden": true,
    "id": "hq9MOKkNF1Is",
    "outputId": "adc1c3cf-4764-4648-ca9d-5e5088a5e9fc"
   },
   "outputs": [
    {
     "name": "stdout",
     "output_type": "stream",
     "text": [
      "precision: [0.72965524 0.73368589]\n",
      "recall: [0.73174531 0.73160539]\n",
      "fscore: [0.73069878 0.73264416]\n",
      "support: [19899 20101]\n"
     ]
    }
   ],
   "source": [
    "from sklearn.metrics import precision_recall_fscore_support as score\n",
    "\n",
    "predicted = predicted \n",
    "y_test = df['label']\n",
    "\n",
    "precision, recall, fscore, support = score(y_test, predicted, labels=[0, 1])\n",
    "\n",
    "print('precision: {}'.format(precision))\n",
    "print('recall: {}'.format(recall))\n",
    "print('fscore: {}'.format(fscore))\n",
    "print('support: {}'.format(support))"
   ]
  },
  {
   "cell_type": "code",
   "execution_count": null,
   "metadata": {
    "colab": {},
    "colab_type": "code",
    "hidden": true,
    "id": "WerwnNosF1Iu"
   },
   "outputs": [],
   "source": [
    "#Deep neural network Results\n",
    "\n",
    "nn_model = tf.keras.models.load_model('NN.model')\n",
    "predicted = nn_model.predict_classes(x_test)\n",
    "df['prediction'] = predicted"
   ]
  },
  {
   "cell_type": "code",
   "execution_count": null,
   "metadata": {
    "colab": {},
    "colab_type": "code",
    "hidden": true,
    "id": "LfQ3hMytF1Iw",
    "outputId": "d96bff4b-8230-4b0e-8ee1-fb3a22ce42ac"
   },
   "outputs": [
    {
     "name": "stdout",
     "output_type": "stream",
     "text": [
      "Accuracy on test set: 0.861675\n",
      "False pos: 0.069775\n",
      "False neg: 0.06855\n"
     ]
    }
   ],
   "source": [
    "count_true = 0\n",
    "false_pos = 0\n",
    "false_neg = 0\n",
    "\n",
    "for index, row in df.iterrows():\n",
    "    if row['label'] == row['prediction']:\n",
    "        count_true = count_true + 1\n",
    "    elif row['label'] == 0 and row['prediction'] == 1:\n",
    "        false_pos = false_pos + 1\n",
    "    elif row['label'] == 1 and row['prediction'] == 0:\n",
    "        false_neg = false_neg + 1\n",
    "\n",
    "print(\"Accuracy on test set: \" + str(count_true/len(df)))\n",
    "print(\"False pos: \" + str(false_pos/len(df)))\n",
    "print(\"False neg: \" + str(false_neg/len(df)))"
   ]
  },
  {
   "cell_type": "code",
   "execution_count": null,
   "metadata": {
    "colab": {},
    "colab_type": "code",
    "hidden": true,
    "id": "uewcIZN0F1Iy",
    "outputId": "628013bb-70ab-4698-bef7-54d1c4985588"
   },
   "outputs": [
    {
     "name": "stdout",
     "output_type": "stream",
     "text": [
      "precision: [0.86253572 0.86081883]\n",
      "recall: [0.86042208 0.86292741]\n",
      "fscore: [0.86147761 0.86187183]\n",
      "support: [19996 20004]\n"
     ]
    }
   ],
   "source": [
    "from sklearn.metrics import precision_recall_fscore_support as score\n",
    "\n",
    "predicted = predicted \n",
    "y_test = df['label']\n",
    "\n",
    "precision, recall, fscore, support = score(y_test, predicted, labels=[0, 1])\n",
    "\n",
    "print('precision: {}'.format(precision))\n",
    "print('recall: {}'.format(recall))\n",
    "print('fscore: {}'.format(fscore))\n",
    "print('support: {}'.format(support))"
   ]
  },
  {
   "cell_type": "code",
   "execution_count": null,
   "metadata": {
    "colab": {},
    "colab_type": "code",
    "hidden": true,
    "id": "AOxM0zx0F1I1"
   },
   "outputs": [],
   "source": [
    "#CNN Results\n",
    "\n",
    "x_test1 = x_test.reshape(40000, x_test.shape[1], 1)\n",
    "\n",
    "cnn_model = tf.keras.models.load_model('CNN.model')\n",
    "predicted = cnn_model.predict_classes(x_test1)\n",
    "df['prediction'] = predicted"
   ]
  },
  {
   "cell_type": "code",
   "execution_count": null,
   "metadata": {
    "colab": {},
    "colab_type": "code",
    "hidden": true,
    "id": "51lqmB38F1I3",
    "outputId": "0b25e3e2-6b93-4ca4-e347-fb53adf58f6a"
   },
   "outputs": [
    {
     "name": "stdout",
     "output_type": "stream",
     "text": [
      "Accuracy on test set: 0.854125\n",
      "False pos: 0.072325\n",
      "False neg: 0.07355\n"
     ]
    }
   ],
   "source": [
    "count_true = 0\n",
    "false_pos = 0\n",
    "false_neg = 0\n",
    "\n",
    "for index, row in df.iterrows():\n",
    "    if row['label'] == row['prediction']:\n",
    "        count_true = count_true + 1\n",
    "    elif row['label'] == 0 and row['prediction'] == 1:\n",
    "        false_pos = false_pos + 1\n",
    "    elif row['label'] == 1 and row['prediction'] == 0:\n",
    "        false_neg = false_neg + 1\n",
    "\n",
    "print(\"Accuracy on test set: \" + str(count_true/len(df)))\n",
    "print(\"False pos: \" + str(false_pos/len(df)))\n",
    "print(\"False neg: \" + str(false_neg/len(df)))"
   ]
  },
  {
   "cell_type": "code",
   "execution_count": null,
   "metadata": {
    "colab": {},
    "colab_type": "code",
    "hidden": true,
    "id": "8Yyza72TF1I5",
    "outputId": "df8f6b3e-1cbf-484c-8674-341eec3b0aac"
   },
   "outputs": [
    {
     "name": "stdout",
     "output_type": "stream",
     "text": [
      "precision: [0.85323023 0.8550238 ]\n",
      "recall: [0.85532106 0.85292941]\n",
      "fscore: [0.85427437 0.85397532]\n",
      "support: [19996 20004]\n"
     ]
    }
   ],
   "source": [
    "from sklearn.metrics import precision_recall_fscore_support as score\n",
    "\n",
    "predicted = predicted \n",
    "y_test = df['label']\n",
    "\n",
    "precision, recall, fscore, support = score(y_test, predicted, labels=[0, 1])\n",
    "\n",
    "print('precision: {}'.format(precision))\n",
    "print('recall: {}'.format(recall))\n",
    "print('fscore: {}'.format(fscore))\n",
    "print('support: {}'.format(support))"
   ]
  },
  {
   "cell_type": "code",
   "execution_count": null,
   "metadata": {
    "colab": {},
    "colab_type": "code",
    "hidden": true,
    "id": "v0EmOIWIF1I7",
    "outputId": "5986c1bc-8a81-48b3-fa1d-8f99fd358cb2"
   },
   "outputs": [
    {
     "data": {
      "text/plain": [
       "SVC(C=1.0, cache_size=200, class_weight=None, coef0=0.0,\n",
       "    decision_function_shape='ovr', degree=3, gamma='auto_deprecated',\n",
       "    kernel='linear', max_iter=-1, probability=False, random_state=None,\n",
       "    shrinking=True, tol=0.001, verbose=False)"
      ]
     },
     "execution_count": 54,
     "metadata": {
      "tags": []
     },
     "output_type": "execute_result"
    }
   ],
   "source": [
    "#Training SVM\n",
    "\n",
    "from sklearn import svm\n",
    "\n",
    "svm_model = svm.SVC(kernel='linear')\n",
    "\n",
    "svm_model.fit(x_train, y_train)"
   ]
  },
  {
   "cell_type": "code",
   "execution_count": null,
   "metadata": {
    "colab": {},
    "colab_type": "code",
    "hidden": true,
    "id": "-hu5y0uHF1I9"
   },
   "outputs": [],
   "source": [
    "import pickle\n",
    "# save the classifier\n",
    "with open('svm_model.pkl', 'wb') as fid:\n",
    "    pickle.dump(svm_model, fid)    "
   ]
  },
  {
   "cell_type": "code",
   "execution_count": null,
   "metadata": {
    "colab": {},
    "colab_type": "code",
    "hidden": true,
    "id": "oQLQTQ4jF1JA"
   },
   "outputs": [],
   "source": [
    "#SVM Results\n",
    "\n",
    "predicted = svm_model.predict(x_test)\n",
    "df['prediction'] = predicted"
   ]
  },
  {
   "cell_type": "code",
   "execution_count": null,
   "metadata": {
    "colab": {},
    "colab_type": "code",
    "hidden": true,
    "id": "gyQmocGLF1JC",
    "outputId": "cc98cd51-c86e-4ef3-bbd9-df71181235f2"
   },
   "outputs": [
    {
     "name": "stdout",
     "output_type": "stream",
     "text": [
      "Accuracy on test set: 0.849375\n",
      "False pos: 0.071425\n",
      "False neg: 0.0792\n"
     ]
    }
   ],
   "source": [
    "count_true = 0\n",
    "false_pos = 0\n",
    "false_neg = 0\n",
    "\n",
    "for index, row in df.iterrows():\n",
    "    if row['label'] == row['prediction']:\n",
    "        count_true = count_true + 1\n",
    "    elif row['label'] == 0 and row['prediction'] == 1:\n",
    "        false_pos = false_pos + 1\n",
    "    elif row['label'] == 1 and row['prediction'] == 0:\n",
    "        false_neg = false_neg + 1\n",
    "\n",
    "print(\"Accuracy on test set: \" + str(count_true/len(df)))\n",
    "print(\"False pos: \" + str(false_pos/len(df)))\n",
    "print(\"False neg: \" + str(false_neg/len(df)))"
   ]
  },
  {
   "cell_type": "code",
   "execution_count": null,
   "metadata": {
    "colab": {},
    "colab_type": "code",
    "hidden": true,
    "id": "LLscdhbuF1JE",
    "outputId": "e0aaef82-9256-4441-c63c-052117482b5a"
   },
   "outputs": [
    {
     "name": "stdout",
     "output_type": "stream",
     "text": [
      "precision: [0.84399468 0.85492307]\n",
      "recall: [0.85712142 0.84163167]\n",
      "fscore: [0.85050741 0.84822531]\n",
      "support: [19996 20004]\n"
     ]
    }
   ],
   "source": [
    "from sklearn.metrics import precision_recall_fscore_support as score\n",
    "\n",
    "predicted = predicted \n",
    "y_test = df['label']\n",
    "\n",
    "precision, recall, fscore, support = score(y_test, predicted, labels=[0, 1])\n",
    "\n",
    "print('precision: {}'.format(precision))\n",
    "print('recall: {}'.format(recall))\n",
    "print('fscore: {}'.format(fscore))\n",
    "print('support: {}'.format(support))"
   ]
  },
  {
   "cell_type": "code",
   "execution_count": null,
   "metadata": {
    "colab": {},
    "colab_type": "code",
    "hidden": true,
    "id": "N81aqGhcF1JG",
    "outputId": "ea601ee6-06ae-4cbe-af15-3b0a24ebc2e4"
   },
   "outputs": [
    {
     "data": {
      "text/plain": [
       "RandomForestClassifier(bootstrap=True, class_weight=None, criterion='entropy',\n",
       "                       max_depth=None, max_features='auto', max_leaf_nodes=None,\n",
       "                       min_impurity_decrease=0.0, min_impurity_split=None,\n",
       "                       min_samples_leaf=1, min_samples_split=2,\n",
       "                       min_weight_fraction_leaf=0.0, n_estimators=500,\n",
       "                       n_jobs=None, oob_score=False, random_state=456,\n",
       "                       verbose=0, warm_start=False)"
      ]
     },
     "execution_count": 63,
     "metadata": {
      "tags": []
     },
     "output_type": "execute_result"
    }
   ],
   "source": [
    "#Training Random Forest\n",
    "\n",
    "from sklearn.ensemble import RandomForestClassifier\n",
    "\n",
    "rf = RandomForestClassifier(n_estimators=500, criterion='entropy', random_state=456)\n",
    "\n",
    "rf.fit(x_train, y_train)"
   ]
  },
  {
   "cell_type": "code",
   "execution_count": null,
   "metadata": {
    "colab": {},
    "colab_type": "code",
    "hidden": true,
    "id": "6MsQCBf3F1JI"
   },
   "outputs": [],
   "source": [
    "#Random Forest Results\n",
    "\n",
    "predicted = rf.predict(x_test)\n",
    "df['prediction'] = predicted"
   ]
  },
  {
   "cell_type": "code",
   "execution_count": null,
   "metadata": {
    "colab": {},
    "colab_type": "code",
    "hidden": true,
    "id": "H7TmpaMBF1JK",
    "outputId": "4de1f2b1-d398-4fde-8ae5-cbf5aef2692d"
   },
   "outputs": [
    {
     "name": "stdout",
     "output_type": "stream",
     "text": [
      "Accuracy on test set: 0.832175\n",
      "False pos: 0.078425\n",
      "False neg: 0.0894\n"
     ]
    }
   ],
   "source": [
    "count_true = 0\n",
    "false_pos = 0\n",
    "false_neg = 0\n",
    "\n",
    "for index, row in df.iterrows():\n",
    "    if row['label'] == row['prediction']:\n",
    "        count_true = count_true + 1\n",
    "    elif row['label'] == 0 and row['prediction'] == 1:\n",
    "        false_pos = false_pos + 1\n",
    "    elif row['label'] == 1 and row['prediction'] == 0:\n",
    "        false_neg = false_neg + 1\n",
    "\n",
    "print(\"Accuracy on test set: \" + str(count_true/len(df)))\n",
    "print(\"False pos: \" + str(false_pos/len(df)))\n",
    "print(\"False neg: \" + str(false_neg/len(df)))"
   ]
  },
  {
   "cell_type": "code",
   "execution_count": null,
   "metadata": {
    "colab": {},
    "colab_type": "code",
    "hidden": true,
    "id": "WU-u8OMPF1JN",
    "outputId": "b94f8431-f099-4157-b6f2-507cdb732d54"
   },
   "outputs": [
    {
     "name": "stdout",
     "output_type": "stream",
     "text": [
      "precision: [0.82500612 0.83966266]\n",
      "recall: [0.84311862 0.82123575]\n",
      "fscore: [0.83396404 0.83034699]\n",
      "support: [19996 20004]\n"
     ]
    }
   ],
   "source": [
    "from sklearn.metrics import precision_recall_fscore_support as score\n",
    "\n",
    "predicted = predicted \n",
    "y_test = df['label']\n",
    "\n",
    "precision, recall, fscore, support = score(y_test, predicted, labels=[0, 1])\n",
    "\n",
    "print('precision: {}'.format(precision))\n",
    "print('recall: {}'.format(recall))\n",
    "print('fscore: {}'.format(fscore))\n",
    "print('support: {}'.format(support))"
   ]
  },
  {
   "cell_type": "code",
   "execution_count": null,
   "metadata": {
    "colab": {},
    "colab_type": "code",
    "hidden": true,
    "id": "hq2FXRCjF1JP"
   },
   "outputs": [],
   "source": [
    "#Training second layer Random Forest (Combined models)\n",
    "\n",
    "lr_predict = lr.predict(x_train)\n",
    "nb_predict = clf.predict(x_train)\n",
    "svm_predict = svm_model.predict(x_train)\n",
    "rf_predict = rf.predict(x_train)\n",
    "nn_predict = nn_model.predict_classes(x_train)\n",
    "cnn_predict = cnn_model.predict_classes(x_train1)"
   ]
  },
  {
   "cell_type": "code",
   "execution_count": null,
   "metadata": {
    "colab": {},
    "colab_type": "code",
    "hidden": true,
    "id": "-YT_3kBqF1JS",
    "outputId": "90ecedeb-a70c-4e94-e084-e73b35b7f571"
   },
   "outputs": [
    {
     "data": {
      "text/html": [
       "<div>\n",
       "<style scoped>\n",
       "    .dataframe tbody tr th:only-of-type {\n",
       "        vertical-align: middle;\n",
       "    }\n",
       "\n",
       "    .dataframe tbody tr th {\n",
       "        vertical-align: top;\n",
       "    }\n",
       "\n",
       "    .dataframe thead th {\n",
       "        text-align: right;\n",
       "    }\n",
       "</style>\n",
       "<table border=\"1\" class=\"dataframe\">\n",
       "  <thead>\n",
       "    <tr style=\"text-align: right;\">\n",
       "      <th></th>\n",
       "      <th>lr_predict</th>\n",
       "      <th>nb_predict</th>\n",
       "      <th>svm_predict</th>\n",
       "      <th>rf_predict</th>\n",
       "      <th>nn_predict</th>\n",
       "      <th>cnn_predict</th>\n",
       "    </tr>\n",
       "  </thead>\n",
       "  <tbody>\n",
       "    <tr>\n",
       "      <th>0</th>\n",
       "      <td>0</td>\n",
       "      <td>0</td>\n",
       "      <td>0</td>\n",
       "      <td>0</td>\n",
       "      <td>0</td>\n",
       "      <td>0</td>\n",
       "    </tr>\n",
       "    <tr>\n",
       "      <th>1</th>\n",
       "      <td>1</td>\n",
       "      <td>1</td>\n",
       "      <td>1</td>\n",
       "      <td>1</td>\n",
       "      <td>1</td>\n",
       "      <td>1</td>\n",
       "    </tr>\n",
       "    <tr>\n",
       "      <th>2</th>\n",
       "      <td>1</td>\n",
       "      <td>0</td>\n",
       "      <td>1</td>\n",
       "      <td>0</td>\n",
       "      <td>1</td>\n",
       "      <td>1</td>\n",
       "    </tr>\n",
       "    <tr>\n",
       "      <th>3</th>\n",
       "      <td>1</td>\n",
       "      <td>1</td>\n",
       "      <td>1</td>\n",
       "      <td>1</td>\n",
       "      <td>1</td>\n",
       "      <td>1</td>\n",
       "    </tr>\n",
       "    <tr>\n",
       "      <th>4</th>\n",
       "      <td>1</td>\n",
       "      <td>0</td>\n",
       "      <td>1</td>\n",
       "      <td>1</td>\n",
       "      <td>1</td>\n",
       "      <td>1</td>\n",
       "    </tr>\n",
       "  </tbody>\n",
       "</table>\n",
       "</div>"
      ],
      "text/plain": [
       "   lr_predict  nb_predict  svm_predict  rf_predict  nn_predict  cnn_predict\n",
       "0           0           0            0           0           0            0\n",
       "1           1           1            1           1           1            1\n",
       "2           1           0            1           0           1            1\n",
       "3           1           1            1           1           1            1\n",
       "4           1           0            1           1           1            1"
      ]
     },
     "execution_count": 77,
     "metadata": {
      "tags": []
     },
     "output_type": "execute_result"
    }
   ],
   "source": [
    "new_features = pd.DataFrame()\n",
    "new_features['lr_predict'] = lr_predict\n",
    "new_features['nb_predict'] = nb_predict\n",
    "new_features['svm_predict'] = svm_predict\n",
    "new_features['rf_predict'] = rf_predict\n",
    "new_features['nn_predict'] = nn_predict\n",
    "new_features['cnn_predict'] = cnn_predict\n",
    "\n",
    "new_features.head()"
   ]
  },
  {
   "cell_type": "code",
   "execution_count": null,
   "metadata": {
    "colab": {},
    "colab_type": "code",
    "hidden": true,
    "id": "bURoSX-wF1JU",
    "outputId": "331a754d-14f5-4f4f-9eb9-11328852ca81"
   },
   "outputs": [
    {
     "data": {
      "text/plain": [
       "RandomForestClassifier(bootstrap=True, class_weight=None, criterion='entropy',\n",
       "                       max_depth=None, max_features='auto', max_leaf_nodes=None,\n",
       "                       min_impurity_decrease=0.0, min_impurity_split=None,\n",
       "                       min_samples_leaf=1, min_samples_split=2,\n",
       "                       min_weight_fraction_leaf=0.0, n_estimators=500,\n",
       "                       n_jobs=None, oob_score=False, random_state=None,\n",
       "                       verbose=0, warm_start=False)"
      ]
     },
     "execution_count": 78,
     "metadata": {
      "tags": []
     },
     "output_type": "execute_result"
    }
   ],
   "source": [
    "rf_2 = RandomForestClassifier(n_estimators=500, criterion='entropy')\n",
    "\n",
    "rf_2.fit(new_features, y_train)"
   ]
  },
  {
   "cell_type": "code",
   "execution_count": null,
   "metadata": {
    "colab": {},
    "colab_type": "code",
    "hidden": true,
    "id": "80WkqP51F1JW"
   },
   "outputs": [],
   "source": [
    "#Combined model results (2nd layer Random Forest)\n",
    "\n",
    "lr_predict = lr.predict(x_test)\n",
    "nb_predict = clf.predict(x_test)\n",
    "svm_predict = svm_model.predict(x_test)\n",
    "rf_predict = rf.predict(x_test)\n",
    "nn_predict = nn_model.predict_classes(x_test)\n",
    "cnn_predict = cnn_model.predict_classes(x_test1)"
   ]
  },
  {
   "cell_type": "code",
   "execution_count": null,
   "metadata": {
    "colab": {},
    "colab_type": "code",
    "hidden": true,
    "id": "rIxEnxfQF1JY",
    "outputId": "769539ec-cde6-403d-f71e-be09a01c3c6e"
   },
   "outputs": [
    {
     "data": {
      "text/html": [
       "<div>\n",
       "<style scoped>\n",
       "    .dataframe tbody tr th:only-of-type {\n",
       "        vertical-align: middle;\n",
       "    }\n",
       "\n",
       "    .dataframe tbody tr th {\n",
       "        vertical-align: top;\n",
       "    }\n",
       "\n",
       "    .dataframe thead th {\n",
       "        text-align: right;\n",
       "    }\n",
       "</style>\n",
       "<table border=\"1\" class=\"dataframe\">\n",
       "  <thead>\n",
       "    <tr style=\"text-align: right;\">\n",
       "      <th></th>\n",
       "      <th>lr_predict</th>\n",
       "      <th>nb_predict</th>\n",
       "      <th>svm_predict</th>\n",
       "      <th>rf_predict</th>\n",
       "      <th>nn_predict</th>\n",
       "      <th>cnn_predict</th>\n",
       "    </tr>\n",
       "  </thead>\n",
       "  <tbody>\n",
       "    <tr>\n",
       "      <th>0</th>\n",
       "      <td>1</td>\n",
       "      <td>1</td>\n",
       "      <td>1</td>\n",
       "      <td>1</td>\n",
       "      <td>1</td>\n",
       "      <td>1</td>\n",
       "    </tr>\n",
       "    <tr>\n",
       "      <th>1</th>\n",
       "      <td>0</td>\n",
       "      <td>0</td>\n",
       "      <td>0</td>\n",
       "      <td>0</td>\n",
       "      <td>0</td>\n",
       "      <td>0</td>\n",
       "    </tr>\n",
       "    <tr>\n",
       "      <th>2</th>\n",
       "      <td>0</td>\n",
       "      <td>0</td>\n",
       "      <td>0</td>\n",
       "      <td>0</td>\n",
       "      <td>0</td>\n",
       "      <td>0</td>\n",
       "    </tr>\n",
       "    <tr>\n",
       "      <th>3</th>\n",
       "      <td>1</td>\n",
       "      <td>1</td>\n",
       "      <td>1</td>\n",
       "      <td>1</td>\n",
       "      <td>1</td>\n",
       "      <td>1</td>\n",
       "    </tr>\n",
       "    <tr>\n",
       "      <th>4</th>\n",
       "      <td>0</td>\n",
       "      <td>0</td>\n",
       "      <td>0</td>\n",
       "      <td>0</td>\n",
       "      <td>0</td>\n",
       "      <td>0</td>\n",
       "    </tr>\n",
       "  </tbody>\n",
       "</table>\n",
       "</div>"
      ],
      "text/plain": [
       "   lr_predict  nb_predict  svm_predict  rf_predict  nn_predict  cnn_predict\n",
       "0           1           1            1           1           1            1\n",
       "1           0           0            0           0           0            0\n",
       "2           0           0            0           0           0            0\n",
       "3           1           1            1           1           1            1\n",
       "4           0           0            0           0           0            0"
      ]
     },
     "execution_count": 80,
     "metadata": {
      "tags": []
     },
     "output_type": "execute_result"
    }
   ],
   "source": [
    "new_features = pd.DataFrame()\n",
    "new_features['lr_predict'] = lr_predict\n",
    "new_features['nb_predict'] = nb_predict\n",
    "new_features['svm_predict'] = svm_predict\n",
    "new_features['rf_predict'] = rf_predict\n",
    "new_features['nn_predict'] = nn_predict\n",
    "new_features['cnn_predict'] = cnn_predict\n",
    "\n",
    "new_features.head()"
   ]
  },
  {
   "cell_type": "code",
   "execution_count": null,
   "metadata": {
    "colab": {},
    "colab_type": "code",
    "hidden": true,
    "id": "efQi8alRF1Ja"
   },
   "outputs": [],
   "source": [
    "predicted = rf_2.predict(new_features)\n",
    "df['prediction'] = predicted"
   ]
  },
  {
   "cell_type": "code",
   "execution_count": null,
   "metadata": {
    "colab": {},
    "colab_type": "code",
    "hidden": true,
    "id": "qLjwfpn0F1Jd",
    "outputId": "ff52fff4-afdf-408e-d73a-1741fa971db5"
   },
   "outputs": [
    {
     "name": "stdout",
     "output_type": "stream",
     "text": [
      "Accuracy on test set: 0.832175\n",
      "False pos: 0.078425\n",
      "False neg: 0.0894\n"
     ]
    }
   ],
   "source": [
    "count_true = 0\n",
    "false_pos = 0\n",
    "false_neg = 0\n",
    "\n",
    "for index, row in df.iterrows():\n",
    "    if row['label'] == row['prediction']:\n",
    "        count_true = count_true + 1\n",
    "    elif row['label'] == 0 and row['prediction'] == 1:\n",
    "        false_pos = false_pos + 1\n",
    "    elif row['label'] == 1 and row['prediction'] == 0:\n",
    "        false_neg = false_neg + 1\n",
    "\n",
    "print(\"Accuracy on test set: \" + str(count_true/len(df)))\n",
    "print(\"False pos: \" + str(false_pos/len(df)))\n",
    "print(\"False neg: \" + str(false_neg/len(df)))"
   ]
  },
  {
   "cell_type": "code",
   "execution_count": null,
   "metadata": {
    "colab": {},
    "colab_type": "code",
    "hidden": true,
    "id": "KSsk_Uq3F1Jh",
    "outputId": "25309aea-a722-479d-b107-65b3c6e1f4c0"
   },
   "outputs": [
    {
     "name": "stdout",
     "output_type": "stream",
     "text": [
      "precision: [0.82500612 0.83966266]\n",
      "recall: [0.84311862 0.82123575]\n",
      "fscore: [0.83396404 0.83034699]\n",
      "support: [19996 20004]\n"
     ]
    }
   ],
   "source": [
    "predicted = predicted \n",
    "y_test = df['label']\n",
    "\n",
    "precision, recall, fscore, support = score(y_test, predicted, labels=[0, 1])\n",
    "\n",
    "print('precision: {}'.format(precision))\n",
    "print('recall: {}'.format(recall))\n",
    "print('fscore: {}'.format(fscore))\n",
    "print('support: {}'.format(support))"
   ]
  },
  {
   "cell_type": "code",
   "execution_count": null,
   "metadata": {
    "colab": {},
    "colab_type": "code",
    "hidden": true,
    "id": "pROVhx4tF1Jl",
    "outputId": "227207c0-b229-4d43-dc69-16943fbe6b09"
   },
   "outputs": [
    {
     "data": {
      "text/html": [
       "<div>\n",
       "<style scoped>\n",
       "    .dataframe tbody tr th:only-of-type {\n",
       "        vertical-align: middle;\n",
       "    }\n",
       "\n",
       "    .dataframe tbody tr th {\n",
       "        vertical-align: top;\n",
       "    }\n",
       "\n",
       "    .dataframe thead th {\n",
       "        text-align: right;\n",
       "    }\n",
       "</style>\n",
       "<table border=\"1\" class=\"dataframe\">\n",
       "  <thead>\n",
       "    <tr style=\"text-align: right;\">\n",
       "      <th></th>\n",
       "      <th>lr_predict</th>\n",
       "      <th>nb_predict</th>\n",
       "      <th>svm_predict</th>\n",
       "      <th>rf_predict</th>\n",
       "      <th>nn_predict</th>\n",
       "      <th>cnn_predict</th>\n",
       "    </tr>\n",
       "  </thead>\n",
       "  <tbody>\n",
       "    <tr>\n",
       "      <th>0</th>\n",
       "      <td>0</td>\n",
       "      <td>0</td>\n",
       "      <td>0</td>\n",
       "      <td>0</td>\n",
       "      <td>0</td>\n",
       "      <td>0</td>\n",
       "    </tr>\n",
       "    <tr>\n",
       "      <th>1</th>\n",
       "      <td>1</td>\n",
       "      <td>1</td>\n",
       "      <td>1</td>\n",
       "      <td>1</td>\n",
       "      <td>1</td>\n",
       "      <td>1</td>\n",
       "    </tr>\n",
       "    <tr>\n",
       "      <th>2</th>\n",
       "      <td>1</td>\n",
       "      <td>0</td>\n",
       "      <td>1</td>\n",
       "      <td>0</td>\n",
       "      <td>1</td>\n",
       "      <td>1</td>\n",
       "    </tr>\n",
       "    <tr>\n",
       "      <th>3</th>\n",
       "      <td>1</td>\n",
       "      <td>1</td>\n",
       "      <td>1</td>\n",
       "      <td>1</td>\n",
       "      <td>1</td>\n",
       "      <td>1</td>\n",
       "    </tr>\n",
       "    <tr>\n",
       "      <th>4</th>\n",
       "      <td>1</td>\n",
       "      <td>0</td>\n",
       "      <td>1</td>\n",
       "      <td>1</td>\n",
       "      <td>1</td>\n",
       "      <td>1</td>\n",
       "    </tr>\n",
       "  </tbody>\n",
       "</table>\n",
       "</div>"
      ],
      "text/plain": [
       "   lr_predict  nb_predict  svm_predict  rf_predict  nn_predict  cnn_predict\n",
       "0           0           0            0           0           0            0\n",
       "1           1           1            1           1           1            1\n",
       "2           1           0            1           0           1            1\n",
       "3           1           1            1           1           1            1\n",
       "4           1           0            1           1           1            1"
      ]
     },
     "execution_count": 84,
     "metadata": {
      "tags": []
     },
     "output_type": "execute_result"
    }
   ],
   "source": [
    "#Trial: Training deep neural net as second layer (Combined models)\n",
    "\n",
    "lr_predict_train = lr.predict(x_train)\n",
    "nb_predict_train = clf.predict(x_train)\n",
    "svm_predict_train = svm_model.predict(x_train)\n",
    "rf_predict_train = rf.predict(x_train)\n",
    "nn_predict_train = nn_model.predict_classes(x_train)\n",
    "cnn_predict_train = cnn_model.predict_classes(x_train1)\n",
    "\n",
    "new_features_train = pd.DataFrame()\n",
    "new_features_train['lr_predict'] = lr_predict_train\n",
    "new_features_train['nb_predict'] = nb_predict_train\n",
    "new_features_train['svm_predict'] = svm_predict_train\n",
    "new_features_train['rf_predict'] = rf_predict_train\n",
    "new_features_train['nn_predict'] = nn_predict_train\n",
    "new_features_train['cnn_predict'] = cnn_predict_train\n",
    "\n",
    "new_features_train.head()"
   ]
  },
  {
   "cell_type": "code",
   "execution_count": null,
   "metadata": {
    "colab": {},
    "colab_type": "code",
    "hidden": true,
    "id": "0irBw0OEF1Jn",
    "outputId": "268579ae-d997-45fd-b50d-b87a38ed137e"
   },
   "outputs": [
    {
     "name": "stdout",
     "output_type": "stream",
     "text": [
      "Model: \"sequential_6\"\n",
      "_________________________________________________________________\n",
      "Layer (type)                 Output Shape              Param #   \n",
      "=================================================================\n",
      "dense_34 (Dense)             (None, 16)                112       \n",
      "_________________________________________________________________\n",
      "activation_28 (Activation)   (None, 16)                0         \n",
      "_________________________________________________________________\n",
      "batch_normalization_26 (Batc (None, 16)                64        \n",
      "_________________________________________________________________\n",
      "dense_35 (Dense)             (None, 16)                272       \n",
      "_________________________________________________________________\n",
      "activation_29 (Activation)   (None, 16)                0         \n",
      "_________________________________________________________________\n",
      "batch_normalization_27 (Batc (None, 16)                64        \n",
      "_________________________________________________________________\n",
      "dropout_12 (Dropout)         (None, 16)                0         \n",
      "_________________________________________________________________\n",
      "dense_36 (Dense)             (None, 16)                272       \n",
      "_________________________________________________________________\n",
      "activation_30 (Activation)   (None, 16)                0         \n",
      "_________________________________________________________________\n",
      "batch_normalization_28 (Batc (None, 16)                64        \n",
      "_________________________________________________________________\n",
      "dense_37 (Dense)             (None, 32)                544       \n",
      "_________________________________________________________________\n",
      "activation_31 (Activation)   (None, 32)                0         \n",
      "_________________________________________________________________\n",
      "batch_normalization_29 (Batc (None, 32)                128       \n",
      "_________________________________________________________________\n",
      "dropout_13 (Dropout)         (None, 32)                0         \n",
      "_________________________________________________________________\n",
      "dense_38 (Dense)             (None, 32)                1056      \n",
      "_________________________________________________________________\n",
      "activation_32 (Activation)   (None, 32)                0         \n",
      "_________________________________________________________________\n",
      "batch_normalization_30 (Batc (None, 32)                128       \n",
      "_________________________________________________________________\n",
      "dense_39 (Dense)             (None, 32)                1056      \n",
      "_________________________________________________________________\n",
      "activation_33 (Activation)   (None, 32)                0         \n",
      "_________________________________________________________________\n",
      "batch_normalization_31 (Batc (None, 32)                128       \n",
      "_________________________________________________________________\n",
      "dropout_14 (Dropout)         (None, 32)                0         \n",
      "_________________________________________________________________\n",
      "dense_40 (Dense)             (None, 1)                 33        \n",
      "_________________________________________________________________\n",
      "activation_34 (Activation)   (None, 1)                 0         \n",
      "=================================================================\n",
      "Total params: 3,921\n",
      "Trainable params: 3,633\n",
      "Non-trainable params: 288\n",
      "_________________________________________________________________\n",
      "WARNING:tensorflow:Falling back from v2 loop because of error: Failed to find data adapter that can handle input: <class 'pandas.core.frame.DataFrame'>, <class 'NoneType'>\n",
      "Train on 96000 samples, validate on 24000 samples\n",
      "Epoch 1/10\n",
      "95840/96000 [============================>.] - ETA: 0s - loss: 0.0192 - accuracy: 0.9938\n",
      "Epoch 00001: val_accuracy improved from -inf to 0.99996, saving model to NN2.model\n",
      "INFO:tensorflow:Assets written to: NN2.model/assets\n",
      "96000/96000 [==============================] - 26s 273us/sample - loss: 0.0192 - accuracy: 0.9938 - val_loss: 5.5018e-04 - val_accuracy: 1.0000\n",
      "Epoch 2/10\n",
      "95936/96000 [============================>.] - ETA: 0s - loss: 0.0026 - accuracy: 0.9996\n",
      "Epoch 00002: val_accuracy did not improve from 0.99996\n",
      "96000/96000 [==============================] - 22s 229us/sample - loss: 0.0026 - accuracy: 0.9996 - val_loss: 6.4392e-04 - val_accuracy: 1.0000\n",
      "Epoch 3/10\n",
      "95776/96000 [============================>.] - ETA: 0s - loss: 0.0018 - accuracy: 0.9997\n",
      "Epoch 00003: val_accuracy did not improve from 0.99996\n",
      "96000/96000 [==============================] - 23s 236us/sample - loss: 0.0018 - accuracy: 0.9997 - val_loss: 6.4423e-04 - val_accuracy: 1.0000\n",
      "Epoch 4/10\n",
      "95872/96000 [============================>.] - ETA: 0s - loss: 8.0100e-04 - accuracy: 0.9999\n",
      "Epoch 00004: val_accuracy did not improve from 0.99996\n",
      "96000/96000 [==============================] - 23s 239us/sample - loss: 7.9994e-04 - accuracy: 0.9999 - val_loss: 6.4297e-04 - val_accuracy: 1.0000\n",
      "Epoch 5/10\n",
      "95840/96000 [============================>.] - ETA: 0s - loss: 1.8519e-04 - accuracy: 1.0000\n",
      "Epoch 00005: val_accuracy did not improve from 0.99996\n",
      "96000/96000 [==============================] - 23s 242us/sample - loss: 1.8491e-04 - accuracy: 1.0000 - val_loss: 6.4271e-04 - val_accuracy: 1.0000\n",
      "Epoch 6/10\n",
      "95968/96000 [============================>.] - ETA: 0s - loss: 6.5417e-04 - accuracy: 0.9999\n",
      "Epoch 00006: val_accuracy did not improve from 0.99996\n",
      "96000/96000 [==============================] - 23s 239us/sample - loss: 6.5395e-04 - accuracy: 0.9999 - val_loss: 6.4271e-04 - val_accuracy: 1.0000\n",
      "Epoch 7/10\n",
      "95872/96000 [============================>.] - ETA: 0s - loss: 1.1154e-04 - accuracy: 1.0000\n",
      "Epoch 00007: val_accuracy did not improve from 0.99996\n",
      "96000/96000 [==============================] - 24s 251us/sample - loss: 1.1139e-04 - accuracy: 1.0000 - val_loss: 6.4271e-04 - val_accuracy: 1.0000\n",
      "Epoch 8/10\n",
      "95872/96000 [============================>.] - ETA: 0s - loss: 2.8745e-04 - accuracy: 1.0000\n",
      "Epoch 00008: val_accuracy did not improve from 0.99996\n",
      "96000/96000 [==============================] - 24s 247us/sample - loss: 2.8707e-04 - accuracy: 1.0000 - val_loss: 6.4271e-04 - val_accuracy: 1.0000\n",
      "Epoch 9/10\n",
      "95968/96000 [============================>.] - ETA: 0s - loss: 3.9127e-04 - accuracy: 1.0000\n",
      "Epoch 00009: val_accuracy did not improve from 0.99996\n",
      "96000/96000 [==============================] - 24s 250us/sample - loss: 3.9114e-04 - accuracy: 1.0000 - val_loss: 6.4271e-04 - val_accuracy: 1.0000\n",
      "Epoch 10/10\n",
      "95776/96000 [============================>.] - ETA: 0s - loss: 0.0011 - accuracy: 0.9999\n",
      "Epoch 00010: val_accuracy did not improve from 0.99996\n",
      "96000/96000 [==============================] - 24s 251us/sample - loss: 0.0011 - accuracy: 0.9999 - val_loss: 6.4271e-04 - val_accuracy: 1.0000\n"
     ]
    }
   ],
   "source": [
    "# mini batches Nadam optimizer with dropout and batch normalization\n",
    "epochs = 10\n",
    "model = tf.keras.Sequential()\n",
    "model.add(layers.Dense(16, input_dim=6))\n",
    "model.add(layers.Activation('relu'))\n",
    "model.add(layers.BatchNormalization())\n",
    "model.add(layers.Dense(16))\n",
    "model.add(layers.Activation('relu'))\n",
    "model.add(layers.BatchNormalization())\n",
    "model.add(layers.Dropout(rate = 0.2))\n",
    "model.add(layers.Dense(16))\n",
    "model.add(layers.Activation('relu'))\n",
    "model.add(layers.BatchNormalization())\n",
    "model.add(layers.Dense(32))\n",
    "model.add(layers.Activation('relu'))\n",
    "model.add(layers.BatchNormalization())\n",
    "model.add(layers.Dropout(rate = 0.3))\n",
    "model.add(layers.Dense(32))\n",
    "model.add(layers.Activation('relu'))\n",
    "model.add(layers.BatchNormalization())\n",
    "model.add(layers.Dense(32))\n",
    "model.add(layers.Activation('relu'))\n",
    "model.add(layers.BatchNormalization())\n",
    "model.add(layers.Dropout(rate = 0.4))\n",
    "\n",
    "model.add(layers.Dense(1))\n",
    "model.add(layers.Activation('sigmoid'))\n",
    "model.compile(loss='binary_crossentropy',\n",
    "              optimizer=keras.optimizers.Nadam(lr=0.002, beta_1=0.9, beta_2=0.999),\n",
    "              metrics=['accuracy'])\n",
    "checkpoint = keras.callbacks.ModelCheckpoint(\"NN2.model\", monitor='val_accuracy', verbose=1, save_best_only=True)\n",
    "\n",
    "model.summary()\n",
    "model1 = model.fit(new_features_train, y_train, epochs=epochs, validation_split=0.2, callbacks=[checkpoint])"
   ]
  },
  {
   "cell_type": "code",
   "execution_count": null,
   "metadata": {
    "colab": {},
    "colab_type": "code",
    "hidden": true,
    "id": "RC0RNV-cF1Jr",
    "outputId": "d57f7063-852c-4271-ee9e-2258c1b70a3e"
   },
   "outputs": [
    {
     "name": "stdout",
     "output_type": "stream",
     "text": [
      "WARNING:tensorflow:Falling back from v2 loop because of error: Failed to find data adapter that can handle input: <class 'pandas.core.frame.DataFrame'>, <class 'NoneType'>\n"
     ]
    }
   ],
   "source": [
    "#Combined model results (Deep Neural Net 2nd Layer)\n",
    "\n",
    "nn2_model = tf.keras.models.load_model('NN2.model')\n",
    "predicted = nn2_model.predict_classes(new_features)\n",
    "df['prediction'] = predicted"
   ]
  },
  {
   "cell_type": "code",
   "execution_count": null,
   "metadata": {
    "colab": {},
    "colab_type": "code",
    "hidden": true,
    "id": "0JD3bvyfF1Jt",
    "outputId": "1ff3b0a5-8ea6-4942-e8c2-fd9b8165a3b7"
   },
   "outputs": [
    {
     "name": "stdout",
     "output_type": "stream",
     "text": [
      "Accuracy on test set: 0.832175\n",
      "False pos: 0.078425\n",
      "False neg: 0.0894\n"
     ]
    }
   ],
   "source": [
    "count_true = 0\n",
    "false_pos = 0\n",
    "false_neg = 0\n",
    "\n",
    "for index, row in df.iterrows():\n",
    "    if row['label'] == row['prediction']:\n",
    "        count_true = count_true + 1\n",
    "    elif row['label'] == 0 and row['prediction'] == 1:\n",
    "        false_pos = false_pos + 1\n",
    "    elif row['label'] == 1 and row['prediction'] == 0:\n",
    "        false_neg = false_neg + 1\n",
    "\n",
    "print(\"Accuracy on test set: \" + str(count_true/len(df)))\n",
    "print(\"False pos: \" + str(false_pos/len(df)))\n",
    "print(\"False neg: \" + str(false_neg/len(df)))"
   ]
  },
  {
   "cell_type": "code",
   "execution_count": null,
   "metadata": {
    "colab": {},
    "colab_type": "code",
    "hidden": true,
    "id": "5K8etHSUF1Jw",
    "outputId": "c02e5208-69f6-4d58-e861-5c5a4f3c8029"
   },
   "outputs": [
    {
     "name": "stdout",
     "output_type": "stream",
     "text": [
      "precision: [0.82500612 0.83966266]\n",
      "recall: [0.84311862 0.82123575]\n",
      "fscore: [0.83396404 0.83034699]\n",
      "support: [19996 20004]\n"
     ]
    }
   ],
   "source": [
    "predicted = predicted \n",
    "y_test = df['label']\n",
    "\n",
    "precision, recall, fscore, support = score(y_test, predicted, labels=[0, 1])\n",
    "\n",
    "print('precision: {}'.format(precision))\n",
    "print('recall: {}'.format(recall))\n",
    "print('fscore: {}'.format(fscore))\n",
    "print('support: {}'.format(support))"
   ]
  },
  {
   "cell_type": "markdown",
   "metadata": {
    "heading_collapsed": true
   },
   "source": [
    "## Logistic Regression Extension"
   ]
  },
  {
   "cell_type": "markdown",
   "metadata": {
    "heading_collapsed": true,
    "hidden": true
   },
   "source": [
    "### CV Simple LogReg"
   ]
  },
  {
   "cell_type": "code",
   "execution_count": 66,
   "metadata": {
    "hidden": true,
    "scrolled": true
   },
   "outputs": [],
   "source": [
    "from sklearn.model_selection import StratifiedKFold\n",
    "\n",
    "kf = StratifiedKFold(n_splits=10, shuffle=True, random_state=42)\n",
    "cvscores=[]\n",
    "\n",
    "x_train = np.array(x_train)\n",
    "y_train = np.array(y_train)\n",
    "\n",
    "for train_index, val_index in kf.split(x_train, y_train):\n",
    "    x_train_kf, x_val_kf = x_train[train_index], x_train[val_index]\n",
    "    y_train_kf, y_val_kf = y_train[train_index], y_train[val_index]\n",
    "    \n",
    "    model = LogisticRegression(random_state=42, max_iter=200)\n",
    "    model.fit(x_train_kf, y_train_kf)\n",
    "    \n",
    "    scores = model.score(x_val_kf, y_val_kf)\n",
    "    cvscores.append(scores * 100)"
   ]
  },
  {
   "cell_type": "code",
   "execution_count": 67,
   "metadata": {
    "hidden": true
   },
   "outputs": [
    {
     "name": "stdout",
     "output_type": "stream",
     "text": [
      "84.93% (+/- 0.45%)\n"
     ]
    }
   ],
   "source": [
    "print(\"%.2f%% (+/- %.2f%%)\" % (np.mean(cvscores), np.std(cvscores)))"
   ]
  },
  {
   "cell_type": "markdown",
   "metadata": {
    "heading_collapsed": true,
    "hidden": true
   },
   "source": [
    "### Logistic GridSearchCV for L2 and no penalty with compatible solvers"
   ]
  },
  {
   "cell_type": "code",
   "execution_count": 43,
   "metadata": {
    "colab": {},
    "colab_type": "code",
    "hidden": true,
    "id": "NPJT_R2BF1Jy",
    "scrolled": true
   },
   "outputs": [
    {
     "name": "stdout",
     "output_type": "stream",
     "text": [
      "Fitting 10 folds for each of 32 candidates, totalling 320 fits\n"
     ]
    },
    {
     "name": "stderr",
     "output_type": "stream",
     "text": [
      "[Parallel(n_jobs=1)]: Using backend SequentialBackend with 1 concurrent workers.\n",
      "C:\\Users\\danie\\anaconda3\\lib\\site-packages\\sklearn\\linear_model\\_logistic.py:1505: UserWarning: Setting penalty='none' will ignore the C and l1_ratio parameters\n",
      "  \"Setting penalty='none' will ignore the C and l1_ratio \"\n",
      "C:\\Users\\danie\\anaconda3\\lib\\site-packages\\sklearn\\linear_model\\_logistic.py:1505: UserWarning: Setting penalty='none' will ignore the C and l1_ratio parameters\n",
      "  \"Setting penalty='none' will ignore the C and l1_ratio \"\n",
      "C:\\Users\\danie\\anaconda3\\lib\\site-packages\\sklearn\\linear_model\\_logistic.py:1505: UserWarning: Setting penalty='none' will ignore the C and l1_ratio parameters\n",
      "  \"Setting penalty='none' will ignore the C and l1_ratio \"\n",
      "C:\\Users\\danie\\anaconda3\\lib\\site-packages\\sklearn\\linear_model\\_logistic.py:1505: UserWarning: Setting penalty='none' will ignore the C and l1_ratio parameters\n",
      "  \"Setting penalty='none' will ignore the C and l1_ratio \"\n",
      "C:\\Users\\danie\\anaconda3\\lib\\site-packages\\sklearn\\linear_model\\_logistic.py:1505: UserWarning: Setting penalty='none' will ignore the C and l1_ratio parameters\n",
      "  \"Setting penalty='none' will ignore the C and l1_ratio \"\n",
      "C:\\Users\\danie\\anaconda3\\lib\\site-packages\\sklearn\\linear_model\\_logistic.py:1505: UserWarning: Setting penalty='none' will ignore the C and l1_ratio parameters\n",
      "  \"Setting penalty='none' will ignore the C and l1_ratio \"\n",
      "C:\\Users\\danie\\anaconda3\\lib\\site-packages\\sklearn\\linear_model\\_logistic.py:1505: UserWarning: Setting penalty='none' will ignore the C and l1_ratio parameters\n",
      "  \"Setting penalty='none' will ignore the C and l1_ratio \"\n",
      "C:\\Users\\danie\\anaconda3\\lib\\site-packages\\sklearn\\linear_model\\_logistic.py:1505: UserWarning: Setting penalty='none' will ignore the C and l1_ratio parameters\n",
      "  \"Setting penalty='none' will ignore the C and l1_ratio \"\n",
      "C:\\Users\\danie\\anaconda3\\lib\\site-packages\\sklearn\\linear_model\\_logistic.py:1505: UserWarning: Setting penalty='none' will ignore the C and l1_ratio parameters\n",
      "  \"Setting penalty='none' will ignore the C and l1_ratio \"\n",
      "C:\\Users\\danie\\anaconda3\\lib\\site-packages\\sklearn\\linear_model\\_logistic.py:1505: UserWarning: Setting penalty='none' will ignore the C and l1_ratio parameters\n",
      "  \"Setting penalty='none' will ignore the C and l1_ratio \"\n",
      "C:\\Users\\danie\\anaconda3\\lib\\site-packages\\sklearn\\linear_model\\_logistic.py:1505: UserWarning: Setting penalty='none' will ignore the C and l1_ratio parameters\n",
      "  \"Setting penalty='none' will ignore the C and l1_ratio \"\n",
      "C:\\Users\\danie\\anaconda3\\lib\\site-packages\\sklearn\\linear_model\\_logistic.py:1505: UserWarning: Setting penalty='none' will ignore the C and l1_ratio parameters\n",
      "  \"Setting penalty='none' will ignore the C and l1_ratio \"\n",
      "C:\\Users\\danie\\anaconda3\\lib\\site-packages\\sklearn\\linear_model\\_logistic.py:1505: UserWarning: Setting penalty='none' will ignore the C and l1_ratio parameters\n",
      "  \"Setting penalty='none' will ignore the C and l1_ratio \"\n",
      "C:\\Users\\danie\\anaconda3\\lib\\site-packages\\sklearn\\linear_model\\_logistic.py:1505: UserWarning: Setting penalty='none' will ignore the C and l1_ratio parameters\n",
      "  \"Setting penalty='none' will ignore the C and l1_ratio \"\n",
      "C:\\Users\\danie\\anaconda3\\lib\\site-packages\\sklearn\\linear_model\\_logistic.py:1505: UserWarning: Setting penalty='none' will ignore the C and l1_ratio parameters\n",
      "  \"Setting penalty='none' will ignore the C and l1_ratio \"\n",
      "C:\\Users\\danie\\anaconda3\\lib\\site-packages\\sklearn\\linear_model\\_logistic.py:1505: UserWarning: Setting penalty='none' will ignore the C and l1_ratio parameters\n",
      "  \"Setting penalty='none' will ignore the C and l1_ratio \"\n",
      "C:\\Users\\danie\\anaconda3\\lib\\site-packages\\sklearn\\linear_model\\_logistic.py:1505: UserWarning: Setting penalty='none' will ignore the C and l1_ratio parameters\n",
      "  \"Setting penalty='none' will ignore the C and l1_ratio \"\n",
      "C:\\Users\\danie\\anaconda3\\lib\\site-packages\\sklearn\\linear_model\\_logistic.py:1505: UserWarning: Setting penalty='none' will ignore the C and l1_ratio parameters\n",
      "  \"Setting penalty='none' will ignore the C and l1_ratio \"\n",
      "C:\\Users\\danie\\anaconda3\\lib\\site-packages\\sklearn\\linear_model\\_logistic.py:1505: UserWarning: Setting penalty='none' will ignore the C and l1_ratio parameters\n",
      "  \"Setting penalty='none' will ignore the C and l1_ratio \"\n",
      "C:\\Users\\danie\\anaconda3\\lib\\site-packages\\sklearn\\linear_model\\_logistic.py:1505: UserWarning: Setting penalty='none' will ignore the C and l1_ratio parameters\n",
      "  \"Setting penalty='none' will ignore the C and l1_ratio \"\n",
      "C:\\Users\\danie\\anaconda3\\lib\\site-packages\\sklearn\\linear_model\\_logistic.py:1505: UserWarning: Setting penalty='none' will ignore the C and l1_ratio parameters\n",
      "  \"Setting penalty='none' will ignore the C and l1_ratio \"\n",
      "C:\\Users\\danie\\anaconda3\\lib\\site-packages\\sklearn\\linear_model\\_logistic.py:1505: UserWarning: Setting penalty='none' will ignore the C and l1_ratio parameters\n",
      "  \"Setting penalty='none' will ignore the C and l1_ratio \"\n",
      "C:\\Users\\danie\\anaconda3\\lib\\site-packages\\sklearn\\linear_model\\_logistic.py:1505: UserWarning: Setting penalty='none' will ignore the C and l1_ratio parameters\n",
      "  \"Setting penalty='none' will ignore the C and l1_ratio \"\n",
      "C:\\Users\\danie\\anaconda3\\lib\\site-packages\\sklearn\\linear_model\\_logistic.py:1505: UserWarning: Setting penalty='none' will ignore the C and l1_ratio parameters\n",
      "  \"Setting penalty='none' will ignore the C and l1_ratio \"\n",
      "C:\\Users\\danie\\anaconda3\\lib\\site-packages\\sklearn\\linear_model\\_logistic.py:1505: UserWarning: Setting penalty='none' will ignore the C and l1_ratio parameters\n",
      "  \"Setting penalty='none' will ignore the C and l1_ratio \"\n",
      "C:\\Users\\danie\\anaconda3\\lib\\site-packages\\sklearn\\linear_model\\_logistic.py:1505: UserWarning: Setting penalty='none' will ignore the C and l1_ratio parameters\n",
      "  \"Setting penalty='none' will ignore the C and l1_ratio \"\n",
      "C:\\Users\\danie\\anaconda3\\lib\\site-packages\\sklearn\\linear_model\\_logistic.py:1505: UserWarning: Setting penalty='none' will ignore the C and l1_ratio parameters\n",
      "  \"Setting penalty='none' will ignore the C and l1_ratio \"\n",
      "C:\\Users\\danie\\anaconda3\\lib\\site-packages\\sklearn\\linear_model\\_logistic.py:1505: UserWarning: Setting penalty='none' will ignore the C and l1_ratio parameters\n",
      "  \"Setting penalty='none' will ignore the C and l1_ratio \"\n",
      "C:\\Users\\danie\\anaconda3\\lib\\site-packages\\sklearn\\linear_model\\_logistic.py:1505: UserWarning: Setting penalty='none' will ignore the C and l1_ratio parameters\n",
      "  \"Setting penalty='none' will ignore the C and l1_ratio \"\n",
      "C:\\Users\\danie\\anaconda3\\lib\\site-packages\\sklearn\\linear_model\\_logistic.py:1505: UserWarning: Setting penalty='none' will ignore the C and l1_ratio parameters\n",
      "  \"Setting penalty='none' will ignore the C and l1_ratio \"\n",
      "C:\\Users\\danie\\anaconda3\\lib\\site-packages\\sklearn\\linear_model\\_logistic.py:1505: UserWarning: Setting penalty='none' will ignore the C and l1_ratio parameters\n",
      "  \"Setting penalty='none' will ignore the C and l1_ratio \"\n",
      "C:\\Users\\danie\\anaconda3\\lib\\site-packages\\sklearn\\linear_model\\_logistic.py:1505: UserWarning: Setting penalty='none' will ignore the C and l1_ratio parameters\n",
      "  \"Setting penalty='none' will ignore the C and l1_ratio \"\n",
      "C:\\Users\\danie\\anaconda3\\lib\\site-packages\\sklearn\\linear_model\\_logistic.py:1505: UserWarning: Setting penalty='none' will ignore the C and l1_ratio parameters\n",
      "  \"Setting penalty='none' will ignore the C and l1_ratio \"\n",
      "C:\\Users\\danie\\anaconda3\\lib\\site-packages\\sklearn\\linear_model\\_logistic.py:1505: UserWarning: Setting penalty='none' will ignore the C and l1_ratio parameters\n",
      "  \"Setting penalty='none' will ignore the C and l1_ratio \"\n",
      "C:\\Users\\danie\\anaconda3\\lib\\site-packages\\sklearn\\linear_model\\_logistic.py:1505: UserWarning: Setting penalty='none' will ignore the C and l1_ratio parameters\n",
      "  \"Setting penalty='none' will ignore the C and l1_ratio \"\n",
      "C:\\Users\\danie\\anaconda3\\lib\\site-packages\\sklearn\\linear_model\\_logistic.py:1505: UserWarning: Setting penalty='none' will ignore the C and l1_ratio parameters\n",
      "  \"Setting penalty='none' will ignore the C and l1_ratio \"\n",
      "C:\\Users\\danie\\anaconda3\\lib\\site-packages\\sklearn\\linear_model\\_logistic.py:1505: UserWarning: Setting penalty='none' will ignore the C and l1_ratio parameters\n",
      "  \"Setting penalty='none' will ignore the C and l1_ratio \"\n",
      "C:\\Users\\danie\\anaconda3\\lib\\site-packages\\sklearn\\linear_model\\_logistic.py:1505: UserWarning: Setting penalty='none' will ignore the C and l1_ratio parameters\n",
      "  \"Setting penalty='none' will ignore the C and l1_ratio \"\n",
      "C:\\Users\\danie\\anaconda3\\lib\\site-packages\\sklearn\\linear_model\\_logistic.py:1505: UserWarning: Setting penalty='none' will ignore the C and l1_ratio parameters\n",
      "  \"Setting penalty='none' will ignore the C and l1_ratio \"\n",
      "C:\\Users\\danie\\anaconda3\\lib\\site-packages\\sklearn\\linear_model\\_logistic.py:1505: UserWarning: Setting penalty='none' will ignore the C and l1_ratio parameters\n",
      "  \"Setting penalty='none' will ignore the C and l1_ratio \"\n",
      "C:\\Users\\danie\\anaconda3\\lib\\site-packages\\sklearn\\linear_model\\_logistic.py:1505: UserWarning: Setting penalty='none' will ignore the C and l1_ratio parameters\n",
      "  \"Setting penalty='none' will ignore the C and l1_ratio \"\n",
      "C:\\Users\\danie\\anaconda3\\lib\\site-packages\\sklearn\\linear_model\\_logistic.py:1505: UserWarning: Setting penalty='none' will ignore the C and l1_ratio parameters\n",
      "  \"Setting penalty='none' will ignore the C and l1_ratio \"\n",
      "C:\\Users\\danie\\anaconda3\\lib\\site-packages\\sklearn\\linear_model\\_logistic.py:1505: UserWarning: Setting penalty='none' will ignore the C and l1_ratio parameters\n",
      "  \"Setting penalty='none' will ignore the C and l1_ratio \"\n",
      "C:\\Users\\danie\\anaconda3\\lib\\site-packages\\sklearn\\linear_model\\_logistic.py:1505: UserWarning: Setting penalty='none' will ignore the C and l1_ratio parameters\n",
      "  \"Setting penalty='none' will ignore the C and l1_ratio \"\n",
      "C:\\Users\\danie\\anaconda3\\lib\\site-packages\\sklearn\\linear_model\\_logistic.py:1505: UserWarning: Setting penalty='none' will ignore the C and l1_ratio parameters\n",
      "  \"Setting penalty='none' will ignore the C and l1_ratio \"\n",
      "C:\\Users\\danie\\anaconda3\\lib\\site-packages\\sklearn\\linear_model\\_logistic.py:1505: UserWarning: Setting penalty='none' will ignore the C and l1_ratio parameters\n",
      "  \"Setting penalty='none' will ignore the C and l1_ratio \"\n",
      "C:\\Users\\danie\\anaconda3\\lib\\site-packages\\sklearn\\linear_model\\_logistic.py:1505: UserWarning: Setting penalty='none' will ignore the C and l1_ratio parameters\n",
      "  \"Setting penalty='none' will ignore the C and l1_ratio \"\n",
      "C:\\Users\\danie\\anaconda3\\lib\\site-packages\\sklearn\\linear_model\\_logistic.py:1505: UserWarning: Setting penalty='none' will ignore the C and l1_ratio parameters\n",
      "  \"Setting penalty='none' will ignore the C and l1_ratio \"\n",
      "C:\\Users\\danie\\anaconda3\\lib\\site-packages\\sklearn\\linear_model\\_logistic.py:1505: UserWarning: Setting penalty='none' will ignore the C and l1_ratio parameters\n",
      "  \"Setting penalty='none' will ignore the C and l1_ratio \"\n",
      "C:\\Users\\danie\\anaconda3\\lib\\site-packages\\sklearn\\linear_model\\_logistic.py:1505: UserWarning: Setting penalty='none' will ignore the C and l1_ratio parameters\n",
      "  \"Setting penalty='none' will ignore the C and l1_ratio \"\n",
      "C:\\Users\\danie\\anaconda3\\lib\\site-packages\\sklearn\\linear_model\\_logistic.py:1505: UserWarning: Setting penalty='none' will ignore the C and l1_ratio parameters\n",
      "  \"Setting penalty='none' will ignore the C and l1_ratio \"\n",
      "C:\\Users\\danie\\anaconda3\\lib\\site-packages\\sklearn\\linear_model\\_logistic.py:1505: UserWarning: Setting penalty='none' will ignore the C and l1_ratio parameters\n",
      "  \"Setting penalty='none' will ignore the C and l1_ratio \"\n",
      "C:\\Users\\danie\\anaconda3\\lib\\site-packages\\sklearn\\linear_model\\_logistic.py:1505: UserWarning: Setting penalty='none' will ignore the C and l1_ratio parameters\n",
      "  \"Setting penalty='none' will ignore the C and l1_ratio \"\n",
      "C:\\Users\\danie\\anaconda3\\lib\\site-packages\\sklearn\\linear_model\\_logistic.py:1505: UserWarning: Setting penalty='none' will ignore the C and l1_ratio parameters\n",
      "  \"Setting penalty='none' will ignore the C and l1_ratio \"\n",
      "C:\\Users\\danie\\anaconda3\\lib\\site-packages\\sklearn\\linear_model\\_logistic.py:1505: UserWarning: Setting penalty='none' will ignore the C and l1_ratio parameters\n",
      "  \"Setting penalty='none' will ignore the C and l1_ratio \"\n",
      "C:\\Users\\danie\\anaconda3\\lib\\site-packages\\sklearn\\linear_model\\_logistic.py:1505: UserWarning: Setting penalty='none' will ignore the C and l1_ratio parameters\n",
      "  \"Setting penalty='none' will ignore the C and l1_ratio \"\n",
      "C:\\Users\\danie\\anaconda3\\lib\\site-packages\\sklearn\\linear_model\\_logistic.py:1505: UserWarning: Setting penalty='none' will ignore the C and l1_ratio parameters\n",
      "  \"Setting penalty='none' will ignore the C and l1_ratio \"\n",
      "C:\\Users\\danie\\anaconda3\\lib\\site-packages\\sklearn\\linear_model\\_logistic.py:1505: UserWarning: Setting penalty='none' will ignore the C and l1_ratio parameters\n",
      "  \"Setting penalty='none' will ignore the C and l1_ratio \"\n",
      "C:\\Users\\danie\\anaconda3\\lib\\site-packages\\sklearn\\linear_model\\_logistic.py:1505: UserWarning: Setting penalty='none' will ignore the C and l1_ratio parameters\n",
      "  \"Setting penalty='none' will ignore the C and l1_ratio \"\n",
      "C:\\Users\\danie\\anaconda3\\lib\\site-packages\\sklearn\\linear_model\\_logistic.py:1505: UserWarning: Setting penalty='none' will ignore the C and l1_ratio parameters\n",
      "  \"Setting penalty='none' will ignore the C and l1_ratio \"\n",
      "C:\\Users\\danie\\anaconda3\\lib\\site-packages\\sklearn\\linear_model\\_logistic.py:1505: UserWarning: Setting penalty='none' will ignore the C and l1_ratio parameters\n",
      "  \"Setting penalty='none' will ignore the C and l1_ratio \"\n",
      "C:\\Users\\danie\\anaconda3\\lib\\site-packages\\sklearn\\linear_model\\_logistic.py:1505: UserWarning: Setting penalty='none' will ignore the C and l1_ratio parameters\n",
      "  \"Setting penalty='none' will ignore the C and l1_ratio \"\n",
      "C:\\Users\\danie\\anaconda3\\lib\\site-packages\\sklearn\\linear_model\\_logistic.py:1505: UserWarning: Setting penalty='none' will ignore the C and l1_ratio parameters\n",
      "  \"Setting penalty='none' will ignore the C and l1_ratio \"\n",
      "C:\\Users\\danie\\anaconda3\\lib\\site-packages\\sklearn\\linear_model\\_logistic.py:1505: UserWarning: Setting penalty='none' will ignore the C and l1_ratio parameters\n",
      "  \"Setting penalty='none' will ignore the C and l1_ratio \"\n",
      "C:\\Users\\danie\\anaconda3\\lib\\site-packages\\sklearn\\linear_model\\_logistic.py:1505: UserWarning: Setting penalty='none' will ignore the C and l1_ratio parameters\n",
      "  \"Setting penalty='none' will ignore the C and l1_ratio \"\n",
      "C:\\Users\\danie\\anaconda3\\lib\\site-packages\\sklearn\\linear_model\\_logistic.py:1505: UserWarning: Setting penalty='none' will ignore the C and l1_ratio parameters\n",
      "  \"Setting penalty='none' will ignore the C and l1_ratio \"\n",
      "C:\\Users\\danie\\anaconda3\\lib\\site-packages\\sklearn\\linear_model\\_logistic.py:1505: UserWarning: Setting penalty='none' will ignore the C and l1_ratio parameters\n",
      "  \"Setting penalty='none' will ignore the C and l1_ratio \"\n",
      "C:\\Users\\danie\\anaconda3\\lib\\site-packages\\sklearn\\linear_model\\_logistic.py:1505: UserWarning: Setting penalty='none' will ignore the C and l1_ratio parameters\n",
      "  \"Setting penalty='none' will ignore the C and l1_ratio \"\n",
      "C:\\Users\\danie\\anaconda3\\lib\\site-packages\\sklearn\\linear_model\\_logistic.py:1505: UserWarning: Setting penalty='none' will ignore the C and l1_ratio parameters\n",
      "  \"Setting penalty='none' will ignore the C and l1_ratio \"\n",
      "C:\\Users\\danie\\anaconda3\\lib\\site-packages\\sklearn\\linear_model\\_logistic.py:1505: UserWarning: Setting penalty='none' will ignore the C and l1_ratio parameters\n",
      "  \"Setting penalty='none' will ignore the C and l1_ratio \"\n",
      "C:\\Users\\danie\\anaconda3\\lib\\site-packages\\sklearn\\linear_model\\_logistic.py:1505: UserWarning: Setting penalty='none' will ignore the C and l1_ratio parameters\n",
      "  \"Setting penalty='none' will ignore the C and l1_ratio \"\n",
      "C:\\Users\\danie\\anaconda3\\lib\\site-packages\\sklearn\\linear_model\\_logistic.py:1505: UserWarning: Setting penalty='none' will ignore the C and l1_ratio parameters\n",
      "  \"Setting penalty='none' will ignore the C and l1_ratio \"\n",
      "C:\\Users\\danie\\anaconda3\\lib\\site-packages\\sklearn\\linear_model\\_logistic.py:1505: UserWarning: Setting penalty='none' will ignore the C and l1_ratio parameters\n",
      "  \"Setting penalty='none' will ignore the C and l1_ratio \"\n",
      "C:\\Users\\danie\\anaconda3\\lib\\site-packages\\sklearn\\linear_model\\_logistic.py:1505: UserWarning: Setting penalty='none' will ignore the C and l1_ratio parameters\n",
      "  \"Setting penalty='none' will ignore the C and l1_ratio \"\n",
      "C:\\Users\\danie\\anaconda3\\lib\\site-packages\\sklearn\\linear_model\\_logistic.py:1505: UserWarning: Setting penalty='none' will ignore the C and l1_ratio parameters\n",
      "  \"Setting penalty='none' will ignore the C and l1_ratio \"\n",
      "C:\\Users\\danie\\anaconda3\\lib\\site-packages\\sklearn\\linear_model\\_logistic.py:1505: UserWarning: Setting penalty='none' will ignore the C and l1_ratio parameters\n",
      "  \"Setting penalty='none' will ignore the C and l1_ratio \"\n",
      "C:\\Users\\danie\\anaconda3\\lib\\site-packages\\sklearn\\linear_model\\_logistic.py:1505: UserWarning: Setting penalty='none' will ignore the C and l1_ratio parameters\n",
      "  \"Setting penalty='none' will ignore the C and l1_ratio \"\n",
      "C:\\Users\\danie\\anaconda3\\lib\\site-packages\\sklearn\\linear_model\\_logistic.py:1505: UserWarning: Setting penalty='none' will ignore the C and l1_ratio parameters\n",
      "  \"Setting penalty='none' will ignore the C and l1_ratio \"\n",
      "C:\\Users\\danie\\anaconda3\\lib\\site-packages\\sklearn\\linear_model\\_logistic.py:1505: UserWarning: Setting penalty='none' will ignore the C and l1_ratio parameters\n",
      "  \"Setting penalty='none' will ignore the C and l1_ratio \"\n",
      "C:\\Users\\danie\\anaconda3\\lib\\site-packages\\sklearn\\linear_model\\_logistic.py:1505: UserWarning: Setting penalty='none' will ignore the C and l1_ratio parameters\n",
      "  \"Setting penalty='none' will ignore the C and l1_ratio \"\n",
      "C:\\Users\\danie\\anaconda3\\lib\\site-packages\\sklearn\\linear_model\\_logistic.py:1505: UserWarning: Setting penalty='none' will ignore the C and l1_ratio parameters\n",
      "  \"Setting penalty='none' will ignore the C and l1_ratio \"\n",
      "C:\\Users\\danie\\anaconda3\\lib\\site-packages\\sklearn\\linear_model\\_logistic.py:1505: UserWarning: Setting penalty='none' will ignore the C and l1_ratio parameters\n",
      "  \"Setting penalty='none' will ignore the C and l1_ratio \"\n",
      "C:\\Users\\danie\\anaconda3\\lib\\site-packages\\sklearn\\linear_model\\_logistic.py:1505: UserWarning: Setting penalty='none' will ignore the C and l1_ratio parameters\n",
      "  \"Setting penalty='none' will ignore the C and l1_ratio \"\n",
      "C:\\Users\\danie\\anaconda3\\lib\\site-packages\\sklearn\\linear_model\\_logistic.py:1505: UserWarning: Setting penalty='none' will ignore the C and l1_ratio parameters\n",
      "  \"Setting penalty='none' will ignore the C and l1_ratio \"\n",
      "C:\\Users\\danie\\anaconda3\\lib\\site-packages\\sklearn\\linear_model\\_logistic.py:1505: UserWarning: Setting penalty='none' will ignore the C and l1_ratio parameters\n",
      "  \"Setting penalty='none' will ignore the C and l1_ratio \"\n",
      "C:\\Users\\danie\\anaconda3\\lib\\site-packages\\sklearn\\linear_model\\_logistic.py:1505: UserWarning: Setting penalty='none' will ignore the C and l1_ratio parameters\n",
      "  \"Setting penalty='none' will ignore the C and l1_ratio \"\n",
      "C:\\Users\\danie\\anaconda3\\lib\\site-packages\\sklearn\\linear_model\\_logistic.py:1505: UserWarning: Setting penalty='none' will ignore the C and l1_ratio parameters\n",
      "  \"Setting penalty='none' will ignore the C and l1_ratio \"\n",
      "C:\\Users\\danie\\anaconda3\\lib\\site-packages\\sklearn\\linear_model\\_logistic.py:1505: UserWarning: Setting penalty='none' will ignore the C and l1_ratio parameters\n",
      "  \"Setting penalty='none' will ignore the C and l1_ratio \"\n",
      "C:\\Users\\danie\\anaconda3\\lib\\site-packages\\sklearn\\linear_model\\_logistic.py:1505: UserWarning: Setting penalty='none' will ignore the C and l1_ratio parameters\n",
      "  \"Setting penalty='none' will ignore the C and l1_ratio \"\n",
      "C:\\Users\\danie\\anaconda3\\lib\\site-packages\\sklearn\\linear_model\\_logistic.py:1505: UserWarning: Setting penalty='none' will ignore the C and l1_ratio parameters\n",
      "  \"Setting penalty='none' will ignore the C and l1_ratio \"\n",
      "C:\\Users\\danie\\anaconda3\\lib\\site-packages\\sklearn\\linear_model\\_logistic.py:1505: UserWarning: Setting penalty='none' will ignore the C and l1_ratio parameters\n",
      "  \"Setting penalty='none' will ignore the C and l1_ratio \"\n",
      "C:\\Users\\danie\\anaconda3\\lib\\site-packages\\sklearn\\linear_model\\_logistic.py:1505: UserWarning: Setting penalty='none' will ignore the C and l1_ratio parameters\n",
      "  \"Setting penalty='none' will ignore the C and l1_ratio \"\n",
      "C:\\Users\\danie\\anaconda3\\lib\\site-packages\\sklearn\\linear_model\\_logistic.py:1505: UserWarning: Setting penalty='none' will ignore the C and l1_ratio parameters\n",
      "  \"Setting penalty='none' will ignore the C and l1_ratio \"\n",
      "C:\\Users\\danie\\anaconda3\\lib\\site-packages\\sklearn\\linear_model\\_logistic.py:1505: UserWarning: Setting penalty='none' will ignore the C and l1_ratio parameters\n",
      "  \"Setting penalty='none' will ignore the C and l1_ratio \"\n",
      "C:\\Users\\danie\\anaconda3\\lib\\site-packages\\sklearn\\linear_model\\_logistic.py:1505: UserWarning: Setting penalty='none' will ignore the C and l1_ratio parameters\n",
      "  \"Setting penalty='none' will ignore the C and l1_ratio \"\n",
      "C:\\Users\\danie\\anaconda3\\lib\\site-packages\\sklearn\\linear_model\\_logistic.py:1505: UserWarning: Setting penalty='none' will ignore the C and l1_ratio parameters\n",
      "  \"Setting penalty='none' will ignore the C and l1_ratio \"\n",
      "C:\\Users\\danie\\anaconda3\\lib\\site-packages\\sklearn\\linear_model\\_logistic.py:1505: UserWarning: Setting penalty='none' will ignore the C and l1_ratio parameters\n",
      "  \"Setting penalty='none' will ignore the C and l1_ratio \"\n",
      "C:\\Users\\danie\\anaconda3\\lib\\site-packages\\sklearn\\linear_model\\_logistic.py:1505: UserWarning: Setting penalty='none' will ignore the C and l1_ratio parameters\n",
      "  \"Setting penalty='none' will ignore the C and l1_ratio \"\n",
      "C:\\Users\\danie\\anaconda3\\lib\\site-packages\\sklearn\\linear_model\\_logistic.py:1505: UserWarning: Setting penalty='none' will ignore the C and l1_ratio parameters\n",
      "  \"Setting penalty='none' will ignore the C and l1_ratio \"\n",
      "C:\\Users\\danie\\anaconda3\\lib\\site-packages\\sklearn\\linear_model\\_logistic.py:1505: UserWarning: Setting penalty='none' will ignore the C and l1_ratio parameters\n",
      "  \"Setting penalty='none' will ignore the C and l1_ratio \"\n",
      "C:\\Users\\danie\\anaconda3\\lib\\site-packages\\sklearn\\linear_model\\_logistic.py:1505: UserWarning: Setting penalty='none' will ignore the C and l1_ratio parameters\n",
      "  \"Setting penalty='none' will ignore the C and l1_ratio \"\n",
      "C:\\Users\\danie\\anaconda3\\lib\\site-packages\\sklearn\\linear_model\\_logistic.py:1505: UserWarning: Setting penalty='none' will ignore the C and l1_ratio parameters\n",
      "  \"Setting penalty='none' will ignore the C and l1_ratio \"\n",
      "C:\\Users\\danie\\anaconda3\\lib\\site-packages\\sklearn\\linear_model\\_logistic.py:1505: UserWarning: Setting penalty='none' will ignore the C and l1_ratio parameters\n",
      "  \"Setting penalty='none' will ignore the C and l1_ratio \"\n",
      "C:\\Users\\danie\\anaconda3\\lib\\site-packages\\sklearn\\linear_model\\_logistic.py:1505: UserWarning: Setting penalty='none' will ignore the C and l1_ratio parameters\n",
      "  \"Setting penalty='none' will ignore the C and l1_ratio \"\n",
      "C:\\Users\\danie\\anaconda3\\lib\\site-packages\\sklearn\\linear_model\\_logistic.py:1505: UserWarning: Setting penalty='none' will ignore the C and l1_ratio parameters\n",
      "  \"Setting penalty='none' will ignore the C and l1_ratio \"\n",
      "C:\\Users\\danie\\anaconda3\\lib\\site-packages\\sklearn\\linear_model\\_logistic.py:1505: UserWarning: Setting penalty='none' will ignore the C and l1_ratio parameters\n",
      "  \"Setting penalty='none' will ignore the C and l1_ratio \"\n",
      "C:\\Users\\danie\\anaconda3\\lib\\site-packages\\sklearn\\linear_model\\_logistic.py:1505: UserWarning: Setting penalty='none' will ignore the C and l1_ratio parameters\n",
      "  \"Setting penalty='none' will ignore the C and l1_ratio \"\n",
      "C:\\Users\\danie\\anaconda3\\lib\\site-packages\\sklearn\\linear_model\\_logistic.py:1505: UserWarning: Setting penalty='none' will ignore the C and l1_ratio parameters\n",
      "  \"Setting penalty='none' will ignore the C and l1_ratio \"\n",
      "C:\\Users\\danie\\anaconda3\\lib\\site-packages\\sklearn\\linear_model\\_logistic.py:1505: UserWarning: Setting penalty='none' will ignore the C and l1_ratio parameters\n",
      "  \"Setting penalty='none' will ignore the C and l1_ratio \"\n",
      "C:\\Users\\danie\\anaconda3\\lib\\site-packages\\sklearn\\linear_model\\_logistic.py:1505: UserWarning: Setting penalty='none' will ignore the C and l1_ratio parameters\n",
      "  \"Setting penalty='none' will ignore the C and l1_ratio \"\n",
      "C:\\Users\\danie\\anaconda3\\lib\\site-packages\\sklearn\\linear_model\\_logistic.py:1505: UserWarning: Setting penalty='none' will ignore the C and l1_ratio parameters\n",
      "  \"Setting penalty='none' will ignore the C and l1_ratio \"\n",
      "C:\\Users\\danie\\anaconda3\\lib\\site-packages\\sklearn\\linear_model\\_logistic.py:1505: UserWarning: Setting penalty='none' will ignore the C and l1_ratio parameters\n",
      "  \"Setting penalty='none' will ignore the C and l1_ratio \"\n",
      "C:\\Users\\danie\\anaconda3\\lib\\site-packages\\sklearn\\linear_model\\_logistic.py:1505: UserWarning: Setting penalty='none' will ignore the C and l1_ratio parameters\n",
      "  \"Setting penalty='none' will ignore the C and l1_ratio \"\n",
      "C:\\Users\\danie\\anaconda3\\lib\\site-packages\\sklearn\\linear_model\\_logistic.py:1505: UserWarning: Setting penalty='none' will ignore the C and l1_ratio parameters\n",
      "  \"Setting penalty='none' will ignore the C and l1_ratio \"\n",
      "C:\\Users\\danie\\anaconda3\\lib\\site-packages\\sklearn\\linear_model\\_logistic.py:1505: UserWarning: Setting penalty='none' will ignore the C and l1_ratio parameters\n",
      "  \"Setting penalty='none' will ignore the C and l1_ratio \"\n",
      "C:\\Users\\danie\\anaconda3\\lib\\site-packages\\sklearn\\linear_model\\_logistic.py:1505: UserWarning: Setting penalty='none' will ignore the C and l1_ratio parameters\n",
      "  \"Setting penalty='none' will ignore the C and l1_ratio \"\n",
      "C:\\Users\\danie\\anaconda3\\lib\\site-packages\\sklearn\\linear_model\\_logistic.py:1505: UserWarning: Setting penalty='none' will ignore the C and l1_ratio parameters\n",
      "  \"Setting penalty='none' will ignore the C and l1_ratio \"\n",
      "C:\\Users\\danie\\anaconda3\\lib\\site-packages\\sklearn\\linear_model\\_logistic.py:1505: UserWarning: Setting penalty='none' will ignore the C and l1_ratio parameters\n",
      "  \"Setting penalty='none' will ignore the C and l1_ratio \"\n",
      "C:\\Users\\danie\\anaconda3\\lib\\site-packages\\sklearn\\linear_model\\_logistic.py:1505: UserWarning: Setting penalty='none' will ignore the C and l1_ratio parameters\n",
      "  \"Setting penalty='none' will ignore the C and l1_ratio \"\n",
      "C:\\Users\\danie\\anaconda3\\lib\\site-packages\\sklearn\\linear_model\\_logistic.py:1505: UserWarning: Setting penalty='none' will ignore the C and l1_ratio parameters\n",
      "  \"Setting penalty='none' will ignore the C and l1_ratio \"\n",
      "[Parallel(n_jobs=1)]: Done 320 out of 320 | elapsed: 54.1min finished\n"
     ]
    },
    {
     "ename": "AttributeError",
     "evalue": "'GridSearchCV' object has no attribute 'best_score'",
     "output_type": "error",
     "traceback": [
      "\u001b[1;31m---------------------------------------------------------------------------\u001b[0m",
      "\u001b[1;31mAttributeError\u001b[0m                            Traceback (most recent call last)",
      "\u001b[1;32m<ipython-input-43-5163982e2ae0>\u001b[0m in \u001b[0;36m<module>\u001b[1;34m\u001b[0m\n\u001b[0;32m     17\u001b[0m \u001b[0mmodel\u001b[0m\u001b[1;33m,\u001b[0m \u001b[0mpred\u001b[0m \u001b[1;33m=\u001b[0m \u001b[0mpipeline\u001b[0m\u001b[1;33m(\u001b[0m\u001b[0mx_train\u001b[0m\u001b[1;33m,\u001b[0m \u001b[0mx_val\u001b[0m\u001b[1;33m,\u001b[0m \u001b[0my_train\u001b[0m\u001b[1;33m,\u001b[0m \u001b[0my_val\u001b[0m\u001b[1;33m,\u001b[0m \u001b[0mmodel\u001b[0m\u001b[1;33m,\u001b[0m \u001b[0mparam_grid\u001b[0m\u001b[1;33m,\u001b[0m \u001b[0mcv\u001b[0m\u001b[1;33m=\u001b[0m\u001b[1;36m10\u001b[0m\u001b[1;33m)\u001b[0m\u001b[1;33m\u001b[0m\u001b[1;33m\u001b[0m\u001b[0m\n\u001b[0;32m     18\u001b[0m \u001b[1;33m\u001b[0m\u001b[0m\n\u001b[1;32m---> 19\u001b[1;33m \u001b[0mprint\u001b[0m\u001b[1;33m(\u001b[0m\u001b[0mmodel\u001b[0m\u001b[1;33m.\u001b[0m\u001b[0mbest_score\u001b[0m\u001b[1;33m)\u001b[0m\u001b[1;33m\u001b[0m\u001b[1;33m\u001b[0m\u001b[0m\n\u001b[0m\u001b[0;32m     20\u001b[0m \u001b[0mprint\u001b[0m\u001b[1;33m(\u001b[0m\u001b[0mmodel\u001b[0m\u001b[1;33m.\u001b[0m\u001b[0mbest_params\u001b[0m\u001b[1;33m)\u001b[0m\u001b[1;33m\u001b[0m\u001b[1;33m\u001b[0m\u001b[0m\n\u001b[0;32m     21\u001b[0m \u001b[1;33m\u001b[0m\u001b[0m\n",
      "\u001b[1;31mAttributeError\u001b[0m: 'GridSearchCV' object has no attribute 'best_score'"
     ]
    }
   ],
   "source": [
    "from sklearn.model_selection import GridSearchCV\n",
    "from sklearn.linear_model import LogisticRegression\n",
    "\n",
    "def pipeline(X_train, X_test, y_train, y_test, model, param_grid, cv=10):\n",
    "    gs = GridSearchCV(estimator=model, param_grid=param_grid, cv=cv, verbose=1)\n",
    "\n",
    "    fitted = gs.fit(X_train, y_train)\n",
    "    pred = fitted.predict(X_test)\n",
    "\n",
    "    return fitted, pred\n",
    "\n",
    "\n",
    "param_grid = {'penalty':['l2','none'], 'C':[0.5,0.8,1.0,1.2], 'random_state':[42], 'solver':['newton-cg','lbfgs','sag','saga']}\n",
    "\n",
    "model = LogisticRegression(n_jobs=-1)\n",
    "\n",
    "model, pred = pipeline(x_train, x_val, y_train, y_val, model, param_grid, cv=10)\n",
    "\n",
    "print(model.best_score_)\n",
    "print(model.best_params_)\n",
    "\n"
   ]
  },
  {
   "cell_type": "code",
   "execution_count": 45,
   "metadata": {
    "hidden": true
   },
   "outputs": [
    {
     "name": "stdout",
     "output_type": "stream",
     "text": [
      "0.8504166666666666\n",
      "{'C': 0.5, 'penalty': 'l2', 'random_state': 42, 'solver': 'sag'}\n"
     ]
    }
   ],
   "source": [
    "print(model.best_score_)\n",
    "print(model.best_params_)"
   ]
  },
  {
   "cell_type": "markdown",
   "metadata": {
    "heading_collapsed": true,
    "hidden": true
   },
   "source": [
    "### GridSearchCV for L1 L2 with liblinear and saga"
   ]
  },
  {
   "cell_type": "code",
   "execution_count": 14,
   "metadata": {
    "hidden": true,
    "scrolled": true
   },
   "outputs": [
    {
     "name": "stdout",
     "output_type": "stream",
     "text": [
      "Fitting 10 folds for each of 16 candidates, totalling 160 fits\n"
     ]
    },
    {
     "name": "stderr",
     "output_type": "stream",
     "text": [
      "[Parallel(n_jobs=1)]: Using backend SequentialBackend with 1 concurrent workers.\n",
      "C:\\Users\\danie\\anaconda3\\lib\\site-packages\\sklearn\\linear_model\\_logistic.py:1539: UserWarning: 'n_jobs' > 1 does not have any effect when 'solver' is set to 'liblinear'. Got 'n_jobs' = 12.\n",
      "  \" = {}.\".format(effective_n_jobs(self.n_jobs)))\n",
      "C:\\Users\\danie\\anaconda3\\lib\\site-packages\\sklearn\\linear_model\\_logistic.py:1539: UserWarning: 'n_jobs' > 1 does not have any effect when 'solver' is set to 'liblinear'. Got 'n_jobs' = 12.\n",
      "  \" = {}.\".format(effective_n_jobs(self.n_jobs)))\n",
      "C:\\Users\\danie\\anaconda3\\lib\\site-packages\\sklearn\\linear_model\\_logistic.py:1539: UserWarning: 'n_jobs' > 1 does not have any effect when 'solver' is set to 'liblinear'. Got 'n_jobs' = 12.\n",
      "  \" = {}.\".format(effective_n_jobs(self.n_jobs)))\n",
      "C:\\Users\\danie\\anaconda3\\lib\\site-packages\\sklearn\\linear_model\\_logistic.py:1539: UserWarning: 'n_jobs' > 1 does not have any effect when 'solver' is set to 'liblinear'. Got 'n_jobs' = 12.\n",
      "  \" = {}.\".format(effective_n_jobs(self.n_jobs)))\n",
      "C:\\Users\\danie\\anaconda3\\lib\\site-packages\\sklearn\\linear_model\\_logistic.py:1539: UserWarning: 'n_jobs' > 1 does not have any effect when 'solver' is set to 'liblinear'. Got 'n_jobs' = 12.\n",
      "  \" = {}.\".format(effective_n_jobs(self.n_jobs)))\n",
      "C:\\Users\\danie\\anaconda3\\lib\\site-packages\\sklearn\\linear_model\\_logistic.py:1539: UserWarning: 'n_jobs' > 1 does not have any effect when 'solver' is set to 'liblinear'. Got 'n_jobs' = 12.\n",
      "  \" = {}.\".format(effective_n_jobs(self.n_jobs)))\n",
      "C:\\Users\\danie\\anaconda3\\lib\\site-packages\\sklearn\\linear_model\\_logistic.py:1539: UserWarning: 'n_jobs' > 1 does not have any effect when 'solver' is set to 'liblinear'. Got 'n_jobs' = 12.\n",
      "  \" = {}.\".format(effective_n_jobs(self.n_jobs)))\n",
      "C:\\Users\\danie\\anaconda3\\lib\\site-packages\\sklearn\\linear_model\\_logistic.py:1539: UserWarning: 'n_jobs' > 1 does not have any effect when 'solver' is set to 'liblinear'. Got 'n_jobs' = 12.\n",
      "  \" = {}.\".format(effective_n_jobs(self.n_jobs)))\n",
      "C:\\Users\\danie\\anaconda3\\lib\\site-packages\\sklearn\\linear_model\\_logistic.py:1539: UserWarning: 'n_jobs' > 1 does not have any effect when 'solver' is set to 'liblinear'. Got 'n_jobs' = 12.\n",
      "  \" = {}.\".format(effective_n_jobs(self.n_jobs)))\n",
      "C:\\Users\\danie\\anaconda3\\lib\\site-packages\\sklearn\\linear_model\\_logistic.py:1539: UserWarning: 'n_jobs' > 1 does not have any effect when 'solver' is set to 'liblinear'. Got 'n_jobs' = 12.\n",
      "  \" = {}.\".format(effective_n_jobs(self.n_jobs)))\n",
      "C:\\Users\\danie\\anaconda3\\lib\\site-packages\\sklearn\\linear_model\\_logistic.py:1539: UserWarning: 'n_jobs' > 1 does not have any effect when 'solver' is set to 'liblinear'. Got 'n_jobs' = 12.\n",
      "  \" = {}.\".format(effective_n_jobs(self.n_jobs)))\n",
      "C:\\Users\\danie\\anaconda3\\lib\\site-packages\\sklearn\\linear_model\\_logistic.py:1539: UserWarning: 'n_jobs' > 1 does not have any effect when 'solver' is set to 'liblinear'. Got 'n_jobs' = 12.\n",
      "  \" = {}.\".format(effective_n_jobs(self.n_jobs)))\n",
      "C:\\Users\\danie\\anaconda3\\lib\\site-packages\\sklearn\\linear_model\\_logistic.py:1539: UserWarning: 'n_jobs' > 1 does not have any effect when 'solver' is set to 'liblinear'. Got 'n_jobs' = 12.\n",
      "  \" = {}.\".format(effective_n_jobs(self.n_jobs)))\n",
      "C:\\Users\\danie\\anaconda3\\lib\\site-packages\\sklearn\\linear_model\\_logistic.py:1539: UserWarning: 'n_jobs' > 1 does not have any effect when 'solver' is set to 'liblinear'. Got 'n_jobs' = 12.\n",
      "  \" = {}.\".format(effective_n_jobs(self.n_jobs)))\n",
      "C:\\Users\\danie\\anaconda3\\lib\\site-packages\\sklearn\\linear_model\\_logistic.py:1539: UserWarning: 'n_jobs' > 1 does not have any effect when 'solver' is set to 'liblinear'. Got 'n_jobs' = 12.\n",
      "  \" = {}.\".format(effective_n_jobs(self.n_jobs)))\n",
      "C:\\Users\\danie\\anaconda3\\lib\\site-packages\\sklearn\\linear_model\\_logistic.py:1539: UserWarning: 'n_jobs' > 1 does not have any effect when 'solver' is set to 'liblinear'. Got 'n_jobs' = 12.\n",
      "  \" = {}.\".format(effective_n_jobs(self.n_jobs)))\n",
      "C:\\Users\\danie\\anaconda3\\lib\\site-packages\\sklearn\\linear_model\\_logistic.py:1539: UserWarning: 'n_jobs' > 1 does not have any effect when 'solver' is set to 'liblinear'. Got 'n_jobs' = 12.\n",
      "  \" = {}.\".format(effective_n_jobs(self.n_jobs)))\n",
      "C:\\Users\\danie\\anaconda3\\lib\\site-packages\\sklearn\\linear_model\\_logistic.py:1539: UserWarning: 'n_jobs' > 1 does not have any effect when 'solver' is set to 'liblinear'. Got 'n_jobs' = 12.\n",
      "  \" = {}.\".format(effective_n_jobs(self.n_jobs)))\n",
      "C:\\Users\\danie\\anaconda3\\lib\\site-packages\\sklearn\\linear_model\\_logistic.py:1539: UserWarning: 'n_jobs' > 1 does not have any effect when 'solver' is set to 'liblinear'. Got 'n_jobs' = 12.\n",
      "  \" = {}.\".format(effective_n_jobs(self.n_jobs)))\n",
      "C:\\Users\\danie\\anaconda3\\lib\\site-packages\\sklearn\\linear_model\\_logistic.py:1539: UserWarning: 'n_jobs' > 1 does not have any effect when 'solver' is set to 'liblinear'. Got 'n_jobs' = 12.\n",
      "  \" = {}.\".format(effective_n_jobs(self.n_jobs)))\n",
      "C:\\Users\\danie\\anaconda3\\lib\\site-packages\\sklearn\\linear_model\\_logistic.py:1539: UserWarning: 'n_jobs' > 1 does not have any effect when 'solver' is set to 'liblinear'. Got 'n_jobs' = 12.\n",
      "  \" = {}.\".format(effective_n_jobs(self.n_jobs)))\n",
      "C:\\Users\\danie\\anaconda3\\lib\\site-packages\\sklearn\\linear_model\\_logistic.py:1539: UserWarning: 'n_jobs' > 1 does not have any effect when 'solver' is set to 'liblinear'. Got 'n_jobs' = 12.\n",
      "  \" = {}.\".format(effective_n_jobs(self.n_jobs)))\n",
      "C:\\Users\\danie\\anaconda3\\lib\\site-packages\\sklearn\\linear_model\\_logistic.py:1539: UserWarning: 'n_jobs' > 1 does not have any effect when 'solver' is set to 'liblinear'. Got 'n_jobs' = 12.\n",
      "  \" = {}.\".format(effective_n_jobs(self.n_jobs)))\n",
      "C:\\Users\\danie\\anaconda3\\lib\\site-packages\\sklearn\\linear_model\\_logistic.py:1539: UserWarning: 'n_jobs' > 1 does not have any effect when 'solver' is set to 'liblinear'. Got 'n_jobs' = 12.\n",
      "  \" = {}.\".format(effective_n_jobs(self.n_jobs)))\n",
      "C:\\Users\\danie\\anaconda3\\lib\\site-packages\\sklearn\\linear_model\\_logistic.py:1539: UserWarning: 'n_jobs' > 1 does not have any effect when 'solver' is set to 'liblinear'. Got 'n_jobs' = 12.\n",
      "  \" = {}.\".format(effective_n_jobs(self.n_jobs)))\n",
      "C:\\Users\\danie\\anaconda3\\lib\\site-packages\\sklearn\\linear_model\\_logistic.py:1539: UserWarning: 'n_jobs' > 1 does not have any effect when 'solver' is set to 'liblinear'. Got 'n_jobs' = 12.\n",
      "  \" = {}.\".format(effective_n_jobs(self.n_jobs)))\n",
      "C:\\Users\\danie\\anaconda3\\lib\\site-packages\\sklearn\\linear_model\\_logistic.py:1539: UserWarning: 'n_jobs' > 1 does not have any effect when 'solver' is set to 'liblinear'. Got 'n_jobs' = 12.\n",
      "  \" = {}.\".format(effective_n_jobs(self.n_jobs)))\n",
      "C:\\Users\\danie\\anaconda3\\lib\\site-packages\\sklearn\\linear_model\\_logistic.py:1539: UserWarning: 'n_jobs' > 1 does not have any effect when 'solver' is set to 'liblinear'. Got 'n_jobs' = 12.\n",
      "  \" = {}.\".format(effective_n_jobs(self.n_jobs)))\n",
      "C:\\Users\\danie\\anaconda3\\lib\\site-packages\\sklearn\\linear_model\\_logistic.py:1539: UserWarning: 'n_jobs' > 1 does not have any effect when 'solver' is set to 'liblinear'. Got 'n_jobs' = 12.\n",
      "  \" = {}.\".format(effective_n_jobs(self.n_jobs)))\n",
      "C:\\Users\\danie\\anaconda3\\lib\\site-packages\\sklearn\\linear_model\\_logistic.py:1539: UserWarning: 'n_jobs' > 1 does not have any effect when 'solver' is set to 'liblinear'. Got 'n_jobs' = 12.\n",
      "  \" = {}.\".format(effective_n_jobs(self.n_jobs)))\n",
      "C:\\Users\\danie\\anaconda3\\lib\\site-packages\\sklearn\\linear_model\\_logistic.py:1539: UserWarning: 'n_jobs' > 1 does not have any effect when 'solver' is set to 'liblinear'. Got 'n_jobs' = 12.\n",
      "  \" = {}.\".format(effective_n_jobs(self.n_jobs)))\n",
      "C:\\Users\\danie\\anaconda3\\lib\\site-packages\\sklearn\\linear_model\\_logistic.py:1539: UserWarning: 'n_jobs' > 1 does not have any effect when 'solver' is set to 'liblinear'. Got 'n_jobs' = 12.\n",
      "  \" = {}.\".format(effective_n_jobs(self.n_jobs)))\n",
      "C:\\Users\\danie\\anaconda3\\lib\\site-packages\\sklearn\\linear_model\\_logistic.py:1539: UserWarning: 'n_jobs' > 1 does not have any effect when 'solver' is set to 'liblinear'. Got 'n_jobs' = 12.\n",
      "  \" = {}.\".format(effective_n_jobs(self.n_jobs)))\n",
      "C:\\Users\\danie\\anaconda3\\lib\\site-packages\\sklearn\\linear_model\\_logistic.py:1539: UserWarning: 'n_jobs' > 1 does not have any effect when 'solver' is set to 'liblinear'. Got 'n_jobs' = 12.\n",
      "  \" = {}.\".format(effective_n_jobs(self.n_jobs)))\n",
      "C:\\Users\\danie\\anaconda3\\lib\\site-packages\\sklearn\\linear_model\\_logistic.py:1539: UserWarning: 'n_jobs' > 1 does not have any effect when 'solver' is set to 'liblinear'. Got 'n_jobs' = 12.\n",
      "  \" = {}.\".format(effective_n_jobs(self.n_jobs)))\n",
      "C:\\Users\\danie\\anaconda3\\lib\\site-packages\\sklearn\\linear_model\\_logistic.py:1539: UserWarning: 'n_jobs' > 1 does not have any effect when 'solver' is set to 'liblinear'. Got 'n_jobs' = 12.\n",
      "  \" = {}.\".format(effective_n_jobs(self.n_jobs)))\n",
      "C:\\Users\\danie\\anaconda3\\lib\\site-packages\\sklearn\\linear_model\\_logistic.py:1539: UserWarning: 'n_jobs' > 1 does not have any effect when 'solver' is set to 'liblinear'. Got 'n_jobs' = 12.\n",
      "  \" = {}.\".format(effective_n_jobs(self.n_jobs)))\n",
      "C:\\Users\\danie\\anaconda3\\lib\\site-packages\\sklearn\\linear_model\\_logistic.py:1539: UserWarning: 'n_jobs' > 1 does not have any effect when 'solver' is set to 'liblinear'. Got 'n_jobs' = 12.\n",
      "  \" = {}.\".format(effective_n_jobs(self.n_jobs)))\n",
      "C:\\Users\\danie\\anaconda3\\lib\\site-packages\\sklearn\\linear_model\\_logistic.py:1539: UserWarning: 'n_jobs' > 1 does not have any effect when 'solver' is set to 'liblinear'. Got 'n_jobs' = 12.\n",
      "  \" = {}.\".format(effective_n_jobs(self.n_jobs)))\n",
      "C:\\Users\\danie\\anaconda3\\lib\\site-packages\\sklearn\\linear_model\\_logistic.py:1539: UserWarning: 'n_jobs' > 1 does not have any effect when 'solver' is set to 'liblinear'. Got 'n_jobs' = 12.\n",
      "  \" = {}.\".format(effective_n_jobs(self.n_jobs)))\n",
      "C:\\Users\\danie\\anaconda3\\lib\\site-packages\\sklearn\\linear_model\\_logistic.py:1539: UserWarning: 'n_jobs' > 1 does not have any effect when 'solver' is set to 'liblinear'. Got 'n_jobs' = 12.\n",
      "  \" = {}.\".format(effective_n_jobs(self.n_jobs)))\n",
      "C:\\Users\\danie\\anaconda3\\lib\\site-packages\\sklearn\\linear_model\\_logistic.py:1539: UserWarning: 'n_jobs' > 1 does not have any effect when 'solver' is set to 'liblinear'. Got 'n_jobs' = 12.\n",
      "  \" = {}.\".format(effective_n_jobs(self.n_jobs)))\n",
      "C:\\Users\\danie\\anaconda3\\lib\\site-packages\\sklearn\\linear_model\\_logistic.py:1539: UserWarning: 'n_jobs' > 1 does not have any effect when 'solver' is set to 'liblinear'. Got 'n_jobs' = 12.\n",
      "  \" = {}.\".format(effective_n_jobs(self.n_jobs)))\n",
      "C:\\Users\\danie\\anaconda3\\lib\\site-packages\\sklearn\\linear_model\\_logistic.py:1539: UserWarning: 'n_jobs' > 1 does not have any effect when 'solver' is set to 'liblinear'. Got 'n_jobs' = 12.\n",
      "  \" = {}.\".format(effective_n_jobs(self.n_jobs)))\n",
      "C:\\Users\\danie\\anaconda3\\lib\\site-packages\\sklearn\\linear_model\\_logistic.py:1539: UserWarning: 'n_jobs' > 1 does not have any effect when 'solver' is set to 'liblinear'. Got 'n_jobs' = 12.\n",
      "  \" = {}.\".format(effective_n_jobs(self.n_jobs)))\n",
      "C:\\Users\\danie\\anaconda3\\lib\\site-packages\\sklearn\\linear_model\\_logistic.py:1539: UserWarning: 'n_jobs' > 1 does not have any effect when 'solver' is set to 'liblinear'. Got 'n_jobs' = 12.\n",
      "  \" = {}.\".format(effective_n_jobs(self.n_jobs)))\n",
      "C:\\Users\\danie\\anaconda3\\lib\\site-packages\\sklearn\\linear_model\\_logistic.py:1539: UserWarning: 'n_jobs' > 1 does not have any effect when 'solver' is set to 'liblinear'. Got 'n_jobs' = 12.\n",
      "  \" = {}.\".format(effective_n_jobs(self.n_jobs)))\n",
      "C:\\Users\\danie\\anaconda3\\lib\\site-packages\\sklearn\\linear_model\\_logistic.py:1539: UserWarning: 'n_jobs' > 1 does not have any effect when 'solver' is set to 'liblinear'. Got 'n_jobs' = 12.\n",
      "  \" = {}.\".format(effective_n_jobs(self.n_jobs)))\n",
      "C:\\Users\\danie\\anaconda3\\lib\\site-packages\\sklearn\\linear_model\\_logistic.py:1539: UserWarning: 'n_jobs' > 1 does not have any effect when 'solver' is set to 'liblinear'. Got 'n_jobs' = 12.\n",
      "  \" = {}.\".format(effective_n_jobs(self.n_jobs)))\n",
      "C:\\Users\\danie\\anaconda3\\lib\\site-packages\\sklearn\\linear_model\\_logistic.py:1539: UserWarning: 'n_jobs' > 1 does not have any effect when 'solver' is set to 'liblinear'. Got 'n_jobs' = 12.\n",
      "  \" = {}.\".format(effective_n_jobs(self.n_jobs)))\n",
      "C:\\Users\\danie\\anaconda3\\lib\\site-packages\\sklearn\\linear_model\\_logistic.py:1539: UserWarning: 'n_jobs' > 1 does not have any effect when 'solver' is set to 'liblinear'. Got 'n_jobs' = 12.\n",
      "  \" = {}.\".format(effective_n_jobs(self.n_jobs)))\n",
      "C:\\Users\\danie\\anaconda3\\lib\\site-packages\\sklearn\\linear_model\\_logistic.py:1539: UserWarning: 'n_jobs' > 1 does not have any effect when 'solver' is set to 'liblinear'. Got 'n_jobs' = 12.\n",
      "  \" = {}.\".format(effective_n_jobs(self.n_jobs)))\n",
      "C:\\Users\\danie\\anaconda3\\lib\\site-packages\\sklearn\\linear_model\\_logistic.py:1539: UserWarning: 'n_jobs' > 1 does not have any effect when 'solver' is set to 'liblinear'. Got 'n_jobs' = 12.\n",
      "  \" = {}.\".format(effective_n_jobs(self.n_jobs)))\n",
      "C:\\Users\\danie\\anaconda3\\lib\\site-packages\\sklearn\\linear_model\\_logistic.py:1539: UserWarning: 'n_jobs' > 1 does not have any effect when 'solver' is set to 'liblinear'. Got 'n_jobs' = 12.\n",
      "  \" = {}.\".format(effective_n_jobs(self.n_jobs)))\n",
      "C:\\Users\\danie\\anaconda3\\lib\\site-packages\\sklearn\\linear_model\\_logistic.py:1539: UserWarning: 'n_jobs' > 1 does not have any effect when 'solver' is set to 'liblinear'. Got 'n_jobs' = 12.\n",
      "  \" = {}.\".format(effective_n_jobs(self.n_jobs)))\n",
      "C:\\Users\\danie\\anaconda3\\lib\\site-packages\\sklearn\\linear_model\\_logistic.py:1539: UserWarning: 'n_jobs' > 1 does not have any effect when 'solver' is set to 'liblinear'. Got 'n_jobs' = 12.\n",
      "  \" = {}.\".format(effective_n_jobs(self.n_jobs)))\n",
      "C:\\Users\\danie\\anaconda3\\lib\\site-packages\\sklearn\\linear_model\\_logistic.py:1539: UserWarning: 'n_jobs' > 1 does not have any effect when 'solver' is set to 'liblinear'. Got 'n_jobs' = 12.\n",
      "  \" = {}.\".format(effective_n_jobs(self.n_jobs)))\n",
      "C:\\Users\\danie\\anaconda3\\lib\\site-packages\\sklearn\\linear_model\\_logistic.py:1539: UserWarning: 'n_jobs' > 1 does not have any effect when 'solver' is set to 'liblinear'. Got 'n_jobs' = 12.\n",
      "  \" = {}.\".format(effective_n_jobs(self.n_jobs)))\n",
      "C:\\Users\\danie\\anaconda3\\lib\\site-packages\\sklearn\\linear_model\\_logistic.py:1539: UserWarning: 'n_jobs' > 1 does not have any effect when 'solver' is set to 'liblinear'. Got 'n_jobs' = 12.\n",
      "  \" = {}.\".format(effective_n_jobs(self.n_jobs)))\n",
      "C:\\Users\\danie\\anaconda3\\lib\\site-packages\\sklearn\\linear_model\\_logistic.py:1539: UserWarning: 'n_jobs' > 1 does not have any effect when 'solver' is set to 'liblinear'. Got 'n_jobs' = 12.\n",
      "  \" = {}.\".format(effective_n_jobs(self.n_jobs)))\n",
      "C:\\Users\\danie\\anaconda3\\lib\\site-packages\\sklearn\\linear_model\\_logistic.py:1539: UserWarning: 'n_jobs' > 1 does not have any effect when 'solver' is set to 'liblinear'. Got 'n_jobs' = 12.\n",
      "  \" = {}.\".format(effective_n_jobs(self.n_jobs)))\n",
      "C:\\Users\\danie\\anaconda3\\lib\\site-packages\\sklearn\\linear_model\\_logistic.py:1539: UserWarning: 'n_jobs' > 1 does not have any effect when 'solver' is set to 'liblinear'. Got 'n_jobs' = 12.\n",
      "  \" = {}.\".format(effective_n_jobs(self.n_jobs)))\n",
      "C:\\Users\\danie\\anaconda3\\lib\\site-packages\\sklearn\\linear_model\\_logistic.py:1539: UserWarning: 'n_jobs' > 1 does not have any effect when 'solver' is set to 'liblinear'. Got 'n_jobs' = 12.\n",
      "  \" = {}.\".format(effective_n_jobs(self.n_jobs)))\n",
      "C:\\Users\\danie\\anaconda3\\lib\\site-packages\\sklearn\\linear_model\\_logistic.py:1539: UserWarning: 'n_jobs' > 1 does not have any effect when 'solver' is set to 'liblinear'. Got 'n_jobs' = 12.\n",
      "  \" = {}.\".format(effective_n_jobs(self.n_jobs)))\n",
      "C:\\Users\\danie\\anaconda3\\lib\\site-packages\\sklearn\\linear_model\\_logistic.py:1539: UserWarning: 'n_jobs' > 1 does not have any effect when 'solver' is set to 'liblinear'. Got 'n_jobs' = 12.\n",
      "  \" = {}.\".format(effective_n_jobs(self.n_jobs)))\n",
      "C:\\Users\\danie\\anaconda3\\lib\\site-packages\\sklearn\\linear_model\\_logistic.py:1539: UserWarning: 'n_jobs' > 1 does not have any effect when 'solver' is set to 'liblinear'. Got 'n_jobs' = 12.\n",
      "  \" = {}.\".format(effective_n_jobs(self.n_jobs)))\n",
      "C:\\Users\\danie\\anaconda3\\lib\\site-packages\\sklearn\\linear_model\\_logistic.py:1539: UserWarning: 'n_jobs' > 1 does not have any effect when 'solver' is set to 'liblinear'. Got 'n_jobs' = 12.\n",
      "  \" = {}.\".format(effective_n_jobs(self.n_jobs)))\n",
      "C:\\Users\\danie\\anaconda3\\lib\\site-packages\\sklearn\\linear_model\\_logistic.py:1539: UserWarning: 'n_jobs' > 1 does not have any effect when 'solver' is set to 'liblinear'. Got 'n_jobs' = 12.\n",
      "  \" = {}.\".format(effective_n_jobs(self.n_jobs)))\n",
      "C:\\Users\\danie\\anaconda3\\lib\\site-packages\\sklearn\\linear_model\\_logistic.py:1539: UserWarning: 'n_jobs' > 1 does not have any effect when 'solver' is set to 'liblinear'. Got 'n_jobs' = 12.\n",
      "  \" = {}.\".format(effective_n_jobs(self.n_jobs)))\n",
      "C:\\Users\\danie\\anaconda3\\lib\\site-packages\\sklearn\\linear_model\\_logistic.py:1539: UserWarning: 'n_jobs' > 1 does not have any effect when 'solver' is set to 'liblinear'. Got 'n_jobs' = 12.\n",
      "  \" = {}.\".format(effective_n_jobs(self.n_jobs)))\n",
      "C:\\Users\\danie\\anaconda3\\lib\\site-packages\\sklearn\\linear_model\\_logistic.py:1539: UserWarning: 'n_jobs' > 1 does not have any effect when 'solver' is set to 'liblinear'. Got 'n_jobs' = 12.\n",
      "  \" = {}.\".format(effective_n_jobs(self.n_jobs)))\n",
      "C:\\Users\\danie\\anaconda3\\lib\\site-packages\\sklearn\\linear_model\\_logistic.py:1539: UserWarning: 'n_jobs' > 1 does not have any effect when 'solver' is set to 'liblinear'. Got 'n_jobs' = 12.\n",
      "  \" = {}.\".format(effective_n_jobs(self.n_jobs)))\n",
      "C:\\Users\\danie\\anaconda3\\lib\\site-packages\\sklearn\\linear_model\\_logistic.py:1539: UserWarning: 'n_jobs' > 1 does not have any effect when 'solver' is set to 'liblinear'. Got 'n_jobs' = 12.\n",
      "  \" = {}.\".format(effective_n_jobs(self.n_jobs)))\n",
      "C:\\Users\\danie\\anaconda3\\lib\\site-packages\\sklearn\\linear_model\\_logistic.py:1539: UserWarning: 'n_jobs' > 1 does not have any effect when 'solver' is set to 'liblinear'. Got 'n_jobs' = 12.\n",
      "  \" = {}.\".format(effective_n_jobs(self.n_jobs)))\n",
      "C:\\Users\\danie\\anaconda3\\lib\\site-packages\\sklearn\\linear_model\\_logistic.py:1539: UserWarning: 'n_jobs' > 1 does not have any effect when 'solver' is set to 'liblinear'. Got 'n_jobs' = 12.\n",
      "  \" = {}.\".format(effective_n_jobs(self.n_jobs)))\n",
      "C:\\Users\\danie\\anaconda3\\lib\\site-packages\\sklearn\\linear_model\\_logistic.py:1539: UserWarning: 'n_jobs' > 1 does not have any effect when 'solver' is set to 'liblinear'. Got 'n_jobs' = 12.\n",
      "  \" = {}.\".format(effective_n_jobs(self.n_jobs)))\n",
      "C:\\Users\\danie\\anaconda3\\lib\\site-packages\\sklearn\\linear_model\\_logistic.py:1539: UserWarning: 'n_jobs' > 1 does not have any effect when 'solver' is set to 'liblinear'. Got 'n_jobs' = 12.\n",
      "  \" = {}.\".format(effective_n_jobs(self.n_jobs)))\n",
      "C:\\Users\\danie\\anaconda3\\lib\\site-packages\\sklearn\\linear_model\\_logistic.py:1539: UserWarning: 'n_jobs' > 1 does not have any effect when 'solver' is set to 'liblinear'. Got 'n_jobs' = 12.\n",
      "  \" = {}.\".format(effective_n_jobs(self.n_jobs)))\n",
      "C:\\Users\\danie\\anaconda3\\lib\\site-packages\\sklearn\\linear_model\\_logistic.py:1539: UserWarning: 'n_jobs' > 1 does not have any effect when 'solver' is set to 'liblinear'. Got 'n_jobs' = 12.\n",
      "  \" = {}.\".format(effective_n_jobs(self.n_jobs)))\n",
      "C:\\Users\\danie\\anaconda3\\lib\\site-packages\\sklearn\\linear_model\\_logistic.py:1539: UserWarning: 'n_jobs' > 1 does not have any effect when 'solver' is set to 'liblinear'. Got 'n_jobs' = 12.\n",
      "  \" = {}.\".format(effective_n_jobs(self.n_jobs)))\n",
      "[Parallel(n_jobs=1)]: Done 160 out of 160 | elapsed: 23.0min finished\n"
     ]
    },
    {
     "name": "stdout",
     "output_type": "stream",
     "text": [
      "0.849725\n",
      "{'C': 0.8, 'penalty': 'l1', 'random_state': 42, 'solver': 'saga'}\n"
     ]
    }
   ],
   "source": [
    "from sklearn.model_selection import GridSearchCV\n",
    "from sklearn.linear_model import LogisticRegression\n",
    "\n",
    "def pipeline(X_train, X_test, y_train, y_test, model, param_grid, cv=10):\n",
    "    gs = GridSearchCV(estimator=model, param_grid=param_grid, cv=cv, verbose=1)\n",
    "\n",
    "    fitted = gs.fit(X_train, y_train)\n",
    "    pred = fitted.predict(X_test)\n",
    "\n",
    "    return fitted, pred\n",
    "\n",
    "param_grid = {'penalty':['l1','l2'], 'C':[0.5,0.8,1.0,1.2], 'random_state':[42], 'solver':['liblinear','saga']}\n",
    "\n",
    "model = LogisticRegression(n_jobs=-1)\n",
    "\n",
    "model, pred = pipeline(x_train, x_val, y_train, y_val, model, param_grid, cv=10)\n",
    "\n",
    "print(model.best_score_)\n",
    "print(model.best_params_)"
   ]
  },
  {
   "cell_type": "markdown",
   "metadata": {
    "heading_collapsed": true,
    "hidden": true
   },
   "source": [
    "### Saga with Elasticnet"
   ]
  },
  {
   "cell_type": "code",
   "execution_count": 16,
   "metadata": {
    "hidden": true
   },
   "outputs": [
    {
     "name": "stdout",
     "output_type": "stream",
     "text": [
      "Fitting 10 folds for each of 16 candidates, totalling 160 fits\n"
     ]
    },
    {
     "name": "stderr",
     "output_type": "stream",
     "text": [
      "[Parallel(n_jobs=1)]: Using backend SequentialBackend with 1 concurrent workers.\n",
      "[Parallel(n_jobs=1)]: Done 160 out of 160 | elapsed: 11.6min finished\n"
     ]
    },
    {
     "ename": "AttributeError",
     "evalue": "'GridSearchCV' object has no attribute 'best_score'",
     "output_type": "error",
     "traceback": [
      "\u001b[1;31m---------------------------------------------------------------------------\u001b[0m",
      "\u001b[1;31mAttributeError\u001b[0m                            Traceback (most recent call last)",
      "\u001b[1;32m<ipython-input-16-74886991f6a1>\u001b[0m in \u001b[0;36m<module>\u001b[1;34m\u001b[0m\n\u001b[0;32m      5\u001b[0m \u001b[0mmodel\u001b[0m\u001b[1;33m,\u001b[0m \u001b[0mpred\u001b[0m \u001b[1;33m=\u001b[0m \u001b[0mpipeline\u001b[0m\u001b[1;33m(\u001b[0m\u001b[0mx_train\u001b[0m\u001b[1;33m,\u001b[0m \u001b[0mx_val\u001b[0m\u001b[1;33m,\u001b[0m \u001b[0my_train\u001b[0m\u001b[1;33m,\u001b[0m \u001b[0my_val\u001b[0m\u001b[1;33m,\u001b[0m \u001b[0mmodel\u001b[0m\u001b[1;33m,\u001b[0m \u001b[0mparam_grid\u001b[0m\u001b[1;33m,\u001b[0m \u001b[0mcv\u001b[0m\u001b[1;33m=\u001b[0m\u001b[1;36m10\u001b[0m\u001b[1;33m)\u001b[0m\u001b[1;33m\u001b[0m\u001b[1;33m\u001b[0m\u001b[0m\n\u001b[0;32m      6\u001b[0m \u001b[1;33m\u001b[0m\u001b[0m\n\u001b[1;32m----> 7\u001b[1;33m \u001b[0mprint\u001b[0m\u001b[1;33m(\u001b[0m\u001b[0mmodel\u001b[0m\u001b[1;33m.\u001b[0m\u001b[0mbest_score\u001b[0m\u001b[1;33m)\u001b[0m\u001b[1;33m\u001b[0m\u001b[1;33m\u001b[0m\u001b[0m\n\u001b[0m\u001b[0;32m      8\u001b[0m \u001b[0mprint\u001b[0m\u001b[1;33m(\u001b[0m\u001b[0mmodel\u001b[0m\u001b[1;33m.\u001b[0m\u001b[0mbest_params\u001b[0m\u001b[1;33m)\u001b[0m\u001b[1;33m\u001b[0m\u001b[1;33m\u001b[0m\u001b[0m\n",
      "\u001b[1;31mAttributeError\u001b[0m: 'GridSearchCV' object has no attribute 'best_score'"
     ]
    }
   ],
   "source": [
    "param_grid = {'penalty':['elasticnet'], 'C':[0.5,0.8,1.0,1.2], 'random_state':[42], 'solver':['saga'], 'l1_ratio':[0.2,0.4,0.6,0.8]}\n",
    "\n",
    "model = LogisticRegression(n_jobs=-1)\n",
    "\n",
    "model, pred = pipeline(x_train, x_val, y_train, y_val, model, param_grid, cv=10)\n",
    "\n",
    "print(model.best_score_)\n",
    "print(model.best_params_)"
   ]
  },
  {
   "cell_type": "code",
   "execution_count": 17,
   "metadata": {
    "hidden": true
   },
   "outputs": [
    {
     "name": "stdout",
     "output_type": "stream",
     "text": [
      "0.8497333333333333\n",
      "{'C': 0.5, 'l1_ratio': 0.4, 'penalty': 'elasticnet', 'random_state': 42, 'solver': 'saga'}\n"
     ]
    }
   ],
   "source": [
    "print(model.best_score_)\n",
    "print(model.best_params_)"
   ]
  },
  {
   "cell_type": "markdown",
   "metadata": {
    "heading_collapsed": true,
    "hidden": true
   },
   "source": [
    "### Evaluate on test set with simple logreg and best params log reg"
   ]
  },
  {
   "cell_type": "code",
   "execution_count": 58,
   "metadata": {
    "hidden": true
   },
   "outputs": [],
   "source": [
    "simple_logreg = LogisticRegression(random_state=42, max_iter=200)\n",
    "best_logreg = LogisticRegression(C=0.5, random_state=42, solver='sag')\n",
    "\n",
    "simple_logreg.fit(x_train, y_train)\n",
    "best_logreg.fit(x_train, y_train)\n",
    "\n",
    "predicted_simple = simple_logreg.predict(x_test)\n",
    "predicted_best = best_logreg.predict(x_test)"
   ]
  },
  {
   "cell_type": "code",
   "execution_count": 59,
   "metadata": {
    "hidden": true
   },
   "outputs": [
    {
     "data": {
      "text/plain": [
       "0.851175"
      ]
     },
     "execution_count": 59,
     "metadata": {},
     "output_type": "execute_result"
    }
   ],
   "source": [
    "simple_logreg.score(x_test, y_test)"
   ]
  },
  {
   "cell_type": "code",
   "execution_count": 60,
   "metadata": {
    "hidden": true
   },
   "outputs": [
    {
     "name": "stdout",
     "output_type": "stream",
     "text": [
      "              precision    recall  f1-score   support\n",
      "\n",
      "           0       0.85      0.85      0.85     19966\n",
      "           1       0.85      0.85      0.85     20034\n",
      "\n",
      "    accuracy                           0.85     40000\n",
      "   macro avg       0.85      0.85      0.85     40000\n",
      "weighted avg       0.85      0.85      0.85     40000\n",
      "\n"
     ]
    }
   ],
   "source": [
    "from sklearn.metrics import classification_report\n",
    "\n",
    "print(classification_report(y_test, predicted_simple))"
   ]
  },
  {
   "cell_type": "code",
   "execution_count": 61,
   "metadata": {
    "hidden": true
   },
   "outputs": [
    {
     "data": {
      "text/plain": [
       "0.85115"
      ]
     },
     "execution_count": 61,
     "metadata": {},
     "output_type": "execute_result"
    }
   ],
   "source": [
    "best_logreg.score(x_test, y_test)"
   ]
  },
  {
   "cell_type": "code",
   "execution_count": 62,
   "metadata": {
    "hidden": true
   },
   "outputs": [
    {
     "name": "stdout",
     "output_type": "stream",
     "text": [
      "              precision    recall  f1-score   support\n",
      "\n",
      "           0       0.85      0.85      0.85     19966\n",
      "           1       0.85      0.85      0.85     20034\n",
      "\n",
      "    accuracy                           0.85     40000\n",
      "   macro avg       0.85      0.85      0.85     40000\n",
      "weighted avg       0.85      0.85      0.85     40000\n",
      "\n"
     ]
    }
   ],
   "source": [
    "print(classification_report(y_test, predicted_best))"
   ]
  },
  {
   "cell_type": "code",
   "execution_count": 63,
   "metadata": {
    "hidden": true
   },
   "outputs": [
    {
     "name": "stdout",
     "output_type": "stream",
     "text": [
      "0.851825\n",
      "0.8517\n"
     ]
    }
   ],
   "source": [
    "print(simple_logreg.score(x_val, y_val))\n",
    "print(best_logreg.score(x_val, y_val))"
   ]
  },
  {
   "cell_type": "markdown",
   "metadata": {
    "heading_collapsed": true,
    "hidden": true
   },
   "source": [
    "### Modifications with ElasticNet L1 ratio and other parameter tuning"
   ]
  },
  {
   "cell_type": "code",
   "execution_count": 51,
   "metadata": {
    "hidden": true,
    "tags": []
   },
   "outputs": [
    {
     "name": "stdout",
     "output_type": "stream",
     "text": [
      "0.8526\n"
     ]
    }
   ],
   "source": [
    "from sklearn.linear_model import LogisticRegression\n",
    "import numpy as np\n",
    "\n",
    "elastic_logreg = LogisticRegression(penalty='elasticnet', C=(1+np.sqrt(5))/2, random_state=42, solver='saga', l1_ratio=0.6)\n",
    "\n",
    "elastic_logreg.fit(x_train, y_train)\n",
    "print(elastic_logreg.score(x_val, y_val))"
   ]
  },
  {
   "cell_type": "code",
   "execution_count": 46,
   "metadata": {
    "hidden": true,
    "tags": []
   },
   "outputs": [
    {
     "name": "stdout",
     "output_type": "stream",
     "text": [
      "0.850825\n",
      "              precision    recall  f1-score   support\n",
      "\n",
      "           0       0.85      0.85      0.85     20318\n",
      "           1       0.85      0.85      0.85     19682\n",
      "\n",
      "    accuracy                           0.85     40000\n",
      "   macro avg       0.85      0.85      0.85     40000\n",
      "weighted avg       0.85      0.85      0.85     40000\n",
      "\n"
     ]
    }
   ],
   "source": [
    "from sklearn.metrics import classification_report\n",
    "\n",
    "y_test = df['label']\n",
    "predicted = elastic_logreg.predict(x_test)\n",
    "\n",
    "print(elastic_logreg.score(x_test, y_test))\n",
    "print(classification_report(y_test, predicted))\n",
    "\n",
    "\n"
   ]
  },
  {
   "cell_type": "code",
   "execution_count": 49,
   "metadata": {
    "hidden": true,
    "tags": []
   },
   "outputs": [
    {
     "name": "stdout",
     "output_type": "stream",
     "text": [
      "0.852525\n"
     ]
    }
   ],
   "source": [
    "elastic_logreg_1 = LogisticRegression(penalty='elasticnet', C=1/((1+np.sqrt(5))/2), random_state=42, solver='saga', l1_ratio=0.4)\n",
    "\n",
    "elastic_logreg_1.fit(x_train, y_train)\n",
    "print(elastic_logreg_1.score(x_val, y_val))"
   ]
  },
  {
   "cell_type": "code",
   "execution_count": 50,
   "metadata": {
    "hidden": true,
    "tags": []
   },
   "outputs": [
    {
     "name": "stdout",
     "output_type": "stream",
     "text": [
      "0.850775\n",
      "              precision    recall  f1-score   support\n",
      "\n",
      "           0       0.85      0.85      0.85     20318\n",
      "           1       0.85      0.85      0.85     19682\n",
      "\n",
      "    accuracy                           0.85     40000\n",
      "   macro avg       0.85      0.85      0.85     40000\n",
      "weighted avg       0.85      0.85      0.85     40000\n",
      "\n"
     ]
    }
   ],
   "source": [
    "predicted = elastic_logreg_1.predict(x_test)\n",
    "\n",
    "print(elastic_logreg_1.score(x_test, y_test))\n",
    "print(classification_report(y_test, predicted))"
   ]
  },
  {
   "cell_type": "markdown",
   "metadata": {
    "heading_collapsed": true
   },
   "source": [
    "## Combined features"
   ]
  },
  {
   "cell_type": "markdown",
   "metadata": {
    "heading_collapsed": true,
    "hidden": true
   },
   "source": [
    "### Creating train features"
   ]
  },
  {
   "cell_type": "code",
   "execution_count": 1,
   "metadata": {
    "cell_style": "center",
    "colab": {},
    "colab_type": "code",
    "hidden": true,
    "id": "4PJ8MohpF1Ht"
   },
   "outputs": [],
   "source": [
    "import pandas as pd\n",
    "import numpy as np\n",
    "import csv\n",
    "import sys\n",
    "import nltk\n",
    "from nltk.corpus import stopwords\n",
    "import glob\n",
    "import os\n",
    "import string"
   ]
  },
  {
   "cell_type": "code",
   "execution_count": 2,
   "metadata": {
    "cell_style": "center",
    "colab": {},
    "colab_type": "code",
    "hidden": true,
    "id": "mKHimIdaF1Hy",
    "outputId": "ace05c3c-6a8d-4ec0-8db9-6e016f161f7c",
    "tags": []
   },
   "outputs": [
    {
     "name": "stdout",
     "output_type": "stream",
     "text": [
      "160000\n"
     ]
    },
    {
     "data": {
      "text/html": [
       "<div>\n",
       "<style scoped>\n",
       "    .dataframe tbody tr th:only-of-type {\n",
       "        vertical-align: middle;\n",
       "    }\n",
       "\n",
       "    .dataframe tbody tr th {\n",
       "        vertical-align: top;\n",
       "    }\n",
       "\n",
       "    .dataframe thead th {\n",
       "        text-align: right;\n",
       "    }\n",
       "</style>\n",
       "<table border=\"1\" class=\"dataframe\">\n",
       "  <thead>\n",
       "    <tr style=\"text-align: right;\">\n",
       "      <th></th>\n",
       "      <th>text</th>\n",
       "      <th>label</th>\n",
       "    </tr>\n",
       "  </thead>\n",
       "  <tbody>\n",
       "    <tr>\n",
       "      <th>2700725</th>\n",
       "      <td>Bringing out the hidden complexity of Haydn: T...</td>\n",
       "      <td>2</td>\n",
       "    </tr>\n",
       "    <tr>\n",
       "      <th>2119872</th>\n",
       "      <td>Not worth the money or the wait: I picked up t...</td>\n",
       "      <td>1</td>\n",
       "    </tr>\n",
       "    <tr>\n",
       "      <th>3522157</th>\n",
       "      <td>Great Grilling: Bought this griil for my son a...</td>\n",
       "      <td>2</td>\n",
       "    </tr>\n",
       "    <tr>\n",
       "      <th>2657983</th>\n",
       "      <td>Attractive and Good Quality: This pewter bear ...</td>\n",
       "      <td>2</td>\n",
       "    </tr>\n",
       "    <tr>\n",
       "      <th>713772</th>\n",
       "      <td>not worth a penny: I wore these boots for the ...</td>\n",
       "      <td>1</td>\n",
       "    </tr>\n",
       "  </tbody>\n",
       "</table>\n",
       "</div>"
      ],
      "text/plain": [
       "                                                      text  label\n",
       "2700725  Bringing out the hidden complexity of Haydn: T...      2\n",
       "2119872  Not worth the money or the wait: I picked up t...      1\n",
       "3522157  Great Grilling: Bought this griil for my son a...      2\n",
       "2657983  Attractive and Good Quality: This pewter bear ...      2\n",
       "713772   not worth a penny: I wore these boots for the ...      1"
      ]
     },
     "execution_count": 2,
     "metadata": {},
     "output_type": "execute_result"
    }
   ],
   "source": [
    "#Load training file\n",
    "\n",
    "text_file = open(\"train.txt.txt\", \"r\", encoding=\"utf8\")\n",
    "lines = text_file.read().split('\\n')\n",
    "\n",
    "labels = []\n",
    "for item in lines:\n",
    "    first_four_letters = item[:10]\n",
    "    if first_four_letters == '__label__1':\n",
    "        labels.append(int(1))\n",
    "    else:\n",
    "        labels.append(int(2))\n",
    "        \n",
    "def remove_label(s):\n",
    "    return s[11:]\n",
    "lines = [remove_label(s) for s in lines]\n",
    "\n",
    "df = pd.DataFrame()\n",
    "df['text'] = lines\n",
    "df['label'] = labels\n",
    "\n",
    "df = df.sample(160000)\n",
    "print(len(df))\n",
    "df.head()"
   ]
  },
  {
   "cell_type": "code",
   "execution_count": 3,
   "metadata": {
    "colab": {},
    "colab_type": "code",
    "hidden": true,
    "id": "zUTpz7RZF1H1",
    "tags": []
   },
   "outputs": [],
   "source": [
    "#Clean text\n",
    "\n",
    "stop = stopwords.words('english')\n",
    "w_tokenizer = nltk.tokenize.WhitespaceTokenizer()\n",
    "lemmatizer = nltk.stem.WordNetLemmatizer()\n",
    "\n",
    "def lemmatize_text(text):\n",
    "    return [lemmatizer.lemmatize(w) for w in w_tokenizer.tokenize(text)]\n",
    "\n",
    "#lowercase and remove punctuation, remove stopwords        \n",
    "df['text'] = df['text'].str.lower()\n",
    "df['text'] = df['text'].str.replace('-', ' ')\n",
    "df['text'] = df['text'].str.split(' ')\n",
    "df['text'] = df['text'].apply(lambda x: [item for item in x if item not in stop])\n",
    "df['text'] = df['text'].apply(', '.join)\n",
    "df['text'] = df['text'].str.replace('[{}]'.format(string.punctuation), '')\n",
    "df['text'] = df['text'].apply(lemmatize_text)\n",
    "df['text'] = df['text'].apply(', '.join)\n",
    "df['text'] = df['text'].str.replace('[{}]'.format(string.punctuation), '')\n",
    "df['text'] = df['text'].str.replace('\\\\', ' ')\n"
   ]
  },
  {
   "cell_type": "code",
   "execution_count": 4,
   "metadata": {
    "colab": {},
    "colab_type": "code",
    "hidden": true,
    "id": "v716GFtjF1H4"
   },
   "outputs": [],
   "source": [
    "#Train Word2Vec\n",
    "\n",
    "from gensim.models import Word2Vec\n",
    "\n",
    "text = [row.split() for row in df['text']]\n",
    "model_w2v = Word2Vec(text)"
   ]
  },
  {
   "cell_type": "code",
   "execution_count": 5,
   "metadata": {
    "colab": {},
    "colab_type": "code",
    "hidden": true,
    "id": "DeO9W1afF1H6"
   },
   "outputs": [],
   "source": [
    "model_w2v.save('model_w2v.bin')"
   ]
  },
  {
   "cell_type": "code",
   "execution_count": 6,
   "metadata": {
    "colab": {},
    "colab_type": "code",
    "hidden": true,
    "id": "okwCWi8WF1H8",
    "outputId": "9de3534a-ed71-436e-8977-6e81c611e796",
    "tags": []
   },
   "outputs": [
    {
     "name": "stderr",
     "output_type": "stream",
     "text": [
      "/opt/anaconda3/lib/python3.7/site-packages/ipykernel_launcher.py:8: TqdmDeprecationWarning: This function will be removed in tqdm==5.0.0\n",
      "Please use `tqdm.notebook.tqdm` instead of `tqdm.tqdm_notebook`\n",
      "  \n"
     ]
    },
    {
     "data": {
      "application/vnd.jupyter.widget-view+json": {
       "model_id": "b04579c30c74444ab2d12330a4ef6dc9",
       "version_major": 2,
       "version_minor": 0
      },
      "text/plain": [
       "HBox(children=(FloatProgress(value=0.0, max=160000.0), HTML(value='')))"
      ]
     },
     "metadata": {},
     "output_type": "display_data"
    },
    {
     "name": "stderr",
     "output_type": "stream",
     "text": [
      "/opt/anaconda3/lib/python3.7/site-packages/ipykernel_launcher.py:13: DeprecationWarning: Call to deprecated `__getitem__` (Method will be removed in 4.0.0, use self.wv.__getitem__() instead).\n",
      "  del sys.path[0]\n"
     ]
    },
    {
     "name": "stdout",
     "output_type": "stream",
     "text": [
      "\n"
     ]
    }
   ],
   "source": [
    "#Average Word2Vec Vectors for BOW\n",
    "\n",
    "from tqdm import tqdm_notebook as tqdm\n",
    "\n",
    "text_vec = []\n",
    "text_avg_vec = []\n",
    "count = 0\n",
    "for row in tqdm(range(len(text))):\n",
    "    [word.split(' ', 1) for word in text[row]]\n",
    "  \n",
    "    for i in range(len(text[row])):\n",
    "        try:\n",
    "            text_vec.append(model_w2v[text[row][i]])\n",
    "            count = count + 1\n",
    "        except KeyError as e:\n",
    "            text_vec.append([0]*100)\n",
    "  \n",
    "    average = np.add.reduce(text_vec)\n",
    "    if count==0:\n",
    "        count = 1\n",
    "    average = np.divide(average, count)\n",
    "    text_avg_vec.append(average)\n",
    "    text_vec = []\n",
    "    count = 0"
   ]
  },
  {
   "cell_type": "code",
   "execution_count": 7,
   "metadata": {
    "colab": {},
    "colab_type": "code",
    "hidden": true,
    "id": "TEdesJclF1H_"
   },
   "outputs": [],
   "source": [
    "for i in range(len(text_avg_vec)):\n",
    "    if type(text_avg_vec[i]) != np.ndarray:\n",
    "        text_avg_vec[i] = np.zeros(100)"
   ]
  },
  {
   "cell_type": "code",
   "execution_count": 8,
   "metadata": {
    "hidden": true
   },
   "outputs": [
    {
     "data": {
      "text/plain": [
       "array([-0.40853754, -0.38679563, -0.95826751, -0.3337734 , -0.20393041,\n",
       "       -0.22012257, -0.32521616, -0.17680886,  0.12652912,  0.53451511,\n",
       "        0.09845188,  0.00559624, -0.56184483,  0.13195313, -0.93501698,\n",
       "        0.13119618,  0.34067749, -0.66382934,  0.27455967, -0.61961251,\n",
       "       -0.01541351, -0.08719711, -0.03395919,  0.2928971 ,  0.4032096 ,\n",
       "        0.45737276, -0.2549706 ,  0.30731208, -0.42949031, -0.10682201,\n",
       "       -0.05644133,  0.10391716, -0.05313593, -0.48116139, -0.0093661 ,\n",
       "        0.24171149,  0.78481103, -0.04739485,  0.02662561, -0.32518936,\n",
       "       -0.79016119,  0.4302174 ,  0.22235376, -0.54802614, -0.1610888 ,\n",
       "       -0.41376326,  0.20082239, -0.57389326, -0.07668226,  1.01035403,\n",
       "       -0.14983318, -0.08995562,  0.13779828, -0.05832776, -0.87467947,\n",
       "       -0.22567286, -0.43352613, -0.17384305, -0.21771592,  0.60231309,\n",
       "       -0.01061233, -0.61366194, -0.60999509, -0.13262224, -0.26967327,\n",
       "        0.03996115,  0.65497345, -0.22238656, -0.04122111,  0.11840897,\n",
       "        0.39895687,  0.44815396, -0.22472042,  0.90747737,  0.31958251,\n",
       "       -0.14155013, -0.69817632, -0.24301972, -0.2605117 ,  0.15782405,\n",
       "       -0.1521483 , -0.46800126,  0.00296922, -0.30987776,  0.84621929,\n",
       "        0.02040247, -0.06908493, -0.62923544,  0.84533902, -0.809288  ,\n",
       "       -0.21081433, -0.34279193,  0.03083434,  0.75118573,  0.80738219,\n",
       "       -0.88965881, -0.26860247,  0.01033185,  0.27364254,  0.08658777])"
      ]
     },
     "execution_count": 8,
     "metadata": {},
     "output_type": "execute_result"
    }
   ],
   "source": [
    "text_avg_vec[0]"
   ]
  },
  {
   "cell_type": "code",
   "execution_count": 8,
   "metadata": {
    "hidden": true
   },
   "outputs": [],
   "source": [
    "from sklearn.feature_extraction.text import TfidfVectorizer\n",
    "\n",
    "tfidf = TfidfVectorizer(ngram_range=(1,2), max_features=2900)\n",
    "\n",
    "tfidf_features = tfidf.fit_transform(df['text'])"
   ]
  },
  {
   "cell_type": "code",
   "execution_count": 9,
   "metadata": {
    "hidden": true
   },
   "outputs": [
    {
     "data": {
      "text/plain": [
       "(160000, 2900)"
      ]
     },
     "execution_count": 9,
     "metadata": {},
     "output_type": "execute_result"
    }
   ],
   "source": [
    "tfidf_features.shape"
   ]
  },
  {
   "cell_type": "code",
   "execution_count": 10,
   "metadata": {
    "hidden": true
   },
   "outputs": [
    {
     "data": {
      "text/plain": [
       "(160000, 100)"
      ]
     },
     "execution_count": 10,
     "metadata": {},
     "output_type": "execute_result"
    }
   ],
   "source": [
    "x_train = text_avg_vec\n",
    "x_train = np.array(x_train).reshape(-1, 100)\n",
    "x_train.shape"
   ]
  },
  {
   "cell_type": "code",
   "execution_count": 11,
   "metadata": {
    "hidden": true
   },
   "outputs": [
    {
     "data": {
      "text/plain": [
       "(160000, 3000)"
      ]
     },
     "execution_count": 11,
     "metadata": {},
     "output_type": "execute_result"
    }
   ],
   "source": [
    "x_train = np.concatenate((x_train, tfidf_features.toarray()), axis=1)\n",
    "x_train.shape"
   ]
  },
  {
   "cell_type": "code",
   "execution_count": 12,
   "metadata": {
    "hidden": true
   },
   "outputs": [
    {
     "name": "stdout",
     "output_type": "stream",
     "text": [
      "120000\n",
      "40000\n"
     ]
    }
   ],
   "source": [
    "df['label'] = df['label'] - 1\n",
    "\n",
    "y_train= np.asarray(df.label)\n",
    "\n",
    "from sklearn.model_selection import train_test_split\n",
    "x_train, x_val, y_train, y_val = train_test_split(x_train, y_train, test_size=40000, random_state=42)\n",
    "\n",
    "print(len(x_train))\n",
    "print(len(x_val))"
   ]
  },
  {
   "cell_type": "markdown",
   "metadata": {
    "heading_collapsed": true,
    "hidden": true
   },
   "source": [
    "### Default Logistic Regression on new combined features"
   ]
  },
  {
   "cell_type": "code",
   "execution_count": null,
   "metadata": {
    "hidden": true
   },
   "outputs": [],
   "source": [
    "# 3000 features total"
   ]
  },
  {
   "cell_type": "code",
   "execution_count": 13,
   "metadata": {
    "hidden": true
   },
   "outputs": [
    {
     "name": "stdout",
     "output_type": "stream",
     "text": [
      "88.31% (+/- 0.31%)\n"
     ]
    }
   ],
   "source": [
    "from sklearn.linear_model import LogisticRegression\n",
    "from sklearn.model_selection import StratifiedKFold\n",
    "\n",
    "kf = StratifiedKFold(n_splits=10, shuffle=True, random_state=42)\n",
    "cvscores=[]\n",
    "\n",
    "x_train = np.array(x_train)\n",
    "y_train = np.array(y_train)\n",
    "\n",
    "for train_index, val_index in kf.split(x_train, y_train):\n",
    "    x_train_kf, x_val_kf = x_train[train_index], x_train[val_index]\n",
    "    y_train_kf, y_val_kf = y_train[train_index], y_train[val_index]\n",
    "    \n",
    "    model = LogisticRegression(random_state=42, max_iter=2000)\n",
    "    model.fit(x_train_kf, y_train_kf)\n",
    "    \n",
    "    scores = model.score(x_val_kf, y_val_kf)\n",
    "    cvscores.append(scores * 100)\n",
    "    \n",
    "print(\"%.2f%% (+/- %.2f%%)\" % (np.mean(cvscores), np.std(cvscores)))"
   ]
  },
  {
   "cell_type": "code",
   "execution_count": 14,
   "metadata": {
    "hidden": true
   },
   "outputs": [],
   "source": [
    "# 5000 features total\n",
    "\n",
    "tfidf = TfidfVectorizer(ngram_range=(1,2), max_features=4900)\n",
    "\n",
    "tfidf_features = tfidf.fit_transform(df['text'])\n",
    "x_train = text_avg_vec\n",
    "x_train = np.array(x_train).reshape(-1, 100)\n",
    "\n",
    "x_train = np.concatenate((x_train, tfidf_features.toarray()), axis=1)\n",
    "\n",
    "y_train= np.asarray(df.label)\n",
    "\n",
    "from sklearn.model_selection import train_test_split\n",
    "x_train, x_val, y_train, y_val = train_test_split(x_train, y_train, test_size=40000, random_state=42)"
   ]
  },
  {
   "cell_type": "code",
   "execution_count": 15,
   "metadata": {
    "hidden": true
   },
   "outputs": [
    {
     "name": "stdout",
     "output_type": "stream",
     "text": [
      "88.73% (+/- 0.22%)\n"
     ]
    }
   ],
   "source": [
    "kf = StratifiedKFold(n_splits=10, shuffle=True, random_state=42)\n",
    "cvscores=[]\n",
    "\n",
    "x_train = np.array(x_train)\n",
    "y_train = np.array(y_train)\n",
    "\n",
    "for train_index, val_index in kf.split(x_train, y_train):\n",
    "    x_train_kf, x_val_kf = x_train[train_index], x_train[val_index]\n",
    "    y_train_kf, y_val_kf = y_train[train_index], y_train[val_index]\n",
    "    \n",
    "    model = LogisticRegression(random_state=42, max_iter=2000)\n",
    "    model.fit(x_train_kf, y_train_kf)\n",
    "    \n",
    "    scores = model.score(x_val_kf, y_val_kf)\n",
    "    cvscores.append(scores * 100)\n",
    "    \n",
    "print(\"%.2f%% (+/- %.2f%%)\" % (np.mean(cvscores), np.std(cvscores)))"
   ]
  },
  {
   "cell_type": "code",
   "execution_count": 16,
   "metadata": {
    "hidden": true
   },
   "outputs": [],
   "source": [
    "#7500 features total\n",
    "\n",
    "tfidf = TfidfVectorizer(ngram_range=(1,2), max_features=7400)\n",
    "\n",
    "tfidf_features = tfidf.fit_transform(df['text'])\n",
    "x_train = text_avg_vec\n",
    "x_train = np.array(x_train).reshape(-1, 100)\n",
    "\n",
    "x_train = np.concatenate((x_train, tfidf_features.toarray()), axis=1)\n",
    "\n",
    "y_train= np.asarray(df.label)\n",
    "\n",
    "from sklearn.model_selection import train_test_split\n",
    "x_train, x_val, y_train, y_val = train_test_split(x_train, y_train, test_size=40000, random_state=42)"
   ]
  },
  {
   "cell_type": "code",
   "execution_count": 17,
   "metadata": {
    "hidden": true
   },
   "outputs": [
    {
     "name": "stdout",
     "output_type": "stream",
     "text": [
      "88.90% (+/- 0.26%)\n"
     ]
    }
   ],
   "source": [
    "kf = StratifiedKFold(n_splits=10, shuffle=True, random_state=42)\n",
    "cvscores=[]\n",
    "\n",
    "x_train = np.array(x_train)\n",
    "y_train = np.array(y_train)\n",
    "\n",
    "for train_index, val_index in kf.split(x_train, y_train):\n",
    "    x_train_kf, x_val_kf = x_train[train_index], x_train[val_index]\n",
    "    y_train_kf, y_val_kf = y_train[train_index], y_train[val_index]\n",
    "    \n",
    "    model = LogisticRegression(random_state=42, max_iter=2000)\n",
    "    model.fit(x_train_kf, y_train_kf)\n",
    "    \n",
    "    scores = model.score(x_val_kf, y_val_kf)\n",
    "    cvscores.append(scores * 100)\n",
    "    \n",
    "print(\"%.2f%% (+/- %.2f%%)\" % (np.mean(cvscores), np.std(cvscores)))"
   ]
  },
  {
   "cell_type": "code",
   "execution_count": 18,
   "metadata": {
    "hidden": true
   },
   "outputs": [],
   "source": [
    "# 10,000 features total\n",
    "\n",
    "tfidf = TfidfVectorizer(ngram_range=(1,2), max_features=9900)\n",
    "\n",
    "tfidf_features = tfidf.fit_transform(df['text'])\n",
    "x_train = text_avg_vec\n",
    "x_train = np.array(x_train).reshape(-1, 100)\n",
    "\n",
    "x_train = np.concatenate((x_train, tfidf_features.toarray()), axis=1)\n",
    "\n",
    "y_train= np.asarray(df.label)\n",
    "\n",
    "from sklearn.model_selection import train_test_split\n",
    "x_train, x_val, y_train, y_val = train_test_split(x_train, y_train, test_size=40000, random_state=42)"
   ]
  },
  {
   "cell_type": "code",
   "execution_count": 19,
   "metadata": {
    "hidden": true
   },
   "outputs": [
    {
     "name": "stdout",
     "output_type": "stream",
     "text": [
      "89.00% (+/- 0.27%)\n"
     ]
    }
   ],
   "source": [
    "kf = StratifiedKFold(n_splits=10, shuffle=True, random_state=42)\n",
    "cvscores=[]\n",
    "\n",
    "x_train = np.array(x_train)\n",
    "y_train = np.array(y_train)\n",
    "\n",
    "for train_index, val_index in kf.split(x_train, y_train):\n",
    "    x_train_kf, x_val_kf = x_train[train_index], x_train[val_index]\n",
    "    y_train_kf, y_val_kf = y_train[train_index], y_train[val_index]\n",
    "    \n",
    "    model = LogisticRegression(random_state=42, max_iter=2000)\n",
    "    model.fit(x_train_kf, y_train_kf)\n",
    "    \n",
    "    scores = model.score(x_val_kf, y_val_kf)\n",
    "    cvscores.append(scores * 100)\n",
    "    \n",
    "print(\"%.2f%% (+/- %.2f%%)\" % (np.mean(cvscores), np.std(cvscores)))"
   ]
  },
  {
   "cell_type": "code",
   "execution_count": 20,
   "metadata": {
    "hidden": true
   },
   "outputs": [],
   "source": [
    "# 15,000 features total\n",
    "\n",
    "tfidf = TfidfVectorizer(ngram_range=(1,2), max_features=14900)\n",
    "\n",
    "tfidf_features = tfidf.fit_transform(df['text'])\n",
    "x_train = text_avg_vec\n",
    "x_train = np.array(x_train).reshape(-1, 100)\n",
    "\n",
    "x_train = np.concatenate((x_train, tfidf_features.toarray()), axis=1)\n",
    "\n",
    "y_train= np.asarray(df.label)\n",
    "\n",
    "from sklearn.model_selection import train_test_split\n",
    "x_train, x_val, y_train, y_val = train_test_split(x_train, y_train, test_size=40000, random_state=42)"
   ]
  },
  {
   "cell_type": "code",
   "execution_count": 21,
   "metadata": {
    "hidden": true
   },
   "outputs": [
    {
     "name": "stdout",
     "output_type": "stream",
     "text": [
      "89.09% (+/- 0.20%)\n"
     ]
    }
   ],
   "source": [
    "kf = StratifiedKFold(n_splits=10, shuffle=True, random_state=42)\n",
    "cvscores=[]\n",
    "\n",
    "x_train = np.array(x_train)\n",
    "y_train = np.array(y_train)\n",
    "\n",
    "for train_index, val_index in kf.split(x_train, y_train):\n",
    "    x_train_kf, x_val_kf = x_train[train_index], x_train[val_index]\n",
    "    y_train_kf, y_val_kf = y_train[train_index], y_train[val_index]\n",
    "    \n",
    "    model = LogisticRegression(random_state=42, max_iter=2000)\n",
    "    model.fit(x_train_kf, y_train_kf)\n",
    "    \n",
    "    scores = model.score(x_val_kf, y_val_kf)\n",
    "    cvscores.append(scores * 100)\n",
    "    \n",
    "print(\"%.2f%% (+/- %.2f%%)\" % (np.mean(cvscores), np.std(cvscores)))"
   ]
  },
  {
   "cell_type": "code",
   "execution_count": 22,
   "metadata": {
    "hidden": true
   },
   "outputs": [],
   "source": [
    "# 20,000 features total\n",
    "\n",
    "tfidf = TfidfVectorizer(ngram_range=(1,2), max_features=19900)\n",
    "\n",
    "tfidf_features = tfidf.fit_transform(df['text'])\n",
    "x_train = text_avg_vec\n",
    "x_train = np.array(x_train).reshape(-1, 100)\n",
    "\n",
    "x_train = np.concatenate((x_train, tfidf_features.toarray()), axis=1)\n",
    "\n",
    "y_train= np.asarray(df.label)\n",
    "\n",
    "from sklearn.model_selection import train_test_split\n",
    "x_train, x_val, y_train, y_val = train_test_split(x_train, y_train, test_size=40000, random_state=42)"
   ]
  },
  {
   "cell_type": "code",
   "execution_count": 23,
   "metadata": {
    "hidden": true
   },
   "outputs": [
    {
     "name": "stdout",
     "output_type": "stream",
     "text": [
      "89.12% (+/- 0.23%)\n"
     ]
    }
   ],
   "source": [
    "kf = StratifiedKFold(n_splits=10, shuffle=True, random_state=42)\n",
    "cvscores=[]\n",
    "\n",
    "x_train = np.array(x_train)\n",
    "y_train = np.array(y_train)\n",
    "\n",
    "for train_index, val_index in kf.split(x_train, y_train):\n",
    "    x_train_kf, x_val_kf = x_train[train_index], x_train[val_index]\n",
    "    y_train_kf, y_val_kf = y_train[train_index], y_train[val_index]\n",
    "    \n",
    "    model = LogisticRegression(random_state=42, max_iter=2000)\n",
    "    model.fit(x_train_kf, y_train_kf)\n",
    "    \n",
    "    scores = model.score(x_val_kf, y_val_kf)\n",
    "    cvscores.append(scores * 100)\n",
    "    \n",
    "print(\"%.2f%% (+/- %.2f%%)\" % (np.mean(cvscores), np.std(cvscores)))"
   ]
  },
  {
   "cell_type": "code",
   "execution_count": 25,
   "metadata": {
    "hidden": true
   },
   "outputs": [],
   "source": [
    "#30,000 features total\n",
    "\n",
    "tfidf = TfidfVectorizer(ngram_range=(1,2), max_features=29900)\n",
    "\n",
    "tfidf_features = tfidf.fit_transform(df['text'])\n",
    "x_train = text_avg_vec\n",
    "x_train = np.array(x_train).reshape(-1, 100)\n",
    "\n",
    "x_train = np.concatenate((x_train, tfidf_features.toarray()), axis=1)\n",
    "\n",
    "y_train= np.asarray(df.label)\n",
    "\n",
    "from sklearn.model_selection import train_test_split\n",
    "x_train, x_val, y_train, y_val = train_test_split(x_train, y_train, test_size=40000, random_state=42)"
   ]
  },
  {
   "cell_type": "code",
   "execution_count": 26,
   "metadata": {
    "hidden": true
   },
   "outputs": [
    {
     "name": "stdout",
     "output_type": "stream",
     "text": [
      "89.18% (+/- 0.23%)\n"
     ]
    }
   ],
   "source": [
    "kf = StratifiedKFold(n_splits=10, shuffle=True, random_state=42)\n",
    "cvscores=[]\n",
    "\n",
    "x_train = np.array(x_train)\n",
    "y_train = np.array(y_train)\n",
    "\n",
    "for train_index, val_index in kf.split(x_train, y_train):\n",
    "    x_train_kf, x_val_kf = x_train[train_index], x_train[val_index]\n",
    "    y_train_kf, y_val_kf = y_train[train_index], y_train[val_index]\n",
    "    \n",
    "    model = LogisticRegression(random_state=42, max_iter=2000)\n",
    "    model.fit(x_train_kf, y_train_kf)\n",
    "    \n",
    "    scores = model.score(x_val_kf, y_val_kf)\n",
    "    cvscores.append(scores * 100)\n",
    "    \n",
    "print(\"%.2f%% (+/- %.2f%%)\" % (np.mean(cvscores), np.std(cvscores)))"
   ]
  },
  {
   "cell_type": "code",
   "execution_count": 23,
   "metadata": {
    "hidden": true
   },
   "outputs": [],
   "source": [
    "# 40,000 features total\n",
    "\n",
    "tfidf = TfidfVectorizer(ngram_range=(1,2), max_features=39900)\n",
    "\n",
    "tfidf_features = tfidf.fit_transform(df['text'])\n",
    "x_train = text_avg_vec\n",
    "x_train = np.array(x_train).reshape(-1, 100)\n",
    "x_train = sparse.csr_matrix(x_train)\n",
    "\n",
    "x_train = sparse.hstack([x_train, tfidf_features])\n",
    "\n",
    "y_train= np.asarray(df.label)\n",
    "\n",
    "from sklearn.model_selection import train_test_split\n",
    "x_train, x_val, y_train, y_val = train_test_split(x_train, y_train, test_size=40000, random_state=42)"
   ]
  },
  {
   "cell_type": "code",
   "execution_count": 24,
   "metadata": {
    "hidden": true
   },
   "outputs": [
    {
     "name": "stdout",
     "output_type": "stream",
     "text": [
      "89.14% (+/- 0.12%)\n"
     ]
    }
   ],
   "source": [
    "kf = StratifiedKFold(n_splits=10, shuffle=True, random_state=42)\n",
    "cvscores=[]\n",
    "\n",
    "for train_index, val_index in kf.split(x_train, y_train):\n",
    "    x_train_kf, x_val_kf = x_train[train_index], x_train[val_index]\n",
    "    y_train_kf, y_val_kf = y_train[train_index], y_train[val_index]\n",
    "    \n",
    "    model = LogisticRegression(random_state=42, max_iter=2000)\n",
    "    model.fit(x_train_kf, y_train_kf)\n",
    "    \n",
    "    scores = model.score(x_val_kf, y_val_kf)\n",
    "    cvscores.append(scores * 100)\n",
    "    \n",
    "print(\"%.2f%% (+/- %.2f%%)\" % (np.mean(cvscores), np.std(cvscores)))"
   ]
  },
  {
   "cell_type": "code",
   "execution_count": 30,
   "metadata": {
    "hidden": true
   },
   "outputs": [
    {
     "name": "stdout",
     "output_type": "stream",
     "text": [
      "89.12% (+/- 0.19%)\n"
     ]
    }
   ],
   "source": [
    "print(\"%.2f%% (+/- %.2f%%)\" % (np.mean(cvscores), np.std(cvscores)))"
   ]
  },
  {
   "cell_type": "code",
   "execution_count": 26,
   "metadata": {
    "hidden": true
   },
   "outputs": [],
   "source": [
    "# 50,000 features total\n",
    "\n",
    "tfidf = TfidfVectorizer(ngram_range=(1,2), max_features=49900)\n",
    "\n",
    "tfidf_features = tfidf.fit_transform(df['text'])\n",
    "x_train = text_avg_vec\n",
    "x_train = np.array(x_train).reshape(-1, 100)\n",
    "x_train = sparse.csr_matrix(x_train)\n",
    "\n",
    "x_train = sparse.hstack([x_train, tfidf_features])\n",
    "y_train= np.asarray(df.label)\n",
    "\n",
    "from sklearn.model_selection import train_test_split\n",
    "x_train, x_val, y_train, y_val = train_test_split(x_train, y_train, test_size=40000, random_state=42)"
   ]
  },
  {
   "cell_type": "code",
   "execution_count": 27,
   "metadata": {
    "hidden": true
   },
   "outputs": [
    {
     "name": "stdout",
     "output_type": "stream",
     "text": [
      "89.12% (+/- 0.15%)\n"
     ]
    }
   ],
   "source": [
    "kf = StratifiedKFold(n_splits=10, shuffle=True, random_state=42)\n",
    "cvscores=[]\n",
    "\n",
    "for train_index, val_index in kf.split(x_train, y_train):\n",
    "    x_train_kf, x_val_kf = x_train[train_index], x_train[val_index]\n",
    "    y_train_kf, y_val_kf = y_train[train_index], y_train[val_index]\n",
    "    \n",
    "    model = LogisticRegression(random_state=42, max_iter=2000)\n",
    "    model.fit(x_train_kf, y_train_kf)\n",
    "    \n",
    "    scores = model.score(x_val_kf, y_val_kf)\n",
    "    cvscores.append(scores * 100)\n",
    "    \n",
    "print(\"%.2f%% (+/- %.2f%%)\" % (np.mean(cvscores), np.std(cvscores)))"
   ]
  },
  {
   "cell_type": "code",
   "execution_count": null,
   "metadata": {
    "hidden": true
   },
   "outputs": [],
   "source": [
    "# 2000 features total"
   ]
  },
  {
   "cell_type": "code",
   "execution_count": 63,
   "metadata": {
    "hidden": true,
    "scrolled": false
   },
   "outputs": [
    {
     "name": "stdout",
     "output_type": "stream",
     "text": [
      "87.92% (+/- 0.23%)\n"
     ]
    }
   ],
   "source": [
    "from sklearn.linear_model import LogisticRegression\n",
    "from sklearn.model_selection import StratifiedKFold\n",
    "\n",
    "kf = StratifiedKFold(n_splits=10, shuffle=True, random_state=42)\n",
    "cvscores=[]\n",
    "\n",
    "x_train = np.array(x_train)\n",
    "y_train = np.array(y_train)\n",
    "\n",
    "for train_index, val_index in kf.split(x_train, y_train):\n",
    "    x_train_kf, x_val_kf = x_train[train_index], x_train[val_index]\n",
    "    y_train_kf, y_val_kf = y_train[train_index], y_train[val_index]\n",
    "    \n",
    "    model = LogisticRegression(random_state=42, max_iter=2000)\n",
    "    model.fit(x_train_kf, y_train_kf)\n",
    "    \n",
    "    scores = model.score(x_val_kf, y_val_kf)\n",
    "    cvscores.append(scores * 100)\n",
    "    \n",
    "print(\"%.2f%% (+/- %.2f%%)\" % (np.mean(cvscores), np.std(cvscores)))"
   ]
  },
  {
   "cell_type": "code",
   "execution_count": 75,
   "metadata": {
    "hidden": true
   },
   "outputs": [
    {
     "ename": "TypeError",
     "evalue": "sparse matrix length is ambiguous; use getnnz() or shape[0]",
     "output_type": "error",
     "traceback": [
      "\u001b[0;31m---------------------------------------------------------------------------\u001b[0m",
      "\u001b[0;31mTypeError\u001b[0m                                 Traceback (most recent call last)",
      "\u001b[0;32m<ipython-input-75-e12a9a89941e>\u001b[0m in \u001b[0;36m<module>\u001b[0;34m\u001b[0m\n\u001b[1;32m      7\u001b[0m \u001b[0mxtrain\u001b[0m\u001b[0;34m,\u001b[0m \u001b[0mxval\u001b[0m\u001b[0;34m,\u001b[0m \u001b[0mytrain\u001b[0m\u001b[0;34m,\u001b[0m \u001b[0myval\u001b[0m \u001b[0;34m=\u001b[0m \u001b[0mtrain_test_split\u001b[0m\u001b[0;34m(\u001b[0m\u001b[0mxtrain\u001b[0m\u001b[0;34m,\u001b[0m \u001b[0mytrain\u001b[0m\u001b[0;34m,\u001b[0m \u001b[0mtest_size\u001b[0m\u001b[0;34m=\u001b[0m\u001b[0;36m40000\u001b[0m\u001b[0;34m,\u001b[0m \u001b[0mrandom_state\u001b[0m\u001b[0;34m=\u001b[0m\u001b[0;36m42\u001b[0m\u001b[0;34m)\u001b[0m\u001b[0;34m\u001b[0m\u001b[0;34m\u001b[0m\u001b[0m\n\u001b[1;32m      8\u001b[0m \u001b[0;34m\u001b[0m\u001b[0m\n\u001b[0;32m----> 9\u001b[0;31m \u001b[0mprint\u001b[0m\u001b[0;34m(\u001b[0m\u001b[0mlen\u001b[0m\u001b[0;34m(\u001b[0m\u001b[0mxtrain\u001b[0m\u001b[0;34m)\u001b[0m\u001b[0;34m)\u001b[0m\u001b[0;34m\u001b[0m\u001b[0;34m\u001b[0m\u001b[0m\n\u001b[0m\u001b[1;32m     10\u001b[0m \u001b[0mprint\u001b[0m\u001b[0;34m(\u001b[0m\u001b[0mlen\u001b[0m\u001b[0;34m(\u001b[0m\u001b[0mxval\u001b[0m\u001b[0;34m)\u001b[0m\u001b[0;34m)\u001b[0m\u001b[0;34m\u001b[0m\u001b[0;34m\u001b[0m\u001b[0m\n",
      "\u001b[0;32m/opt/anaconda3/lib/python3.7/site-packages/scipy/sparse/base.py\u001b[0m in \u001b[0;36m__len__\u001b[0;34m(self)\u001b[0m\n\u001b[1;32m    293\u001b[0m     \u001b[0;31m# non-zeros is more important.  For now, raise an exception!\u001b[0m\u001b[0;34m\u001b[0m\u001b[0;34m\u001b[0m\u001b[0;34m\u001b[0m\u001b[0m\n\u001b[1;32m    294\u001b[0m     \u001b[0;32mdef\u001b[0m \u001b[0m__len__\u001b[0m\u001b[0;34m(\u001b[0m\u001b[0mself\u001b[0m\u001b[0;34m)\u001b[0m\u001b[0;34m:\u001b[0m\u001b[0;34m\u001b[0m\u001b[0;34m\u001b[0m\u001b[0m\n\u001b[0;32m--> 295\u001b[0;31m         raise TypeError(\"sparse matrix length is ambiguous; use getnnz()\"\n\u001b[0m\u001b[1;32m    296\u001b[0m                         \" or shape[0]\")\n\u001b[1;32m    297\u001b[0m \u001b[0;34m\u001b[0m\u001b[0m\n",
      "\u001b[0;31mTypeError\u001b[0m: sparse matrix length is ambiguous; use getnnz() or shape[0]"
     ]
    }
   ],
   "source": [
    "vectorizer = TfidfVectorizer(ngram_range=(1,2))\n",
    "xtrain = vectorizer.fit_transform(df['text'])\n",
    "\n",
    "ytrain= np.asarray(df.label)\n",
    "\n",
    "from sklearn.model_selection import train_test_split\n",
    "xtrain, xval, ytrain, yval = train_test_split(xtrain, ytrain, test_size=40000, random_state=42)"
   ]
  },
  {
   "cell_type": "code",
   "execution_count": 78,
   "metadata": {
    "hidden": true
   },
   "outputs": [],
   "source": [
    "xtest = vectorizer.transform(df['text'])\n",
    "ytest = df['label'] - 1\n",
    "ytrain = ytrain - 1"
   ]
  },
  {
   "cell_type": "code",
   "execution_count": 80,
   "metadata": {
    "hidden": true
   },
   "outputs": [],
   "source": [
    "yval = yval-1"
   ]
  },
  {
   "cell_type": "code",
   "execution_count": 81,
   "metadata": {
    "hidden": true
   },
   "outputs": [
    {
     "name": "stdout",
     "output_type": "stream",
     "text": [
      "0.888925\n",
      "0.88775\n"
     ]
    }
   ],
   "source": [
    "logreg_eval = LogisticRegression(random_state=42, max_iter=2000)\n",
    "\n",
    "logreg_eval.fit(xtrain, ytrain)\n",
    "\n",
    "print(logreg_eval.score(xval, yval))\n",
    "print(logreg_eval.score(xtest, ytest))\n"
   ]
  },
  {
   "cell_type": "code",
   "execution_count": 82,
   "metadata": {
    "hidden": true
   },
   "outputs": [
    {
     "data": {
      "text/plain": [
       "(120000, 3406721)"
      ]
     },
     "execution_count": 82,
     "metadata": {},
     "output_type": "execute_result"
    }
   ],
   "source": [
    "xtrain.shape"
   ]
  },
  {
   "cell_type": "markdown",
   "metadata": {
    "heading_collapsed": true,
    "hidden": true
   },
   "source": [
    "### Full TFIDF + Word2Vec"
   ]
  },
  {
   "cell_type": "markdown",
   "metadata": {
    "heading_collapsed": true,
    "hidden": true
   },
   "source": [
    "#### Training file prep"
   ]
  },
  {
   "cell_type": "code",
   "execution_count": 2,
   "metadata": {
    "hidden": true
   },
   "outputs": [
    {
     "name": "stdout",
     "output_type": "stream",
     "text": [
      "160000\n"
     ]
    }
   ],
   "source": [
    "#Load training file\n",
    "\n",
    "text_file = open(\"train.txt.txt\", \"r\", encoding=\"utf8\")\n",
    "lines = text_file.read().split('\\n')\n",
    "\n",
    "labels = []\n",
    "for item in lines:\n",
    "    first_four_letters = item[:10]\n",
    "    if first_four_letters == '__label__1':\n",
    "        labels.append(int(1))\n",
    "    else:\n",
    "        labels.append(int(2))\n",
    "        \n",
    "def remove_label(s):\n",
    "    return s[11:]\n",
    "lines = [remove_label(s) for s in lines]\n",
    "\n",
    "df = pd.DataFrame()\n",
    "df['text'] = lines\n",
    "df['label'] = labels\n",
    "\n",
    "df = df.sample(160000)\n",
    "print(len(df))\n",
    "\n",
    "#Clean text\n",
    "\n",
    "stop = stopwords.words('english')\n",
    "w_tokenizer = nltk.tokenize.WhitespaceTokenizer()\n",
    "lemmatizer = nltk.stem.WordNetLemmatizer()\n",
    "\n",
    "def lemmatize_text(text):\n",
    "    return [lemmatizer.lemmatize(w) for w in w_tokenizer.tokenize(text)]\n",
    "\n",
    "#lowercase and remove punctuation, remove stopwords        \n",
    "df['text'] = df['text'].str.lower()\n",
    "df['text'] = df['text'].str.replace('-', ' ')\n",
    "df['text'] = df['text'].str.split(' ')\n",
    "df['text'] = df['text'].apply(lambda x: [item for item in x if item not in stop])\n",
    "df['text'] = df['text'].apply(', '.join)\n",
    "df['text'] = df['text'].str.replace('[{}]'.format(string.punctuation), '')\n",
    "df['text'] = df['text'].apply(lemmatize_text)\n",
    "df['text'] = df['text'].apply(', '.join)\n",
    "df['text'] = df['text'].str.replace('[{}]'.format(string.punctuation), '')\n",
    "df['text'] = df['text'].str.replace('\\\\', ' ')"
   ]
  },
  {
   "cell_type": "code",
   "execution_count": 3,
   "metadata": {
    "hidden": true
   },
   "outputs": [],
   "source": [
    "#Train Word2Vec\n",
    "\n",
    "from gensim.models import Word2Vec\n",
    "\n",
    "text = [row.split() for row in df['text']]\n",
    "model_w2v = Word2Vec(text)\n",
    "\n",
    "model_w2v.save('model_w2v.bin')"
   ]
  },
  {
   "cell_type": "code",
   "execution_count": 4,
   "metadata": {
    "hidden": true
   },
   "outputs": [
    {
     "name": "stderr",
     "output_type": "stream",
     "text": [
      "/opt/anaconda3/lib/python3.7/site-packages/ipykernel_launcher.py:8: TqdmDeprecationWarning: This function will be removed in tqdm==5.0.0\n",
      "Please use `tqdm.notebook.tqdm` instead of `tqdm.tqdm_notebook`\n",
      "  \n"
     ]
    },
    {
     "data": {
      "application/vnd.jupyter.widget-view+json": {
       "model_id": "5536be66698b4b7d9b4961b86d06494f",
       "version_major": 2,
       "version_minor": 0
      },
      "text/plain": [
       "HBox(children=(FloatProgress(value=0.0, max=160000.0), HTML(value='')))"
      ]
     },
     "metadata": {},
     "output_type": "display_data"
    },
    {
     "name": "stderr",
     "output_type": "stream",
     "text": [
      "/opt/anaconda3/lib/python3.7/site-packages/ipykernel_launcher.py:13: DeprecationWarning: Call to deprecated `__getitem__` (Method will be removed in 4.0.0, use self.wv.__getitem__() instead).\n",
      "  del sys.path[0]\n"
     ]
    },
    {
     "name": "stdout",
     "output_type": "stream",
     "text": [
      "\n"
     ]
    }
   ],
   "source": [
    "#Average Word2Vec Vectors for BOW\n",
    "\n",
    "from tqdm import tqdm_notebook as tqdm\n",
    "\n",
    "text_vec = []\n",
    "text_avg_vec = []\n",
    "count = 0\n",
    "for row in tqdm(range(len(text))):\n",
    "    [word.split(' ', 1) for word in text[row]]\n",
    "  \n",
    "    for i in range(len(text[row])):\n",
    "        try:\n",
    "            text_vec.append(model_w2v[text[row][i]])\n",
    "            count = count + 1\n",
    "        except KeyError as e:\n",
    "            text_vec.append([0]*100)\n",
    "  \n",
    "    average = np.add.reduce(text_vec)\n",
    "    if count==0:\n",
    "        count = 1\n",
    "    average = np.divide(average, count)\n",
    "    text_avg_vec.append(average)\n",
    "    text_vec = []\n",
    "    count = 0\n",
    "    \n",
    "for i in range(len(text_avg_vec)):\n",
    "    if type(text_avg_vec[i]) != np.ndarray:\n",
    "        text_avg_vec[i] = np.zeros(100)"
   ]
  },
  {
   "cell_type": "code",
   "execution_count": 6,
   "metadata": {
    "hidden": true
   },
   "outputs": [
    {
     "data": {
      "text/plain": [
       "<160000x3404513 sparse matrix of type '<class 'numpy.float64'>'\n",
       "\twith 12033848 stored elements in Compressed Sparse Row format>"
      ]
     },
     "execution_count": 6,
     "metadata": {},
     "output_type": "execute_result"
    }
   ],
   "source": [
    "from sklearn.feature_extraction.text import TfidfVectorizer\n",
    "\n",
    "tfidf = TfidfVectorizer(ngram_range=(1,2))\n",
    "tfidf_train = tfidf.fit_transform(df['text'])\n",
    "\n",
    "tfidf_train"
   ]
  },
  {
   "cell_type": "code",
   "execution_count": 8,
   "metadata": {
    "hidden": true
   },
   "outputs": [
    {
     "ename": "TypeError",
     "evalue": "sparse matrix length is ambiguous; use getnnz() or shape[0]",
     "output_type": "error",
     "traceback": [
      "\u001b[0;31m---------------------------------------------------------------------------\u001b[0m",
      "\u001b[0;31mTypeError\u001b[0m                                 Traceback (most recent call last)",
      "\u001b[0;32m<ipython-input-8-bb70b7c362fa>\u001b[0m in \u001b[0;36m<module>\u001b[0;34m\u001b[0m\n\u001b[1;32m     10\u001b[0m \u001b[0mx_train\u001b[0m\u001b[0;34m,\u001b[0m \u001b[0mx_val\u001b[0m\u001b[0;34m,\u001b[0m \u001b[0my_train\u001b[0m\u001b[0;34m,\u001b[0m \u001b[0my_val\u001b[0m \u001b[0;34m=\u001b[0m \u001b[0mtrain_test_split\u001b[0m\u001b[0;34m(\u001b[0m\u001b[0mx_train\u001b[0m\u001b[0;34m,\u001b[0m \u001b[0my_train\u001b[0m\u001b[0;34m,\u001b[0m \u001b[0mtest_size\u001b[0m\u001b[0;34m=\u001b[0m\u001b[0;36m40000\u001b[0m\u001b[0;34m,\u001b[0m \u001b[0mrandom_state\u001b[0m\u001b[0;34m=\u001b[0m\u001b[0;36m42\u001b[0m\u001b[0;34m)\u001b[0m\u001b[0;34m\u001b[0m\u001b[0;34m\u001b[0m\u001b[0m\n\u001b[1;32m     11\u001b[0m \u001b[0;34m\u001b[0m\u001b[0m\n\u001b[0;32m---> 12\u001b[0;31m \u001b[0mprint\u001b[0m\u001b[0;34m(\u001b[0m\u001b[0mlen\u001b[0m\u001b[0;34m(\u001b[0m\u001b[0mx_train\u001b[0m\u001b[0;34m)\u001b[0m\u001b[0;34m)\u001b[0m\u001b[0;34m\u001b[0m\u001b[0;34m\u001b[0m\u001b[0m\n\u001b[0m\u001b[1;32m     13\u001b[0m \u001b[0mprint\u001b[0m\u001b[0;34m(\u001b[0m\u001b[0mlen\u001b[0m\u001b[0;34m(\u001b[0m\u001b[0mx_val\u001b[0m\u001b[0;34m)\u001b[0m\u001b[0;34m)\u001b[0m\u001b[0;34m\u001b[0m\u001b[0;34m\u001b[0m\u001b[0m\n\u001b[1;32m     14\u001b[0m \u001b[0mprint\u001b[0m\u001b[0;34m(\u001b[0m\u001b[0mx_train\u001b[0m\u001b[0;34m.\u001b[0m\u001b[0mshape\u001b[0m\u001b[0;34m)\u001b[0m\u001b[0;34m\u001b[0m\u001b[0;34m\u001b[0m\u001b[0m\n",
      "\u001b[0;32m/opt/anaconda3/lib/python3.7/site-packages/scipy/sparse/base.py\u001b[0m in \u001b[0;36m__len__\u001b[0;34m(self)\u001b[0m\n\u001b[1;32m    293\u001b[0m     \u001b[0;31m# non-zeros is more important.  For now, raise an exception!\u001b[0m\u001b[0;34m\u001b[0m\u001b[0;34m\u001b[0m\u001b[0;34m\u001b[0m\u001b[0m\n\u001b[1;32m    294\u001b[0m     \u001b[0;32mdef\u001b[0m \u001b[0m__len__\u001b[0m\u001b[0;34m(\u001b[0m\u001b[0mself\u001b[0m\u001b[0;34m)\u001b[0m\u001b[0;34m:\u001b[0m\u001b[0;34m\u001b[0m\u001b[0;34m\u001b[0m\u001b[0m\n\u001b[0;32m--> 295\u001b[0;31m         raise TypeError(\"sparse matrix length is ambiguous; use getnnz()\"\n\u001b[0m\u001b[1;32m    296\u001b[0m                         \" or shape[0]\")\n\u001b[1;32m    297\u001b[0m \u001b[0;34m\u001b[0m\u001b[0m\n",
      "\u001b[0;31mTypeError\u001b[0m: sparse matrix length is ambiguous; use getnnz() or shape[0]"
     ]
    }
   ],
   "source": [
    "from scipy import sparse\n",
    "\n",
    "x_train = sparse.csr_matrix(np.array(text_avg_vec).reshape(-1, 100))\n",
    "\n",
    "x_train = sparse.hstack((x_train, tfidf_train))\n",
    "\n",
    "y_train = df['label'] - 1\n",
    "\n",
    "from sklearn.model_selection import train_test_split\n",
    "x_train, x_val, y_train, y_val = train_test_split(x_train, y_train, test_size=40000, random_state=42)"
   ]
  },
  {
   "cell_type": "markdown",
   "metadata": {
    "heading_collapsed": true,
    "hidden": true
   },
   "source": [
    "#### Test file prep"
   ]
  },
  {
   "cell_type": "code",
   "execution_count": 11,
   "metadata": {
    "hidden": true
   },
   "outputs": [],
   "source": [
    "#Load and Clean test file\n",
    "\n",
    "text_file = open(\"test.txt.txt\", \"r\", encoding=\"utf8\")\n",
    "lines = text_file.read().split('\\n')\n",
    "\n",
    "labels = []\n",
    "for item in lines:\n",
    "    first_four_letters = item[:10]\n",
    "    if first_four_letters == '__label__1':\n",
    "        labels.append(int(1))\n",
    "    else:\n",
    "        labels.append(int(2))\n",
    "        \n",
    "def remove_label(s):\n",
    "    return s[11:]\n",
    "lines = [remove_label(s) for s in lines]\n",
    "\n",
    "df = pd.DataFrame()\n",
    "df['text'] = lines\n",
    "df['label'] = labels\n",
    "\n",
    "stop = stopwords.words('english')\n",
    "w_tokenizer = nltk.tokenize.WhitespaceTokenizer()\n",
    "lemmatizer = nltk.stem.WordNetLemmatizer()\n",
    "\n",
    "def lemmatize_text(text):\n",
    "    return [lemmatizer.lemmatize(w) for w in w_tokenizer.tokenize(text)]\n",
    "\n",
    "#lowercase and remove punctuation, remove stopwords        \n",
    "df['text'] = df['text'].str.lower()\n",
    "df['text'] = df['text'].str.replace('-', ' ')\n",
    "df['text'] = df['text'].str.split(' ')\n",
    "df['text'] = df['text'].apply(lambda x: [item for item in x if item not in stop])\n",
    "df['text'] = df['text'].apply(', '.join)\n",
    "df['text'] = df['text'].str.replace('[{}]'.format(string.punctuation), '')\n",
    "df['text'] = df['text'].apply(lemmatize_text)\n",
    "df['text'] = df['text'].apply(', '.join)\n",
    "df['text'] = df['text'].str.replace('[{}]'.format(string.punctuation), '')\n",
    "df['text'] = df['text'].str.replace('\\\\', ' ')\n",
    "\n",
    "df = df.sample(40000)"
   ]
  },
  {
   "cell_type": "code",
   "execution_count": 12,
   "metadata": {
    "hidden": true
   },
   "outputs": [
    {
     "name": "stderr",
     "output_type": "stream",
     "text": [
      "/opt/anaconda3/lib/python3.7/site-packages/ipykernel_launcher.py:9: TqdmDeprecationWarning: This function will be removed in tqdm==5.0.0\n",
      "Please use `tqdm.notebook.tqdm` instead of `tqdm.tqdm_notebook`\n",
      "  if __name__ == '__main__':\n"
     ]
    },
    {
     "data": {
      "application/vnd.jupyter.widget-view+json": {
       "model_id": "9321172f0e25447f9758ab947dc70545",
       "version_major": 2,
       "version_minor": 0
      },
      "text/plain": [
       "HBox(children=(FloatProgress(value=0.0, max=40000.0), HTML(value='')))"
      ]
     },
     "metadata": {},
     "output_type": "display_data"
    },
    {
     "name": "stderr",
     "output_type": "stream",
     "text": [
      "/opt/anaconda3/lib/python3.7/site-packages/ipykernel_launcher.py:14: DeprecationWarning: Call to deprecated `__getitem__` (Method will be removed in 4.0.0, use self.wv.__getitem__() instead).\n",
      "  \n"
     ]
    },
    {
     "name": "stdout",
     "output_type": "stream",
     "text": [
      "\n"
     ]
    }
   ],
   "source": [
    "#Embed Word2Vec and BOW\n",
    "\n",
    "from tqdm import tqdm_notebook as tqdm\n",
    "\n",
    "text = [row.split() for row in df['text']]\n",
    "text_vec = []\n",
    "text_avg_vec = []\n",
    "count = 0\n",
    "for row in tqdm(range(len(text))):\n",
    "    [word.split(' ', 1) for word in text[row]]\n",
    "  \n",
    "    for i in range(len(text[row])):\n",
    "        try:\n",
    "            text_vec.append(model_w2v[text[row][i]])\n",
    "            count = count + 1\n",
    "        except KeyError as e:\n",
    "            text_vec.append([0]*100)\n",
    "  \n",
    "    average = np.add.reduce(text_vec)\n",
    "    if count==0:\n",
    "        count = 1\n",
    "    average = np.divide(average, count)\n",
    "    text_avg_vec.append(average)\n",
    "    text_vec = []\n",
    "    count = 0"
   ]
  },
  {
   "cell_type": "code",
   "execution_count": 13,
   "metadata": {
    "hidden": true
   },
   "outputs": [],
   "source": [
    "for i in range(len(text_avg_vec)):\n",
    "    if type(text_avg_vec[i]) != np.ndarray:\n",
    "        text_avg_vec[i] = np.zeros(100)"
   ]
  },
  {
   "cell_type": "code",
   "execution_count": 14,
   "metadata": {
    "hidden": true
   },
   "outputs": [
    {
     "name": "stdout",
     "output_type": "stream",
     "text": [
      "(40000, 3404613)\n"
     ]
    }
   ],
   "source": [
    "tfidf_test = tfidf.transform(df['text'])\n",
    "x_test = sparse.csr_matrix(np.array(text_avg_vec).reshape(-1, 100))\n",
    "\n",
    "x_test = sparse.hstack((x_test, tfidf_test))\n",
    "\n",
    "y_test = df['label'] - 1\n",
    "\n",
    "print(x_test.shape)"
   ]
  },
  {
   "cell_type": "markdown",
   "metadata": {
    "hidden": true
   },
   "source": [
    "#### Evaluate Default Logreg"
   ]
  },
  {
   "cell_type": "code",
   "execution_count": 16,
   "metadata": {
    "hidden": true
   },
   "outputs": [
    {
     "name": "stdout",
     "output_type": "stream",
     "text": [
      "88.10% (+/- 0.29%)\n"
     ]
    }
   ],
   "source": [
    "from sklearn.model_selection import StratifiedKFold\n",
    "from sklearn.linear_model import LogisticRegression\n",
    "\n",
    "kf = StratifiedKFold(n_splits=10, shuffle=True, random_state=42)\n",
    "cvscores=[]\n",
    "\n",
    "y_train = np.array(y_train)\n",
    "\n",
    "for train_index, val_index in kf.split(x_train, y_train):\n",
    "    x_train_kf, x_val_kf = x_train[train_index], x_train[val_index]\n",
    "    y_train_kf, y_val_kf = y_train[train_index], y_train[val_index]\n",
    "    \n",
    "    model = LogisticRegression(random_state=42, max_iter=2000)\n",
    "    model.fit(x_train_kf, y_train_kf)\n",
    "    \n",
    "    scores = model.score(x_val_kf, y_val_kf)\n",
    "    cvscores.append(scores * 100)\n",
    "    \n",
    "print(\"%.2f%% (+/- %.2f%%)\" % (np.mean(cvscores), np.std(cvscores)))"
   ]
  },
  {
   "cell_type": "markdown",
   "metadata": {
    "heading_collapsed": true,
    "hidden": true
   },
   "source": [
    "### 30,000 features with Optimum Logreg from GridSearch"
   ]
  },
  {
   "cell_type": "code",
   "execution_count": 1,
   "metadata": {
    "hidden": true
   },
   "outputs": [
    {
     "name": "stderr",
     "output_type": "stream",
     "text": [
      "C:\\Users\\danie\\anaconda3\\lib\\importlib\\_bootstrap.py:219: RuntimeWarning: numpy.ufunc size changed, may indicate binary incompatibility. Expected 192 from C header, got 216 from PyObject\n",
      "  return f(*args, **kwds)\n",
      "C:\\Users\\danie\\anaconda3\\lib\\importlib\\_bootstrap.py:219: RuntimeWarning: numpy.ufunc size changed, may indicate binary incompatibility. Expected 192 from C header, got 216 from PyObject\n",
      "  return f(*args, **kwds)\n"
     ]
    }
   ],
   "source": [
    "import pandas as pd\n",
    "import numpy as np\n",
    "import csv\n",
    "import sys\n",
    "import nltk\n",
    "from nltk.corpus import stopwords\n",
    "import glob\n",
    "import os\n",
    "import string"
   ]
  },
  {
   "cell_type": "code",
   "execution_count": 43,
   "metadata": {
    "hidden": true
   },
   "outputs": [
    {
     "name": "stdout",
     "output_type": "stream",
     "text": [
      "160000\n"
     ]
    },
    {
     "name": "stderr",
     "output_type": "stream",
     "text": [
      "C:\\Users\\danie\\anaconda3\\lib\\site-packages\\ipykernel_launcher.py:64: TqdmDeprecationWarning: This function will be removed in tqdm==5.0.0\n",
      "Please use `tqdm.notebook.tqdm` instead of `tqdm.tqdm_notebook`\n"
     ]
    },
    {
     "data": {
      "application/vnd.jupyter.widget-view+json": {
       "model_id": "fc475d9667134d6a9da19c3c696cd795",
       "version_major": 2,
       "version_minor": 0
      },
      "text/plain": [
       "HBox(children=(FloatProgress(value=0.0, max=160000.0), HTML(value='')))"
      ]
     },
     "metadata": {},
     "output_type": "display_data"
    },
    {
     "name": "stderr",
     "output_type": "stream",
     "text": [
      "C:\\Users\\danie\\anaconda3\\lib\\site-packages\\ipykernel_launcher.py:69: DeprecationWarning: Call to deprecated `__getitem__` (Method will be removed in 4.0.0, use self.wv.__getitem__() instead).\n"
     ]
    },
    {
     "name": "stdout",
     "output_type": "stream",
     "text": [
      "\n"
     ]
    }
   ],
   "source": [
    "#Load training file\n",
    "\n",
    "text_file = open(\"train.txt.txt\", \"r\", encoding=\"utf8\")\n",
    "lines = text_file.read().split('\\n')\n",
    "\n",
    "labels = []\n",
    "for item in lines:\n",
    "    first_four_letters = item[:10]\n",
    "    if first_four_letters == '__label__1':\n",
    "        labels.append(int(1))\n",
    "    else:\n",
    "        labels.append(int(2))\n",
    "        \n",
    "def remove_label(s):\n",
    "    return s[11:]\n",
    "lines = [remove_label(s) for s in lines]\n",
    "\n",
    "df = pd.DataFrame()\n",
    "df['text'] = lines\n",
    "df['label'] = labels\n",
    "\n",
    "df = df.sample(160000)\n",
    "print(len(df))\n",
    "df.head()\n",
    "\n",
    "#Clean text\n",
    "\n",
    "stop = stopwords.words('english')\n",
    "w_tokenizer = nltk.tokenize.WhitespaceTokenizer()\n",
    "lemmatizer = nltk.stem.WordNetLemmatizer()\n",
    "\n",
    "def lemmatize_text(text):\n",
    "    return [lemmatizer.lemmatize(w) for w in w_tokenizer.tokenize(text)]\n",
    "\n",
    "#lowercase and remove punctuation, remove stopwords        \n",
    "df['text'] = df['text'].str.lower()\n",
    "df['text'] = df['text'].str.replace('-', ' ')\n",
    "df['text'] = df['text'].str.split(' ')\n",
    "df['text'] = df['text'].apply(lambda x: [item for item in x if item not in stop])\n",
    "df['text'] = df['text'].apply(', '.join)\n",
    "df['text'] = df['text'].str.replace('[{}]'.format(string.punctuation), '')\n",
    "df['text'] = df['text'].apply(lemmatize_text)\n",
    "df['text'] = df['text'].apply(', '.join)\n",
    "df['text'] = df['text'].str.replace('[{}]'.format(string.punctuation), '')\n",
    "df['text'] = df['text'].str.replace('\\\\', ' ')\n",
    "\n",
    "\n",
    "#Train Word2Vec\n",
    "\n",
    "from gensim.models import Word2Vec\n",
    "\n",
    "text = [row.split() for row in df['text']]\n",
    "model_w2v = Word2Vec(text)\n",
    "\n",
    "model_w2v.save('model_w2v.bin')\n",
    "\n",
    "#Average Word2Vec Vectors for BOW\n",
    "\n",
    "from tqdm import tqdm_notebook as tqdm\n",
    "\n",
    "text_vec = []\n",
    "text_avg_vec = []\n",
    "count = 0\n",
    "for row in tqdm(range(len(text))):\n",
    "    [word.split(' ', 1) for word in text[row]]\n",
    "  \n",
    "    for i in range(len(text[row])):\n",
    "        try:\n",
    "            text_vec.append(model_w2v[text[row][i]])\n",
    "            count = count + 1\n",
    "        except KeyError as e:\n",
    "            text_vec.append([0]*100)\n",
    "  \n",
    "    average = np.add.reduce(text_vec)\n",
    "    if count==0:\n",
    "        count = 1\n",
    "    average = np.divide(average, count)\n",
    "    text_avg_vec.append(average)\n",
    "    text_vec = []\n",
    "    count = 0\n",
    "\n",
    "for i in range(len(text_avg_vec)):\n",
    "    if type(text_avg_vec[i]) != np.ndarray:\n",
    "        text_avg_vec[i] = np.zeros(100)"
   ]
  },
  {
   "cell_type": "code",
   "execution_count": 44,
   "metadata": {
    "hidden": true
   },
   "outputs": [],
   "source": [
    "from sklearn.feature_extraction.text import TfidfVectorizer\n",
    "\n",
    "tfidf = TfidfVectorizer(ngram_range=(1,2), max_features=29900)\n",
    "\n",
    "tfidf_features = tfidf.fit_transform(df['text'])"
   ]
  },
  {
   "cell_type": "code",
   "execution_count": 9,
   "metadata": {
    "hidden": true
   },
   "outputs": [
    {
     "data": {
      "text/plain": [
       "<160000x29900 sparse matrix of type '<class 'numpy.float64'>'\n",
       "\twith 6508195 stored elements in Compressed Sparse Row format>"
      ]
     },
     "execution_count": 9,
     "metadata": {},
     "output_type": "execute_result"
    }
   ],
   "source": [
    "tfidf_features"
   ]
  },
  {
   "cell_type": "code",
   "execution_count": 45,
   "metadata": {
    "hidden": true
   },
   "outputs": [
    {
     "data": {
      "text/plain": [
       "(160000, 100)"
      ]
     },
     "execution_count": 45,
     "metadata": {},
     "output_type": "execute_result"
    }
   ],
   "source": [
    "x_train = text_avg_vec\n",
    "x_train = np.array(x_train).reshape(-1, 100)\n",
    "\n",
    "from scipy import sparse\n",
    "\n",
    "x_train = sparse.csr_matrix(x_train)\n",
    "x_train.shape"
   ]
  },
  {
   "cell_type": "code",
   "execution_count": 12,
   "metadata": {
    "hidden": true
   },
   "outputs": [
    {
     "data": {
      "text/plain": [
       "(160000, 29900)"
      ]
     },
     "execution_count": 12,
     "metadata": {},
     "output_type": "execute_result"
    }
   ],
   "source": [
    "tfidf_features.shape"
   ]
  },
  {
   "cell_type": "code",
   "execution_count": 46,
   "metadata": {
    "hidden": true
   },
   "outputs": [
    {
     "data": {
      "text/plain": [
       "(160000, 30000)"
      ]
     },
     "execution_count": 46,
     "metadata": {},
     "output_type": "execute_result"
    }
   ],
   "source": [
    "x_train = sparse.hstack([x_train, tfidf_features])\n",
    "x_train.shape"
   ]
  },
  {
   "cell_type": "code",
   "execution_count": 47,
   "metadata": {
    "hidden": true
   },
   "outputs": [
    {
     "name": "stdout",
     "output_type": "stream",
     "text": [
      "(120000, 30000)\n",
      "(40000, 30000)\n"
     ]
    }
   ],
   "source": [
    "df['label'] = df['label'] - 1\n",
    "\n",
    "y_train= np.asarray(df.label)\n",
    "\n",
    "from sklearn.model_selection import train_test_split\n",
    "x_train, x_val, y_train, y_val = train_test_split(x_train, y_train, test_size=40000, random_state=42)\n",
    "\n",
    "print(x_train.shape)\n",
    "print(x_val.shape)"
   ]
  },
  {
   "cell_type": "code",
   "execution_count": 48,
   "metadata": {
    "hidden": true
   },
   "outputs": [
    {
     "name": "stdout",
     "output_type": "stream",
     "text": [
      "0.9164333333333333\n",
      "0.89175\n"
     ]
    }
   ],
   "source": [
    "from sklearn.linear_model import LogisticRegression\n",
    "\n",
    "model = LogisticRegression(random_state=42, max_iter=2000)\n",
    "model.fit(x_train, y_train)\n",
    "\n",
    "print(model.score(x_train, y_train))\n",
    "print(model.score(x_val, y_val))"
   ]
  },
  {
   "cell_type": "code",
   "execution_count": 35,
   "metadata": {
    "hidden": true
   },
   "outputs": [
    {
     "name": "stdout",
     "output_type": "stream",
     "text": [
      "0.9025416666666667\n",
      "0.887975\n"
     ]
    }
   ],
   "source": [
    "model = LogisticRegression(random_state=42, max_iter=2000, C=0.5, penalty='l2', solver='sag')\n",
    "model.fit(x_train, y_train)\n",
    "\n",
    "print(model.score(x_train, y_train))\n",
    "print(model.score(x_val, y_val))"
   ]
  },
  {
   "cell_type": "code",
   "execution_count": 22,
   "metadata": {
    "hidden": true
   },
   "outputs": [
    {
     "name": "stdout",
     "output_type": "stream",
     "text": [
      "89.15% (+/- 0.16%)\n"
     ]
    }
   ],
   "source": [
    "from sklearn.model_selection import StratifiedKFold\n",
    "\n",
    "kf = StratifiedKFold(n_splits=10, shuffle=True, random_state=42)\n",
    "cvscores=[]\n",
    "\n",
    "for train_index, val_index in kf.split(x_train, y_train):\n",
    "    x_train_kf, x_val_kf = x_train[train_index], x_train[val_index]\n",
    "    y_train_kf, y_val_kf = y_train[train_index], y_train[val_index]\n",
    "    \n",
    "    model = LogisticRegression(random_state=42, max_iter=2000)\n",
    "    model.fit(x_train_kf, y_train_kf)\n",
    "    \n",
    "    scores = model.score(x_val_kf, y_val_kf)\n",
    "    cvscores.append(scores * 100)\n",
    "    \n",
    "print(\"%.2f%% (+/- %.2f%%)\" % (np.mean(cvscores), np.std(cvscores)))"
   ]
  },
  {
   "cell_type": "markdown",
   "metadata": {
    "hidden": true
   },
   "source": [
    "#### Test Load"
   ]
  },
  {
   "cell_type": "code",
   "execution_count": 49,
   "metadata": {
    "colab": {},
    "colab_type": "code",
    "hidden": true,
    "id": "Rfak2r_3F1IT"
   },
   "outputs": [],
   "source": [
    "#Load and Clean test file\n",
    "\n",
    "text_file = open(\"test.txt.txt\", \"r\", encoding=\"utf8\")\n",
    "lines = text_file.read().split('\\n')\n",
    "\n",
    "labels = []\n",
    "for item in lines:\n",
    "    first_four_letters = item[:10]\n",
    "    if first_four_letters == '__label__1':\n",
    "        labels.append(int(1))\n",
    "    else:\n",
    "        labels.append(int(2))\n",
    "        \n",
    "def remove_label(s):\n",
    "    return s[11:]\n",
    "lines = [remove_label(s) for s in lines]\n",
    "\n",
    "df = pd.DataFrame()\n",
    "df['text'] = lines\n",
    "df['label'] = labels\n",
    "\n",
    "stop = stopwords.words('english')\n",
    "w_tokenizer = nltk.tokenize.WhitespaceTokenizer()\n",
    "lemmatizer = nltk.stem.WordNetLemmatizer()\n",
    "\n",
    "def lemmatize_text(text):\n",
    "    return [lemmatizer.lemmatize(w) for w in w_tokenizer.tokenize(text)]\n",
    "\n",
    "#lowercase and remove punctuation, remove stopwords        \n",
    "df['text'] = df['text'].str.lower()\n",
    "df['text'] = df['text'].str.replace('-', ' ')\n",
    "df['text'] = df['text'].str.split(' ')\n",
    "df['text'] = df['text'].apply(lambda x: [item for item in x if item not in stop])\n",
    "df['text'] = df['text'].apply(', '.join)\n",
    "df['text'] = df['text'].str.replace('[{}]'.format(string.punctuation), '')\n",
    "df['text'] = df['text'].apply(lemmatize_text)\n",
    "df['text'] = df['text'].apply(', '.join)\n",
    "df['text'] = df['text'].str.replace('[{}]'.format(string.punctuation), '')\n",
    "df['text'] = df['text'].str.replace('\\\\', ' ')\n",
    "\n",
    "df = df.sample(40000)"
   ]
  },
  {
   "cell_type": "code",
   "execution_count": 50,
   "metadata": {
    "colab": {},
    "colab_type": "code",
    "hidden": true,
    "id": "cMhYlNcnF1IV",
    "outputId": "bdb06eba-7493-4e4f-d0f6-f6ab037e7f76",
    "tags": []
   },
   "outputs": [
    {
     "name": "stderr",
     "output_type": "stream",
     "text": [
      "C:\\Users\\danie\\anaconda3\\lib\\site-packages\\ipykernel_launcher.py:9: TqdmDeprecationWarning: This function will be removed in tqdm==5.0.0\n",
      "Please use `tqdm.notebook.tqdm` instead of `tqdm.tqdm_notebook`\n",
      "  if __name__ == '__main__':\n"
     ]
    },
    {
     "data": {
      "application/vnd.jupyter.widget-view+json": {
       "model_id": "91980dad1d724dd3a7f6854d3ea46be1",
       "version_major": 2,
       "version_minor": 0
      },
      "text/plain": [
       "HBox(children=(FloatProgress(value=0.0, max=40000.0), HTML(value='')))"
      ]
     },
     "metadata": {},
     "output_type": "display_data"
    },
    {
     "name": "stderr",
     "output_type": "stream",
     "text": [
      "C:\\Users\\danie\\anaconda3\\lib\\site-packages\\ipykernel_launcher.py:14: DeprecationWarning: Call to deprecated `__getitem__` (Method will be removed in 4.0.0, use self.wv.__getitem__() instead).\n",
      "  \n"
     ]
    },
    {
     "name": "stdout",
     "output_type": "stream",
     "text": [
      "\n"
     ]
    }
   ],
   "source": [
    "#Embed Word2Vec and BOW\n",
    "\n",
    "from tqdm import tqdm_notebook as tqdm\n",
    "\n",
    "text = [row.split() for row in df['text']]\n",
    "text_vec = []\n",
    "text_avg_vec = []\n",
    "count = 0\n",
    "for row in tqdm(range(len(text))):\n",
    "    [word.split(' ', 1) for word in text[row]]\n",
    "  \n",
    "    for i in range(len(text[row])):\n",
    "        try:\n",
    "            text_vec.append(model_w2v[text[row][i]])\n",
    "            count = count + 1\n",
    "        except KeyError as e:\n",
    "            text_vec.append([0]*100)\n",
    "  \n",
    "    average = np.add.reduce(text_vec)\n",
    "    if count==0:\n",
    "        count = 1\n",
    "    average = np.divide(average, count)\n",
    "    text_avg_vec.append(average)\n",
    "    text_vec = []\n",
    "    count = 0"
   ]
  },
  {
   "cell_type": "code",
   "execution_count": 51,
   "metadata": {
    "colab": {},
    "colab_type": "code",
    "hidden": true,
    "id": "U1tz0Ls2F1IY"
   },
   "outputs": [],
   "source": [
    "for i in range(len(text_avg_vec)):\n",
    "    if type(text_avg_vec[i]) != np.ndarray:\n",
    "        text_avg_vec[i] = np.zeros(100)"
   ]
  },
  {
   "cell_type": "code",
   "execution_count": 52,
   "metadata": {
    "colab": {},
    "colab_type": "code",
    "hidden": true,
    "id": "cPDOp-FDF1Ia"
   },
   "outputs": [],
   "source": [
    "x_test = text_avg_vec\n",
    "#x_test = np.c_[x_test]\n",
    "\n",
    "df['label'] = df['label'] - 1"
   ]
  },
  {
   "cell_type": "code",
   "execution_count": 53,
   "metadata": {
    "hidden": true
   },
   "outputs": [
    {
     "name": "stdout",
     "output_type": "stream",
     "text": [
      "(40000, 30000)\n"
     ]
    }
   ],
   "source": [
    "tfidf_features = tfidf.transform(df['text'])\n",
    "\n",
    "x_test = np.array(text_avg_vec).reshape(-1, 100)\n",
    "x_test = sparse.csr_matrix(x_test)\n",
    "x_test = sparse.hstack([x_test, tfidf_features])\n",
    "\n",
    "y_test = np.asarray(df['label'])\n",
    "\n",
    "print((x_test.shape))"
   ]
  },
  {
   "cell_type": "code",
   "execution_count": 54,
   "metadata": {
    "hidden": true
   },
   "outputs": [
    {
     "name": "stdout",
     "output_type": "stream",
     "text": [
      "0.8927\n",
      "              precision    recall  f1-score   support\n",
      "\n",
      "           0       0.90      0.89      0.89     20068\n",
      "           1       0.89      0.90      0.89     19932\n",
      "\n",
      "    accuracy                           0.89     40000\n",
      "   macro avg       0.89      0.89      0.89     40000\n",
      "weighted avg       0.89      0.89      0.89     40000\n",
      "\n"
     ]
    }
   ],
   "source": [
    "from sklearn.metrics import classification_report\n",
    "\n",
    "predicted = model.predict(x_test)\n",
    "\n",
    "print(model.score(x_test, y_test))\n",
    "print(classification_report(y_test, predicted))"
   ]
  },
  {
   "cell_type": "markdown",
   "metadata": {
    "heading_collapsed": true
   },
   "source": [
    "## Neural Net with new Features"
   ]
  },
  {
   "cell_type": "markdown",
   "metadata": {
    "heading_collapsed": true,
    "hidden": true
   },
   "source": [
    "### Constructing train features"
   ]
  },
  {
   "cell_type": "code",
   "execution_count": 1,
   "metadata": {
    "hidden": true
   },
   "outputs": [
    {
     "name": "stdout",
     "output_type": "stream",
     "text": [
      "160000\n"
     ]
    },
    {
     "name": "stderr",
     "output_type": "stream",
     "text": [
      "C:\\Users\\danie\\anaconda3\\lib\\site-packages\\ipykernel_launcher.py:74: TqdmDeprecationWarning: This function will be removed in tqdm==5.0.0\n",
      "Please use `tqdm.notebook.tqdm` instead of `tqdm.tqdm_notebook`\n"
     ]
    },
    {
     "data": {
      "application/vnd.jupyter.widget-view+json": {
       "model_id": "cd2d39b28f7a4c12b49620281793c528",
       "version_major": 2,
       "version_minor": 0
      },
      "text/plain": [
       "HBox(children=(FloatProgress(value=0.0, max=160000.0), HTML(value='')))"
      ]
     },
     "metadata": {},
     "output_type": "display_data"
    },
    {
     "name": "stderr",
     "output_type": "stream",
     "text": [
      "C:\\Users\\danie\\anaconda3\\lib\\site-packages\\ipykernel_launcher.py:79: DeprecationWarning: Call to deprecated `__getitem__` (Method will be removed in 4.0.0, use self.wv.__getitem__() instead).\n"
     ]
    },
    {
     "name": "stdout",
     "output_type": "stream",
     "text": [
      "\n",
      "(120000, 30000)\n",
      "(40000, 30000)\n"
     ]
    }
   ],
   "source": [
    "import pandas as pd\n",
    "import numpy as np\n",
    "import csv\n",
    "import sys\n",
    "import nltk\n",
    "from nltk.corpus import stopwords\n",
    "import glob\n",
    "import os\n",
    "import string\n",
    "\n",
    "#Load training file\n",
    "\n",
    "text_file = open(\"train.txt.txt\", \"r\", encoding=\"utf8\")\n",
    "lines = text_file.read().split('\\n')\n",
    "\n",
    "labels = []\n",
    "for item in lines:\n",
    "    first_four_letters = item[:10]\n",
    "    if first_four_letters == '__label__1':\n",
    "        labels.append(int(1))\n",
    "    else:\n",
    "        labels.append(int(2))\n",
    "        \n",
    "def remove_label(s):\n",
    "    return s[11:]\n",
    "lines = [remove_label(s) for s in lines]\n",
    "\n",
    "df = pd.DataFrame()\n",
    "df['text'] = lines\n",
    "df['label'] = labels\n",
    "\n",
    "df = df.sample(160000)\n",
    "print(len(df))\n",
    "df.head()\n",
    "\n",
    "#Clean text\n",
    "\n",
    "stop = stopwords.words('english')\n",
    "w_tokenizer = nltk.tokenize.WhitespaceTokenizer()\n",
    "lemmatizer = nltk.stem.WordNetLemmatizer()\n",
    "\n",
    "def lemmatize_text(text):\n",
    "    return [lemmatizer.lemmatize(w) for w in w_tokenizer.tokenize(text)]\n",
    "\n",
    "#lowercase and remove punctuation, remove stopwords        \n",
    "df['text'] = df['text'].str.lower()\n",
    "df['text'] = df['text'].str.replace('-', ' ')\n",
    "df['text'] = df['text'].str.split(' ')\n",
    "df['text'] = df['text'].apply(lambda x: [item for item in x if item not in stop])\n",
    "df['text'] = df['text'].apply(', '.join)\n",
    "df['text'] = df['text'].str.replace('[{}]'.format(string.punctuation), '')\n",
    "df['text'] = df['text'].apply(lemmatize_text)\n",
    "df['text'] = df['text'].apply(', '.join)\n",
    "df['text'] = df['text'].str.replace('[{}]'.format(string.punctuation), '')\n",
    "df['text'] = df['text'].str.replace('\\\\', ' ')\n",
    "\n",
    "\n",
    "#Train Word2Vec\n",
    "\n",
    "from gensim.models import Word2Vec\n",
    "\n",
    "text = [row.split() for row in df['text']]\n",
    "model_w2v = Word2Vec(text)\n",
    "\n",
    "model_w2v.save('model_w2v.bin')\n",
    "\n",
    "#Average Word2Vec Vectors for BOW\n",
    "\n",
    "from tqdm import tqdm_notebook as tqdm\n",
    "\n",
    "text_vec = []\n",
    "text_avg_vec = []\n",
    "count = 0\n",
    "for row in tqdm(range(len(text))):\n",
    "    [word.split(' ', 1) for word in text[row]]\n",
    "  \n",
    "    for i in range(len(text[row])):\n",
    "        try:\n",
    "            text_vec.append(model_w2v[text[row][i]])\n",
    "            count = count + 1\n",
    "        except KeyError as e:\n",
    "            text_vec.append([0]*100)\n",
    "  \n",
    "    average = np.add.reduce(text_vec)\n",
    "    if count==0:\n",
    "        count = 1\n",
    "    average = np.divide(average, count)\n",
    "    text_avg_vec.append(average)\n",
    "    text_vec = []\n",
    "    count = 0\n",
    "\n",
    "for i in range(len(text_avg_vec)):\n",
    "    if type(text_avg_vec[i]) != np.ndarray:\n",
    "        text_avg_vec[i] = np.zeros(100)\n",
    "\n",
    "from sklearn.feature_extraction.text import TfidfVectorizer\n",
    "\n",
    "tfidf = TfidfVectorizer(ngram_range=(1,2), max_features=29900)\n",
    "\n",
    "tfidf_features = tfidf.fit_transform(df['text'])\n",
    "\n",
    "x_train = text_avg_vec\n",
    "x_train = np.array(x_train).reshape(-1, 100)\n",
    "\n",
    "from scipy import sparse\n",
    "\n",
    "x_train = sparse.csr_matrix(x_train)\n",
    "x_train.shape\n",
    "\n",
    "x_train = sparse.hstack([x_train, tfidf_features])\n",
    "x_train.shape\n",
    "\n",
    "df['label'] = df['label'] - 1\n",
    "\n",
    "y_train= np.asarray(df.label)\n",
    "\n",
    "from sklearn.model_selection import train_test_split\n",
    "x_train, x_val, y_train, y_val = train_test_split(x_train, y_train, test_size=40000, random_state=42)\n",
    "\n",
    "print(x_train.shape)\n",
    "print(x_val.shape)"
   ]
  },
  {
   "cell_type": "markdown",
   "metadata": {
    "heading_collapsed": true,
    "hidden": true
   },
   "source": [
    "### Neural net training"
   ]
  },
  {
   "cell_type": "code",
   "execution_count": 5,
   "metadata": {
    "hidden": true
   },
   "outputs": [
    {
     "name": "stderr",
     "output_type": "stream",
     "text": [
      "Using TensorFlow backend.\n",
      "C:\\Users\\danie\\anaconda3\\lib\\site-packages\\tensorflow\\python\\framework\\dtypes.py:516: FutureWarning: Passing (type, 1) or '1type' as a synonym of type is deprecated; in a future version of numpy, it will be understood as (type, (1,)) / '(1,)type'.\n",
      "  _np_qint8 = np.dtype([(\"qint8\", np.int8, 1)])\n",
      "C:\\Users\\danie\\anaconda3\\lib\\site-packages\\tensorflow\\python\\framework\\dtypes.py:517: FutureWarning: Passing (type, 1) or '1type' as a synonym of type is deprecated; in a future version of numpy, it will be understood as (type, (1,)) / '(1,)type'.\n",
      "  _np_quint8 = np.dtype([(\"quint8\", np.uint8, 1)])\n",
      "C:\\Users\\danie\\anaconda3\\lib\\site-packages\\tensorflow\\python\\framework\\dtypes.py:518: FutureWarning: Passing (type, 1) or '1type' as a synonym of type is deprecated; in a future version of numpy, it will be understood as (type, (1,)) / '(1,)type'.\n",
      "  _np_qint16 = np.dtype([(\"qint16\", np.int16, 1)])\n",
      "C:\\Users\\danie\\anaconda3\\lib\\site-packages\\tensorflow\\python\\framework\\dtypes.py:519: FutureWarning: Passing (type, 1) or '1type' as a synonym of type is deprecated; in a future version of numpy, it will be understood as (type, (1,)) / '(1,)type'.\n",
      "  _np_quint16 = np.dtype([(\"quint16\", np.uint16, 1)])\n",
      "C:\\Users\\danie\\anaconda3\\lib\\site-packages\\tensorflow\\python\\framework\\dtypes.py:520: FutureWarning: Passing (type, 1) or '1type' as a synonym of type is deprecated; in a future version of numpy, it will be understood as (type, (1,)) / '(1,)type'.\n",
      "  _np_qint32 = np.dtype([(\"qint32\", np.int32, 1)])\n",
      "C:\\Users\\danie\\anaconda3\\lib\\site-packages\\tensorflow\\python\\framework\\dtypes.py:525: FutureWarning: Passing (type, 1) or '1type' as a synonym of type is deprecated; in a future version of numpy, it will be understood as (type, (1,)) / '(1,)type'.\n",
      "  np_resource = np.dtype([(\"resource\", np.ubyte, 1)])\n",
      "C:\\Users\\danie\\anaconda3\\lib\\site-packages\\tensorboard\\compat\\tensorflow_stub\\dtypes.py:541: FutureWarning: Passing (type, 1) or '1type' as a synonym of type is deprecated; in a future version of numpy, it will be understood as (type, (1,)) / '(1,)type'.\n",
      "  _np_qint8 = np.dtype([(\"qint8\", np.int8, 1)])\n",
      "C:\\Users\\danie\\anaconda3\\lib\\site-packages\\tensorboard\\compat\\tensorflow_stub\\dtypes.py:542: FutureWarning: Passing (type, 1) or '1type' as a synonym of type is deprecated; in a future version of numpy, it will be understood as (type, (1,)) / '(1,)type'.\n",
      "  _np_quint8 = np.dtype([(\"quint8\", np.uint8, 1)])\n",
      "C:\\Users\\danie\\anaconda3\\lib\\site-packages\\tensorboard\\compat\\tensorflow_stub\\dtypes.py:543: FutureWarning: Passing (type, 1) or '1type' as a synonym of type is deprecated; in a future version of numpy, it will be understood as (type, (1,)) / '(1,)type'.\n",
      "  _np_qint16 = np.dtype([(\"qint16\", np.int16, 1)])\n",
      "C:\\Users\\danie\\anaconda3\\lib\\site-packages\\tensorboard\\compat\\tensorflow_stub\\dtypes.py:544: FutureWarning: Passing (type, 1) or '1type' as a synonym of type is deprecated; in a future version of numpy, it will be understood as (type, (1,)) / '(1,)type'.\n",
      "  _np_quint16 = np.dtype([(\"quint16\", np.uint16, 1)])\n",
      "C:\\Users\\danie\\anaconda3\\lib\\site-packages\\tensorboard\\compat\\tensorflow_stub\\dtypes.py:545: FutureWarning: Passing (type, 1) or '1type' as a synonym of type is deprecated; in a future version of numpy, it will be understood as (type, (1,)) / '(1,)type'.\n",
      "  _np_qint32 = np.dtype([(\"qint32\", np.int32, 1)])\n",
      "C:\\Users\\danie\\anaconda3\\lib\\site-packages\\tensorboard\\compat\\tensorflow_stub\\dtypes.py:550: FutureWarning: Passing (type, 1) or '1type' as a synonym of type is deprecated; in a future version of numpy, it will be understood as (type, (1,)) / '(1,)type'.\n",
      "  np_resource = np.dtype([(\"resource\", np.ubyte, 1)])\n"
     ]
    }
   ],
   "source": [
    "import keras\n",
    "\n",
    "y_train = keras.utils.to_categorical(y_train, num_classes=2, dtype='int32')\n",
    "y_val = keras.utils.to_categorical(y_val, num_classes=2, dtype='int32')"
   ]
  },
  {
   "cell_type": "code",
   "execution_count": 7,
   "metadata": {
    "hidden": true
   },
   "outputs": [],
   "source": [
    "def batch_generator(X, y, batch_size, shuffle):\n",
    "    number_of_batches = X.shape[0]/batch_size\n",
    "    counter = 0\n",
    "    sample_index = np.arange(X.shape[0])\n",
    "    if shuffle:\n",
    "        np.random.shuffle(sample_index)\n",
    "    while True:\n",
    "        batch_index = sample_index[batch_size*counter:batch_size*(counter+1)]\n",
    "        X_batch = X[batch_index,:].toarray()\n",
    "        y_batch = y[batch_index]\n",
    "        counter += 1\n",
    "        yield X_batch, y_batch\n",
    "        if (counter == number_of_batches):\n",
    "            if shuffle:\n",
    "                np.random.shuffle(sample_index)\n",
    "            counter = 0"
   ]
  },
  {
   "cell_type": "code",
   "execution_count": 10,
   "metadata": {
    "hidden": true
   },
   "outputs": [
    {
     "name": "stdout",
     "output_type": "stream",
     "text": [
      "Model: \"sequential_3\"\n",
      "_________________________________________________________________\n",
      "Layer (type)                 Output Shape              Param #   \n",
      "=================================================================\n",
      "dense_15 (Dense)             (None, 32)                960032    \n",
      "_________________________________________________________________\n",
      "activation_15 (Activation)   (None, 32)                0         \n",
      "_________________________________________________________________\n",
      "batch_normalization_13 (Batc (None, 32)                128       \n",
      "_________________________________________________________________\n",
      "dense_16 (Dense)             (None, 32)                1056      \n",
      "_________________________________________________________________\n",
      "activation_16 (Activation)   (None, 32)                0         \n",
      "_________________________________________________________________\n",
      "batch_normalization_14 (Batc (None, 32)                128       \n",
      "_________________________________________________________________\n",
      "dropout_5 (Dropout)          (None, 32)                0         \n",
      "_________________________________________________________________\n",
      "dense_17 (Dense)             (None, 32)                1056      \n",
      "_________________________________________________________________\n",
      "activation_17 (Activation)   (None, 32)                0         \n",
      "_________________________________________________________________\n",
      "batch_normalization_15 (Batc (None, 32)                128       \n",
      "_________________________________________________________________\n",
      "dense_18 (Dense)             (None, 64)                2112      \n",
      "_________________________________________________________________\n",
      "activation_18 (Activation)   (None, 64)                0         \n",
      "_________________________________________________________________\n",
      "batch_normalization_16 (Batc (None, 64)                256       \n",
      "_________________________________________________________________\n",
      "dropout_6 (Dropout)          (None, 64)                0         \n",
      "_________________________________________________________________\n",
      "dense_19 (Dense)             (None, 64)                4160      \n",
      "_________________________________________________________________\n",
      "activation_19 (Activation)   (None, 64)                0         \n",
      "_________________________________________________________________\n",
      "batch_normalization_17 (Batc (None, 64)                256       \n",
      "_________________________________________________________________\n",
      "dense_20 (Dense)             (None, 64)                4160      \n",
      "_________________________________________________________________\n",
      "activation_20 (Activation)   (None, 64)                0         \n",
      "_________________________________________________________________\n",
      "batch_normalization_18 (Batc (None, 64)                256       \n",
      "_________________________________________________________________\n",
      "dense_21 (Dense)             (None, 2)                 130       \n",
      "_________________________________________________________________\n",
      "activation_21 (Activation)   (None, 2)                 0         \n",
      "=================================================================\n",
      "Total params: 973,858\n",
      "Trainable params: 973,282\n",
      "Non-trainable params: 576\n",
      "_________________________________________________________________\n"
     ]
    }
   ],
   "source": [
    "#Deep Neural net Training\n",
    "\n",
    "from keras import layers\n",
    "from keras.models import Sequential, load_model\n",
    "import matplotlib.pyplot as plt\n",
    "\n",
    "# mini batches Nadam optimizer with dropout and batch normalization\n",
    "epochs = 10\n",
    "model = keras.Sequential()\n",
    "model.add(layers.Dense(32, input_dim=30000))\n",
    "model.add(layers.Activation('relu'))\n",
    "model.add(layers.BatchNormalization())\n",
    "model.add(layers.Dense(32))\n",
    "model.add(layers.Activation('relu'))\n",
    "model.add(layers.BatchNormalization())\n",
    "model.add(layers.Dropout(rate = 0.2))\n",
    "model.add(layers.Dense(32))\n",
    "model.add(layers.Activation('relu'))\n",
    "model.add(layers.BatchNormalization())\n",
    "model.add(layers.Dense(64))\n",
    "model.add(layers.Activation('relu'))\n",
    "model.add(layers.BatchNormalization())\n",
    "model.add(layers.Dropout(rate = 0.3))\n",
    "model.add(layers.Dense(64))\n",
    "model.add(layers.Activation('relu'))\n",
    "model.add(layers.BatchNormalization())\n",
    "model.add(layers.Dense(64))\n",
    "model.add(layers.Activation('relu'))\n",
    "model.add(layers.BatchNormalization())\n",
    "#model.add(layers.Dropout(rate = 0.4))\n",
    "\n",
    "model.add(layers.Dense(2))\n",
    "model.add(layers.Activation('softmax'))\n",
    "model.compile(loss='categorical_crossentropy',\n",
    "              optimizer=keras.optimizers.Nadam(lr=0.002, beta_1=0.9, beta_2=0.999),\n",
    "              metrics=['accuracy'])\n",
    "checkpoint = keras.callbacks.ModelCheckpoint(\"NN.model\", monitor='val_accuracy', verbose=1, save_best_only=True)\n",
    "\n",
    "model.summary()\n",
    "#model1 = model.fit(x_train, y_train, epochs=epochs, validation_split=0.2, callbacks=[checkpoint])\n",
    "#history = model.fit(x_train, y_train, epochs = epochs, validation_split=0.2)"
   ]
  },
  {
   "cell_type": "code",
   "execution_count": 13,
   "metadata": {
    "hidden": true
   },
   "outputs": [
    {
     "name": "stdout",
     "output_type": "stream",
     "text": [
      "Epoch 1/10\n",
      "3750/3750 [==============================] - 99s 26ms/step - loss: 0.2772 - accuracy: 0.8855 - val_loss: 0.2656 - val_accuracy: 0.8908\n",
      "Epoch 2/10\n",
      "3750/3750 [==============================] - 132s 35ms/step - loss: 0.2220 - accuracy: 0.9126 - val_loss: 0.2736 - val_accuracy: 0.8847\n",
      "Epoch 3/10\n",
      "3750/3750 [==============================] - 170s 45ms/step - loss: 0.1800 - accuracy: 0.9299 - val_loss: 0.2790 - val_accuracy: 0.8911\n",
      "Epoch 4/10\n",
      "3750/3750 [==============================] - 193s 51ms/step - loss: 0.1431 - accuracy: 0.9442 - val_loss: 0.2914 - val_accuracy: 0.8897\n",
      "Epoch 5/10\n",
      "3750/3750 [==============================] - 193s 51ms/step - loss: 0.1169 - accuracy: 0.9549 - val_loss: 0.3412 - val_accuracy: 0.8825\n",
      "Epoch 6/10\n",
      "3750/3750 [==============================] - 185s 49ms/step - loss: 0.0956 - accuracy: 0.9634 - val_loss: 0.3945 - val_accuracy: 0.8856\n",
      "Epoch 7/10\n",
      "3750/3750 [==============================] - 184s 49ms/step - loss: 0.0797 - accuracy: 0.9701 - val_loss: 0.3603 - val_accuracy: 0.8742\n",
      "Epoch 8/10\n",
      "3750/3750 [==============================] - 226s 60ms/step - loss: 0.0675 - accuracy: 0.9753 - val_loss: 0.4040 - val_accuracy: 0.8778\n",
      "Epoch 9/10\n",
      "3750/3750 [==============================] - 246s 66ms/step - loss: 0.0576 - accuracy: 0.9786 - val_loss: 0.4624 - val_accuracy: 0.8788\n",
      "Epoch 10/10\n",
      "3750/3750 [==============================] - 253s 68ms/step - loss: 0.0511 - accuracy: 0.9817 - val_loss: 0.4815 - val_accuracy: 0.8796\n"
     ]
    }
   ],
   "source": [
    "model1 = model.fit_generator(generator=batch_generator(x_train, y_train, 32, True), validation_data=(x_val, y_val), steps_per_epoch=(x_train.shape[0])/32,epochs=10)"
   ]
  },
  {
   "cell_type": "code",
   "execution_count": 14,
   "metadata": {
    "hidden": true
   },
   "outputs": [
    {
     "data": {
      "image/png": "[encoded data removed]",
      "text/plain": [
       "<Figure size 432x288 with 1 Axes>"
      ]
     },
     "metadata": {
      "needs_background": "light"
     },
     "output_type": "display_data"
    },
    {
     "data": {
      "image/png": "[encoded data removed]",
      "text/plain": [
       "<Figure size 432x288 with 1 Axes>"
      ]
     },
     "metadata": {
      "needs_background": "light"
     },
     "output_type": "display_data"
    }
   ],
   "source": [
    "plt.plot(model1.history['accuracy'])\n",
    "plt.plot(model1.history['val_accuracy'])\n",
    "plt.legend(['Train', 'Val'], loc='upper left')\n",
    "plt.show()\n",
    "plt.plot(model1.history['loss'])\n",
    "plt.plot(model1.history['val_loss'])\n",
    "plt.legend(['Train', 'Val'], loc='upper left')\n",
    "plt.show()"
   ]
  },
  {
   "cell_type": "code",
   "execution_count": 15,
   "metadata": {
    "hidden": true
   },
   "outputs": [
    {
     "name": "stdout",
     "output_type": "stream",
     "text": [
      "Model: \"sequential_4\"\n",
      "_________________________________________________________________\n",
      "Layer (type)                 Output Shape              Param #   \n",
      "=================================================================\n",
      "dense_22 (Dense)             (None, 32)                960032    \n",
      "_________________________________________________________________\n",
      "batch_normalization_19 (Batc (None, 32)                128       \n",
      "_________________________________________________________________\n",
      "activation_22 (Activation)   (None, 32)                0         \n",
      "_________________________________________________________________\n",
      "dropout_7 (Dropout)          (None, 32)                0         \n",
      "_________________________________________________________________\n",
      "dense_23 (Dense)             (None, 32)                1056      \n",
      "_________________________________________________________________\n",
      "batch_normalization_20 (Batc (None, 32)                128       \n",
      "_________________________________________________________________\n",
      "activation_23 (Activation)   (None, 32)                0         \n",
      "_________________________________________________________________\n",
      "dropout_8 (Dropout)          (None, 32)                0         \n",
      "_________________________________________________________________\n",
      "dense_24 (Dense)             (None, 32)                1056      \n",
      "_________________________________________________________________\n",
      "batch_normalization_21 (Batc (None, 32)                128       \n",
      "_________________________________________________________________\n",
      "activation_24 (Activation)   (None, 32)                0         \n",
      "_________________________________________________________________\n",
      "dropout_9 (Dropout)          (None, 32)                0         \n",
      "_________________________________________________________________\n",
      "dense_25 (Dense)             (None, 64)                2112      \n",
      "_________________________________________________________________\n",
      "batch_normalization_22 (Batc (None, 64)                256       \n",
      "_________________________________________________________________\n",
      "activation_25 (Activation)   (None, 64)                0         \n",
      "_________________________________________________________________\n",
      "dropout_10 (Dropout)         (None, 64)                0         \n",
      "_________________________________________________________________\n",
      "dense_26 (Dense)             (None, 64)                4160      \n",
      "_________________________________________________________________\n",
      "batch_normalization_23 (Batc (None, 64)                256       \n",
      "_________________________________________________________________\n",
      "activation_26 (Activation)   (None, 64)                0         \n",
      "_________________________________________________________________\n",
      "dropout_11 (Dropout)         (None, 64)                0         \n",
      "_________________________________________________________________\n",
      "dense_27 (Dense)             (None, 64)                4160      \n",
      "_________________________________________________________________\n",
      "batch_normalization_24 (Batc (None, 64)                256       \n",
      "_________________________________________________________________\n",
      "activation_27 (Activation)   (None, 64)                0         \n",
      "_________________________________________________________________\n",
      "dense_28 (Dense)             (None, 2)                 130       \n",
      "_________________________________________________________________\n",
      "activation_28 (Activation)   (None, 2)                 0         \n",
      "=================================================================\n",
      "Total params: 973,858\n",
      "Trainable params: 973,282\n",
      "Non-trainable params: 576\n",
      "_________________________________________________________________\n"
     ]
    }
   ],
   "source": [
    "# mini batches Nadam optimizer with dropout and batch normalization\n",
    "epochs = 10\n",
    "model = keras.Sequential()\n",
    "model.add(layers.Dense(32, input_dim=30000))\n",
    "model.add(layers.BatchNormalization())\n",
    "model.add(layers.Activation('relu'))\n",
    "model.add(layers.Dropout(0.4))\n",
    "model.add(layers.Dense(32))\n",
    "model.add(layers.BatchNormalization())\n",
    "model.add(layers.Activation('relu'))\n",
    "model.add(layers.Dropout(0.4))\n",
    "model.add(layers.Dense(32))\n",
    "model.add(layers.BatchNormalization())\n",
    "model.add(layers.Activation('relu'))\n",
    "model.add(layers.Dropout(0.4))\n",
    "model.add(layers.Dense(64))\n",
    "model.add(layers.BatchNormalization())\n",
    "model.add(layers.Activation('relu'))\n",
    "model.add(layers.Dropout(rate = 0.4))\n",
    "model.add(layers.Dense(64))\n",
    "model.add(layers.BatchNormalization())\n",
    "model.add(layers.Activation('relu'))\n",
    "model.add(layers.Dropout(rate = 0.4))\n",
    "model.add(layers.Dense(64))\n",
    "model.add(layers.BatchNormalization())\n",
    "model.add(layers.Activation('relu'))\n",
    "\n",
    "\n",
    "model.add(layers.Dense(2))\n",
    "model.add(layers.Activation('softmax'))\n",
    "model.compile(loss='categorical_crossentropy',\n",
    "              optimizer=keras.optimizers.Nadam(lr=0.002, beta_1=0.9, beta_2=0.999),\n",
    "              metrics=['accuracy'])\n",
    "checkpoint = keras.callbacks.ModelCheckpoint(\"NN.model\", monitor='val_accuracy', verbose=1, save_best_only=True)\n",
    "\n",
    "model.summary()"
   ]
  },
  {
   "cell_type": "code",
   "execution_count": 16,
   "metadata": {
    "hidden": true
   },
   "outputs": [
    {
     "name": "stdout",
     "output_type": "stream",
     "text": [
      "Epoch 1/10\n",
      "3750/3750 [==============================] - 107s 29ms/step - loss: 0.4040 - accuracy: 0.8172 - val_loss: 0.2778 - val_accuracy: 0.8910\n",
      "Epoch 2/10\n",
      "3750/3750 [==============================] - 219s 58ms/step - loss: 0.2982 - accuracy: 0.8791 - val_loss: 0.2587 - val_accuracy: 0.8942\n",
      "Epoch 3/10\n",
      "3750/3750 [==============================] - 195s 52ms/step - loss: 0.2604 - accuracy: 0.8963 - val_loss: 0.2550 - val_accuracy: 0.8965\n",
      "Epoch 4/10\n",
      "3750/3750 [==============================] - 162s 43ms/step - loss: 0.2302 - accuracy: 0.9095 - val_loss: 0.2556 - val_accuracy: 0.8946\n",
      "Epoch 5/10\n",
      "3750/3750 [==============================] - 232s 62ms/step - loss: 0.2071 - accuracy: 0.9205 - val_loss: 0.2667 - val_accuracy: 0.8943\n",
      "Epoch 6/10\n",
      "3750/3750 [==============================] - 246s 65ms/step - loss: 0.1893 - accuracy: 0.9278 - val_loss: 0.2619 - val_accuracy: 0.8943\n",
      "Epoch 7/10\n",
      "3750/3750 [==============================] - 228s 61ms/step - loss: 0.1699 - accuracy: 0.9365 - val_loss: 0.2704 - val_accuracy: 0.8931\n",
      "Epoch 8/10\n",
      "3750/3750 [==============================] - 188s 50ms/step - loss: 0.1584 - accuracy: 0.9408 - val_loss: 0.2763 - val_accuracy: 0.8905\n",
      "Epoch 9/10\n",
      "3750/3750 [==============================] - 179s 48ms/step - loss: 0.1480 - accuracy: 0.9455 - val_loss: 0.2874 - val_accuracy: 0.8911\n",
      "Epoch 10/10\n",
      "3750/3750 [==============================] - 184s 49ms/step - loss: 0.1404 - accuracy: 0.9484 - val_loss: 0.2861 - val_accuracy: 0.8896\n"
     ]
    }
   ],
   "source": [
    "model1 = model.fit_generator(generator=batch_generator(x_train, y_train, 32, True), validation_data=(x_val, y_val), steps_per_epoch=(x_train.shape[0])/32,epochs=10)"
   ]
  },
  {
   "cell_type": "code",
   "execution_count": 17,
   "metadata": {
    "hidden": true
   },
   "outputs": [
    {
     "data": {
      "image/png": "[encoded data removed]",
      "text/plain": [
       "<Figure size 432x288 with 1 Axes>"
      ]
     },
     "metadata": {
      "needs_background": "light"
     },
     "output_type": "display_data"
    },
    {
     "data": {
      "image/png": "[encoded data removed]",
      "text/plain": [
       "<Figure size 432x288 with 1 Axes>"
      ]
     },
     "metadata": {
      "needs_background": "light"
     },
     "output_type": "display_data"
    }
   ],
   "source": [
    "plt.plot(model1.history['accuracy'])\n",
    "plt.plot(model1.history['val_accuracy'])\n",
    "plt.legend(['Train', 'Val'], loc='upper left')\n",
    "plt.show()\n",
    "plt.plot(model1.history['loss'])\n",
    "plt.plot(model1.history['val_loss'])\n",
    "plt.legend(['Train', 'Val'], loc='upper left')\n",
    "plt.show()"
   ]
  },
  {
   "cell_type": "code",
   "execution_count": 22,
   "metadata": {
    "hidden": true
   },
   "outputs": [
    {
     "name": "stdout",
     "output_type": "stream",
     "text": [
      "Model: \"sequential_7\"\n",
      "_________________________________________________________________\n",
      "Layer (type)                 Output Shape              Param #   \n",
      "=================================================================\n",
      "dense_36 (Dense)             (None, 32)                960032    \n",
      "_________________________________________________________________\n",
      "batch_normalization_31 (Batc (None, 32)                128       \n",
      "_________________________________________________________________\n",
      "dropout_17 (Dropout)         (None, 32)                0         \n",
      "_________________________________________________________________\n",
      "dense_37 (Dense)             (None, 32)                1056      \n",
      "_________________________________________________________________\n",
      "batch_normalization_32 (Batc (None, 32)                128       \n",
      "_________________________________________________________________\n",
      "dropout_18 (Dropout)         (None, 32)                0         \n",
      "_________________________________________________________________\n",
      "dense_38 (Dense)             (None, 32)                1056      \n",
      "_________________________________________________________________\n",
      "batch_normalization_33 (Batc (None, 32)                128       \n",
      "_________________________________________________________________\n",
      "dropout_19 (Dropout)         (None, 32)                0         \n",
      "_________________________________________________________________\n",
      "dense_39 (Dense)             (None, 64)                2112      \n",
      "_________________________________________________________________\n",
      "batch_normalization_34 (Batc (None, 64)                256       \n",
      "_________________________________________________________________\n",
      "dropout_20 (Dropout)         (None, 64)                0         \n",
      "_________________________________________________________________\n",
      "dense_40 (Dense)             (None, 64)                4160      \n",
      "_________________________________________________________________\n",
      "batch_normalization_35 (Batc (None, 64)                256       \n",
      "_________________________________________________________________\n",
      "dropout_21 (Dropout)         (None, 64)                0         \n",
      "_________________________________________________________________\n",
      "dense_41 (Dense)             (None, 64)                4160      \n",
      "_________________________________________________________________\n",
      "batch_normalization_36 (Batc (None, 64)                256       \n",
      "_________________________________________________________________\n",
      "dense_42 (Dense)             (None, 2)                 130       \n",
      "_________________________________________________________________\n",
      "activation_30 (Activation)   (None, 2)                 0         \n",
      "=================================================================\n",
      "Total params: 973,858\n",
      "Trainable params: 973,282\n",
      "Non-trainable params: 576\n",
      "_________________________________________________________________\n"
     ]
    }
   ],
   "source": [
    "# mini batches Nadam optimizer with dropout and batch normalization\n",
    "epochs = 10\n",
    "model = keras.Sequential()\n",
    "model.add(layers.Dense(32, input_dim=30000, activation='relu', kernel_regularizer=keras.regularizers.l2()))\n",
    "model.add(layers.BatchNormalization())\n",
    "model.add(layers.Dropout(0.5))\n",
    "model.add(layers.Dense(32, activation='relu', kernel_regularizer=keras.regularizers.l2()))\n",
    "model.add(layers.BatchNormalization())\n",
    "model.add(layers.Dropout(0.5))\n",
    "model.add(layers.Dense(32, activation='relu', kernel_regularizer=keras.regularizers.l2()))\n",
    "model.add(layers.BatchNormalization())\n",
    "model.add(layers.Dropout(0.5))\n",
    "model.add(layers.Dense(64, activation='relu', kernel_regularizer=keras.regularizers.l2()))\n",
    "model.add(layers.BatchNormalization())\n",
    "model.add(layers.Dropout(rate = 0.5))\n",
    "model.add(layers.Dense(64, activation='relu', kernel_regularizer=keras.regularizers.l2()))\n",
    "model.add(layers.BatchNormalization())\n",
    "model.add(layers.Dropout(rate = 0.5))\n",
    "model.add(layers.Dense(64, activation='relu', kernel_regularizer=keras.regularizers.l2()))\n",
    "model.add(layers.BatchNormalization())\n",
    "\n",
    "model.add(layers.Dense(2))\n",
    "model.add(layers.Activation('softmax'))\n",
    "model.compile(loss='categorical_crossentropy',\n",
    "              optimizer=keras.optimizers.Nadam(lr=0.002, beta_1=0.9, beta_2=0.999),\n",
    "              metrics=['accuracy'])\n",
    "checkpoint = keras.callbacks.ModelCheckpoint(\"NN.model\", monitor='val_loss', mode='min', verbose=1, save_best_only=True)\n",
    "\n",
    "model.summary()"
   ]
  },
  {
   "cell_type": "code",
   "execution_count": 23,
   "metadata": {
    "hidden": true
   },
   "outputs": [
    {
     "name": "stdout",
     "output_type": "stream",
     "text": [
      "Epoch 1/100\n",
      "3750/3750 [==============================] - 114s 30ms/step - loss: 0.8514 - accuracy: 0.7890 - val_loss: 0.5231 - val_accuracy: 0.8493\n",
      "\n",
      "Epoch 00001: val_loss improved from inf to 0.52309, saving model to NN.model\n",
      "Epoch 2/100\n",
      "3750/3750 [==============================] - 160s 43ms/step - loss: 0.5687 - accuracy: 0.8221 - val_loss: 0.5355 - val_accuracy: 0.8444\n",
      "\n",
      "Epoch 00002: val_loss did not improve from 0.52309\n",
      "Epoch 3/100\n",
      "3750/3750 [==============================] - 164s 44ms/step - loss: 0.5560 - accuracy: 0.8247 - val_loss: 0.5080 - val_accuracy: 0.8478\n",
      "\n",
      "Epoch 00003: val_loss improved from 0.52309 to 0.50798, saving model to NN.model\n",
      "Epoch 4/100\n",
      "3750/3750 [==============================] - 166s 44ms/step - loss: 0.5471 - accuracy: 0.8262 - val_loss: 0.5278 - val_accuracy: 0.8310\n",
      "\n",
      "Epoch 00004: val_loss did not improve from 0.50798\n",
      "Epoch 5/100\n",
      "3750/3750 [==============================] - 166s 44ms/step - loss: 0.5459 - accuracy: 0.8250 - val_loss: 0.4984 - val_accuracy: 0.8444\n",
      "\n",
      "Epoch 00005: val_loss improved from 0.50798 to 0.49844, saving model to NN.model\n",
      "Epoch 6/100\n",
      "3750/3750 [==============================] - 167s 44ms/step - loss: 0.5443 - accuracy: 0.8272 - val_loss: 0.5045 - val_accuracy: 0.8424\n",
      "\n",
      "Epoch 00006: val_loss did not improve from 0.49844\n",
      "Epoch 7/100\n",
      "3750/3750 [==============================] - 167s 44ms/step - loss: 0.5443 - accuracy: 0.8276 - val_loss: 0.4856 - val_accuracy: 0.8498\n",
      "\n",
      "Epoch 00007: val_loss improved from 0.49844 to 0.48556, saving model to NN.model\n",
      "Epoch 8/100\n",
      "3750/3750 [==============================] - 167s 44ms/step - loss: 0.5397 - accuracy: 0.8275 - val_loss: 0.4875 - val_accuracy: 0.8472\n",
      "\n",
      "Epoch 00008: val_loss did not improve from 0.48556\n",
      "Epoch 9/100\n",
      "3750/3750 [==============================] - 167s 45ms/step - loss: 0.5432 - accuracy: 0.8272 - val_loss: 0.5125 - val_accuracy: 0.8464\n",
      "\n",
      "Epoch 00009: val_loss did not improve from 0.48556\n",
      "Epoch 10/100\n",
      "3750/3750 [==============================] - 168s 45ms/step - loss: 0.5410 - accuracy: 0.8275 - val_loss: 0.5077 - val_accuracy: 0.8436\n",
      "\n",
      "Epoch 00010: val_loss did not improve from 0.48556\n",
      "Epoch 11/100\n",
      "3750/3750 [==============================] - 167s 45ms/step - loss: 0.5405 - accuracy: 0.8266 - val_loss: 0.4994 - val_accuracy: 0.8483\n",
      "\n",
      "Epoch 00011: val_loss did not improve from 0.48556\n",
      "Epoch 12/100\n",
      "3750/3750 [==============================] - 168s 45ms/step - loss: 0.5393 - accuracy: 0.8256 - val_loss: 0.5017 - val_accuracy: 0.8482\n",
      "\n",
      "Epoch 00012: val_loss did not improve from 0.48556\n",
      "Epoch 13/100\n",
      "3750/3750 [==============================] - 169s 45ms/step - loss: 0.5392 - accuracy: 0.8280 - val_loss: 0.4995 - val_accuracy: 0.8429\n",
      "\n",
      "Epoch 00013: val_loss did not improve from 0.48556\n",
      "Epoch 14/100\n",
      "3750/3750 [==============================] - 169s 45ms/step - loss: 0.5371 - accuracy: 0.8271 - val_loss: 0.4758 - val_accuracy: 0.8500\n",
      "\n",
      "Epoch 00014: val_loss improved from 0.48556 to 0.47577, saving model to NN.model\n",
      "Epoch 15/100\n",
      "3750/3750 [==============================] - 169s 45ms/step - loss: 0.5347 - accuracy: 0.8279 - val_loss: 0.4979 - val_accuracy: 0.8376\n",
      "\n",
      "Epoch 00015: val_loss did not improve from 0.47577\n",
      "Epoch 16/100\n",
      "3750/3750 [==============================] - 170s 45ms/step - loss: 0.5337 - accuracy: 0.8270 - val_loss: 0.5020 - val_accuracy: 0.8347\n",
      "\n",
      "Epoch 00016: val_loss did not improve from 0.47577\n",
      "Epoch 17/100\n",
      "3750/3750 [==============================] - 171s 45ms/step - loss: 0.5325 - accuracy: 0.8271 - val_loss: 0.4830 - val_accuracy: 0.8463\n",
      "\n",
      "Epoch 00017: val_loss did not improve from 0.47577\n",
      "Epoch 18/100\n",
      "3750/3750 [==============================] - 171s 46ms/step - loss: 0.5318 - accuracy: 0.8267 - val_loss: 0.4972 - val_accuracy: 0.8460\n",
      "\n",
      "Epoch 00018: val_loss did not improve from 0.47577\n",
      "Epoch 19/100\n",
      "3750/3750 [==============================] - 170s 45ms/step - loss: 0.5329 - accuracy: 0.8272 - val_loss: 0.4949 - val_accuracy: 0.8381\n",
      "\n",
      "Epoch 00019: val_loss did not improve from 0.47577\n",
      "Epoch 20/100\n",
      "3750/3750 [==============================] - 171s 46ms/step - loss: 0.5305 - accuracy: 0.8263 - val_loss: 0.4807 - val_accuracy: 0.8475\n",
      "\n",
      "Epoch 00020: val_loss did not improve from 0.47577\n",
      "Epoch 21/100\n",
      "3750/3750 [==============================] - 171s 46ms/step - loss: 0.5304 - accuracy: 0.8267 - val_loss: 0.4975 - val_accuracy: 0.8417\n",
      "\n",
      "Epoch 00021: val_loss did not improve from 0.47577\n",
      "Epoch 22/100\n",
      "3750/3750 [==============================] - 169s 45ms/step - loss: 0.5315 - accuracy: 0.8282 - val_loss: 0.5301 - val_accuracy: 0.8222\n",
      "\n",
      "Epoch 00022: val_loss did not improve from 0.47577\n",
      "Epoch 23/100\n",
      "3750/3750 [==============================] - 170s 45ms/step - loss: 0.5323 - accuracy: 0.8276 - val_loss: 0.4941 - val_accuracy: 0.8492\n",
      "\n",
      "Epoch 00023: val_loss did not improve from 0.47577\n",
      "Epoch 24/100\n",
      "3750/3750 [==============================] - 170s 45ms/step - loss: 0.5327 - accuracy: 0.8269 - val_loss: 0.5034 - val_accuracy: 0.8341\n",
      "\n",
      "Epoch 00024: val_loss did not improve from 0.47577\n",
      "Epoch 25/100\n",
      "3750/3750 [==============================] - 171s 46ms/step - loss: 0.5312 - accuracy: 0.8278 - val_loss: 0.5037 - val_accuracy: 0.8369\n",
      "\n",
      "Epoch 00025: val_loss did not improve from 0.47577\n",
      "Epoch 26/100\n",
      "3750/3750 [==============================] - 170s 45ms/step - loss: 0.5316 - accuracy: 0.8284 - val_loss: 0.4843 - val_accuracy: 0.8438\n",
      "\n",
      "Epoch 00026: val_loss did not improve from 0.47577\n",
      "Epoch 27/100\n",
      "3750/3750 [==============================] - 170s 45ms/step - loss: 0.5312 - accuracy: 0.8266 - val_loss: 0.4805 - val_accuracy: 0.8478\n",
      "\n",
      "Epoch 00027: val_loss did not improve from 0.47577\n",
      "Epoch 28/100\n",
      "3750/3750 [==============================] - 171s 46ms/step - loss: 0.5311 - accuracy: 0.8272 - val_loss: 0.4813 - val_accuracy: 0.8468\n",
      "\n",
      "Epoch 00028: val_loss did not improve from 0.47577\n",
      "Epoch 29/100\n",
      "3750/3750 [==============================] - 171s 45ms/step - loss: 0.5294 - accuracy: 0.8278 - val_loss: 0.4823 - val_accuracy: 0.8427\n",
      "\n",
      "Epoch 00029: val_loss did not improve from 0.47577\n",
      "Epoch 30/100\n",
      "3750/3750 [==============================] - 170s 45ms/step - loss: 0.5318 - accuracy: 0.8267 - val_loss: 0.4820 - val_accuracy: 0.8497\n",
      "\n",
      "Epoch 00030: val_loss did not improve from 0.47577\n",
      "Epoch 31/100\n",
      "3750/3750 [==============================] - 170s 45ms/step - loss: 0.5309 - accuracy: 0.8265 - val_loss: 0.5005 - val_accuracy: 0.8396\n",
      "\n",
      "Epoch 00031: val_loss did not improve from 0.47577\n",
      "Epoch 32/100\n",
      "3750/3750 [==============================] - 170s 45ms/step - loss: 0.5301 - accuracy: 0.8268 - val_loss: 0.4900 - val_accuracy: 0.8382\n",
      "\n",
      "Epoch 00032: val_loss did not improve from 0.47577\n",
      "Epoch 33/100\n",
      "3750/3750 [==============================] - 171s 45ms/step - loss: 0.5325 - accuracy: 0.8263 - val_loss: 0.4944 - val_accuracy: 0.8482\n",
      "\n",
      "Epoch 00033: val_loss did not improve from 0.47577\n",
      "Epoch 34/100\n",
      "3750/3750 [==============================] - 170s 45ms/step - loss: 0.5309 - accuracy: 0.8276 - val_loss: 0.4936 - val_accuracy: 0.8440\n",
      "\n",
      "Epoch 00034: val_loss did not improve from 0.47577\n",
      "Epoch 35/100\n",
      "3750/3750 [==============================] - 170s 45ms/step - loss: 0.5306 - accuracy: 0.8280 - val_loss: 0.4710 - val_accuracy: 0.8449\n",
      "\n",
      "Epoch 00035: val_loss improved from 0.47577 to 0.47103, saving model to NN.model\n",
      "Epoch 36/100\n",
      "3750/3750 [==============================] - 170s 45ms/step - loss: 0.5289 - accuracy: 0.8265 - val_loss: 0.5084 - val_accuracy: 0.8306\n",
      "\n",
      "Epoch 00036: val_loss did not improve from 0.47103\n",
      "Epoch 37/100\n",
      "3750/3750 [==============================] - 166s 44ms/step - loss: 0.5273 - accuracy: 0.8286 - val_loss: 0.4711 - val_accuracy: 0.8501\n",
      "\n",
      "Epoch 00037: val_loss did not improve from 0.47103\n",
      "Epoch 38/100\n",
      "3750/3750 [==============================] - 165s 44ms/step - loss: 0.5296 - accuracy: 0.8256 - val_loss: 0.4829 - val_accuracy: 0.8486\n",
      "\n",
      "Epoch 00038: val_loss did not improve from 0.47103\n",
      "Epoch 39/100\n",
      "3750/3750 [==============================] - 164s 44ms/step - loss: 0.5262 - accuracy: 0.8272 - val_loss: 0.4825 - val_accuracy: 0.8499\n",
      "\n",
      "Epoch 00039: val_loss did not improve from 0.47103\n",
      "Epoch 40/100\n",
      "3750/3750 [==============================] - 165s 44ms/step - loss: 0.5277 - accuracy: 0.8265 - val_loss: 0.4855 - val_accuracy: 0.8436\n",
      "\n",
      "Epoch 00040: val_loss did not improve from 0.47103\n",
      "Epoch 41/100\n"
     ]
    },
    {
     "name": "stdout",
     "output_type": "stream",
     "text": [
      "3750/3750 [==============================] - 157s 42ms/step - loss: 0.5282 - accuracy: 0.8269 - val_loss: 0.4746 - val_accuracy: 0.8461\n",
      "\n",
      "Epoch 00041: val_loss did not improve from 0.47103\n",
      "Epoch 42/100\n",
      "3750/3750 [==============================] - 157s 42ms/step - loss: 0.5266 - accuracy: 0.8283 - val_loss: 0.4763 - val_accuracy: 0.8489\n",
      "\n",
      "Epoch 00042: val_loss did not improve from 0.47103\n",
      "Epoch 43/100\n",
      "3750/3750 [==============================] - 157s 42ms/step - loss: 0.5273 - accuracy: 0.8263 - val_loss: 0.4750 - val_accuracy: 0.8479\n",
      "\n",
      "Epoch 00043: val_loss did not improve from 0.47103\n",
      "Epoch 44/100\n",
      "3750/3750 [==============================] - 157s 42ms/step - loss: 0.5282 - accuracy: 0.8273 - val_loss: 0.4659 - val_accuracy: 0.8507\n",
      "\n",
      "Epoch 00044: val_loss improved from 0.47103 to 0.46591, saving model to NN.model\n",
      "Epoch 45/100\n",
      "3750/3750 [==============================] - 158s 42ms/step - loss: 0.5276 - accuracy: 0.8274 - val_loss: 0.5004 - val_accuracy: 0.8310\n",
      "\n",
      "Epoch 00045: val_loss did not improve from 0.46591\n",
      "Epoch 46/100\n",
      "3750/3750 [==============================] - 158s 42ms/step - loss: 0.5270 - accuracy: 0.8272 - val_loss: 0.4781 - val_accuracy: 0.8485\n",
      "\n",
      "Epoch 00046: val_loss did not improve from 0.46591\n",
      "Epoch 47/100\n",
      "3750/3750 [==============================] - 158s 42ms/step - loss: 0.5293 - accuracy: 0.8256 - val_loss: 0.4905 - val_accuracy: 0.8453\n",
      "\n",
      "Epoch 00047: val_loss did not improve from 0.46591\n",
      "Epoch 48/100\n",
      "3750/3750 [==============================] - 158s 42ms/step - loss: 0.5287 - accuracy: 0.8258 - val_loss: 0.4649 - val_accuracy: 0.8494\n",
      "\n",
      "Epoch 00048: val_loss improved from 0.46591 to 0.46494, saving model to NN.model\n",
      "Epoch 49/100\n",
      "3750/3750 [==============================] - 158s 42ms/step - loss: 0.5272 - accuracy: 0.8267 - val_loss: 0.4697 - val_accuracy: 0.8516\n",
      "\n",
      "Epoch 00049: val_loss did not improve from 0.46494\n",
      "Epoch 50/100\n",
      "3750/3750 [==============================] - 159s 42ms/step - loss: 0.5271 - accuracy: 0.8270 - val_loss: 0.4659 - val_accuracy: 0.8479\n",
      "\n",
      "Epoch 00050: val_loss did not improve from 0.46494\n",
      "Epoch 51/100\n",
      "3750/3750 [==============================] - 159s 42ms/step - loss: 0.5295 - accuracy: 0.8257 - val_loss: 0.4802 - val_accuracy: 0.8432\n",
      "\n",
      "Epoch 00051: val_loss did not improve from 0.46494\n",
      "Epoch 52/100\n",
      "3750/3750 [==============================] - 159s 42ms/step - loss: 0.5278 - accuracy: 0.8271 - val_loss: 0.4822 - val_accuracy: 0.8470\n",
      "\n",
      "Epoch 00052: val_loss did not improve from 0.46494\n",
      "Epoch 53/100\n",
      "3750/3750 [==============================] - 159s 43ms/step - loss: 0.5270 - accuracy: 0.8279 - val_loss: 0.4762 - val_accuracy: 0.8482\n",
      "\n",
      "Epoch 00053: val_loss did not improve from 0.46494\n",
      "Epoch 54/100\n",
      "3750/3750 [==============================] - 160s 43ms/step - loss: 0.5287 - accuracy: 0.8263 - val_loss: 0.4975 - val_accuracy: 0.8408\n",
      "\n",
      "Epoch 00054: val_loss did not improve from 0.46494\n",
      "Epoch 55/100\n",
      "3750/3750 [==============================] - 160s 43ms/step - loss: 0.5260 - accuracy: 0.8270 - val_loss: 0.4933 - val_accuracy: 0.8469\n",
      "\n",
      "Epoch 00055: val_loss did not improve from 0.46494\n",
      "Epoch 56/100\n",
      "3750/3750 [==============================] - 160s 43ms/step - loss: 0.5281 - accuracy: 0.8266 - val_loss: 0.4749 - val_accuracy: 0.8502\n",
      "\n",
      "Epoch 00056: val_loss did not improve from 0.46494\n",
      "Epoch 57/100\n",
      "3750/3750 [==============================] - 160s 43ms/step - loss: 0.5291 - accuracy: 0.8254 - val_loss: 0.5004 - val_accuracy: 0.8392\n",
      "\n",
      "Epoch 00057: val_loss did not improve from 0.46494\n",
      "Epoch 58/100\n",
      "3750/3750 [==============================] - 160s 43ms/step - loss: 0.5279 - accuracy: 0.8266 - val_loss: 0.4889 - val_accuracy: 0.8487\n",
      "\n",
      "Epoch 00058: val_loss did not improve from 0.46494\n",
      "Epoch 59/100\n",
      "3750/3750 [==============================] - 160s 43ms/step - loss: 0.5281 - accuracy: 0.8260 - val_loss: 0.4992 - val_accuracy: 0.8420\n",
      "\n",
      "Epoch 00059: val_loss did not improve from 0.46494\n",
      "Epoch 60/100\n",
      "3750/3750 [==============================] - 160s 43ms/step - loss: 0.5272 - accuracy: 0.8276 - val_loss: 0.4859 - val_accuracy: 0.8436\n",
      "\n",
      "Epoch 00060: val_loss did not improve from 0.46494\n",
      "Epoch 61/100\n",
      "3750/3750 [==============================] - 161s 43ms/step - loss: 0.5275 - accuracy: 0.8273 - val_loss: 0.4705 - val_accuracy: 0.8501\n",
      "\n",
      "Epoch 00061: val_loss did not improve from 0.46494\n",
      "Epoch 62/100\n",
      "3750/3750 [==============================] - 160s 43ms/step - loss: 0.5278 - accuracy: 0.8268 - val_loss: 0.4656 - val_accuracy: 0.8460\n",
      "\n",
      "Epoch 00062: val_loss did not improve from 0.46494\n",
      "Epoch 63/100\n",
      "3750/3750 [==============================] - 160s 43ms/step - loss: 0.5281 - accuracy: 0.8262 - val_loss: 0.4865 - val_accuracy: 0.8486\n",
      "\n",
      "Epoch 00063: val_loss did not improve from 0.46494\n",
      "Epoch 64/100\n",
      "3750/3750 [==============================] - 160s 43ms/step - loss: 0.5274 - accuracy: 0.8271 - val_loss: 0.4849 - val_accuracy: 0.8428\n",
      "\n",
      "Epoch 00064: val_loss did not improve from 0.46494\n",
      "Epoch 65/100\n",
      "3750/3750 [==============================] - 161s 43ms/step - loss: 0.5280 - accuracy: 0.8263 - val_loss: 0.5218 - val_accuracy: 0.8231\n",
      "\n",
      "Epoch 00065: val_loss did not improve from 0.46494\n",
      "Epoch 66/100\n",
      "3750/3750 [==============================] - 160s 43ms/step - loss: 0.5286 - accuracy: 0.8260 - val_loss: 0.4742 - val_accuracy: 0.8454\n",
      "\n",
      "Epoch 00066: val_loss did not improve from 0.46494\n",
      "Epoch 67/100\n",
      "3750/3750 [==============================] - 162s 43ms/step - loss: 0.5268 - accuracy: 0.8259 - val_loss: 0.4798 - val_accuracy: 0.8470\n",
      "\n",
      "Epoch 00067: val_loss did not improve from 0.46494\n",
      "Epoch 68/100\n",
      "3750/3750 [==============================] - 162s 43ms/step - loss: 0.5285 - accuracy: 0.8263 - val_loss: 0.4879 - val_accuracy: 0.8468\n",
      "\n",
      "Epoch 00068: val_loss did not improve from 0.46494\n",
      "Epoch 69/100\n",
      "3750/3750 [==============================] - 161s 43ms/step - loss: 0.5280 - accuracy: 0.8260 - val_loss: 0.4724 - val_accuracy: 0.8484\n",
      "\n",
      "Epoch 00069: val_loss did not improve from 0.46494\n",
      "Epoch 70/100\n",
      "3750/3750 [==============================] - 161s 43ms/step - loss: 0.5278 - accuracy: 0.8273 - val_loss: 0.4751 - val_accuracy: 0.8485\n",
      "\n",
      "Epoch 00070: val_loss did not improve from 0.46494\n",
      "Epoch 71/100\n",
      "3750/3750 [==============================] - 162s 43ms/step - loss: 0.5277 - accuracy: 0.8271 - val_loss: 0.4826 - val_accuracy: 0.8437\n",
      "\n",
      "Epoch 00071: val_loss did not improve from 0.46494\n",
      "Epoch 72/100\n",
      "3750/3750 [==============================] - 162s 43ms/step - loss: 0.5290 - accuracy: 0.8252 - val_loss: 0.4965 - val_accuracy: 0.8396\n",
      "\n",
      "Epoch 00072: val_loss did not improve from 0.46494\n",
      "Epoch 73/100\n",
      "3750/3750 [==============================] - 161s 43ms/step - loss: 0.5274 - accuracy: 0.8285 - val_loss: 0.4767 - val_accuracy: 0.8490\n",
      "\n",
      "Epoch 00073: val_loss did not improve from 0.46494\n",
      "Epoch 74/100\n",
      "3750/3750 [==============================] - 162s 43ms/step - loss: 0.5268 - accuracy: 0.8268 - val_loss: 0.5227 - val_accuracy: 0.8317\n",
      "\n",
      "Epoch 00074: val_loss did not improve from 0.46494\n",
      "Epoch 75/100\n",
      "3750/3750 [==============================] - 162s 43ms/step - loss: 0.5283 - accuracy: 0.8260 - val_loss: 0.4773 - val_accuracy: 0.8507\n",
      "\n",
      "Epoch 00075: val_loss did not improve from 0.46494\n",
      "Epoch 76/100\n",
      "3750/3750 [==============================] - 162s 43ms/step - loss: 0.5277 - accuracy: 0.8256 - val_loss: 0.4867 - val_accuracy: 0.8433\n",
      "\n",
      "Epoch 00076: val_loss did not improve from 0.46494\n",
      "Epoch 77/100\n",
      "3750/3750 [==============================] - 162s 43ms/step - loss: 0.5280 - accuracy: 0.8280 - val_loss: 0.4927 - val_accuracy: 0.8456\n",
      "\n",
      "Epoch 00077: val_loss did not improve from 0.46494\n",
      "Epoch 78/100\n",
      "3750/3750 [==============================] - 162s 43ms/step - loss: 0.5298 - accuracy: 0.8258 - val_loss: 0.5024 - val_accuracy: 0.8283\n",
      "\n",
      "Epoch 00078: val_loss did not improve from 0.46494\n",
      "Epoch 79/100\n",
      "3750/3750 [==============================] - 162s 43ms/step - loss: 0.5287 - accuracy: 0.8264 - val_loss: 0.4783 - val_accuracy: 0.8500\n",
      "\n",
      "Epoch 00079: val_loss did not improve from 0.46494\n",
      "Epoch 80/100\n",
      "3750/3750 [==============================] - 162s 43ms/step - loss: 0.5281 - accuracy: 0.8268 - val_loss: 0.4720 - val_accuracy: 0.8486\n",
      "\n",
      "Epoch 00080: val_loss did not improve from 0.46494\n",
      "Epoch 81/100\n",
      "3750/3750 [==============================] - 162s 43ms/step - loss: 0.5284 - accuracy: 0.8263 - val_loss: 0.4813 - val_accuracy: 0.8468\n"
     ]
    },
    {
     "name": "stdout",
     "output_type": "stream",
     "text": [
      "\n",
      "Epoch 00081: val_loss did not improve from 0.46494\n",
      "Epoch 82/100\n",
      "3750/3750 [==============================] - 157s 42ms/step - loss: 0.5286 - accuracy: 0.8270 - val_loss: 0.4652 - val_accuracy: 0.8476\n",
      "\n",
      "Epoch 00082: val_loss did not improve from 0.46494\n",
      "Epoch 83/100\n",
      "3750/3750 [==============================] - 158s 42ms/step - loss: 0.5275 - accuracy: 0.8267 - val_loss: 0.4918 - val_accuracy: 0.8445\n",
      "\n",
      "Epoch 00083: val_loss did not improve from 0.46494\n",
      "Epoch 84/100\n",
      "3750/3750 [==============================] - 158s 42ms/step - loss: 0.5274 - accuracy: 0.8268 - val_loss: 0.4760 - val_accuracy: 0.8475\n",
      "\n",
      "Epoch 00084: val_loss did not improve from 0.46494\n",
      "Epoch 85/100\n",
      "3750/3750 [==============================] - 158s 42ms/step - loss: 0.5262 - accuracy: 0.8288 - val_loss: 0.4886 - val_accuracy: 0.8421\n",
      "\n",
      "Epoch 00085: val_loss did not improve from 0.46494\n",
      "Epoch 86/100\n",
      "3750/3750 [==============================] - 158s 42ms/step - loss: 0.5266 - accuracy: 0.8267 - val_loss: 0.4805 - val_accuracy: 0.8454\n",
      "\n",
      "Epoch 00086: val_loss did not improve from 0.46494\n",
      "Epoch 87/100\n",
      "3750/3750 [==============================] - 159s 42ms/step - loss: 0.5282 - accuracy: 0.8270 - val_loss: 0.4931 - val_accuracy: 0.8335\n",
      "\n",
      "Epoch 00087: val_loss did not improve from 0.46494\n",
      "Epoch 88/100\n",
      "3750/3750 [==============================] - 159s 42ms/step - loss: 0.5269 - accuracy: 0.8268 - val_loss: 0.4949 - val_accuracy: 0.8426\n",
      "\n",
      "Epoch 00088: val_loss did not improve from 0.46494\n",
      "Epoch 89/100\n",
      "3750/3750 [==============================] - 159s 42ms/step - loss: 0.5274 - accuracy: 0.8266 - val_loss: 0.4898 - val_accuracy: 0.8434\n",
      "\n",
      "Epoch 00089: val_loss did not improve from 0.46494\n",
      "Epoch 90/100\n",
      "3750/3750 [==============================] - 159s 42ms/step - loss: 0.5276 - accuracy: 0.8269 - val_loss: 0.4923 - val_accuracy: 0.8463\n",
      "\n",
      "Epoch 00090: val_loss did not improve from 0.46494\n",
      "Epoch 91/100\n",
      "3750/3750 [==============================] - 159s 42ms/step - loss: 0.5284 - accuracy: 0.8258 - val_loss: 0.4839 - val_accuracy: 0.8474\n",
      "\n",
      "Epoch 00091: val_loss did not improve from 0.46494\n",
      "Epoch 92/100\n",
      "3750/3750 [==============================] - 160s 43ms/step - loss: 0.5280 - accuracy: 0.8276 - val_loss: 0.4749 - val_accuracy: 0.8445\n",
      "\n",
      "Epoch 00092: val_loss did not improve from 0.46494\n",
      "Epoch 93/100\n",
      "3750/3750 [==============================] - 160s 43ms/step - loss: 0.5267 - accuracy: 0.8274 - val_loss: 0.5050 - val_accuracy: 0.8306\n",
      "\n",
      "Epoch 00093: val_loss did not improve from 0.46494\n",
      "Epoch 94/100\n",
      "3750/3750 [==============================] - 160s 43ms/step - loss: 0.5290 - accuracy: 0.8270 - val_loss: 0.4834 - val_accuracy: 0.8404\n",
      "\n",
      "Epoch 00094: val_loss did not improve from 0.46494\n",
      "Epoch 95/100\n",
      "3750/3750 [==============================] - 160s 43ms/step - loss: 0.5286 - accuracy: 0.8267 - val_loss: 0.4931 - val_accuracy: 0.8420\n",
      "\n",
      "Epoch 00095: val_loss did not improve from 0.46494\n",
      "Epoch 96/100\n",
      "3750/3750 [==============================] - 160s 43ms/step - loss: 0.5268 - accuracy: 0.8265 - val_loss: 0.4946 - val_accuracy: 0.8369\n",
      "\n",
      "Epoch 00096: val_loss did not improve from 0.46494\n",
      "Epoch 97/100\n",
      "3750/3750 [==============================] - 161s 43ms/step - loss: 0.5275 - accuracy: 0.8267 - val_loss: 0.4867 - val_accuracy: 0.8432\n",
      "\n",
      "Epoch 00097: val_loss did not improve from 0.46494\n",
      "Epoch 98/100\n",
      "3750/3750 [==============================] - 161s 43ms/step - loss: 0.5254 - accuracy: 0.8277 - val_loss: 0.4906 - val_accuracy: 0.8455\n",
      "\n",
      "Epoch 00098: val_loss did not improve from 0.46494\n",
      "Epoch 99/100\n",
      "3750/3750 [==============================] - 161s 43ms/step - loss: 0.5278 - accuracy: 0.8284 - val_loss: 0.4909 - val_accuracy: 0.8415\n",
      "\n",
      "Epoch 00099: val_loss did not improve from 0.46494\n",
      "Epoch 100/100\n",
      "3750/3750 [==============================] - 161s 43ms/step - loss: 0.5275 - accuracy: 0.8261 - val_loss: 0.4663 - val_accuracy: 0.8507\n",
      "\n",
      "Epoch 00100: val_loss did not improve from 0.46494\n"
     ]
    }
   ],
   "source": [
    "model1 = model.fit_generator(generator=batch_generator(x_train, y_train, 32, True), validation_data=(x_val, y_val), steps_per_epoch=(x_train.shape[0])/32,epochs=100, callbacks=[checkpoint])"
   ]
  },
  {
   "cell_type": "code",
   "execution_count": 24,
   "metadata": {
    "hidden": true
   },
   "outputs": [
    {
     "data": {
      "image/png": "[encoded data removed]",
      "text/plain": [
       "<Figure size 432x288 with 1 Axes>"
      ]
     },
     "metadata": {
      "needs_background": "light"
     },
     "output_type": "display_data"
    },
    {
     "data": {
      "image/png": "[encoded data removed]",
      "text/plain": [
       "<Figure size 432x288 with 1 Axes>"
      ]
     },
     "metadata": {
      "needs_background": "light"
     },
     "output_type": "display_data"
    }
   ],
   "source": [
    "plt.plot(model1.history['accuracy'])\n",
    "plt.plot(model1.history['val_accuracy'])\n",
    "plt.legend(['Train', 'Val'], loc='upper left')\n",
    "plt.show()\n",
    "plt.plot(model1.history['loss'])\n",
    "plt.plot(model1.history['val_loss'])\n",
    "plt.legend(['Train', 'Val'], loc='upper left')\n",
    "plt.show()"
   ]
  },
  {
   "cell_type": "markdown",
   "metadata": {
    "heading_collapsed": true
   },
   "source": [
    "## Neural Net features added up"
   ]
  },
  {
   "cell_type": "markdown",
   "metadata": {
    "heading_collapsed": true,
    "hidden": true
   },
   "source": [
    "### importing data"
   ]
  },
  {
   "cell_type": "code",
   "execution_count": 4,
   "metadata": {
    "hidden": true,
    "scrolled": true
   },
   "outputs": [
    {
     "name": "stdout",
     "output_type": "stream",
     "text": [
      "160000\n"
     ]
    },
    {
     "name": "stderr",
     "output_type": "stream",
     "text": [
      "C:\\Users\\danie\\anaconda3\\lib\\site-packages\\ipykernel_launcher.py:76: TqdmDeprecationWarning: This function will be removed in tqdm==5.0.0\n",
      "Please use `tqdm.notebook.tqdm` instead of `tqdm.tqdm_notebook`\n"
     ]
    },
    {
     "data": {
      "application/vnd.jupyter.widget-view+json": {
       "model_id": "cc50c454026244b5bc9b77449d83d066",
       "version_major": 2,
       "version_minor": 0
      },
      "text/plain": [
       "HBox(children=(FloatProgress(value=0.0, max=160000.0), HTML(value='')))"
      ]
     },
     "metadata": {},
     "output_type": "display_data"
    },
    {
     "name": "stderr",
     "output_type": "stream",
     "text": [
      "C:\\Users\\danie\\anaconda3\\lib\\site-packages\\ipykernel_launcher.py:81: DeprecationWarning: Call to deprecated `__getitem__` (Method will be removed in 4.0.0, use self.wv.__getitem__() instead).\n"
     ]
    },
    {
     "name": "stdout",
     "output_type": "stream",
     "text": [
      "\n",
      "(120000, 30000)\n",
      "(40000, 30000)\n"
     ]
    }
   ],
   "source": [
    "### Constructing train features\n",
    "\n",
    "import pandas as pd\n",
    "import numpy as np\n",
    "import csv\n",
    "import sys\n",
    "import nltk\n",
    "from nltk.corpus import stopwords\n",
    "import glob\n",
    "import os\n",
    "import string\n",
    "\n",
    "#Load training file\n",
    "\n",
    "text_file = open(\"train.txt.txt\", \"r\", encoding=\"utf8\")\n",
    "lines = text_file.read().split('\\n')\n",
    "\n",
    "labels = []\n",
    "for item in lines:\n",
    "    first_four_letters = item[:10]\n",
    "    if first_four_letters == '__label__1':\n",
    "        labels.append(int(1))\n",
    "    else:\n",
    "        labels.append(int(2))\n",
    "        \n",
    "def remove_label(s):\n",
    "    return s[11:]\n",
    "lines = [remove_label(s) for s in lines]\n",
    "\n",
    "df = pd.DataFrame()\n",
    "df['text'] = lines\n",
    "df['label'] = labels\n",
    "\n",
    "df = df.sample(160000)\n",
    "print(len(df))\n",
    "df.head()\n",
    "\n",
    "#Clean text\n",
    "\n",
    "stop = stopwords.words('english')\n",
    "w_tokenizer = nltk.tokenize.WhitespaceTokenizer()\n",
    "lemmatizer = nltk.stem.WordNetLemmatizer()\n",
    "\n",
    "def lemmatize_text(text):\n",
    "    return [lemmatizer.lemmatize(w) for w in w_tokenizer.tokenize(text)]\n",
    "\n",
    "#lowercase and remove punctuation, remove stopwords        \n",
    "df['text'] = df['text'].str.lower()\n",
    "df['text'] = df['text'].str.replace('-', ' ')\n",
    "df['text'] = df['text'].str.split(' ')\n",
    "df['text'] = df['text'].apply(lambda x: [item for item in x if item not in stop])\n",
    "df['text'] = df['text'].apply(', '.join)\n",
    "df['text'] = df['text'].str.replace('[{}]'.format(string.punctuation), '')\n",
    "df['text'] = df['text'].apply(lemmatize_text)\n",
    "df['text'] = df['text'].apply(', '.join)\n",
    "df['text'] = df['text'].str.replace('[{}]'.format(string.punctuation), '')\n",
    "df['text'] = df['text'].str.replace('\\\\', ' ')\n",
    "\n",
    "\n",
    "#Train Word2Vec\n",
    "\n",
    "from gensim.models import Word2Vec\n",
    "\n",
    "text = [row.split() for row in df['text']]\n",
    "model_w2v = Word2Vec(text)\n",
    "\n",
    "model_w2v.save('model_w2v.bin')\n",
    "\n",
    "#Average Word2Vec Vectors for BOW\n",
    "\n",
    "from tqdm import tqdm_notebook as tqdm\n",
    "\n",
    "text_vec = []\n",
    "text_avg_vec = []\n",
    "count = 0\n",
    "for row in tqdm(range(len(text))):\n",
    "    [word.split(' ', 1) for word in text[row]]\n",
    "  \n",
    "    for i in range(len(text[row])):\n",
    "        try:\n",
    "            text_vec.append(model_w2v[text[row][i]])\n",
    "            count = count + 1\n",
    "        except KeyError as e:\n",
    "            text_vec.append([0]*100)\n",
    "  \n",
    "    average = np.add.reduce(text_vec)\n",
    "    if count==0:\n",
    "        count = 1\n",
    "    average = np.divide(average, count)\n",
    "    text_avg_vec.append(average)\n",
    "    text_vec = []\n",
    "    count = 0\n",
    "\n",
    "for i in range(len(text_avg_vec)):\n",
    "    if type(text_avg_vec[i]) != np.ndarray:\n",
    "        text_avg_vec[i] = np.zeros(100)\n",
    "\n",
    "from sklearn.feature_extraction.text import TfidfVectorizer\n",
    "\n",
    "tfidf = TfidfVectorizer(ngram_range=(1,2), max_features=29900)\n",
    "\n",
    "tfidf_features = tfidf.fit_transform(df['text'])\n",
    "\n",
    "x_train = text_avg_vec\n",
    "x_train = np.array(x_train).reshape(-1, 100)\n",
    "\n",
    "from scipy import sparse\n",
    "\n",
    "x_train = sparse.csr_matrix(x_train)\n",
    "x_train.shape\n",
    "\n",
    "x_train = sparse.hstack([x_train, tfidf_features])\n",
    "x_train.shape\n",
    "\n",
    "df['label'] = df['label'] - 1\n",
    "\n",
    "y_train= np.asarray(df.label)\n",
    "\n",
    "from sklearn.model_selection import train_test_split\n",
    "x_train, x_val, y_train, y_val = train_test_split(x_train, y_train, test_size=40000, random_state=42)\n",
    "\n",
    "print(x_train.shape)\n",
    "\n",
    "print(x_val.shape)"
   ]
  },
  {
   "cell_type": "code",
   "execution_count": 311,
   "metadata": {
    "hidden": true,
    "scrolled": true
   },
   "outputs": [
    {
     "name": "stdout",
     "output_type": "stream",
     "text": [
      "160000\n"
     ]
    },
    {
     "name": "stderr",
     "output_type": "stream",
     "text": [
      "C:\\Users\\danie\\anaconda3\\lib\\site-packages\\ipykernel_launcher.py:76: TqdmDeprecationWarning: This function will be removed in tqdm==5.0.0\n",
      "Please use `tqdm.notebook.tqdm` instead of `tqdm.tqdm_notebook`\n"
     ]
    },
    {
     "data": {
      "application/vnd.jupyter.widget-view+json": {
       "model_id": "6f5ca7abc23a4e65b49d2d3ff3ef8b03",
       "version_major": 2,
       "version_minor": 0
      },
      "text/plain": [
       "HBox(children=(FloatProgress(value=0.0, max=160000.0), HTML(value='')))"
      ]
     },
     "metadata": {},
     "output_type": "display_data"
    },
    {
     "name": "stderr",
     "output_type": "stream",
     "text": [
      "C:\\Users\\danie\\anaconda3\\lib\\site-packages\\ipykernel_launcher.py:81: DeprecationWarning: Call to deprecated `__getitem__` (Method will be removed in 4.0.0, use self.wv.__getitem__() instead).\n"
     ]
    },
    {
     "name": "stdout",
     "output_type": "stream",
     "text": [
      "\n",
      "(120000, 30000)\n",
      "(40000, 30000)\n"
     ]
    }
   ],
   "source": [
    "### Constructing train features\n",
    "\n",
    "import pandas as pd\n",
    "import numpy as np\n",
    "import csv\n",
    "import sys\n",
    "import nltk\n",
    "from nltk.corpus import stopwords\n",
    "import glob\n",
    "import os\n",
    "import string\n",
    "\n",
    "#Load training file\n",
    "\n",
    "text_file = open(\"train.txt.txt\", \"r\", encoding=\"utf8\")\n",
    "lines = text_file.read().split('\\n')\n",
    "\n",
    "labels = []\n",
    "for item in lines:\n",
    "    first_four_letters = item[:10]\n",
    "    if first_four_letters == '__label__1':\n",
    "        labels.append(int(1))\n",
    "    else:\n",
    "        labels.append(int(2))\n",
    "        \n",
    "def remove_label(s):\n",
    "    return s[11:]\n",
    "lines = [remove_label(s) for s in lines]\n",
    "\n",
    "df = pd.DataFrame()\n",
    "df['text'] = lines\n",
    "df['label'] = labels\n",
    "\n",
    "df = df.sample(160000)\n",
    "print(len(df))\n",
    "df.head()\n",
    "\n",
    "#Clean text\n",
    "\n",
    "stop = stopwords.words('english')\n",
    "w_tokenizer = nltk.tokenize.WhitespaceTokenizer()\n",
    "lemmatizer = nltk.stem.WordNetLemmatizer()\n",
    "\n",
    "def lemmatize_text(text):\n",
    "    return [lemmatizer.lemmatize(w) for w in w_tokenizer.tokenize(text)]\n",
    "\n",
    "#lowercase and remove punctuation, remove stopwords        \n",
    "df['text'] = df['text'].str.lower()\n",
    "df['text'] = df['text'].str.replace('-', ' ')\n",
    "df['text'] = df['text'].str.split(' ')\n",
    "df['text'] = df['text'].apply(lambda x: [item for item in x if item not in stop])\n",
    "df['text'] = df['text'].apply(', '.join)\n",
    "df['text'] = df['text'].str.replace('[{}]'.format(string.punctuation), '')\n",
    "df['text'] = df['text'].apply(lemmatize_text)\n",
    "df['text'] = df['text'].apply(', '.join)\n",
    "df['text'] = df['text'].str.replace('[{}]'.format(string.punctuation), '')\n",
    "df['text'] = df['text'].str.replace('\\\\', ' ')\n",
    "\n",
    "\n",
    "#Train Word2Vec\n",
    "\n",
    "from gensim.models import Word2Vec\n",
    "\n",
    "text = [row.split() for row in df['text']]\n",
    "model_w2v = Word2Vec(text)\n",
    "\n",
    "model_w2v.save('model_w2v.bin')\n",
    "\n",
    "#Average Word2Vec Vectors for BOW\n",
    "\n",
    "from tqdm import tqdm_notebook as tqdm\n",
    "\n",
    "text_vec = []\n",
    "text_avg_vec = []\n",
    "count = 0\n",
    "for row in tqdm(range(len(text))):\n",
    "    [word.split(' ', 1) for word in text[row]]\n",
    "  \n",
    "    for i in range(len(text[row])):\n",
    "        try:\n",
    "            text_vec.append(model_w2v[text[row][i]])\n",
    "            count = count + 1\n",
    "        except KeyError as e:\n",
    "            text_vec.append([0]*100)\n",
    "  \n",
    "    average = np.add.reduce(text_vec)\n",
    "    if count==0:\n",
    "        count = 1\n",
    "    average = np.divide(average, count)\n",
    "    text_avg_vec.append(average)\n",
    "    text_vec = []\n",
    "    count = 0\n",
    "\n",
    "for i in range(len(text_avg_vec)):\n",
    "    if type(text_avg_vec[i]) != np.ndarray:\n",
    "        text_avg_vec[i] = np.zeros(100)\n",
    "\n",
    "from sklearn.feature_extraction.text import CountVectorizer\n",
    "\n",
    "tfidf = CountVectorizer(ngram_range=(1,2), max_features=29900)\n",
    "\n",
    "tfidf_features = tfidf.fit_transform(df['text'])\n",
    "\n",
    "x_train = text_avg_vec\n",
    "x_train = np.array(x_train).reshape(-1, 100)\n",
    "\n",
    "from scipy import sparse\n",
    "\n",
    "x_train = sparse.csr_matrix(x_train)\n",
    "x_train.shape\n",
    "\n",
    "x_train = sparse.hstack([x_train, tfidf_features])\n",
    "x_train.shape\n",
    "\n",
    "df['label'] = df['label'] - 1\n",
    "\n",
    "y_train= np.asarray(df.label)\n",
    "\n",
    "from sklearn.model_selection import train_test_split\n",
    "x_train, x_val, y_train, y_val = train_test_split(x_train, y_train, test_size=40000, random_state=42)\n",
    "\n",
    "print(x_train.shape)\n",
    "\n",
    "print(x_val.shape)"
   ]
  },
  {
   "cell_type": "code",
   "execution_count": 52,
   "metadata": {
    "hidden": true
   },
   "outputs": [],
   "source": [
    "from sklearn.preprocessing import normalize\n",
    "\n",
    "x_train = normalize(x_train)\n",
    "x_val = normalize(x_val)"
   ]
  },
  {
   "cell_type": "code",
   "execution_count": 316,
   "metadata": {
    "hidden": true
   },
   "outputs": [
    {
     "name": "stdout",
     "output_type": "stream",
     "text": [
      "0.9021166666666667\n",
      "0.8876\n"
     ]
    }
   ],
   "source": [
    "logreg = LogisticRegression(random_state=42, max_iter=2000)\n",
    "\n",
    "x_train_scaled = normalize(x_train)\n",
    "x_val_scaled = normalize(x_val)\n",
    "\n",
    "logreg.fit(x_train_scaled, y_train)\n",
    "\n",
    "print(logreg.score(x_train_scaled, y_train))\n",
    "print(logreg.score(x_val_scaled, y_val))"
   ]
  },
  {
   "cell_type": "code",
   "execution_count": 314,
   "metadata": {
    "hidden": true
   },
   "outputs": [
    {
     "data": {
      "text/plain": [
       "(120000, 30000)"
      ]
     },
     "execution_count": 314,
     "metadata": {},
     "output_type": "execute_result"
    }
   ],
   "source": [
    "x_train.shape"
   ]
  },
  {
   "cell_type": "markdown",
   "metadata": {
    "heading_collapsed": true,
    "hidden": true
   },
   "source": [
    "### Neural net training"
   ]
  },
  {
   "cell_type": "code",
   "execution_count": 317,
   "metadata": {
    "hidden": true
   },
   "outputs": [],
   "source": [
    "import keras\n",
    "\n",
    "y_train = keras.utils.to_categorical(y_train, num_classes=2, dtype='int32')\n",
    "y_val = keras.utils.to_categorical(y_val, num_classes=2, dtype='int32')"
   ]
  },
  {
   "cell_type": "code",
   "execution_count": 55,
   "metadata": {
    "hidden": true
   },
   "outputs": [],
   "source": [
    "def batch_generator(X, y, batch_size, shuffle):\n",
    "    number_of_batches = X.shape[0]/batch_size\n",
    "    counter = 0\n",
    "    sample_index = np.arange(X.shape[0])\n",
    "    if shuffle:\n",
    "        np.random.shuffle(sample_index)\n",
    "    while True:\n",
    "        batch_index = sample_index[batch_size*counter:batch_size*(counter+1)]\n",
    "        X_batch = X[batch_index,:].toarray()\n",
    "        y_batch = y[batch_index]\n",
    "        counter += 1\n",
    "        yield X_batch, y_batch\n",
    "        if (counter == number_of_batches):\n",
    "            if shuffle:\n",
    "                np.random.shuffle(sample_index)\n",
    "            counter = 0"
   ]
  },
  {
   "cell_type": "code",
   "execution_count": 26,
   "metadata": {
    "hidden": true
   },
   "outputs": [
    {
     "name": "stdout",
     "output_type": "stream",
     "text": [
      "Model: \"sequential_2\"\n",
      "_________________________________________________________________\n",
      "Layer (type)                 Output Shape              Param #   \n",
      "=================================================================\n",
      "dense_1 (Dense)              (None, 16)                480016    \n",
      "_________________________________________________________________\n",
      "batch_normalization_1 (Batch (None, 16)                64        \n",
      "_________________________________________________________________\n",
      "dropout_1 (Dropout)          (None, 16)                0         \n",
      "_________________________________________________________________\n",
      "dense_2 (Dense)              (None, 16)                272       \n",
      "_________________________________________________________________\n",
      "batch_normalization_2 (Batch (None, 16)                64        \n",
      "_________________________________________________________________\n",
      "dropout_2 (Dropout)          (None, 16)                0         \n",
      "_________________________________________________________________\n",
      "dense_3 (Dense)              (None, 16)                272       \n",
      "_________________________________________________________________\n",
      "batch_normalization_3 (Batch (None, 16)                64        \n",
      "_________________________________________________________________\n",
      "dropout_3 (Dropout)          (None, 16)                0         \n",
      "_________________________________________________________________\n",
      "dense_4 (Dense)              (None, 32)                544       \n",
      "_________________________________________________________________\n",
      "batch_normalization_4 (Batch (None, 32)                128       \n",
      "_________________________________________________________________\n",
      "dropout_4 (Dropout)          (None, 32)                0         \n",
      "_________________________________________________________________\n",
      "dense_5 (Dense)              (None, 32)                1056      \n",
      "_________________________________________________________________\n",
      "batch_normalization_5 (Batch (None, 32)                128       \n",
      "_________________________________________________________________\n",
      "dropout_5 (Dropout)          (None, 32)                0         \n",
      "_________________________________________________________________\n",
      "dense_6 (Dense)              (None, 32)                1056      \n",
      "_________________________________________________________________\n",
      "batch_normalization_6 (Batch (None, 32)                128       \n",
      "_________________________________________________________________\n",
      "dense_7 (Dense)              (None, 2)                 66        \n",
      "=================================================================\n",
      "Total params: 483,858\n",
      "Trainable params: 483,570\n",
      "Non-trainable params: 288\n",
      "_________________________________________________________________\n"
     ]
    }
   ],
   "source": [
    "from keras import layers\n",
    "\n",
    "epochs = 10\n",
    "model = keras.Sequential()\n",
    "model.add(layers.Dense(16, input_dim=30000, activation='relu'))\n",
    "model.add(layers.BatchNormalization())\n",
    "model.add(layers.Dropout(0.4))\n",
    "model.add(layers.Dense(16, activation='relu'))\n",
    "model.add(layers.BatchNormalization())\n",
    "model.add(layers.Dropout(0.4))\n",
    "model.add(layers.Dense(16, activation='relu'))\n",
    "model.add(layers.BatchNormalization())\n",
    "model.add(layers.Dropout(0.4))\n",
    "model.add(layers.Dense(32, activation='relu'))\n",
    "model.add(layers.BatchNormalization())\n",
    "model.add(layers.Dropout(rate = 0.4))\n",
    "model.add(layers.Dense(32, activation='relu', ))\n",
    "model.add(layers.BatchNormalization())\n",
    "model.add(layers.Dropout(rate = 0.4))\n",
    "model.add(layers.Dense(32, activation='relu'))\n",
    "model.add(layers.BatchNormalization())\n",
    "\n",
    "model.add(layers.Dense(2, activation='softmax'))\n",
    "model.compile(loss='categorical_crossentropy',\n",
    "              optimizer=keras.optimizers.Nadam(lr=0.002, beta_1=0.9, beta_2=0.999),\n",
    "              metrics=['accuracy'])\n",
    "checkpoint = keras.callbacks.ModelCheckpoint(\"NN1.model\", monitor='val_loss', mode='min', verbose=1, save_best_only=True)\n",
    "\n",
    "model.summary()"
   ]
  },
  {
   "cell_type": "code",
   "execution_count": 27,
   "metadata": {
    "hidden": true,
    "scrolled": true
   },
   "outputs": [
    {
     "name": "stdout",
     "output_type": "stream",
     "text": [
      "Epoch 1/10\n",
      "3750/3750 [==============================] - 76s 20ms/step - loss: 0.4443 - accuracy: 0.7965 - val_loss: 0.3010 - val_accuracy: 0.8780\n",
      "\n",
      "Epoch 00001: val_loss improved from inf to 0.30105, saving model to NN1.model\n",
      "Epoch 2/10\n",
      "3750/3750 [==============================] - 77s 20ms/step - loss: 0.3229 - accuracy: 0.8710 - val_loss: 0.2836 - val_accuracy: 0.8831\n",
      "\n",
      "Epoch 00002: val_loss improved from 0.30105 to 0.28357, saving model to NN1.model\n",
      "Epoch 3/10\n",
      "3750/3750 [==============================] - 80s 21ms/step - loss: 0.2913 - accuracy: 0.8848 - val_loss: 0.2791 - val_accuracy: 0.8910\n",
      "\n",
      "Epoch 00003: val_loss improved from 0.28357 to 0.27910, saving model to NN1.model\n",
      "Epoch 4/10\n",
      "3750/3750 [==============================] - 83s 22ms/step - loss: 0.2706 - accuracy: 0.8951 - val_loss: 0.2855 - val_accuracy: 0.8888\n",
      "\n",
      "Epoch 00004: val_loss did not improve from 0.27910\n",
      "Epoch 5/10\n",
      "3750/3750 [==============================] - 83s 22ms/step - loss: 0.2583 - accuracy: 0.9019 - val_loss: 0.2953 - val_accuracy: 0.8848\n",
      "\n",
      "Epoch 00005: val_loss did not improve from 0.27910\n",
      "Epoch 6/10\n",
      "3750/3750 [==============================] - 110s 29ms/step - loss: 0.2448 - accuracy: 0.9082 - val_loss: 0.2897 - val_accuracy: 0.8875\n",
      "\n",
      "Epoch 00006: val_loss did not improve from 0.27910\n",
      "Epoch 7/10\n",
      "3750/3750 [==============================] - 150s 40ms/step - loss: 0.2360 - accuracy: 0.9116 - val_loss: 0.2839 - val_accuracy: 0.8899\n",
      "\n",
      "Epoch 00007: val_loss did not improve from 0.27910\n",
      "Epoch 8/10\n",
      "3750/3750 [==============================] - 151s 40ms/step - loss: 0.2270 - accuracy: 0.9160 - val_loss: 0.3008 - val_accuracy: 0.8874\n",
      "\n",
      "Epoch 00008: val_loss did not improve from 0.27910\n",
      "Epoch 9/10\n",
      "3750/3750 [==============================] - 151s 40ms/step - loss: 0.2238 - accuracy: 0.9168 - val_loss: 0.3023 - val_accuracy: 0.8738\n",
      "\n",
      "Epoch 00009: val_loss did not improve from 0.27910\n",
      "Epoch 10/10\n",
      "3750/3750 [==============================] - 151s 40ms/step - loss: 0.2168 - accuracy: 0.9205 - val_loss: 0.2862 - val_accuracy: 0.8869\n",
      "\n",
      "Epoch 00010: val_loss did not improve from 0.27910\n"
     ]
    }
   ],
   "source": [
    "model1 = model.fit_generator(generator=batch_generator(x_train, y_train, 32, True), validation_data=(x_val, y_val), steps_per_epoch=(x_train.shape[0])/32,epochs=10, callbacks=[checkpoint])"
   ]
  },
  {
   "cell_type": "code",
   "execution_count": 28,
   "metadata": {
    "hidden": true
   },
   "outputs": [
    {
     "data": {
      "image/png": "[encoded data removed]",
      "text/plain": [
       "<Figure size 432x288 with 1 Axes>"
      ]
     },
     "metadata": {
      "needs_background": "light"
     },
     "output_type": "display_data"
    },
    {
     "data": {
      "image/png": "[encoded data removed]",
      "text/plain": [
       "<Figure size 432x288 with 1 Axes>"
      ]
     },
     "metadata": {
      "needs_background": "light"
     },
     "output_type": "display_data"
    }
   ],
   "source": [
    "import matplotlib.pyplot as plt\n",
    "\n",
    "plt.plot(model1.history['accuracy'])\n",
    "plt.plot(model1.history['val_accuracy'])\n",
    "plt.legend(['Train', 'Val'], loc='upper left')\n",
    "plt.show()\n",
    "plt.plot(model1.history['loss'])\n",
    "plt.plot(model1.history['val_loss'])\n",
    "plt.legend(['Train', 'Val'], loc='upper left')\n",
    "plt.show()"
   ]
  },
  {
   "cell_type": "code",
   "execution_count": 225,
   "metadata": {
    "hidden": true
   },
   "outputs": [
    {
     "name": "stdout",
     "output_type": "stream",
     "text": [
      "Model: \"sequential_14\"\n",
      "_________________________________________________________________\n",
      "Layer (type)                 Output Shape              Param #   \n",
      "=================================================================\n",
      "dense_57 (Dense)             (None, 64)                1920064   \n",
      "_________________________________________________________________\n",
      "batch_normalization_49 (Batc (None, 64)                256       \n",
      "_________________________________________________________________\n",
      "activation_22 (Activation)   (None, 64)                0         \n",
      "_________________________________________________________________\n",
      "dropout_41 (Dropout)         (None, 64)                0         \n",
      "_________________________________________________________________\n",
      "dense_58 (Dense)             (None, 64)                4160      \n",
      "_________________________________________________________________\n",
      "batch_normalization_50 (Batc (None, 64)                256       \n",
      "_________________________________________________________________\n",
      "activation_23 (Activation)   (None, 64)                0         \n",
      "_________________________________________________________________\n",
      "dropout_42 (Dropout)         (None, 64)                0         \n",
      "_________________________________________________________________\n",
      "dense_59 (Dense)             (None, 64)                4160      \n",
      "_________________________________________________________________\n",
      "batch_normalization_51 (Batc (None, 64)                256       \n",
      "_________________________________________________________________\n",
      "activation_24 (Activation)   (None, 64)                0         \n",
      "_________________________________________________________________\n",
      "dropout_43 (Dropout)         (None, 64)                0         \n",
      "_________________________________________________________________\n",
      "dense_60 (Dense)             (None, 128)               8320      \n",
      "_________________________________________________________________\n",
      "batch_normalization_52 (Batc (None, 128)               512       \n",
      "_________________________________________________________________\n",
      "activation_25 (Activation)   (None, 128)               0         \n",
      "_________________________________________________________________\n",
      "dropout_44 (Dropout)         (None, 128)               0         \n",
      "_________________________________________________________________\n",
      "dense_61 (Dense)             (None, 128)               16512     \n",
      "_________________________________________________________________\n",
      "batch_normalization_53 (Batc (None, 128)               512       \n",
      "_________________________________________________________________\n",
      "activation_26 (Activation)   (None, 128)               0         \n",
      "_________________________________________________________________\n",
      "dropout_45 (Dropout)         (None, 128)               0         \n",
      "_________________________________________________________________\n",
      "dense_62 (Dense)             (None, 128)               16512     \n",
      "_________________________________________________________________\n",
      "batch_normalization_54 (Batc (None, 128)               512       \n",
      "_________________________________________________________________\n",
      "activation_27 (Activation)   (None, 128)               0         \n",
      "_________________________________________________________________\n",
      "dense_63 (Dense)             (None, 2)                 258       \n",
      "_________________________________________________________________\n",
      "activation_28 (Activation)   (None, 2)                 0         \n",
      "=================================================================\n",
      "Total params: 1,972,290\n",
      "Trainable params: 1,971,138\n",
      "Non-trainable params: 1,152\n",
      "_________________________________________________________________\n"
     ]
    }
   ],
   "source": [
    "model = keras.Sequential()\n",
    "model.add(layers.Dense(64, input_dim=30000))\n",
    "model.add(layers.BatchNormalization())\n",
    "model.add(layers.Activation('relu'))\n",
    "model.add(layers.Dropout(0.4))\n",
    "model.add(layers.Dense(64))\n",
    "model.add(layers.BatchNormalization())\n",
    "model.add(layers.Activation('relu'))\n",
    "model.add(layers.Dropout(0.4))\n",
    "model.add(layers.Dense(64))\n",
    "model.add(layers.BatchNormalization())\n",
    "model.add(layers.Activation('relu'))\n",
    "model.add(layers.Dropout(0.4))\n",
    "model.add(layers.Dense(128))\n",
    "model.add(layers.BatchNormalization())\n",
    "model.add(layers.Activation('relu'))\n",
    "model.add(layers.Dropout(rate = 0.4))\n",
    "model.add(layers.Dense(128))\n",
    "model.add(layers.BatchNormalization())\n",
    "model.add(layers.Activation('relu'))\n",
    "model.add(layers.Dropout(rate = 0.4))\n",
    "model.add(layers.Dense(128))\n",
    "model.add(layers.BatchNormalization())\n",
    "model.add(layers.Activation('relu'))\n",
    "\n",
    "\n",
    "model.add(layers.Dense(2))\n",
    "model.add(layers.Activation('softmax'))\n",
    "model.compile(loss='categorical_crossentropy',\n",
    "              optimizer=keras.optimizers.Nadam(lr=0.002, beta_1=0.9, beta_2=0.999),\n",
    "              metrics=['accuracy'])\n",
    "checkpoint = keras.callbacks.ModelCheckpoint(\"NN2.model\", monitor='val_loss', verbose=1, save_best_only=True)\n",
    "\n",
    "model.summary()"
   ]
  },
  {
   "cell_type": "code",
   "execution_count": 228,
   "metadata": {
    "hidden": true
   },
   "outputs": [
    {
     "name": "stdout",
     "output_type": "stream",
     "text": [
      "Epoch 1/10\n",
      "3750/3750 [==============================] - 97s 26ms/step - loss: 0.3722 - accuracy: 0.8396 - val_loss: 0.2678 - val_accuracy: 0.8910\n",
      "\n",
      "Epoch 00001: val_loss improved from inf to 0.26779, saving model to NN2.model\n",
      "Epoch 2/10\n",
      "3750/3750 [==============================] - 162s 43ms/step - loss: 0.2769 - accuracy: 0.8871 - val_loss: 0.2537 - val_accuracy: 0.8963\n",
      "\n",
      "Epoch 00002: val_loss improved from 0.26779 to 0.25369, saving model to NN2.model\n",
      "Epoch 3/10\n",
      "3750/3750 [==============================] - 222s 59ms/step - loss: 0.2337 - accuracy: 0.9082 - val_loss: 0.2547 - val_accuracy: 0.8952\n",
      "\n",
      "Epoch 00003: val_loss did not improve from 0.25369\n",
      "Epoch 4/10\n",
      "3750/3750 [==============================] - 228s 61ms/step - loss: 0.2021 - accuracy: 0.9220 - val_loss: 0.2575 - val_accuracy: 0.8951\n",
      "\n",
      "Epoch 00004: val_loss did not improve from 0.25369\n",
      "Epoch 5/10\n",
      "3750/3750 [==============================] - 232s 62ms/step - loss: 0.1736 - accuracy: 0.9337 - val_loss: 0.2632 - val_accuracy: 0.8941\n",
      "\n",
      "Epoch 00005: val_loss did not improve from 0.25369\n",
      "Epoch 6/10\n",
      "3750/3750 [==============================] - 699s 186ms/step - loss: 0.1505 - accuracy: 0.9441 - val_loss: 0.2866 - val_accuracy: 0.8838\n",
      "\n",
      "Epoch 00006: val_loss did not improve from 0.25369\n",
      "Epoch 7/10\n",
      "3750/3750 [==============================] - 583s 156ms/step - loss: 0.1354 - accuracy: 0.9501 - val_loss: 0.2803 - val_accuracy: 0.8906\n",
      "\n",
      "Epoch 00007: val_loss did not improve from 0.25369\n",
      "Epoch 8/10\n",
      "3750/3750 [==============================] - 584s 156ms/step - loss: 0.1198 - accuracy: 0.9569 - val_loss: 0.2881 - val_accuracy: 0.8908\n",
      "\n",
      "Epoch 00008: val_loss did not improve from 0.25369\n",
      "Epoch 9/10\n",
      "3750/3750 [==============================] - 588s 157ms/step - loss: 0.1085 - accuracy: 0.9608 - val_loss: 0.2990 - val_accuracy: 0.8888\n",
      "\n",
      "Epoch 00009: val_loss did not improve from 0.25369\n",
      "Epoch 10/10\n",
      "3750/3750 [==============================] - 588s 157ms/step - loss: 0.0989 - accuracy: 0.9644 - val_loss: 0.3097 - val_accuracy: 0.8879\n",
      "\n",
      "Epoch 00010: val_loss did not improve from 0.25369\n"
     ]
    }
   ],
   "source": [
    "model1 = model.fit_generator(generator=batch_generator(x_train, y_train, 32, True), validation_data=(x_val, y_val), steps_per_epoch=(x_train.shape[0])/32,epochs=10, callbacks=[checkpoint])"
   ]
  },
  {
   "cell_type": "code",
   "execution_count": 229,
   "metadata": {
    "hidden": true
   },
   "outputs": [
    {
     "data": {
      "image/png": "[encoded data removed]",
      "text/plain": [
       "<Figure size 432x288 with 1 Axes>"
      ]
     },
     "metadata": {
      "needs_background": "light"
     },
     "output_type": "display_data"
    },
    {
     "data": {
      "image/png": "[encoded data removed]",
      "text/plain": [
       "<Figure size 432x288 with 1 Axes>"
      ]
     },
     "metadata": {
      "needs_background": "light"
     },
     "output_type": "display_data"
    }
   ],
   "source": [
    "import matplotlib.pyplot as plt\n",
    "\n",
    "plt.plot(model1.history['accuracy'])\n",
    "plt.plot(model1.history['val_accuracy'])\n",
    "plt.legend(['Train', 'Val'], loc='upper left')\n",
    "plt.show()\n",
    "plt.plot(model1.history['loss'])\n",
    "plt.plot(model1.history['val_loss'])\n",
    "plt.legend(['Train', 'Val'], loc='upper left')\n",
    "plt.show()"
   ]
  },
  {
   "cell_type": "code",
   "execution_count": 318,
   "metadata": {
    "hidden": true
   },
   "outputs": [
    {
     "name": "stdout",
     "output_type": "stream",
     "text": [
      "Model: \"sequential_18\"\n",
      "_________________________________________________________________\n",
      "Layer (type)                 Output Shape              Param #   \n",
      "=================================================================\n",
      "dense_71 (Dense)             (None, 128)               3840128   \n",
      "_________________________________________________________________\n",
      "batch_normalization_61 (Batc (None, 128)               512       \n",
      "_________________________________________________________________\n",
      "activation_36 (Activation)   (None, 128)               0         \n",
      "_________________________________________________________________\n",
      "dropout_51 (Dropout)         (None, 128)               0         \n",
      "_________________________________________________________________\n",
      "dense_72 (Dense)             (None, 128)               16512     \n",
      "_________________________________________________________________\n",
      "batch_normalization_62 (Batc (None, 128)               512       \n",
      "_________________________________________________________________\n",
      "activation_37 (Activation)   (None, 128)               0         \n",
      "_________________________________________________________________\n",
      "dropout_52 (Dropout)         (None, 128)               0         \n",
      "_________________________________________________________________\n",
      "dense_73 (Dense)             (None, 128)               16512     \n",
      "_________________________________________________________________\n",
      "batch_normalization_63 (Batc (None, 128)               512       \n",
      "_________________________________________________________________\n",
      "activation_38 (Activation)   (None, 128)               0         \n",
      "_________________________________________________________________\n",
      "dropout_53 (Dropout)         (None, 128)               0         \n",
      "_________________________________________________________________\n",
      "dense_74 (Dense)             (None, 256)               33024     \n",
      "_________________________________________________________________\n",
      "batch_normalization_64 (Batc (None, 256)               1024      \n",
      "_________________________________________________________________\n",
      "activation_39 (Activation)   (None, 256)               0         \n",
      "_________________________________________________________________\n",
      "dropout_54 (Dropout)         (None, 256)               0         \n",
      "_________________________________________________________________\n",
      "dense_75 (Dense)             (None, 256)               65792     \n",
      "_________________________________________________________________\n",
      "batch_normalization_65 (Batc (None, 256)               1024      \n",
      "_________________________________________________________________\n",
      "activation_40 (Activation)   (None, 256)               0         \n",
      "_________________________________________________________________\n",
      "dropout_55 (Dropout)         (None, 256)               0         \n",
      "_________________________________________________________________\n",
      "dense_76 (Dense)             (None, 256)               65792     \n",
      "_________________________________________________________________\n",
      "batch_normalization_66 (Batc (None, 256)               1024      \n",
      "_________________________________________________________________\n",
      "activation_41 (Activation)   (None, 256)               0         \n",
      "_________________________________________________________________\n",
      "dense_77 (Dense)             (None, 2)                 514       \n",
      "_________________________________________________________________\n",
      "activation_42 (Activation)   (None, 2)                 0         \n",
      "=================================================================\n",
      "Total params: 4,042,882\n",
      "Trainable params: 4,040,578\n",
      "Non-trainable params: 2,304\n",
      "_________________________________________________________________\n"
     ]
    }
   ],
   "source": [
    "model = keras.Sequential()\n",
    "model.add(layers.Dense(128, input_dim=30000))\n",
    "model.add(layers.BatchNormalization())\n",
    "model.add(layers.Activation('relu'))\n",
    "model.add(layers.Dropout(0.5))\n",
    "model.add(layers.Dense(128))\n",
    "model.add(layers.BatchNormalization())\n",
    "model.add(layers.Activation('relu'))\n",
    "model.add(layers.Dropout(0.5))\n",
    "model.add(layers.Dense(128))\n",
    "model.add(layers.BatchNormalization())\n",
    "model.add(layers.Activation('relu'))\n",
    "model.add(layers.Dropout(0.5))\n",
    "model.add(layers.Dense(256))\n",
    "model.add(layers.BatchNormalization())\n",
    "model.add(layers.Activation('relu'))\n",
    "model.add(layers.Dropout(0.5))\n",
    "model.add(layers.Dense(256))\n",
    "model.add(layers.BatchNormalization())\n",
    "model.add(layers.Activation('relu'))\n",
    "model.add(layers.Dropout(0.5))\n",
    "model.add(layers.Dense(256))\n",
    "model.add(layers.BatchNormalization())\n",
    "model.add(layers.Activation('relu'))\n",
    "\n",
    "\n",
    "model.add(layers.Dense(2))\n",
    "model.add(layers.Activation('softmax'))\n",
    "model.compile(loss='categorical_crossentropy',\n",
    "              optimizer=keras.optimizers.Nadam(lr=0.002, beta_1=0.9, beta_2=0.999),\n",
    "              metrics=['accuracy'])\n",
    "checkpoint = keras.callbacks.ModelCheckpoint(\"NN4.model\", monitor='val_loss', verbose=1, save_best_only=True)\n",
    "\n",
    "model.summary()"
   ]
  },
  {
   "cell_type": "code",
   "execution_count": 319,
   "metadata": {
    "hidden": true,
    "scrolled": true
   },
   "outputs": [
    {
     "name": "stdout",
     "output_type": "stream",
     "text": [
      "Epoch 1/10\n",
      "1875/1875 [==============================] - 67s 36ms/step - loss: 0.3652 - accuracy: 0.8424 - val_loss: 0.2891 - val_accuracy: 0.8806\n",
      "\n",
      "Epoch 00001: val_loss improved from inf to 0.28910, saving model to NN4.model\n",
      "Epoch 2/10\n",
      "1875/1875 [==============================] - 88s 47ms/step - loss: 0.2470 - accuracy: 0.9026 - val_loss: 0.2806 - val_accuracy: 0.8883\n",
      "\n",
      "Epoch 00002: val_loss improved from 0.28910 to 0.28059, saving model to NN4.model\n",
      "Epoch 3/10\n",
      "1875/1875 [==============================] - 147s 79ms/step - loss: 0.2001 - accuracy: 0.9220 - val_loss: 0.2841 - val_accuracy: 0.8889\n",
      "\n",
      "Epoch 00003: val_loss did not improve from 0.28059\n",
      "Epoch 4/10\n",
      "1875/1875 [==============================] - 135s 72ms/step - loss: 0.1660 - accuracy: 0.9377 - val_loss: 0.2903 - val_accuracy: 0.8895\n",
      "\n",
      "Epoch 00004: val_loss did not improve from 0.28059\n",
      "Epoch 5/10\n",
      "1875/1875 [==============================] - 236s 126ms/step - loss: 0.1383 - accuracy: 0.9485 - val_loss: 0.3121 - val_accuracy: 0.8827\n",
      "\n",
      "Epoch 00005: val_loss did not improve from 0.28059\n",
      "Epoch 6/10\n",
      "1875/1875 [==============================] - 548s 292ms/step - loss: 0.1154 - accuracy: 0.9579 - val_loss: 0.3048 - val_accuracy: 0.8877\n",
      "\n",
      "Epoch 00006: val_loss did not improve from 0.28059\n",
      "Epoch 7/10\n",
      "1875/1875 [==============================] - 386s 206ms/step - loss: 0.0988 - accuracy: 0.9649 - val_loss: 0.3443 - val_accuracy: 0.8867\n",
      "\n",
      "Epoch 00007: val_loss did not improve from 0.28059\n",
      "Epoch 8/10\n",
      "1875/1875 [==============================] - 394s 210ms/step - loss: 0.0863 - accuracy: 0.9690 - val_loss: 0.3673 - val_accuracy: 0.8848\n",
      "\n",
      "Epoch 00008: val_loss did not improve from 0.28059\n",
      "Epoch 9/10\n",
      "1875/1875 [==============================] - 394s 210ms/step - loss: 0.0748 - accuracy: 0.9737 - val_loss: 0.3700 - val_accuracy: 0.8843\n",
      "\n",
      "Epoch 00009: val_loss did not improve from 0.28059\n",
      "Epoch 10/10\n",
      "1875/1875 [==============================] - 390s 208ms/step - loss: 0.0669 - accuracy: 0.9768 - val_loss: 0.4044 - val_accuracy: 0.8838\n",
      "\n",
      "Epoch 00010: val_loss did not improve from 0.28059\n"
     ]
    }
   ],
   "source": [
    "model1 = model.fit_generator(generator=batch_generator(x_train, y_train, 64, True), validation_data=(x_val, y_val), steps_per_epoch=(x_train.shape[0])/64,epochs=10, callbacks=[checkpoint])"
   ]
  },
  {
   "cell_type": "code",
   "execution_count": 320,
   "metadata": {
    "hidden": true
   },
   "outputs": [
    {
     "data": {
      "image/png": "[encoded data removed]",
      "text/plain": [
       "<Figure size 432x288 with 1 Axes>"
      ]
     },
     "metadata": {
      "needs_background": "light"
     },
     "output_type": "display_data"
    },
    {
     "data": {
      "image/png": "[encoded data removed]",
      "text/plain": [
       "<Figure size 432x288 with 1 Axes>"
      ]
     },
     "metadata": {
      "needs_background": "light"
     },
     "output_type": "display_data"
    }
   ],
   "source": [
    "import matplotlib.pyplot as plt\n",
    "\n",
    "plt.plot(model1.history['accuracy'])\n",
    "plt.plot(model1.history['val_accuracy'])\n",
    "plt.legend(['Train', 'Val'], loc='upper left')\n",
    "plt.show()\n",
    "plt.plot(model1.history['loss'])\n",
    "plt.plot(model1.history['val_loss'])\n",
    "plt.legend(['Train', 'Val'], loc='upper left')\n",
    "plt.show()"
   ]
  },
  {
   "cell_type": "markdown",
   "metadata": {
    "heading_collapsed": true,
    "hidden": true
   },
   "source": [
    "### Combining Features"
   ]
  },
  {
   "cell_type": "code",
   "execution_count": 255,
   "metadata": {
    "hidden": true
   },
   "outputs": [],
   "source": [
    "import keras\n",
    "\n",
    "chosen_model = keras.models.load_model('NN3.model')"
   ]
  },
  {
   "cell_type": "code",
   "execution_count": 71,
   "metadata": {
    "hidden": true
   },
   "outputs": [
    {
     "name": "stdout",
     "output_type": "stream",
     "text": [
      "Model: \"sequential_9\"\n",
      "_________________________________________________________________\n",
      "Layer (type)                 Output Shape              Param #   \n",
      "=================================================================\n",
      "dense_50 (Dense)             (None, 32)                960032    \n",
      "_________________________________________________________________\n",
      "batch_normalization_43 (Batc (None, 32)                128       \n",
      "_________________________________________________________________\n",
      "activation_15 (Activation)   (None, 32)                0         \n",
      "_________________________________________________________________\n",
      "dropout_36 (Dropout)         (None, 32)                0         \n",
      "_________________________________________________________________\n",
      "dense_51 (Dense)             (None, 32)                1056      \n",
      "_________________________________________________________________\n",
      "batch_normalization_44 (Batc (None, 32)                128       \n",
      "_________________________________________________________________\n",
      "activation_16 (Activation)   (None, 32)                0         \n",
      "_________________________________________________________________\n",
      "dropout_37 (Dropout)         (None, 32)                0         \n",
      "_________________________________________________________________\n",
      "dense_52 (Dense)             (None, 32)                1056      \n",
      "_________________________________________________________________\n",
      "batch_normalization_45 (Batc (None, 32)                128       \n",
      "_________________________________________________________________\n",
      "activation_17 (Activation)   (None, 32)                0         \n",
      "_________________________________________________________________\n",
      "dropout_38 (Dropout)         (None, 32)                0         \n",
      "_________________________________________________________________\n",
      "dense_53 (Dense)             (None, 64)                2112      \n",
      "_________________________________________________________________\n",
      "batch_normalization_46 (Batc (None, 64)                256       \n",
      "_________________________________________________________________\n",
      "activation_18 (Activation)   (None, 64)                0         \n",
      "_________________________________________________________________\n",
      "dropout_39 (Dropout)         (None, 64)                0         \n",
      "_________________________________________________________________\n",
      "dense_54 (Dense)             (None, 64)                4160      \n",
      "_________________________________________________________________\n",
      "batch_normalization_47 (Batc (None, 64)                256       \n",
      "_________________________________________________________________\n",
      "activation_19 (Activation)   (None, 64)                0         \n",
      "_________________________________________________________________\n",
      "dropout_40 (Dropout)         (None, 64)                0         \n",
      "_________________________________________________________________\n",
      "dense_55 (Dense)             (None, 64)                4160      \n",
      "_________________________________________________________________\n",
      "batch_normalization_48 (Batc (None, 64)                256       \n",
      "_________________________________________________________________\n",
      "activation_20 (Activation)   (None, 64)                0         \n",
      "_________________________________________________________________\n",
      "dense_56 (Dense)             (None, 2)                 130       \n",
      "_________________________________________________________________\n",
      "activation_21 (Activation)   (None, 2)                 0         \n",
      "=================================================================\n",
      "Total params: 973,858\n",
      "Trainable params: 973,282\n",
      "Non-trainable params: 576\n",
      "_________________________________________________________________\n"
     ]
    }
   ],
   "source": [
    "chosen_model.summary()"
   ]
  },
  {
   "cell_type": "code",
   "execution_count": 256,
   "metadata": {
    "hidden": true
   },
   "outputs": [
    {
     "name": "stdout",
     "output_type": "stream",
     "text": [
      "Model: \"sequential_17\"\n",
      "_________________________________________________________________\n",
      "Layer (type)                 Output Shape              Param #   \n",
      "=================================================================\n",
      "dense_64 (Dense)             (None, 128)               3840128   \n",
      "_________________________________________________________________\n",
      "batch_normalization_55 (Batc (None, 128)               512       \n",
      "_________________________________________________________________\n",
      "activation_29 (Activation)   (None, 128)               0         \n",
      "_________________________________________________________________\n",
      "dropout_46 (Dropout)         (None, 128)               0         \n",
      "_________________________________________________________________\n",
      "dense_65 (Dense)             (None, 128)               16512     \n",
      "_________________________________________________________________\n",
      "batch_normalization_56 (Batc (None, 128)               512       \n",
      "_________________________________________________________________\n",
      "activation_30 (Activation)   (None, 128)               0         \n",
      "_________________________________________________________________\n",
      "dropout_47 (Dropout)         (None, 128)               0         \n",
      "_________________________________________________________________\n",
      "dense_66 (Dense)             (None, 128)               16512     \n",
      "_________________________________________________________________\n",
      "batch_normalization_57 (Batc (None, 128)               512       \n",
      "_________________________________________________________________\n",
      "activation_31 (Activation)   (None, 128)               0         \n",
      "_________________________________________________________________\n",
      "dropout_48 (Dropout)         (None, 128)               0         \n",
      "_________________________________________________________________\n",
      "dense_67 (Dense)             (None, 256)               33024     \n",
      "_________________________________________________________________\n",
      "batch_normalization_58 (Batc (None, 256)               1024      \n",
      "_________________________________________________________________\n",
      "activation_32 (Activation)   (None, 256)               0         \n",
      "_________________________________________________________________\n",
      "dropout_49 (Dropout)         (None, 256)               0         \n",
      "_________________________________________________________________\n",
      "dense_68 (Dense)             (None, 256)               65792     \n",
      "_________________________________________________________________\n",
      "batch_normalization_59 (Batc (None, 256)               1024      \n",
      "_________________________________________________________________\n",
      "activation_33 (Activation)   (None, 256)               0         \n",
      "_________________________________________________________________\n",
      "dropout_50 (Dropout)         (None, 256)               0         \n",
      "_________________________________________________________________\n",
      "dense_69 (Dense)             (None, 256)               65792     \n",
      "=================================================================\n",
      "Total params: 4,041,344\n",
      "Trainable params: 4,039,552\n",
      "Non-trainable params: 1,792\n",
      "_________________________________________________________________\n"
     ]
    }
   ],
   "source": [
    "capped_model = keras.Sequential()\n",
    "\n",
    "for layer in chosen_model.layers[:-4]:\n",
    "    capped_model.add(layer)\n",
    "    \n",
    "capped_model.summary()"
   ]
  },
  {
   "cell_type": "code",
   "execution_count": 257,
   "metadata": {
    "hidden": true
   },
   "outputs": [
    {
     "data": {
      "application/vnd.jupyter.widget-view+json": {
       "model_id": "653a35c653c34f6ba1fe35864a0702ad",
       "version_major": 2,
       "version_minor": 0
      },
      "text/plain": [
       "HBox(children=(FloatProgress(value=0.0, max=120000.0), HTML(value='')))"
      ]
     },
     "metadata": {},
     "output_type": "display_data"
    },
    {
     "name": "stdout",
     "output_type": "stream",
     "text": [
      "\n"
     ]
    }
   ],
   "source": [
    "from tqdm.notebook import tqdm_notebook as tqdm\n",
    "\n",
    "y_predict_train = []\n",
    "\n",
    "for i in tqdm(range(x_train.shape[0])):\n",
    "    array = x_train[i].toarray()\n",
    "    prediction = capped_model.predict(array)\n",
    "    y_predict_train.append(prediction)"
   ]
  },
  {
   "cell_type": "code",
   "execution_count": 258,
   "metadata": {
    "hidden": true
   },
   "outputs": [
    {
     "data": {
      "text/plain": [
       "(120000, 1, 256)"
      ]
     },
     "execution_count": 258,
     "metadata": {},
     "output_type": "execute_result"
    }
   ],
   "source": [
    "y_predict_train = np.array(y_predict_train)\n",
    "y_predict_train.shape"
   ]
  },
  {
   "cell_type": "code",
   "execution_count": 260,
   "metadata": {
    "hidden": true
   },
   "outputs": [
    {
     "data": {
      "text/plain": [
       "(120000, 256)"
      ]
     },
     "execution_count": 260,
     "metadata": {},
     "output_type": "execute_result"
    }
   ],
   "source": [
    "y_predict_train = y_predict_train.reshape((120000, 256))\n",
    "y_predict_train.shape"
   ]
  },
  {
   "cell_type": "markdown",
   "metadata": {
    "hidden": true
   },
   "source": [
    "#### PCA to reduce dimensions of TFIDF"
   ]
  },
  {
   "cell_type": "code",
   "execution_count": 261,
   "metadata": {
    "hidden": true
   },
   "outputs": [
    {
     "data": {
      "text/plain": [
       "(120000, 29900)"
      ]
     },
     "execution_count": 261,
     "metadata": {},
     "output_type": "execute_result"
    }
   ],
   "source": [
    "x_train_tfidf = x_train[:,100:]\n",
    "x_train_tfidf.shape"
   ]
  },
  {
   "cell_type": "code",
   "execution_count": 305,
   "metadata": {
    "hidden": true
   },
   "outputs": [],
   "source": [
    "from sklearn.decomposition import TruncatedSVD\n",
    "\n",
    "svd = TruncatedSVD(n_components=25)\n",
    "\n",
    "svd_data = svd.fit_transform(x_train)"
   ]
  },
  {
   "cell_type": "code",
   "execution_count": 287,
   "metadata": {
    "hidden": true
   },
   "outputs": [
    {
     "data": {
      "text/plain": [
       "(120000, 500)"
      ]
     },
     "execution_count": 287,
     "metadata": {},
     "output_type": "execute_result"
    }
   ],
   "source": [
    "svd_data.shape"
   ]
  },
  {
   "cell_type": "code",
   "execution_count": 137,
   "metadata": {
    "hidden": true
   },
   "outputs": [
    {
     "data": {
      "text/plain": [
       "(120000, 64)"
      ]
     },
     "execution_count": 137,
     "metadata": {},
     "output_type": "execute_result"
    }
   ],
   "source": [
    "y_predict_train.shape"
   ]
  },
  {
   "cell_type": "markdown",
   "metadata": {
    "hidden": true
   },
   "source": [
    "#### Combine PCA result with last layer of NN"
   ]
  },
  {
   "cell_type": "code",
   "execution_count": 306,
   "metadata": {
    "hidden": true
   },
   "outputs": [
    {
     "data": {
      "text/plain": [
       "(120000, 281)"
      ]
     },
     "execution_count": 306,
     "metadata": {},
     "output_type": "execute_result"
    }
   ],
   "source": [
    "from scipy import sparse\n",
    "\n",
    "x_train_new = np.hstack([svd_data, y_predict_train])\n",
    "x_train_new.shape"
   ]
  },
  {
   "cell_type": "code",
   "execution_count": 264,
   "metadata": {
    "hidden": true
   },
   "outputs": [
    {
     "data": {
      "text/plain": [
       "array([1, 0, 1, ..., 0, 0, 0], dtype=int64)"
      ]
     },
     "execution_count": 264,
     "metadata": {},
     "output_type": "execute_result"
    }
   ],
   "source": [
    "y_train = np.argmax(y_train, axis=1)\n",
    "y_train"
   ]
  },
  {
   "cell_type": "code",
   "execution_count": null,
   "metadata": {
    "hidden": true
   },
   "outputs": [],
   "source": [
    "from sklearn.svm import SVC\n",
    "\n",
    "svm = SVC(random_state=42)\n",
    "x_train = normalize(x_train)\n",
    "\n",
    "svm_model = svm.fit(x_train, y_train)"
   ]
  },
  {
   "cell_type": "code",
   "execution_count": 58,
   "metadata": {
    "hidden": true
   },
   "outputs": [
    {
     "data": {
      "text/plain": [
       "0.865975"
      ]
     },
     "execution_count": 58,
     "metadata": {},
     "output_type": "execute_result"
    }
   ],
   "source": [
    "svm_model.score(x_train, y_train)"
   ]
  },
  {
   "cell_type": "code",
   "execution_count": 265,
   "metadata": {
    "hidden": true
   },
   "outputs": [
    {
     "data": {
      "application/vnd.jupyter.widget-view+json": {
       "model_id": "a8fedffb3c5f4dc48472a55d2cce30a4",
       "version_major": 2,
       "version_minor": 0
      },
      "text/plain": [
       "HBox(children=(FloatProgress(value=0.0, max=40000.0), HTML(value='')))"
      ]
     },
     "metadata": {},
     "output_type": "display_data"
    },
    {
     "name": "stdout",
     "output_type": "stream",
     "text": [
      "\n"
     ]
    }
   ],
   "source": [
    "#same process to validation set\n",
    "\n",
    "from tqdm.notebook import tqdm_notebook as tqdm\n",
    "\n",
    "y_predict_val = []\n",
    "\n",
    "for i in tqdm(range(x_val.shape[0])):\n",
    "    array = x_val[i].toarray()\n",
    "    prediction = capped_model.predict(array)\n",
    "    y_predict_val.append(prediction)\n",
    "\n",
    "y_predict_val = np.array(y_predict_val)"
   ]
  },
  {
   "cell_type": "code",
   "execution_count": 307,
   "metadata": {
    "hidden": true
   },
   "outputs": [],
   "source": [
    "x_val_tfidf = x_val[:,100:]\n",
    "\n",
    "svd_data_val = svd.transform(x_val)"
   ]
  },
  {
   "cell_type": "code",
   "execution_count": 308,
   "metadata": {
    "hidden": true
   },
   "outputs": [
    {
     "data": {
      "text/plain": [
       "array([1, 0, 1, ..., 1, 1, 0], dtype=int64)"
      ]
     },
     "execution_count": 308,
     "metadata": {},
     "output_type": "execute_result"
    }
   ],
   "source": [
    "y_predict_val = y_predict_val.reshape((40000, 256))\n",
    "\n",
    "x_val_new = np.hstack([svd_data_val, y_predict_val])\n",
    "\n",
    "#y_val = np.argmax(y_val, axis=1)\n",
    "y_val"
   ]
  },
  {
   "cell_type": "code",
   "execution_count": 269,
   "metadata": {
    "hidden": true
   },
   "outputs": [],
   "source": [
    "y_val = np.argmax(y_val, axis=1)"
   ]
  },
  {
   "cell_type": "code",
   "execution_count": 74,
   "metadata": {
    "hidden": true
   },
   "outputs": [
    {
     "data": {
      "text/plain": [
       "0.526775"
      ]
     },
     "execution_count": 74,
     "metadata": {},
     "output_type": "execute_result"
    }
   ],
   "source": [
    "svm_model.score(x_val, y_val)"
   ]
  },
  {
   "cell_type": "markdown",
   "metadata": {
    "heading_collapsed": true,
    "hidden": true
   },
   "source": [
    "### Logistic Regression with combined features"
   ]
  },
  {
   "cell_type": "code",
   "execution_count": 270,
   "metadata": {
    "hidden": true
   },
   "outputs": [
    {
     "data": {
      "text/plain": [
       "(120000, 456)"
      ]
     },
     "execution_count": 270,
     "metadata": {},
     "output_type": "execute_result"
    }
   ],
   "source": [
    "x_train_new.shape"
   ]
  },
  {
   "cell_type": "code",
   "execution_count": 273,
   "metadata": {
    "hidden": true
   },
   "outputs": [
    {
     "name": "stdout",
     "output_type": "stream",
     "text": [
      "(120000, 456)\n",
      "(40000, 456)\n"
     ]
    }
   ],
   "source": [
    "scaler = StandardScaler()\n",
    "\n",
    "#x_train_new = x_train_new.toarray()\n",
    "#x_val_new = x_val_new.toarray()\n",
    "\n",
    "print(x_train_new.shape)\n",
    "print(x_val_new.shape)\n",
    "\n",
    "x_train_normalized = scaler.fit_transform(x_train_new)\n",
    "x_val_normalized = scaler.transform(x_val_new)"
   ]
  },
  {
   "cell_type": "code",
   "execution_count": 223,
   "metadata": {
    "hidden": true
   },
   "outputs": [
    {
     "name": "stdout",
     "output_type": "stream",
     "text": [
      "0.8797916666666666\n",
      "0.876625\n"
     ]
    }
   ],
   "source": [
    "from sklearn.linear_model import LogisticRegression\n",
    "\n",
    "log_model = LogisticRegression(random_state=42, max_iter=8000)\n",
    "\n",
    "log_model.fit(x_train_new, y_train)\n",
    "\n",
    "print(log_model.score(x_train_new, y_train))\n",
    "print(log_model.score(x_val_new, y_val))"
   ]
  },
  {
   "cell_type": "code",
   "execution_count": 243,
   "metadata": {
    "hidden": true
   },
   "outputs": [
    {
     "name": "stdout",
     "output_type": "stream",
     "text": [
      "0.9488916666666667\n",
      "0.89605\n"
     ]
    }
   ],
   "source": [
    "#200 + 128\n",
    "\n",
    "log_model = LogisticRegression(random_state=42, max_iter=8000)\n",
    "\n",
    "log_model.fit(x_train_new, y_train)\n",
    "\n",
    "print(log_model.score(x_train_new, y_train))\n",
    "print(log_model.score(x_val_new, y_val))"
   ]
  },
  {
   "cell_type": "code",
   "execution_count": 249,
   "metadata": {
    "hidden": true
   },
   "outputs": [
    {
     "name": "stdout",
     "output_type": "stream",
     "text": [
      "0.9503416666666666\n",
      "0.895075\n"
     ]
    }
   ],
   "source": [
    "#500 + 128\n",
    "\n",
    "log_model = LogisticRegression(random_state=42, max_iter=8000)\n",
    "\n",
    "log_model.fit(x_train_new, y_train)\n",
    "\n",
    "print(log_model.score(x_train_new, y_train))\n",
    "print(log_model.score(x_val_new, y_val))"
   ]
  },
  {
   "cell_type": "code",
   "execution_count": 274,
   "metadata": {
    "hidden": true
   },
   "outputs": [
    {
     "name": "stdout",
     "output_type": "stream",
     "text": [
      "0.95515\n",
      "0.89615\n"
     ]
    }
   ],
   "source": [
    "# 200 + 256\n",
    "\n",
    "log_model = LogisticRegression(random_state=42, max_iter=8000)\n",
    "\n",
    "log_model.fit(x_train_new, y_train)\n",
    "\n",
    "print(log_model.score(x_train_new, y_train))\n",
    "print(log_model.score(x_val_new, y_val))"
   ]
  },
  {
   "cell_type": "code",
   "execution_count": 224,
   "metadata": {
    "hidden": true
   },
   "outputs": [
    {
     "name": "stdout",
     "output_type": "stream",
     "text": [
      "0.776825\n",
      "0.7746416666666667\n"
     ]
    }
   ],
   "source": [
    "log_model.fit(y_predict_train, y_train)\n",
    "\n",
    "print(log_model.score(y_predict_val, y_val))\n",
    "print(log_model.score(y_predict_train, y_train))"
   ]
  },
  {
   "cell_type": "code",
   "execution_count": 310,
   "metadata": {
    "hidden": true
   },
   "outputs": [
    {
     "name": "stdout",
     "output_type": "stream",
     "text": [
      "0.948075\n",
      "0.89915\n"
     ]
    }
   ],
   "source": [
    "# Try random forest on 0 + 256\n",
    "\n",
    "from sklearn.ensemble import RandomForestClassifier\n",
    "\n",
    "rf = RandomForestClassifier(max_depth=5)\n",
    "\n",
    "rf.fit(y_predict_train, y_train)\n",
    "\n",
    "print(rf.score(y_predict_train, y_train))\n",
    "print(rf.score(y_predict_val, y_val))"
   ]
  },
  {
   "cell_type": "code",
   "execution_count": 309,
   "metadata": {
    "hidden": true
   },
   "outputs": [
    {
     "name": "stdout",
     "output_type": "stream",
     "text": [
      "0.9480083333333333\n",
      "0.899125\n"
     ]
    }
   ],
   "source": [
    "# Try random forest on 25 + 256\n",
    "\n",
    "from sklearn.ensemble import RandomForestClassifier\n",
    "\n",
    "rf = RandomForestClassifier(max_depth=5)\n",
    "\n",
    "rf.fit(x_train_new, y_train)\n",
    "\n",
    "print(rf.score(x_train_new, y_train))\n",
    "print(rf.score(x_val_new, y_val))"
   ]
  },
  {
   "cell_type": "code",
   "execution_count": 304,
   "metadata": {
    "hidden": true
   },
   "outputs": [
    {
     "name": "stdout",
     "output_type": "stream",
     "text": [
      "0.9479916666666667\n",
      "0.899225\n"
     ]
    }
   ],
   "source": [
    "# Try random forest on 50 + 256\n",
    "\n",
    "from sklearn.ensemble import RandomForestClassifier\n",
    "\n",
    "rf = RandomForestClassifier(max_depth=5)\n",
    "\n",
    "rf.fit(x_train_new, y_train)\n",
    "\n",
    "print(rf.score(x_train_new, y_train))\n",
    "print(rf.score(x_val_new, y_val))"
   ]
  },
  {
   "cell_type": "code",
   "execution_count": 299,
   "metadata": {
    "hidden": true
   },
   "outputs": [
    {
     "name": "stdout",
     "output_type": "stream",
     "text": [
      "0.947975\n",
      "0.899125\n"
     ]
    }
   ],
   "source": [
    "# Try random forest on 100 + 256\n",
    "\n",
    "from sklearn.ensemble import RandomForestClassifier\n",
    "\n",
    "rf = RandomForestClassifier(max_depth=5)\n",
    "\n",
    "rf.fit(x_train_new, y_train)\n",
    "\n",
    "print(rf.score(x_train_new, y_train))\n",
    "print(rf.score(x_val_new, y_val))"
   ]
  },
  {
   "cell_type": "code",
   "execution_count": 282,
   "metadata": {
    "hidden": true
   },
   "outputs": [
    {
     "name": "stdout",
     "output_type": "stream",
     "text": [
      "0.9479333333333333\n",
      "0.89915\n"
     ]
    }
   ],
   "source": [
    "# Try random forest on 200 + 256\n",
    "\n",
    "from sklearn.ensemble import RandomForestClassifier\n",
    "\n",
    "rf = RandomForestClassifier(max_depth=5)\n",
    "\n",
    "rf.fit(x_train_new, y_train)\n",
    "\n",
    "print(rf.score(x_train_new, y_train))\n",
    "print(rf.score(x_val_new, y_val))"
   ]
  },
  {
   "cell_type": "code",
   "execution_count": 288,
   "metadata": {
    "hidden": true
   },
   "outputs": [
    {
     "name": "stdout",
     "output_type": "stream",
     "text": [
      "0.9479333333333333\n",
      "0.89915\n"
     ]
    }
   ],
   "source": [
    "# Try random forest on 500 + 256\n",
    "\n",
    "from sklearn.ensemble import RandomForestClassifier\n",
    "\n",
    "rf = RandomForestClassifier(max_depth=5)\n",
    "\n",
    "rf.fit(x_train_new, y_train)\n",
    "\n",
    "print(rf.score(x_train_new, y_train))\n",
    "print(rf.score(x_val_new, y_val))"
   ]
  },
  {
   "cell_type": "code",
   "execution_count": 294,
   "metadata": {
    "hidden": true
   },
   "outputs": [
    {
     "name": "stdout",
     "output_type": "stream",
     "text": [
      "0.9479416666666667\n",
      "0.89915\n"
     ]
    }
   ],
   "source": [
    "# Try random forest on 1000 + 256\n",
    "\n",
    "from sklearn.ensemble import RandomForestClassifier\n",
    "\n",
    "rf = RandomForestClassifier(max_depth=5)\n",
    "\n",
    "rf.fit(x_train_new, y_train)\n",
    "\n",
    "print(rf.score(x_train_new, y_train))\n",
    "print(rf.score(x_val_new, y_val))"
   ]
  },
  {
   "cell_type": "code",
   "execution_count": 278,
   "metadata": {
    "hidden": true
   },
   "outputs": [
    {
     "name": "stdout",
     "output_type": "stream",
     "text": [
      "0.9870666666666666\n",
      "0.897825\n"
     ]
    }
   ],
   "source": [
    "# XGB on 200 + 256\n",
    "\n",
    "from xgboost import XGBClassifier\n",
    "\n",
    "xgb = XGBClassifier()\n",
    "\n",
    "xgb.fit(x_train_new, y_train)\n",
    "\n",
    "print(xgb.score(x_train_new, y_train))\n",
    "print(xgb.score(x_val_new, y_val))"
   ]
  },
  {
   "cell_type": "code",
   "execution_count": null,
   "metadata": {
    "hidden": true
   },
   "outputs": [],
   "source": [
    "# 0.89735 (100 W2V, 100 SVD-TFIDF, 64 Last Layer Output)"
   ]
  },
  {
   "cell_type": "markdown",
   "metadata": {
    "heading_collapsed": true,
    "hidden": true
   },
   "source": [
    "### Neural Net with combined features"
   ]
  },
  {
   "cell_type": "code",
   "execution_count": 25,
   "metadata": {
    "hidden": true
   },
   "outputs": [],
   "source": [
    "import keras\n",
    "\n",
    "y_train = keras.utils.to_categorical(y_train, num_classes=2, dtype='int32')\n",
    "y_val = keras.utils.to_categorical(y_val, num_classes=2, dtype='int32')"
   ]
  },
  {
   "cell_type": "code",
   "execution_count": 25,
   "metadata": {
    "hidden": true
   },
   "outputs": [],
   "source": [
    "def batch_generator(X, y, batch_size, shuffle):\n",
    "    number_of_batches = X.shape[0]/batch_size\n",
    "    counter = 0\n",
    "    sample_index = np.arange(X.shape[0])\n",
    "    if shuffle:\n",
    "        np.random.shuffle(sample_index)\n",
    "    while True:\n",
    "        batch_index = sample_index[batch_size*counter:batch_size*(counter+1)]\n",
    "        X_batch = X[batch_index,:].toarray()\n",
    "        y_batch = y[batch_index]\n",
    "        counter += 1\n",
    "        yield X_batch, y_batch\n",
    "        if (counter == number_of_batches):\n",
    "            if shuffle:\n",
    "                np.random.shuffle(sample_index)\n",
    "            counter = 0"
   ]
  },
  {
   "cell_type": "markdown",
   "metadata": {
    "heading_collapsed": true,
    "hidden": true
   },
   "source": [
    "#### Neural net with previous net output features only"
   ]
  },
  {
   "cell_type": "code",
   "execution_count": 45,
   "metadata": {
    "hidden": true
   },
   "outputs": [
    {
     "name": "stdout",
     "output_type": "stream",
     "text": [
      "Model: \"sequential_6\"\n",
      "_________________________________________________________________\n",
      "Layer (type)                 Output Shape              Param #   \n",
      "=================================================================\n",
      "dense_29 (Dense)             (None, 2)                 66        \n",
      "_________________________________________________________________\n",
      "batch_normalization_25 (Batc (None, 2)                 8         \n",
      "_________________________________________________________________\n",
      "dropout_21 (Dropout)         (None, 2)                 0         \n",
      "_________________________________________________________________\n",
      "dense_30 (Dense)             (None, 2)                 6         \n",
      "_________________________________________________________________\n",
      "batch_normalization_26 (Batc (None, 2)                 8         \n",
      "_________________________________________________________________\n",
      "dropout_22 (Dropout)         (None, 2)                 0         \n",
      "_________________________________________________________________\n",
      "dense_31 (Dense)             (None, 2)                 6         \n",
      "_________________________________________________________________\n",
      "batch_normalization_27 (Batc (None, 2)                 8         \n",
      "_________________________________________________________________\n",
      "dropout_23 (Dropout)         (None, 2)                 0         \n",
      "_________________________________________________________________\n",
      "dense_32 (Dense)             (None, 4)                 12        \n",
      "_________________________________________________________________\n",
      "batch_normalization_28 (Batc (None, 4)                 16        \n",
      "_________________________________________________________________\n",
      "dropout_24 (Dropout)         (None, 4)                 0         \n",
      "_________________________________________________________________\n",
      "dense_33 (Dense)             (None, 4)                 20        \n",
      "_________________________________________________________________\n",
      "batch_normalization_29 (Batc (None, 4)                 16        \n",
      "_________________________________________________________________\n",
      "dropout_25 (Dropout)         (None, 4)                 0         \n",
      "_________________________________________________________________\n",
      "dense_34 (Dense)             (None, 4)                 20        \n",
      "_________________________________________________________________\n",
      "batch_normalization_30 (Batc (None, 4)                 16        \n",
      "_________________________________________________________________\n",
      "dense_35 (Dense)             (None, 2)                 10        \n",
      "=================================================================\n",
      "Total params: 212\n",
      "Trainable params: 176\n",
      "Non-trainable params: 36\n",
      "_________________________________________________________________\n"
     ]
    }
   ],
   "source": [
    "from keras import layers\n",
    "\n",
    "epochs = 10\n",
    "model = keras.Sequential()\n",
    "model.add(layers.Dense(2, input_dim=32, activation='relu'))\n",
    "model.add(layers.BatchNormalization())\n",
    "model.add(layers.Dropout(0.2))\n",
    "model.add(layers.Dense(2, activation='relu'))\n",
    "model.add(layers.BatchNormalization())\n",
    "model.add(layers.Dropout(0.2))\n",
    "model.add(layers.Dense(2, activation='relu'))\n",
    "model.add(layers.BatchNormalization())\n",
    "model.add(layers.Dropout(0.2))\n",
    "model.add(layers.Dense(4, activation='relu'))\n",
    "model.add(layers.BatchNormalization())\n",
    "model.add(layers.Dropout(rate = 0.2))\n",
    "model.add(layers.Dense(4, activation='relu', ))\n",
    "model.add(layers.BatchNormalization())\n",
    "model.add(layers.Dropout(rate = 0.2))\n",
    "model.add(layers.Dense(4, activation='relu'))\n",
    "model.add(layers.BatchNormalization())\n",
    "\n",
    "model.add(layers.Dense(2, activation='softmax'))\n",
    "model.compile(loss='categorical_crossentropy',\n",
    "              optimizer=keras.optimizers.Adam(),\n",
    "              metrics=['accuracy'])\n",
    "checkpoint = keras.callbacks.ModelCheckpoint(\"NN2.model\", monitor='val_loss', mode='min', verbose=1, save_best_only=True)\n",
    "\n",
    "model.summary()"
   ]
  },
  {
   "cell_type": "code",
   "execution_count": 36,
   "metadata": {
    "hidden": true
   },
   "outputs": [],
   "source": [
    "from sklearn.preprocessing import StandardScaler\n",
    "\n",
    "scaler1 = StandardScaler()\n",
    "y_predict_train1 = scaler1.fit_transform(y_predict_train)\n",
    "y_predict_val1 = scaler1.transform(y_predict_val)"
   ]
  },
  {
   "cell_type": "code",
   "execution_count": 47,
   "metadata": {
    "hidden": true
   },
   "outputs": [
    {
     "name": "stdout",
     "output_type": "stream",
     "text": [
      "Train on 120000 samples, validate on 40000 samples\n",
      "Epoch 1/10\n",
      "120000/120000 [==============================] - 48s 399us/step - loss: 0.6807 - accuracy: 0.5651 - val_loss: 0.6768 - val_accuracy: 0.5749\n",
      "\n",
      "Epoch 00001: val_loss improved from 0.67863 to 0.67681, saving model to NN2.model\n",
      "Epoch 2/10\n",
      "120000/120000 [==============================] - 51s 427us/step - loss: 0.6809 - accuracy: 0.5646 - val_loss: 0.6775 - val_accuracy: 0.5710\n",
      "\n",
      "Epoch 00002: val_loss did not improve from 0.67681\n",
      "Epoch 3/10\n",
      "120000/120000 [==============================] - 58s 480us/step - loss: 0.6805 - accuracy: 0.5643 - val_loss: 0.6764 - val_accuracy: 0.5763\n",
      "\n",
      "Epoch 00003: val_loss improved from 0.67681 to 0.67639, saving model to NN2.model\n",
      "Epoch 4/10\n",
      "120000/120000 [==============================] - 131s 1ms/step - loss: 0.6800 - accuracy: 0.5691 - val_loss: 0.6773 - val_accuracy: 0.5749\n",
      "\n",
      "Epoch 00004: val_loss did not improve from 0.67639\n",
      "Epoch 5/10\n",
      "120000/120000 [==============================] - 120s 998us/step - loss: 0.6802 - accuracy: 0.5663 - val_loss: 0.6770 - val_accuracy: 0.5753\n",
      "\n",
      "Epoch 00005: val_loss did not improve from 0.67639\n",
      "Epoch 6/10\n",
      "120000/120000 [==============================] - 109s 911us/step - loss: 0.6795 - accuracy: 0.5685 - val_loss: 0.6776 - val_accuracy: 0.5714\n",
      "\n",
      "Epoch 00006: val_loss did not improve from 0.67639\n",
      "Epoch 7/10\n",
      "120000/120000 [==============================] - 120s 997us/step - loss: 0.6800 - accuracy: 0.5673 - val_loss: 0.6774 - val_accuracy: 0.5702\n",
      "\n",
      "Epoch 00007: val_loss did not improve from 0.67639\n",
      "Epoch 8/10\n",
      "120000/120000 [==============================] - 112s 934us/step - loss: 0.6793 - accuracy: 0.5713 - val_loss: 0.6766 - val_accuracy: 0.5778\n",
      "\n",
      "Epoch 00008: val_loss did not improve from 0.67639\n",
      "Epoch 9/10\n",
      "120000/120000 [==============================] - 111s 927us/step - loss: 0.6797 - accuracy: 0.5693 - val_loss: 0.6776 - val_accuracy: 0.5743\n",
      "\n",
      "Epoch 00009: val_loss did not improve from 0.67639\n",
      "Epoch 10/10\n",
      "120000/120000 [==============================] - 113s 940us/step - loss: 0.6788 - accuracy: 0.5705 - val_loss: 0.6768 - val_accuracy: 0.5750\n",
      "\n",
      "Epoch 00010: val_loss did not improve from 0.67639\n"
     ]
    }
   ],
   "source": [
    "model1 = model.fit(y_predict_train1, y_train, validation_data=(y_predict_val1, y_val), epochs=10, callbacks=[checkpoint])"
   ]
  },
  {
   "cell_type": "code",
   "execution_count": 48,
   "metadata": {
    "hidden": true
   },
   "outputs": [
    {
     "data": {
      "image/png": "[encoded data removed]",
      "text/plain": [
       "<Figure size 432x288 with 1 Axes>"
      ]
     },
     "metadata": {
      "needs_background": "light"
     },
     "output_type": "display_data"
    },
    {
     "data": {
      "image/png": "[encoded data removed]",
      "text/plain": [
       "<Figure size 432x288 with 1 Axes>"
      ]
     },
     "metadata": {
      "needs_background": "light"
     },
     "output_type": "display_data"
    }
   ],
   "source": [
    "import matplotlib.pyplot as plt\n",
    "\n",
    "plt.plot(model1.history['accuracy'])\n",
    "plt.plot(model1.history['val_accuracy'])\n",
    "plt.legend(['Train', 'Val'], loc='upper left')\n",
    "plt.show()\n",
    "plt.plot(model1.history['loss'])\n",
    "plt.plot(model1.history['val_loss'])\n",
    "plt.legend(['Train', 'Val'], loc='upper left')\n",
    "plt.show()"
   ]
  },
  {
   "cell_type": "code",
   "execution_count": 43,
   "metadata": {
    "hidden": true
   },
   "outputs": [
    {
     "data": {
      "text/plain": [
       "0.5747"
      ]
     },
     "execution_count": 43,
     "metadata": {},
     "output_type": "execute_result"
    }
   ],
   "source": [
    "model = LogisticRegression(random_state=42, max_iter=2000)\n",
    "\n",
    "y_train_label = np.argmax(y_train, 1)\n",
    "y_val_label = np.argmax(y_val, 1)\n",
    "\n",
    "model.fit(y_predict_train, y_train_label)\n",
    "model.score(y_predict_val, y_val_label)"
   ]
  },
  {
   "cell_type": "code",
   "execution_count": 44,
   "metadata": {
    "hidden": true
   },
   "outputs": [
    {
     "data": {
      "text/plain": [
       "0.582125"
      ]
     },
     "execution_count": 44,
     "metadata": {},
     "output_type": "execute_result"
    }
   ],
   "source": [
    "model.score(y_predict_train, y_train_label)"
   ]
  },
  {
   "cell_type": "markdown",
   "metadata": {},
   "source": [
    "## RNN"
   ]
  },
  {
   "cell_type": "code",
   "execution_count": 62,
   "metadata": {},
   "outputs": [
    {
     "name": "stdout",
     "output_type": "stream",
     "text": [
      "160000\n",
      "120000\n",
      "40000\n"
     ]
    }
   ],
   "source": [
    "import pandas as pd\n",
    "import numpy as np\n",
    "import csv\n",
    "import sys\n",
    "import nltk\n",
    "from nltk.corpus import stopwords\n",
    "import glob\n",
    "import os\n",
    "import string\n",
    "\n",
    "#Load training file\n",
    "\n",
    "text_file = open(\"train.txt.txt\", \"r\", encoding=\"utf8\")\n",
    "lines = text_file.read().split('\\n')\n",
    "\n",
    "labels = []\n",
    "for item in lines:\n",
    "    first_four_letters = item[:10]\n",
    "    if first_four_letters == '__label__1':\n",
    "        labels.append(int(1))\n",
    "    else:\n",
    "        labels.append(int(2))\n",
    "        \n",
    "def remove_label(s):\n",
    "    return s[11:]\n",
    "lines = [remove_label(s) for s in lines]\n",
    "\n",
    "df = pd.DataFrame()\n",
    "df['text'] = lines\n",
    "df['label'] = labels\n",
    "\n",
    "df = df.sample(160000)\n",
    "print(len(df))\n",
    "df.head()\n",
    "\n",
    "#Clean text\n",
    "\n",
    "stop = stopwords.words('english')\n",
    "w_tokenizer = nltk.tokenize.WhitespaceTokenizer()\n",
    "lemmatizer = nltk.stem.WordNetLemmatizer()\n",
    "\n",
    "def lemmatize_text(text):\n",
    "    return [lemmatizer.lemmatize(w) for w in w_tokenizer.tokenize(text)]\n",
    "\n",
    "#lowercase and remove punctuation, remove stopwords        \n",
    "df['text'] = df['text'].str.lower()\n",
    "df['text'] = df['text'].str.replace('-', ' ')\n",
    "df['text'] = df['text'].str.split(' ')\n",
    "df['text'] = df['text'].apply(lambda x: [item for item in x if item not in stop])\n",
    "df['text'] = df['text'].apply(', '.join)\n",
    "df['text'] = df['text'].str.replace('[{}]'.format(string.punctuation), '')\n",
    "df['text'] = df['text'].apply(lemmatize_text)\n",
    "df['text'] = df['text'].apply(', '.join)\n",
    "df['text'] = df['text'].str.replace('[{}]'.format(string.punctuation), '')\n",
    "df['text'] = df['text'].str.replace('\\\\', ' ')\n",
    "\n",
    "\n",
    "#Train Word2Vec\n",
    "\n",
    "from gensim.models import Word2Vec\n",
    "\n",
    "text = [row.split() for row in df['text']]\n",
    "model_w2v = Word2Vec(text)\n",
    "\n",
    "model_w2v.save('model_w2v.bin')\n",
    "\n",
    "x_train = df['text']\n",
    "\n",
    "df['label'] = df['label'] - 1\n",
    "\n",
    "y_train= np.asarray(df.label)\n",
    "\n",
    "from sklearn.model_selection import train_test_split\n",
    "x_train, x_val, y_train, y_val = train_test_split(x_train, y_train, test_size=40000, random_state=42)\n",
    "\n",
    "print(len(x_train))\n",
    "print(len(x_val))"
   ]
  },
  {
   "cell_type": "code",
   "execution_count": 63,
   "metadata": {},
   "outputs": [],
   "source": [
    "from keras.preprocessing.text import Tokenizer\n",
    "\n",
    "max_length = 100\n",
    "\n",
    "t = Tokenizer()\n",
    "t.fit_on_texts(x_train)\n",
    "\n",
    "encoded_docs = t.texts_to_sequences(x_train)\n",
    "encoded_val = t.texts_to_sequences(x_val)\n",
    "\n",
    "word_index = t.word_index"
   ]
  },
  {
   "cell_type": "code",
   "execution_count": 64,
   "metadata": {},
   "outputs": [],
   "source": [
    "from keras.preprocessing.sequence import pad_sequences\n",
    "\n",
    "padded_docs = pad_sequences(encoded_docs, maxlen=max_length, padding='post')\n",
    "padded_val = pad_sequences(encoded_val, maxlen=max_length, padding='post')"
   ]
  },
  {
   "cell_type": "code",
   "execution_count": 3,
   "metadata": {},
   "outputs": [
    {
     "name": "stderr",
     "output_type": "stream",
     "text": [
      "C:\\Users\\danie\\anaconda3\\lib\\site-packages\\ipykernel_launcher.py:11: DeprecationWarning: Call to deprecated `__getitem__` (Method will be removed in 4.0.0, use self.wv.__getitem__() instead).\n",
      "  # This is added back by InteractiveShellApp.init_path()\n"
     ]
    },
    {
     "name": "stdout",
     "output_type": "stream",
     "text": [
      "Found 150897 unknown vocab\n"
     ]
    }
   ],
   "source": [
    "num_words = len(word_index) + 1\n",
    "\n",
    "count =0 \n",
    "\n",
    "embedding_matrix = np.zeros((num_words, 100))\n",
    "\n",
    "for word, i in word_index.items():\n",
    "    if i > num_words:\n",
    "        continue\n",
    "    try:\n",
    "        embedding_matrix[i] = model_w2v[word]\n",
    "    except KeyError as e:\n",
    "        count = count + 1\n",
    "\n",
    "print('Found ' + str(count) + ' unknown vocab')"
   ]
  },
  {
   "cell_type": "code",
   "execution_count": 66,
   "metadata": {},
   "outputs": [
    {
     "data": {
      "text/plain": [
       "187803"
      ]
     },
     "execution_count": 66,
     "metadata": {},
     "output_type": "execute_result"
    }
   ],
   "source": [
    "num_words"
   ]
  },
  {
   "cell_type": "code",
   "execution_count": 67,
   "metadata": {},
   "outputs": [
    {
     "data": {
      "text/plain": [
       "36974"
      ]
     },
     "execution_count": 67,
     "metadata": {},
     "output_type": "execute_result"
    }
   ],
   "source": [
    "len(model_w2v.wv.vocab)"
   ]
  },
  {
   "cell_type": "code",
   "execution_count": 68,
   "metadata": {},
   "outputs": [],
   "source": [
    "import pickle\n",
    "\n",
    "# saving\n",
    "with open('tokenizer.pickle', 'wb') as handle:\n",
    "    pickle.dump(t, handle, protocol=pickle.HIGHEST_PROTOCOL)\n",
    "\n",
    "# loading\n",
    "#with open('tokenizer.pickle', 'rb') as handle:\n",
    "    #tokenizer = pickle.load(handle)# loading\n",
    "#with open('tokenizer.pickle', 'rb') as handle:\n",
    "    #tokenizer = pickle.load(handle)"
   ]
  },
  {
   "cell_type": "code",
   "execution_count": 69,
   "metadata": {},
   "outputs": [],
   "source": [
    "model_w2v.save('model_w2v.bin')"
   ]
  },
  {
   "cell_type": "markdown",
   "metadata": {},
   "source": [
    "### LSTM"
   ]
  },
  {
   "cell_type": "code",
   "execution_count": 4,
   "metadata": {},
   "outputs": [],
   "source": [
    "import keras\n",
    "\n",
    "y_train = keras.utils.to_categorical(y_train, num_classes=2, dtype='int32')\n",
    "y_val = keras.utils.to_categorical(y_val, num_classes=2, dtype='int32')"
   ]
  },
  {
   "cell_type": "code",
   "execution_count": 17,
   "metadata": {},
   "outputs": [],
   "source": [
    "emb = model_w2v.wv.get_keras_embedding(train_embeddings=False)"
   ]
  },
  {
   "cell_type": "code",
   "execution_count": 71,
   "metadata": {},
   "outputs": [
    {
     "name": "stdout",
     "output_type": "stream",
     "text": [
      "Model: \"sequential_5\"\n",
      "_________________________________________________________________\n",
      "Layer (type)                 Output Shape              Param #   \n",
      "=================================================================\n",
      "embedding_3 (Embedding)      (None, 100, 100)          18780300  \n",
      "_________________________________________________________________\n",
      "lstm_5 (LSTM)                (None, 100, 128)          117248    \n",
      "_________________________________________________________________\n",
      "lstm_6 (LSTM)                (None, 64)                49408     \n",
      "_________________________________________________________________\n",
      "dense_3 (Dense)              (None, 2)                 130       \n",
      "=================================================================\n",
      "Total params: 18,947,086\n",
      "Trainable params: 18,947,086\n",
      "Non-trainable params: 0\n",
      "_________________________________________________________________\n"
     ]
    }
   ],
   "source": [
    "# Word2Vec Embedding\n",
    "\n",
    "import keras\n",
    "\n",
    "from keras.models import Sequential\n",
    "from keras.layers import Embedding, Flatten, LSTM, Dense, Dropout, SpatialDropout1D\n",
    "from keras.initializers import Constant\n",
    "\n",
    "model = Sequential()\n",
    "e = Embedding(embedding_matrix.shape[0], 100, embeddings_initializer=Constant(embedding_matrix), input_length = max_length, trainable=True)\n",
    "\n",
    "model.add(e)\n",
    "#model.add(SpatialDropout1D(0.3))\n",
    "model.add(LSTM(128, return_sequences=True, activation='tanh', dropout=0.3, recurrent_dropout=0.3))\n",
    "model.add(LSTM(64, return_sequences=False, activation='tanh', dropout=0.3, recurrent_dropout=0.3))\n",
    "\n",
    "\n",
    "model.add(Dense(2, activation='softmax'))\n",
    "model.compile(loss='categorical_crossentropy', optimizer='adam', metrics=['accuracy'])\n",
    "checkpoint = keras.callbacks.ModelCheckpoint(\"NN_LSTM.model\", monitor='val_loss', verbose=1, save_best_only=True)\n",
    "\n",
    "model.summary()"
   ]
  },
  {
   "cell_type": "code",
   "execution_count": 72,
   "metadata": {},
   "outputs": [
    {
     "name": "stdout",
     "output_type": "stream",
     "text": [
      "Train on 120000 samples, validate on 40000 samples\n",
      "Epoch 1/25\n",
      "120000/120000 [==============================] - 780s 6ms/step - loss: 0.5792 - accuracy: 0.7061 - val_loss: 0.5362 - val_accuracy: 0.7514\n",
      "\n",
      "Epoch 00001: val_loss improved from inf to 0.53621, saving model to NN_LSTM.model\n",
      "Epoch 2/25\n",
      "120000/120000 [==============================] - 732s 6ms/step - loss: 0.5634 - accuracy: 0.7264 - val_loss: 0.5400 - val_accuracy: 0.7595\n",
      "\n",
      "Epoch 00002: val_loss did not improve from 0.53621\n",
      "Epoch 3/25\n",
      "120000/120000 [==============================] - 717s 6ms/step - loss: 0.5737 - accuracy: 0.7111 - val_loss: 0.5435 - val_accuracy: 0.7411\n",
      "\n",
      "Epoch 00003: val_loss did not improve from 0.53621\n",
      "Epoch 4/25\n",
      "120000/120000 [==============================] - 717s 6ms/step - loss: 0.5957 - accuracy: 0.6830 - val_loss: 0.6195 - val_accuracy: 0.6636\n",
      "\n",
      "Epoch 00004: val_loss did not improve from 0.53621\n",
      "Epoch 5/25\n",
      "120000/120000 [==============================] - 718s 6ms/step - loss: 0.6306 - accuracy: 0.6469 - val_loss: 0.6194 - val_accuracy: 0.6634\n",
      "\n",
      "Epoch 00005: val_loss did not improve from 0.53621\n",
      "Epoch 6/25\n",
      "120000/120000 [==============================] - 719s 6ms/step - loss: 0.6307 - accuracy: 0.6474 - val_loss: 0.6176 - val_accuracy: 0.6654\n",
      "\n",
      "Epoch 00006: val_loss did not improve from 0.53621\n",
      "Epoch 7/25\n",
      "120000/120000 [==============================] - 718s 6ms/step - loss: 0.6263 - accuracy: 0.6547 - val_loss: 0.6157 - val_accuracy: 0.6701\n",
      "\n",
      "Epoch 00007: val_loss did not improve from 0.53621\n",
      "Epoch 8/25\n",
      "120000/120000 [==============================] - 719s 6ms/step - loss: 0.6254 - accuracy: 0.6601 - val_loss: 0.6126 - val_accuracy: 0.6780\n",
      "\n",
      "Epoch 00008: val_loss did not improve from 0.53621\n",
      "Epoch 9/25\n",
      "120000/120000 [==============================] - 725s 6ms/step - loss: 0.6212 - accuracy: 0.6703 - val_loss: 0.6067 - val_accuracy: 0.6886\n",
      "\n",
      "Epoch 00009: val_loss did not improve from 0.53621\n",
      "Epoch 10/25\n",
      "120000/120000 [==============================] - 719s 6ms/step - loss: 0.6175 - accuracy: 0.6784 - val_loss: 0.6016 - val_accuracy: 0.7003\n",
      "\n",
      "Epoch 00010: val_loss did not improve from 0.53621\n",
      "Epoch 11/25\n",
      "120000/120000 [==============================] - 719s 6ms/step - loss: 0.6177 - accuracy: 0.6829 - val_loss: 0.6050 - val_accuracy: 0.6974\n",
      "\n",
      "Epoch 00011: val_loss did not improve from 0.53621\n",
      "Epoch 12/25\n",
      "120000/120000 [==============================] - 718s 6ms/step - loss: 0.6211 - accuracy: 0.6740 - val_loss: 0.6164 - val_accuracy: 0.6774\n",
      "\n",
      "Epoch 00012: val_loss did not improve from 0.53621\n",
      "Epoch 13/25\n",
      "120000/120000 [==============================] - 719s 6ms/step - loss: 0.6275 - accuracy: 0.6619 - val_loss: 0.6180 - val_accuracy: 0.6732\n",
      "\n",
      "Epoch 00013: val_loss did not improve from 0.53621\n",
      "Epoch 14/25\n",
      "120000/120000 [==============================] - 719s 6ms/step - loss: 0.5979 - accuracy: 0.6898 - val_loss: 0.4678 - val_accuracy: 0.7822\n",
      "\n",
      "Epoch 00014: val_loss improved from 0.53621 to 0.46775, saving model to NN_LSTM.model\n",
      "Epoch 15/25\n",
      "120000/120000 [==============================] - 721s 6ms/step - loss: 0.4172 - accuracy: 0.8227 - val_loss: 0.3155 - val_accuracy: 0.8734\n",
      "\n",
      "Epoch 00015: val_loss improved from 0.46775 to 0.31546, saving model to NN_LSTM.model\n",
      "Epoch 16/25\n",
      "120000/120000 [==============================] - 720s 6ms/step - loss: 0.3211 - accuracy: 0.8701 - val_loss: 0.2823 - val_accuracy: 0.8860\n",
      "\n",
      "Epoch 00016: val_loss improved from 0.31546 to 0.28229, saving model to NN_LSTM.model\n",
      "Epoch 17/25\n",
      "120000/120000 [==============================] - 718s 6ms/step - loss: 0.2756 - accuracy: 0.8916 - val_loss: 0.2628 - val_accuracy: 0.8942\n",
      "\n",
      "Epoch 00017: val_loss improved from 0.28229 to 0.26283, saving model to NN_LSTM.model\n",
      "Epoch 18/25\n",
      "120000/120000 [==============================] - 723s 6ms/step - loss: 0.2379 - accuracy: 0.9100 - val_loss: 0.2648 - val_accuracy: 0.8945\n",
      "\n",
      "Epoch 00018: val_loss did not improve from 0.26283\n",
      "Epoch 19/25\n",
      "120000/120000 [==============================] - 723s 6ms/step - loss: 0.1970 - accuracy: 0.9281 - val_loss: 0.2726 - val_accuracy: 0.8929\n",
      "\n",
      "Epoch 00019: val_loss did not improve from 0.26283\n",
      "Epoch 20/25\n",
      "120000/120000 [==============================] - 723s 6ms/step - loss: 0.1583 - accuracy: 0.9437 - val_loss: 0.2948 - val_accuracy: 0.8848\n",
      "\n",
      "Epoch 00020: val_loss did not improve from 0.26283\n",
      "Epoch 21/25\n",
      "120000/120000 [==============================] - 740s 6ms/step - loss: 0.1282 - accuracy: 0.9556 - val_loss: 0.3123 - val_accuracy: 0.8825\n",
      "\n",
      "Epoch 00021: val_loss did not improve from 0.26283\n",
      "Epoch 22/25\n",
      "120000/120000 [==============================] - 729s 6ms/step - loss: 0.1046 - accuracy: 0.9641 - val_loss: 0.3584 - val_accuracy: 0.8746\n",
      "\n",
      "Epoch 00022: val_loss did not improve from 0.26283\n",
      "Epoch 23/25\n",
      "120000/120000 [==============================] - 731s 6ms/step - loss: 0.0893 - accuracy: 0.9696 - val_loss: 0.3604 - val_accuracy: 0.8720\n",
      "\n",
      "Epoch 00023: val_loss did not improve from 0.26283\n",
      "Epoch 24/25\n",
      "120000/120000 [==============================] - 725s 6ms/step - loss: 0.0765 - accuracy: 0.9743 - val_loss: 0.3980 - val_accuracy: 0.8672\n",
      "\n",
      "Epoch 00024: val_loss did not improve from 0.26283\n",
      "Epoch 25/25\n",
      "120000/120000 [==============================] - 723s 6ms/step - loss: 0.0695 - accuracy: 0.9763 - val_loss: 0.4148 - val_accuracy: 0.8647\n",
      "\n",
      "Epoch 00025: val_loss did not improve from 0.26283\n"
     ]
    }
   ],
   "source": [
    "model = model.fit(padded_docs, y_train, batch_size=512, epochs=25, validation_data=[padded_val, y_val], callbacks=[checkpoint])"
   ]
  },
  {
   "cell_type": "code",
   "execution_count": 73,
   "metadata": {},
   "outputs": [
    {
     "data": {
      "image/png": "[encoded data removed]",
      "text/plain": [
       "<Figure size 432x288 with 1 Axes>"
      ]
     },
     "metadata": {
      "needs_background": "light"
     },
     "output_type": "display_data"
    },
    {
     "data": {
      "image/png": "[encoded data removed]",
      "text/plain": [
       "<Figure size 432x288 with 1 Axes>"
      ]
     },
     "metadata": {
      "needs_background": "light"
     },
     "output_type": "display_data"
    }
   ],
   "source": [
    "import matplotlib.pyplot as plt\n",
    "\n",
    "plt.plot(model.history['accuracy'])\n",
    "plt.plot(model.history['val_accuracy'])\n",
    "plt.legend(['Train', 'Val'], loc='upper left')\n",
    "plt.show()\n",
    "plt.plot(model.history['loss'])\n",
    "plt.plot(model.history['val_loss'])\n",
    "plt.legend(['Train', 'Val'], loc='upper left')\n",
    "plt.show()"
   ]
  },
  {
   "cell_type": "code",
   "execution_count": 58,
   "metadata": {},
   "outputs": [
    {
     "name": "stdout",
     "output_type": "stream",
     "text": [
      "Model: \"sequential_4\"\n",
      "_________________________________________________________________\n",
      "Layer (type)                 Output Shape              Param #   \n",
      "=================================================================\n",
      "embedding_2 (Embedding)      (None, 100, 100)          18771100  \n",
      "_________________________________________________________________\n",
      "lstm_3 (LSTM)                (None, 100, 128)          117248    \n",
      "_________________________________________________________________\n",
      "lstm_4 (LSTM)                (None, 64)                49408     \n",
      "_________________________________________________________________\n",
      "dense_2 (Dense)              (None, 2)                 130       \n",
      "=================================================================\n",
      "Total params: 18,937,886\n",
      "Trainable params: 18,937,886\n",
      "Non-trainable params: 0\n",
      "_________________________________________________________________\n"
     ]
    }
   ],
   "source": [
    "# from keras.models import Sequential\n",
    "from keras.layers import Embedding, Flatten, LSTM, Dense, Dropout\n",
    "from keras.initializers import Constant\n",
    "\n",
    "model = keras.models.Sequential()\n",
    "e = Embedding(len(word_index), 100, input_length = max_length, trainable=True)\n",
    "\n",
    "model.add(e)\n",
    "model.add(LSTM(128, return_sequences=True, activation='tanh', dropout=0.3, recurrent_dropout=0.3))\n",
    "model.add(LSTM(64, return_sequences=False, activation='tanh', dropout=0.3, recurrent_dropout=0.3))\n",
    "\n",
    "\n",
    "model.add(Dense(2, activation='softmax'))\n",
    "model.compile(loss='categorical_crossentropy', optimizer='adam', metrics=['accuracy'])\n",
    "checkpoint = keras.callbacks.ModelCheckpoint(\"NN_LSTM_1.model\", monitor='val_loss', verbose=1, save_best_only=True)\n",
    "\n",
    "model.summary()"
   ]
  },
  {
   "cell_type": "code",
   "execution_count": 59,
   "metadata": {},
   "outputs": [
    {
     "name": "stdout",
     "output_type": "stream",
     "text": [
      "Train on 120000 samples, validate on 40000 samples\n",
      "Epoch 1/25\n",
      "120000/120000 [==============================] - 734s 6ms/step - loss: 0.6723 - accuracy: 0.5445 - val_loss: 0.5683 - val_accuracy: 0.7457\n",
      "\n",
      "Epoch 00001: val_loss improved from inf to 0.56830, saving model to NN_LSTM_1.model\n",
      "Epoch 2/25\n",
      "120000/120000 [==============================] - 738s 6ms/step - loss: 0.5723 - accuracy: 0.7363 - val_loss: 0.5721 - val_accuracy: 0.7305\n",
      "\n",
      "Epoch 00002: val_loss did not improve from 0.56830\n",
      "Epoch 3/25\n",
      "120000/120000 [==============================] - 738s 6ms/step - loss: 0.5965 - accuracy: 0.6979 - val_loss: 0.5981 - val_accuracy: 0.6763\n",
      "\n",
      "Epoch 00003: val_loss did not improve from 0.56830\n",
      "Epoch 4/25\n",
      "120000/120000 [==============================] - 740s 6ms/step - loss: 0.6364 - accuracy: 0.6107 - val_loss: 0.6538 - val_accuracy: 0.5738\n",
      "\n",
      "Epoch 00004: val_loss did not improve from 0.56830\n",
      "Epoch 5/25\n",
      " 68608/120000 [================>.............] - ETA: 4:45 - loss: 0.6388 - accuracy: 0.6025"
     ]
    },
    {
     "ename": "KeyboardInterrupt",
     "evalue": "",
     "output_type": "error",
     "traceback": [
      "\u001b[1;31m---------------------------------------------------------------------------\u001b[0m",
      "\u001b[1;31mKeyboardInterrupt\u001b[0m                         Traceback (most recent call last)",
      "\u001b[1;32m<ipython-input-59-78637af61b26>\u001b[0m in \u001b[0;36m<module>\u001b[1;34m\u001b[0m\n\u001b[1;32m----> 1\u001b[1;33m \u001b[0mmodel\u001b[0m \u001b[1;33m=\u001b[0m \u001b[0mmodel\u001b[0m\u001b[1;33m.\u001b[0m\u001b[0mfit\u001b[0m\u001b[1;33m(\u001b[0m\u001b[0mpadded_docs\u001b[0m\u001b[1;33m,\u001b[0m \u001b[0my_train\u001b[0m\u001b[1;33m,\u001b[0m \u001b[0mbatch_size\u001b[0m\u001b[1;33m=\u001b[0m\u001b[1;36m512\u001b[0m\u001b[1;33m,\u001b[0m \u001b[0mepochs\u001b[0m\u001b[1;33m=\u001b[0m\u001b[1;36m25\u001b[0m\u001b[1;33m,\u001b[0m \u001b[0mvalidation_data\u001b[0m\u001b[1;33m=\u001b[0m\u001b[1;33m[\u001b[0m\u001b[0mpadded_val\u001b[0m\u001b[1;33m,\u001b[0m \u001b[0my_val\u001b[0m\u001b[1;33m]\u001b[0m\u001b[1;33m,\u001b[0m \u001b[0mcallbacks\u001b[0m\u001b[1;33m=\u001b[0m\u001b[1;33m[\u001b[0m\u001b[0mcheckpoint\u001b[0m\u001b[1;33m]\u001b[0m\u001b[1;33m)\u001b[0m\u001b[1;33m\u001b[0m\u001b[1;33m\u001b[0m\u001b[0m\n\u001b[0m",
      "\u001b[1;32m~\\anaconda3\\lib\\site-packages\\keras\\engine\\training.py\u001b[0m in \u001b[0;36mfit\u001b[1;34m(self, x, y, batch_size, epochs, verbose, callbacks, validation_split, validation_data, shuffle, class_weight, sample_weight, initial_epoch, steps_per_epoch, validation_steps, validation_freq, max_queue_size, workers, use_multiprocessing, **kwargs)\u001b[0m\n\u001b[0;32m   1237\u001b[0m                                         \u001b[0msteps_per_epoch\u001b[0m\u001b[1;33m=\u001b[0m\u001b[0msteps_per_epoch\u001b[0m\u001b[1;33m,\u001b[0m\u001b[1;33m\u001b[0m\u001b[1;33m\u001b[0m\u001b[0m\n\u001b[0;32m   1238\u001b[0m                                         \u001b[0mvalidation_steps\u001b[0m\u001b[1;33m=\u001b[0m\u001b[0mvalidation_steps\u001b[0m\u001b[1;33m,\u001b[0m\u001b[1;33m\u001b[0m\u001b[1;33m\u001b[0m\u001b[0m\n\u001b[1;32m-> 1239\u001b[1;33m                                         validation_freq=validation_freq)\n\u001b[0m\u001b[0;32m   1240\u001b[0m \u001b[1;33m\u001b[0m\u001b[0m\n\u001b[0;32m   1241\u001b[0m     def evaluate(self,\n",
      "\u001b[1;32m~\\anaconda3\\lib\\site-packages\\keras\\engine\\training_arrays.py\u001b[0m in \u001b[0;36mfit_loop\u001b[1;34m(model, fit_function, fit_inputs, out_labels, batch_size, epochs, verbose, callbacks, val_function, val_inputs, shuffle, initial_epoch, steps_per_epoch, validation_steps, validation_freq)\u001b[0m\n\u001b[0;32m    194\u001b[0m                     \u001b[0mins_batch\u001b[0m\u001b[1;33m[\u001b[0m\u001b[0mi\u001b[0m\u001b[1;33m]\u001b[0m \u001b[1;33m=\u001b[0m \u001b[0mins_batch\u001b[0m\u001b[1;33m[\u001b[0m\u001b[0mi\u001b[0m\u001b[1;33m]\u001b[0m\u001b[1;33m.\u001b[0m\u001b[0mtoarray\u001b[0m\u001b[1;33m(\u001b[0m\u001b[1;33m)\u001b[0m\u001b[1;33m\u001b[0m\u001b[1;33m\u001b[0m\u001b[0m\n\u001b[0;32m    195\u001b[0m \u001b[1;33m\u001b[0m\u001b[0m\n\u001b[1;32m--> 196\u001b[1;33m                 \u001b[0mouts\u001b[0m \u001b[1;33m=\u001b[0m \u001b[0mfit_function\u001b[0m\u001b[1;33m(\u001b[0m\u001b[0mins_batch\u001b[0m\u001b[1;33m)\u001b[0m\u001b[1;33m\u001b[0m\u001b[1;33m\u001b[0m\u001b[0m\n\u001b[0m\u001b[0;32m    197\u001b[0m                 \u001b[0mouts\u001b[0m \u001b[1;33m=\u001b[0m \u001b[0mto_list\u001b[0m\u001b[1;33m(\u001b[0m\u001b[0mouts\u001b[0m\u001b[1;33m)\u001b[0m\u001b[1;33m\u001b[0m\u001b[1;33m\u001b[0m\u001b[0m\n\u001b[0;32m    198\u001b[0m                 \u001b[1;32mfor\u001b[0m \u001b[0ml\u001b[0m\u001b[1;33m,\u001b[0m \u001b[0mo\u001b[0m \u001b[1;32min\u001b[0m \u001b[0mzip\u001b[0m\u001b[1;33m(\u001b[0m\u001b[0mout_labels\u001b[0m\u001b[1;33m,\u001b[0m \u001b[0mouts\u001b[0m\u001b[1;33m)\u001b[0m\u001b[1;33m:\u001b[0m\u001b[1;33m\u001b[0m\u001b[1;33m\u001b[0m\u001b[0m\n",
      "\u001b[1;32m~\\anaconda3\\lib\\site-packages\\tensorflow\\python\\keras\\backend.py\u001b[0m in \u001b[0;36m__call__\u001b[1;34m(self, inputs)\u001b[0m\n\u001b[0;32m   3290\u001b[0m \u001b[1;33m\u001b[0m\u001b[0m\n\u001b[0;32m   3291\u001b[0m     fetched = self._callable_fn(*array_vals,\n\u001b[1;32m-> 3292\u001b[1;33m                                 run_metadata=self.run_metadata)\n\u001b[0m\u001b[0;32m   3293\u001b[0m     \u001b[0mself\u001b[0m\u001b[1;33m.\u001b[0m\u001b[0m_call_fetch_callbacks\u001b[0m\u001b[1;33m(\u001b[0m\u001b[0mfetched\u001b[0m\u001b[1;33m[\u001b[0m\u001b[1;33m-\u001b[0m\u001b[0mlen\u001b[0m\u001b[1;33m(\u001b[0m\u001b[0mself\u001b[0m\u001b[1;33m.\u001b[0m\u001b[0m_fetches\u001b[0m\u001b[1;33m)\u001b[0m\u001b[1;33m:\u001b[0m\u001b[1;33m]\u001b[0m\u001b[1;33m)\u001b[0m\u001b[1;33m\u001b[0m\u001b[1;33m\u001b[0m\u001b[0m\n\u001b[0;32m   3294\u001b[0m     output_structure = nest.pack_sequence_as(\n",
      "\u001b[1;32m~\\anaconda3\\lib\\site-packages\\tensorflow\\python\\client\\session.py\u001b[0m in \u001b[0;36m__call__\u001b[1;34m(self, *args, **kwargs)\u001b[0m\n\u001b[0;32m   1456\u001b[0m         ret = tf_session.TF_SessionRunCallable(self._session._session,\n\u001b[0;32m   1457\u001b[0m                                                \u001b[0mself\u001b[0m\u001b[1;33m.\u001b[0m\u001b[0m_handle\u001b[0m\u001b[1;33m,\u001b[0m \u001b[0margs\u001b[0m\u001b[1;33m,\u001b[0m\u001b[1;33m\u001b[0m\u001b[1;33m\u001b[0m\u001b[0m\n\u001b[1;32m-> 1458\u001b[1;33m                                                run_metadata_ptr)\n\u001b[0m\u001b[0;32m   1459\u001b[0m         \u001b[1;32mif\u001b[0m \u001b[0mrun_metadata\u001b[0m\u001b[1;33m:\u001b[0m\u001b[1;33m\u001b[0m\u001b[1;33m\u001b[0m\u001b[0m\n\u001b[0;32m   1460\u001b[0m           \u001b[0mproto_data\u001b[0m \u001b[1;33m=\u001b[0m \u001b[0mtf_session\u001b[0m\u001b[1;33m.\u001b[0m\u001b[0mTF_GetBuffer\u001b[0m\u001b[1;33m(\u001b[0m\u001b[0mrun_metadata_ptr\u001b[0m\u001b[1;33m)\u001b[0m\u001b[1;33m\u001b[0m\u001b[1;33m\u001b[0m\u001b[0m\n",
      "\u001b[1;31mKeyboardInterrupt\u001b[0m: "
     ]
    }
   ],
   "source": [
    "model = model.fit(padded_docs, y_train, batch_size=512, epochs=25, validation_data=[padded_val, y_val], callbacks=[checkpoint])"
   ]
  },
  {
   "cell_type": "code",
   "execution_count": null,
   "metadata": {},
   "outputs": [],
   "source": [
    "import matplotlib.pyplot as plt\n",
    "\n",
    "plt.plot(model.history['accuracy'])\n",
    "plt.plot(model.history['val_accuracy'])\n",
    "plt.legend(['Train', 'Val'], loc='upper left')\n",
    "plt.show()\n",
    "plt.plot(model.history['loss'])\n",
    "plt.plot(model.history['val_loss'])\n",
    "plt.legend(['Train', 'Val'], loc='upper left')\n",
    "plt.show()"
   ]
  },
  {
   "cell_type": "code",
   "execution_count": 5,
   "metadata": {},
   "outputs": [
    {
     "name": "stdout",
     "output_type": "stream",
     "text": [
      "Model: \"sequential_1\"\n",
      "_________________________________________________________________\n",
      "Layer (type)                 Output Shape              Param #   \n",
      "=================================================================\n",
      "embedding_1 (Embedding)      (None, 100, 100)          18780300  \n",
      "_________________________________________________________________\n",
      "spatial_dropout1d_1 (Spatial (None, 100, 100)          0         \n",
      "_________________________________________________________________\n",
      "lstm_1 (LSTM)                (None, 100, 128)          117248    \n",
      "_________________________________________________________________\n",
      "lstm_2 (LSTM)                (None, 64)                49408     \n",
      "_________________________________________________________________\n",
      "dense_1 (Dense)              (None, 2)                 130       \n",
      "=================================================================\n",
      "Total params: 18,947,086\n",
      "Trainable params: 18,947,086\n",
      "Non-trainable params: 0\n",
      "_________________________________________________________________\n"
     ]
    }
   ],
   "source": [
    "# Word2Vec Embedding\n",
    "\n",
    "import keras\n",
    "\n",
    "from keras.models import Sequential\n",
    "from keras.layers import Embedding, Flatten, LSTM, Dense, Dropout, SpatialDropout1D\n",
    "from keras.initializers import Constant\n",
    "\n",
    "model = Sequential()\n",
    "e = Embedding(embedding_matrix.shape[0], 100, embeddings_initializer=Constant(embedding_matrix), input_length = max_length, trainable=True)\n",
    "\n",
    "model.add(e)\n",
    "model.add(SpatialDropout1D(0.3))\n",
    "model.add(LSTM(128, return_sequences=True, activation='tanh', dropout=0.3, recurrent_dropout=0.3))\n",
    "model.add(LSTM(64, return_sequences=False, activation='tanh', dropout=0.3, recurrent_dropout=0.3))\n",
    "\n",
    "\n",
    "model.add(Dense(2, activation='softmax'))\n",
    "model.compile(loss='categorical_crossentropy', optimizer='adam', metrics=['accuracy'])\n",
    "checkpoint = keras.callbacks.ModelCheckpoint(\"NN_LSTM1.model\", monitor='val_loss', verbose=1, save_best_only=True)\n",
    "\n",
    "model.summary()"
   ]
  },
  {
   "cell_type": "code",
   "execution_count": 9,
   "metadata": {},
   "outputs": [
    {
     "ename": "AttributeError",
     "evalue": "'History' object has no attribute 'fit'",
     "output_type": "error",
     "traceback": [
      "\u001b[1;31m---------------------------------------------------------------------------\u001b[0m",
      "\u001b[1;31mAttributeError\u001b[0m                            Traceback (most recent call last)",
      "\u001b[1;32m<ipython-input-9-78637af61b26>\u001b[0m in \u001b[0;36m<module>\u001b[1;34m\u001b[0m\n\u001b[1;32m----> 1\u001b[1;33m \u001b[0mmodel\u001b[0m \u001b[1;33m=\u001b[0m \u001b[0mmodel\u001b[0m\u001b[1;33m.\u001b[0m\u001b[0mfit\u001b[0m\u001b[1;33m(\u001b[0m\u001b[0mpadded_docs\u001b[0m\u001b[1;33m,\u001b[0m \u001b[0my_train\u001b[0m\u001b[1;33m,\u001b[0m \u001b[0mbatch_size\u001b[0m\u001b[1;33m=\u001b[0m\u001b[1;36m512\u001b[0m\u001b[1;33m,\u001b[0m \u001b[0mepochs\u001b[0m\u001b[1;33m=\u001b[0m\u001b[1;36m25\u001b[0m\u001b[1;33m,\u001b[0m \u001b[0mvalidation_data\u001b[0m\u001b[1;33m=\u001b[0m\u001b[1;33m[\u001b[0m\u001b[0mpadded_val\u001b[0m\u001b[1;33m,\u001b[0m \u001b[0my_val\u001b[0m\u001b[1;33m]\u001b[0m\u001b[1;33m,\u001b[0m \u001b[0mcallbacks\u001b[0m\u001b[1;33m=\u001b[0m\u001b[1;33m[\u001b[0m\u001b[0mcheckpoint\u001b[0m\u001b[1;33m]\u001b[0m\u001b[1;33m)\u001b[0m\u001b[1;33m\u001b[0m\u001b[1;33m\u001b[0m\u001b[0m\n\u001b[0m",
      "\u001b[1;31mAttributeError\u001b[0m: 'History' object has no attribute 'fit'"
     ]
    }
   ],
   "source": [
    "model = model.fit(padded_docs, y_train, batch_size=512, epochs=25, validation_data=[padded_val, y_val], callbacks=[checkpoint])"
   ]
  },
  {
   "cell_type": "code",
   "execution_count": null,
   "metadata": {},
   "outputs": [
    {
     "name": "stdout",
     "output_type": "stream",
     "text": [
      "Train on 120000 samples, validate on 40000 samples\n",
      "Epoch 1/25\n",
      "120000/120000 [==============================] - 170s 1ms/step - loss: 0.2267 - accuracy: 0.9111 - val_loss: 0.2736 - val_accuracy: 0.8901\n",
      "\n",
      "Epoch 00001: val_loss did not improve from 0.27017\n",
      "Epoch 2/25\n",
      "120000/120000 [==============================] - 924s 8ms/step - loss: 0.2203 - accuracy: 0.9141 - val_loss: 0.2748 - val_accuracy: 0.8907\n",
      "\n",
      "Epoch 00002: val_loss did not improve from 0.27017\n",
      "Epoch 3/25\n",
      "120000/120000 [==============================] - 889s 7ms/step - loss: 0.2146 - accuracy: 0.9168 - val_loss: 0.2777 - val_accuracy: 0.8911\n",
      "\n",
      "Epoch 00003: val_loss did not improve from 0.27017\n",
      "Epoch 4/25\n",
      "120000/120000 [==============================] - 823s 7ms/step - loss: 0.2075 - accuracy: 0.9193 - val_loss: 0.2820 - val_accuracy: 0.8900\n",
      "\n",
      "Epoch 00004: val_loss did not improve from 0.27017\n",
      "Epoch 5/25\n",
      "120000/120000 [==============================] - 824s 7ms/step - loss: 0.1993 - accuracy: 0.9242 - val_loss: 0.2800 - val_accuracy: 0.8905\n",
      "\n",
      "Epoch 00005: val_loss did not improve from 0.27017\n",
      "Epoch 6/25\n",
      "120000/120000 [==============================] - 824s 7ms/step - loss: 0.1936 - accuracy: 0.9255 - val_loss: 0.2858 - val_accuracy: 0.8889\n",
      "\n",
      "Epoch 00006: val_loss did not improve from 0.27017\n",
      "Epoch 7/25\n",
      "120000/120000 [==============================] - 826s 7ms/step - loss: 0.1861 - accuracy: 0.9292 - val_loss: 0.2919 - val_accuracy: 0.8885\n",
      "\n",
      "Epoch 00007: val_loss did not improve from 0.27017\n",
      "Epoch 8/25\n",
      "119808/120000 [============================>.] - ETA: 1s - loss: 0.1808 - accuracy: 0.9315"
     ]
    }
   ],
   "source": [
    "model = keras.models.load_model('NN_LSTM1.model')\n",
    "\n",
    "model2 = model.fit(padded_docs, y_train, batch_size=512, epochs=25, validation_data=[padded_val, y_val], callbacks=[checkpoint])"
   ]
  },
  {
   "cell_type": "code",
   "execution_count": 7,
   "metadata": {},
   "outputs": [
    {
     "data": {
      "image/png": "[encoded data removed]",
      "text/plain": [
       "<Figure size 432x288 with 1 Axes>"
      ]
     },
     "metadata": {
      "needs_background": "light"
     },
     "output_type": "display_data"
    },
    {
     "data": {
      "image/png": "[encoded data removed]",
      "text/plain": [
       "<Figure size 432x288 with 1 Axes>"
      ]
     },
     "metadata": {
      "needs_background": "light"
     },
     "output_type": "display_data"
    }
   ],
   "source": [
    "import matplotlib.pyplot as plt\n",
    "\n",
    "plt.plot(model.history['accuracy'])\n",
    "plt.plot(model.history['val_accuracy'])\n",
    "plt.legend(['Train', 'Val'], loc='upper left')\n",
    "plt.show()\n",
    "plt.plot(model.history['loss'])\n",
    "plt.plot(model.history['val_loss'])\n",
    "plt.legend(['Train', 'Val'], loc='upper left')\n",
    "plt.show()"
   ]
  },
  {
   "cell_type": "markdown",
   "metadata": {},
   "source": [
    "### Combine with PCA W2V and TFIDF"
   ]
  },
  {
   "cell_type": "code",
   "execution_count": 1,
   "metadata": {},
   "outputs": [
    {
     "name": "stderr",
     "output_type": "stream",
     "text": [
      "Using TensorFlow backend.\n",
      "C:\\Users\\danie\\anaconda3\\lib\\site-packages\\tensorflow\\python\\framework\\dtypes.py:516: FutureWarning: Passing (type, 1) or '1type' as a synonym of type is deprecated; in a future version of numpy, it will be understood as (type, (1,)) / '(1,)type'.\n",
      "  _np_qint8 = np.dtype([(\"qint8\", np.int8, 1)])\n",
      "C:\\Users\\danie\\anaconda3\\lib\\site-packages\\tensorflow\\python\\framework\\dtypes.py:517: FutureWarning: Passing (type, 1) or '1type' as a synonym of type is deprecated; in a future version of numpy, it will be understood as (type, (1,)) / '(1,)type'.\n",
      "  _np_quint8 = np.dtype([(\"quint8\", np.uint8, 1)])\n",
      "C:\\Users\\danie\\anaconda3\\lib\\site-packages\\tensorflow\\python\\framework\\dtypes.py:518: FutureWarning: Passing (type, 1) or '1type' as a synonym of type is deprecated; in a future version of numpy, it will be understood as (type, (1,)) / '(1,)type'.\n",
      "  _np_qint16 = np.dtype([(\"qint16\", np.int16, 1)])\n",
      "C:\\Users\\danie\\anaconda3\\lib\\site-packages\\tensorflow\\python\\framework\\dtypes.py:519: FutureWarning: Passing (type, 1) or '1type' as a synonym of type is deprecated; in a future version of numpy, it will be understood as (type, (1,)) / '(1,)type'.\n",
      "  _np_quint16 = np.dtype([(\"quint16\", np.uint16, 1)])\n",
      "C:\\Users\\danie\\anaconda3\\lib\\site-packages\\tensorflow\\python\\framework\\dtypes.py:520: FutureWarning: Passing (type, 1) or '1type' as a synonym of type is deprecated; in a future version of numpy, it will be understood as (type, (1,)) / '(1,)type'.\n",
      "  _np_qint32 = np.dtype([(\"qint32\", np.int32, 1)])\n",
      "C:\\Users\\danie\\anaconda3\\lib\\site-packages\\tensorflow\\python\\framework\\dtypes.py:525: FutureWarning: Passing (type, 1) or '1type' as a synonym of type is deprecated; in a future version of numpy, it will be understood as (type, (1,)) / '(1,)type'.\n",
      "  np_resource = np.dtype([(\"resource\", np.ubyte, 1)])\n",
      "C:\\Users\\danie\\anaconda3\\lib\\site-packages\\tensorboard\\compat\\tensorflow_stub\\dtypes.py:541: FutureWarning: Passing (type, 1) or '1type' as a synonym of type is deprecated; in a future version of numpy, it will be understood as (type, (1,)) / '(1,)type'.\n",
      "  _np_qint8 = np.dtype([(\"qint8\", np.int8, 1)])\n",
      "C:\\Users\\danie\\anaconda3\\lib\\site-packages\\tensorboard\\compat\\tensorflow_stub\\dtypes.py:542: FutureWarning: Passing (type, 1) or '1type' as a synonym of type is deprecated; in a future version of numpy, it will be understood as (type, (1,)) / '(1,)type'.\n",
      "  _np_quint8 = np.dtype([(\"quint8\", np.uint8, 1)])\n",
      "C:\\Users\\danie\\anaconda3\\lib\\site-packages\\tensorboard\\compat\\tensorflow_stub\\dtypes.py:543: FutureWarning: Passing (type, 1) or '1type' as a synonym of type is deprecated; in a future version of numpy, it will be understood as (type, (1,)) / '(1,)type'.\n",
      "  _np_qint16 = np.dtype([(\"qint16\", np.int16, 1)])\n",
      "C:\\Users\\danie\\anaconda3\\lib\\site-packages\\tensorboard\\compat\\tensorflow_stub\\dtypes.py:544: FutureWarning: Passing (type, 1) or '1type' as a synonym of type is deprecated; in a future version of numpy, it will be understood as (type, (1,)) / '(1,)type'.\n",
      "  _np_quint16 = np.dtype([(\"quint16\", np.uint16, 1)])\n",
      "C:\\Users\\danie\\anaconda3\\lib\\site-packages\\tensorboard\\compat\\tensorflow_stub\\dtypes.py:545: FutureWarning: Passing (type, 1) or '1type' as a synonym of type is deprecated; in a future version of numpy, it will be understood as (type, (1,)) / '(1,)type'.\n",
      "  _np_qint32 = np.dtype([(\"qint32\", np.int32, 1)])\n",
      "C:\\Users\\danie\\anaconda3\\lib\\site-packages\\tensorboard\\compat\\tensorflow_stub\\dtypes.py:550: FutureWarning: Passing (type, 1) or '1type' as a synonym of type is deprecated; in a future version of numpy, it will be understood as (type, (1,)) / '(1,)type'.\n",
      "  np_resource = np.dtype([(\"resource\", np.ubyte, 1)])\n"
     ]
    },
    {
     "name": "stdout",
     "output_type": "stream",
     "text": [
      "WARNING:tensorflow:From C:\\Users\\danie\\anaconda3\\lib\\site-packages\\keras\\backend\\tensorflow_backend.py:422: The name tf.global_variables is deprecated. Please use tf.compat.v1.global_variables instead.\n",
      "\n",
      "Model: \"sequential_5\"\n",
      "_________________________________________________________________\n",
      "Layer (type)                 Output Shape              Param #   \n",
      "=================================================================\n",
      "embedding_3 (Embedding)      (None, 100, 100)          18780300  \n",
      "_________________________________________________________________\n",
      "lstm_5 (LSTM)                (None, 100, 128)          117248    \n",
      "_________________________________________________________________\n",
      "lstm_6 (LSTM)                (None, 64)                49408     \n",
      "_________________________________________________________________\n",
      "dense_3 (Dense)              (None, 2)                 130       \n",
      "=================================================================\n",
      "Total params: 18,947,086\n",
      "Trainable params: 18,947,086\n",
      "Non-trainable params: 0\n",
      "_________________________________________________________________\n"
     ]
    }
   ],
   "source": [
    "import keras\n",
    "\n",
    "chosen_model = keras.models.load_model('NN_LSTM.model')\n",
    "chosen_model.summary()"
   ]
  },
  {
   "cell_type": "code",
   "execution_count": 2,
   "metadata": {},
   "outputs": [
    {
     "name": "stdout",
     "output_type": "stream",
     "text": [
      "Model: \"sequential_1\"\n",
      "_________________________________________________________________\n",
      "Layer (type)                 Output Shape              Param #   \n",
      "=================================================================\n",
      "embedding_3 (Embedding)      (None, 100, 100)          18780300  \n",
      "_________________________________________________________________\n",
      "lstm_5 (LSTM)                (None, 100, 128)          117248    \n",
      "_________________________________________________________________\n",
      "lstm_6 (LSTM)                (None, 64)                49408     \n",
      "=================================================================\n",
      "Total params: 18,946,956\n",
      "Trainable params: 18,946,956\n",
      "Non-trainable params: 0\n",
      "_________________________________________________________________\n",
      "None\n"
     ]
    }
   ],
   "source": [
    "capped_model = keras.Sequential()\n",
    "\n",
    "for layer in chosen_model.layers[:-1]:\n",
    "    capped_model.add(layer)\n",
    "    \n",
    "print(capped_model.summary())"
   ]
  },
  {
   "cell_type": "code",
   "execution_count": 3,
   "metadata": {},
   "outputs": [
    {
     "name": "stdout",
     "output_type": "stream",
     "text": [
      "160000\n"
     ]
    },
    {
     "name": "stderr",
     "output_type": "stream",
     "text": [
      "C:\\Users\\danie\\anaconda3\\lib\\site-packages\\ipykernel_launcher.py:75: TqdmDeprecationWarning: This function will be removed in tqdm==5.0.0\n",
      "Please use `tqdm.notebook.tqdm` instead of `tqdm.tqdm_notebook`\n"
     ]
    },
    {
     "data": {
      "application/vnd.jupyter.widget-view+json": {
       "model_id": "4ea3d2dfbe654fcba47066c3f75c40ed",
       "version_major": 2,
       "version_minor": 0
      },
      "text/plain": [
       "HBox(children=(FloatProgress(value=0.0, max=160000.0), HTML(value='')))"
      ]
     },
     "metadata": {},
     "output_type": "display_data"
    },
    {
     "name": "stderr",
     "output_type": "stream",
     "text": [
      "C:\\Users\\danie\\anaconda3\\lib\\site-packages\\ipykernel_launcher.py:80: DeprecationWarning: Call to deprecated `__getitem__` (Method will be removed in 4.0.0, use self.wv.__getitem__() instead).\n"
     ]
    },
    {
     "name": "stdout",
     "output_type": "stream",
     "text": [
      "\n",
      "(120000, 100)\n",
      "done\n"
     ]
    }
   ],
   "source": [
    "### Constructing train features\n",
    "\n",
    "import pandas as pd\n",
    "import numpy as np\n",
    "import csv\n",
    "import sys\n",
    "import nltk\n",
    "from nltk.corpus import stopwords\n",
    "import glob\n",
    "import os\n",
    "import string\n",
    "\n",
    "#Load training file\n",
    "\n",
    "text_file = open(\"train.txt.txt\", \"r\", encoding=\"utf8\")\n",
    "lines = text_file.read().split('\\n')\n",
    "\n",
    "labels = []\n",
    "for item in lines:\n",
    "    first_four_letters = item[:10]\n",
    "    if first_four_letters == '__label__1':\n",
    "        labels.append(int(1))\n",
    "    else:\n",
    "        labels.append(int(2))\n",
    "        \n",
    "def remove_label(s):\n",
    "    return s[11:]\n",
    "lines = [remove_label(s) for s in lines]\n",
    "\n",
    "df = pd.DataFrame()\n",
    "df['text'] = lines\n",
    "df['label'] = labels\n",
    "\n",
    "df = df.sample(160000)\n",
    "df = df.reset_index(drop=True)\n",
    "print(len(df))\n",
    "df.head()\n",
    "\n",
    "#Clean text\n",
    "\n",
    "stop = stopwords.words('english')\n",
    "w_tokenizer = nltk.tokenize.WhitespaceTokenizer()\n",
    "lemmatizer = nltk.stem.WordNetLemmatizer()\n",
    "\n",
    "def lemmatize_text(text):\n",
    "    return [lemmatizer.lemmatize(w) for w in w_tokenizer.tokenize(text)]\n",
    "\n",
    "#lowercase and remove punctuation, remove stopwords        \n",
    "df['text'] = df['text'].str.lower()\n",
    "df['text'] = df['text'].str.replace('-', ' ')\n",
    "df['text'] = df['text'].str.split(' ')\n",
    "df['text'] = df['text'].apply(lambda x: [item for item in x if item not in stop])\n",
    "df['text'] = df['text'].apply(', '.join)\n",
    "df['text'] = df['text'].str.replace('[{}]'.format(string.punctuation), '')\n",
    "df['text'] = df['text'].apply(lemmatize_text)\n",
    "df['text'] = df['text'].apply(', '.join)\n",
    "df['text'] = df['text'].str.replace('[{}]'.format(string.punctuation), '')\n",
    "df['text'] = df['text'].str.replace('\\\\', ' ')\n",
    "\n",
    "\n",
    "#Train Word2Vec\n",
    "\n",
    "from gensim.models import Word2Vec\n",
    "\n",
    "text = [row.split() for row in df['text']]\n",
    "model_w2v = Word2Vec.load('model_w2v.bin')\n",
    "\n",
    "#Average Word2Vec Vectors for BOW\n",
    "\n",
    "from tqdm import tqdm_notebook as tqdm\n",
    "\n",
    "text_vec = []\n",
    "text_avg_vec = []\n",
    "count = 0\n",
    "for row in tqdm(range(len(text))):\n",
    "    [word.split(' ', 1) for word in text[row]]\n",
    "  \n",
    "    for i in range(len(text[row])):\n",
    "        try:\n",
    "            text_vec.append(model_w2v[text[row][i]])\n",
    "            count = count + 1\n",
    "        except KeyError as e:\n",
    "            text_vec.append([0]*100)\n",
    "  \n",
    "    average = np.add.reduce(text_vec)\n",
    "    if count==0:\n",
    "        count = 1\n",
    "    average = np.divide(average, count)\n",
    "    text_avg_vec.append(average)\n",
    "    text_vec = []\n",
    "    count = 0\n",
    "\n",
    "for i in range(len(text_avg_vec)):\n",
    "    if type(text_avg_vec[i]) != np.ndarray:\n",
    "        text_avg_vec[i] = np.zeros(100)\n",
    "        \n",
    "text_avg_vec = np.array(text_avg_vec).reshape(-1, 100)\n",
    "x_train = pd.DataFrame(text_avg_vec)\n",
    "\n",
    "df['label'] = df['label'] - 1\n",
    "\n",
    "y_train= np.asarray(df.label)\n",
    "        \n",
    "from sklearn.model_selection import train_test_split\n",
    "x_train, x_val, y_train, y_val = train_test_split(x_train, y_train, test_size=40000, random_state=42)\n",
    "\n",
    "train_indices = x_train.index\n",
    "val_indices = x_val.index\n",
    "\n",
    "from sklearn.feature_extraction.text import TfidfVectorizer\n",
    "\n",
    "tfidf = TfidfVectorizer(ngram_range=(1,2), max_features=29900)\n",
    "\n",
    "tfidf_features = tfidf.fit_transform(df['text'].loc[train_indices])\n",
    "tfidf_val = tfidf.transform(df['text'].loc[val_indices])\n",
    "\n",
    "from scipy import sparse\n",
    "\n",
    "x_train = sparse.csr_matrix(x_train)\n",
    "x_val = sparse.csr_matrix(x_val)\n",
    "\n",
    "print(x_train.shape)\n",
    "\n",
    "x_train = sparse.hstack([x_train, tfidf_features])\n",
    "x_val = sparse.hstack([x_val, tfidf_val])\n",
    "\n",
    "from keras.preprocessing.text import Tokenizer\n",
    "\n",
    "max_length = 100\n",
    "\n",
    "import pickle\n",
    "\n",
    "with open('tokenizer.pickle', 'rb') as handle:\n",
    "    t = pickle.load(handle)\n",
    "\n",
    "encoded_docs = t.texts_to_sequences(df['text'].loc[train_indices])\n",
    "encoded_val = t.texts_to_sequences(df['text'].loc[val_indices])\n",
    "\n",
    "word_index = t.word_index\n",
    "\n",
    "from keras.preprocessing.sequence import pad_sequences\n",
    "\n",
    "padded_docs = pad_sequences(encoded_docs, maxlen=max_length, padding='post')\n",
    "padded_val = pad_sequences(encoded_val, maxlen=max_length, padding='post')\n",
    "\n",
    "print('done')"
   ]
  },
  {
   "cell_type": "code",
   "execution_count": 137,
   "metadata": {},
   "outputs": [
    {
     "data": {
      "text/plain": [
       "(1, 100)"
      ]
     },
     "execution_count": 137,
     "metadata": {},
     "output_type": "execute_result"
    }
   ],
   "source": [
    "#padded_docs = np.reshape(padded_docs, (120000,100,100))\n",
    "#padded_val = np.reshape(padded_val, (40000,100,100))\n",
    "pad.shape"
   ]
  },
  {
   "cell_type": "code",
   "execution_count": 153,
   "metadata": {},
   "outputs": [
    {
     "data": {
      "text/plain": [
       "(120000, 100)"
      ]
     },
     "execution_count": 153,
     "metadata": {},
     "output_type": "execute_result"
    }
   ],
   "source": [
    "padded_docs.shape"
   ]
  },
  {
   "cell_type": "code",
   "execution_count": 135,
   "metadata": {},
   "outputs": [],
   "source": [
    "pad = np.reshape(padded_docs[0], (1,100))\n",
    "y_predict_train = capped_model.predict(pad)"
   ]
  },
  {
   "cell_type": "code",
   "execution_count": 4,
   "metadata": {},
   "outputs": [
    {
     "data": {
      "text/plain": [
       "array([1, 1, 1, ..., 0, 0, 0], dtype=int64)"
      ]
     },
     "execution_count": 4,
     "metadata": {},
     "output_type": "execute_result"
    }
   ],
   "source": [
    "from tqdm.notebook import tqdm_notebook as tqdm\n",
    "\n",
    "y_predict_train = capped_model.predict(padded_docs)\n",
    "\n",
    "y_predict_train = np.array(y_predict_train)\n",
    "\n",
    "y_predict_train = y_predict_train.reshape((120000, 64))\n",
    "y_predict_train.shape\n",
    "\n",
    "#### PCA to reduce dimensions of TFIDF\n",
    "\n",
    "#x_train_tfidf = x_train[:,100:]\n",
    "#x_train_tfidf.shape\n",
    "\n",
    "from sklearn.decomposition import TruncatedSVD\n",
    "\n",
    "svd = TruncatedSVD(n_components=200)\n",
    "\n",
    "svd_data = svd.fit_transform(x_train)\n",
    "\n",
    "svd_data.shape\n",
    "\n",
    "y_predict_train.shape\n",
    "\n",
    "#### Combine PCA result with last layer of NN\n",
    "\n",
    "from scipy import sparse\n",
    "\n",
    "x_train_new = np.hstack([svd_data, y_predict_train])\n",
    "x_train_new.shape\n",
    "\n",
    "#y_train = np.argmax(y_train, axis=1)\n",
    "y_train\n",
    "\n",
    "#x_train = normalize(x_train)\n",
    "\n",
    "\n",
    "#same process to validation set\n",
    "\n",
    "from tqdm.notebook import tqdm_notebook as tqdm\n",
    "\n",
    "y_predict_val = capped_model.predict(padded_val)\n",
    "\n",
    "y_predict_val = np.array(y_predict_val)\n",
    "\n",
    "#x_val_tfidf = x_val[:,100:]\n",
    "\n",
    "svd_data_val = svd.transform(x_val)\n",
    "\n",
    "y_predict_val = y_predict_val.reshape((40000, 64))\n",
    "\n",
    "x_val_new = np.hstack([svd_data_val, y_predict_val])\n",
    "\n",
    "#y_val = np.argmax(y_val, axis=1)\n",
    "y_val\n",
    "\n",
    "#y_val = np.argmax(y_val, axis=1)"
   ]
  },
  {
   "cell_type": "code",
   "execution_count": 156,
   "metadata": {},
   "outputs": [
    {
     "name": "stdout",
     "output_type": "stream",
     "text": [
      "0.8949916666666666\n",
      "0.892725\n"
     ]
    }
   ],
   "source": [
    "from sklearn.linear_model import LogisticRegression\n",
    "\n",
    "log_model = LogisticRegression(random_state=42, max_iter=8000)\n",
    "\n",
    "log_model.fit(x_train_new, y_train)\n",
    "\n",
    "print(log_model.score(x_train_new, y_train))\n",
    "print(log_model.score(x_val_new, y_val))"
   ]
  },
  {
   "cell_type": "code",
   "execution_count": 5,
   "metadata": {},
   "outputs": [
    {
     "name": "stdout",
     "output_type": "stream",
     "text": [
      "0.8927333333333334\n",
      "0.89325\n"
     ]
    }
   ],
   "source": [
    "from sklearn.ensemble import RandomForestClassifier\n",
    "\n",
    "rf = RandomForestClassifier(max_depth=5)\n",
    "\n",
    "rf.fit(x_train_new, y_train)\n",
    "\n",
    "print(rf.score(x_train_new, y_train))\n",
    "print(rf.score(x_val_new, y_val))"
   ]
  },
  {
   "cell_type": "code",
   "execution_count": 6,
   "metadata": {},
   "outputs": [
    {
     "name": "stdout",
     "output_type": "stream",
     "text": [
      "0.9078\n",
      "0.893225\n"
     ]
    }
   ],
   "source": [
    "rf = RandomForestClassifier(max_depth=10)\n",
    "\n",
    "rf.fit(x_train_new, y_train)\n",
    "\n",
    "print(rf.score(x_train_new, y_train))\n",
    "print(rf.score(x_val_new, y_val))"
   ]
  },
  {
   "cell_type": "code",
   "execution_count": 7,
   "metadata": {},
   "outputs": [
    {
     "name": "stdout",
     "output_type": "stream",
     "text": [
      "0.9999833333333333\n",
      "0.892425\n"
     ]
    }
   ],
   "source": [
    "rf = RandomForestClassifier()\n",
    "\n",
    "rf.fit(x_train_new, y_train)\n",
    "\n",
    "print(rf.score(x_train_new, y_train))\n",
    "print(rf.score(x_val_new, y_val))"
   ]
  },
  {
   "cell_type": "markdown",
   "metadata": {},
   "source": [
    "### Dense net output + RNN output"
   ]
  },
  {
   "cell_type": "code",
   "execution_count": 157,
   "metadata": {},
   "outputs": [
    {
     "name": "stdout",
     "output_type": "stream",
     "text": [
      "Model: \"sequential_16\"\n",
      "_________________________________________________________________\n",
      "Layer (type)                 Output Shape              Param #   \n",
      "=================================================================\n",
      "dense_64 (Dense)             (None, 128)               3840128   \n",
      "_________________________________________________________________\n",
      "batch_normalization_55 (Batc (None, 128)               512       \n",
      "_________________________________________________________________\n",
      "activation_29 (Activation)   (None, 128)               0         \n",
      "_________________________________________________________________\n",
      "dropout_46 (Dropout)         (None, 128)               0         \n",
      "_________________________________________________________________\n",
      "dense_65 (Dense)             (None, 128)               16512     \n",
      "_________________________________________________________________\n",
      "batch_normalization_56 (Batc (None, 128)               512       \n",
      "_________________________________________________________________\n",
      "activation_30 (Activation)   (None, 128)               0         \n",
      "_________________________________________________________________\n",
      "dropout_47 (Dropout)         (None, 128)               0         \n",
      "_________________________________________________________________\n",
      "dense_66 (Dense)             (None, 128)               16512     \n",
      "_________________________________________________________________\n",
      "batch_normalization_57 (Batc (None, 128)               512       \n",
      "_________________________________________________________________\n",
      "activation_31 (Activation)   (None, 128)               0         \n",
      "_________________________________________________________________\n",
      "dropout_48 (Dropout)         (None, 128)               0         \n",
      "_________________________________________________________________\n",
      "dense_67 (Dense)             (None, 256)               33024     \n",
      "_________________________________________________________________\n",
      "batch_normalization_58 (Batc (None, 256)               1024      \n",
      "_________________________________________________________________\n",
      "activation_32 (Activation)   (None, 256)               0         \n",
      "_________________________________________________________________\n",
      "dropout_49 (Dropout)         (None, 256)               0         \n",
      "_________________________________________________________________\n",
      "dense_68 (Dense)             (None, 256)               65792     \n",
      "_________________________________________________________________\n",
      "batch_normalization_59 (Batc (None, 256)               1024      \n",
      "_________________________________________________________________\n",
      "activation_33 (Activation)   (None, 256)               0         \n",
      "_________________________________________________________________\n",
      "dropout_50 (Dropout)         (None, 256)               0         \n",
      "_________________________________________________________________\n",
      "dense_69 (Dense)             (None, 256)               65792     \n",
      "_________________________________________________________________\n",
      "batch_normalization_60 (Batc (None, 256)               1024      \n",
      "_________________________________________________________________\n",
      "activation_34 (Activation)   (None, 256)               0         \n",
      "_________________________________________________________________\n",
      "dense_70 (Dense)             (None, 2)                 514       \n",
      "_________________________________________________________________\n",
      "activation_35 (Activation)   (None, 2)                 0         \n",
      "=================================================================\n",
      "Total params: 4,042,882\n",
      "Trainable params: 4,040,578\n",
      "Non-trainable params: 2,304\n",
      "_________________________________________________________________\n"
     ]
    }
   ],
   "source": [
    "chosen_model = keras.models.load_model('NN3.model')\n",
    "\n",
    "chosen_model.summary()"
   ]
  },
  {
   "cell_type": "code",
   "execution_count": 163,
   "metadata": {},
   "outputs": [
    {
     "name": "stdout",
     "output_type": "stream",
     "text": [
      "Model: \"sequential_8\"\n",
      "_________________________________________________________________\n",
      "Layer (type)                 Output Shape              Param #   \n",
      "=================================================================\n",
      "dense_64 (Dense)             (None, 128)               3840128   \n",
      "_________________________________________________________________\n",
      "batch_normalization_55 (Batc (None, 128)               512       \n",
      "_________________________________________________________________\n",
      "activation_29 (Activation)   (None, 128)               0         \n",
      "_________________________________________________________________\n",
      "dropout_46 (Dropout)         (None, 128)               0         \n",
      "_________________________________________________________________\n",
      "dense_65 (Dense)             (None, 128)               16512     \n",
      "_________________________________________________________________\n",
      "batch_normalization_56 (Batc (None, 128)               512       \n",
      "_________________________________________________________________\n",
      "activation_30 (Activation)   (None, 128)               0         \n",
      "_________________________________________________________________\n",
      "dropout_47 (Dropout)         (None, 128)               0         \n",
      "_________________________________________________________________\n",
      "dense_66 (Dense)             (None, 128)               16512     \n",
      "_________________________________________________________________\n",
      "batch_normalization_57 (Batc (None, 128)               512       \n",
      "_________________________________________________________________\n",
      "activation_31 (Activation)   (None, 128)               0         \n",
      "_________________________________________________________________\n",
      "dropout_48 (Dropout)         (None, 128)               0         \n",
      "_________________________________________________________________\n",
      "dense_67 (Dense)             (None, 256)               33024     \n",
      "_________________________________________________________________\n",
      "batch_normalization_58 (Batc (None, 256)               1024      \n",
      "_________________________________________________________________\n",
      "activation_32 (Activation)   (None, 256)               0         \n",
      "_________________________________________________________________\n",
      "dropout_49 (Dropout)         (None, 256)               0         \n",
      "_________________________________________________________________\n",
      "dense_68 (Dense)             (None, 256)               65792     \n",
      "_________________________________________________________________\n",
      "batch_normalization_59 (Batc (None, 256)               1024      \n",
      "_________________________________________________________________\n",
      "activation_33 (Activation)   (None, 256)               0         \n",
      "_________________________________________________________________\n",
      "dropout_50 (Dropout)         (None, 256)               0         \n",
      "_________________________________________________________________\n",
      "dense_69 (Dense)             (None, 256)               65792     \n",
      "=================================================================\n",
      "Total params: 4,041,344\n",
      "Trainable params: 4,039,552\n",
      "Non-trainable params: 1,792\n",
      "_________________________________________________________________\n"
     ]
    },
    {
     "data": {
      "application/vnd.jupyter.widget-view+json": {
       "model_id": "4b496c8d776643db8a8114f71340fbe9",
       "version_major": 2,
       "version_minor": 0
      },
      "text/plain": [
       "HBox(children=(FloatProgress(value=0.0, max=120000.0), HTML(value='')))"
      ]
     },
     "metadata": {},
     "output_type": "display_data"
    },
    {
     "name": "stdout",
     "output_type": "stream",
     "text": [
      "\n"
     ]
    },
    {
     "data": {
      "application/vnd.jupyter.widget-view+json": {
       "model_id": "6fba454424324ff5ba7b3616e777d3cd",
       "version_major": 2,
       "version_minor": 0
      },
      "text/plain": [
       "HBox(children=(FloatProgress(value=0.0, max=40000.0), HTML(value='')))"
      ]
     },
     "metadata": {},
     "output_type": "display_data"
    },
    {
     "name": "stdout",
     "output_type": "stream",
     "text": [
      "\n"
     ]
    },
    {
     "data": {
      "text/plain": [
       "array([0, 0, 1, ..., 1, 1, 1], dtype=int64)"
      ]
     },
     "execution_count": 163,
     "metadata": {},
     "output_type": "execute_result"
    }
   ],
   "source": [
    "# Dense net output + RNN output\n",
    "\n",
    "capped_model = keras.Sequential()\n",
    "\n",
    "for layer in chosen_model.layers[:-4]:\n",
    "    capped_model.add(layer)\n",
    "    \n",
    "capped_model.summary()\n",
    "\n",
    "x_train = x_train.tocsr()\n",
    "x_val = x_val.tocsr()\n",
    "\n",
    "from tqdm.notebook import tqdm_notebook as tqdm\n",
    "\n",
    "y_predict_train_dense = []\n",
    "\n",
    "for i in tqdm(range(x_train.shape[0])):\n",
    "    array = x_train[i].toarray()\n",
    "    prediction = capped_model.predict(array)\n",
    "    y_predict_train_dense.append(prediction)\n",
    "\n",
    "y_predict_train_dense = np.array(y_predict_train_dense)\n",
    "\n",
    "y_predict_train_dense = y_predict_train_dense.reshape((120000, 256))\n",
    "\n",
    "x_train_new_2 = np.hstack([y_predict_train_dense, y_predict_train])\n",
    "\n",
    "#same process to validation set\n",
    "\n",
    "y_predict_val_dense = []\n",
    "\n",
    "for i in tqdm(range(x_val.shape[0])):\n",
    "    array = x_val[i].toarray()\n",
    "    prediction = capped_model.predict(array)\n",
    "    y_predict_val_dense.append(prediction)\n",
    "\n",
    "y_predict_val_dense = np.array(y_predict_val_dense)\n",
    "\n",
    "y_predict_val_dense = y_predict_val_dense.reshape((40000, 256))\n",
    "\n",
    "x_val_new_2 = np.hstack([y_predict_val_dense, y_predict_val])\n",
    "\n",
    "#y_val = np.argmax(y_val, axis=1)\n",
    "y_val"
   ]
  },
  {
   "cell_type": "code",
   "execution_count": 164,
   "metadata": {},
   "outputs": [
    {
     "name": "stdout",
     "output_type": "stream",
     "text": [
      "0.8929166666666667\n",
      "0.8917\n"
     ]
    }
   ],
   "source": [
    "log_model = LogisticRegression(random_state=42, max_iter=8000)\n",
    "\n",
    "log_model.fit(x_train_new_2, y_train)\n",
    "\n",
    "print(log_model.score(x_train_new_2, y_train))\n",
    "print(log_model.score(x_val_new_2, y_val))"
   ]
  },
  {
   "cell_type": "markdown",
   "metadata": {
    "heading_collapsed": true
   },
   "source": [
    "## CNN"
   ]
  },
  {
   "cell_type": "code",
   "execution_count": 2,
   "metadata": {
    "hidden": true
   },
   "outputs": [
    {
     "name": "stdout",
     "output_type": "stream",
     "text": [
      "160000\n"
     ]
    },
    {
     "name": "stderr",
     "output_type": "stream",
     "text": [
      "C:\\Users\\danie\\anaconda3\\lib\\site-packages\\ipykernel_launcher.py:76: TqdmDeprecationWarning: This function will be removed in tqdm==5.0.0\n",
      "Please use `tqdm.notebook.tqdm` instead of `tqdm.tqdm_notebook`\n"
     ]
    },
    {
     "data": {
      "application/vnd.jupyter.widget-view+json": {
       "model_id": "2f2ae5c8f4964e1f9d43df5c0bffddc9",
       "version_major": 2,
       "version_minor": 0
      },
      "text/plain": [
       "HBox(children=(FloatProgress(value=0.0, max=160000.0), HTML(value='')))"
      ]
     },
     "metadata": {},
     "output_type": "display_data"
    },
    {
     "name": "stderr",
     "output_type": "stream",
     "text": [
      "C:\\Users\\danie\\anaconda3\\lib\\site-packages\\ipykernel_launcher.py:81: DeprecationWarning: Call to deprecated `__getitem__` (Method will be removed in 4.0.0, use self.wv.__getitem__() instead).\n"
     ]
    },
    {
     "name": "stdout",
     "output_type": "stream",
     "text": [
      "\n",
      "(120000, 30000)\n"
     ]
    }
   ],
   "source": [
    "### Constructing train features\n",
    "\n",
    "import pandas as pd\n",
    "import numpy as np\n",
    "import csv\n",
    "import sys\n",
    "import nltk\n",
    "from nltk.corpus import stopwords\n",
    "import glob\n",
    "import os\n",
    "import string\n",
    "\n",
    "#Load training file\n",
    "\n",
    "text_file = open(\"train.txt.txt\", \"r\", encoding=\"utf8\")\n",
    "lines = text_file.read().split('\\n')\n",
    "\n",
    "labels = []\n",
    "for item in lines:\n",
    "    first_four_letters = item[:10]\n",
    "    if first_four_letters == '__label__1':\n",
    "        labels.append(int(1))\n",
    "    else:\n",
    "        labels.append(int(2))\n",
    "        \n",
    "def remove_label(s):\n",
    "    return s[11:]\n",
    "lines = [remove_label(s) for s in lines]\n",
    "\n",
    "df = pd.DataFrame()\n",
    "df['text'] = lines\n",
    "df['label'] = labels\n",
    "\n",
    "df = df.sample(160000)\n",
    "print(len(df))\n",
    "df.head()\n",
    "\n",
    "#Clean text\n",
    "\n",
    "stop = stopwords.words('english')\n",
    "w_tokenizer = nltk.tokenize.WhitespaceTokenizer()\n",
    "lemmatizer = nltk.stem.WordNetLemmatizer()\n",
    "\n",
    "def lemmatize_text(text):\n",
    "    return [lemmatizer.lemmatize(w) for w in w_tokenizer.tokenize(text)]\n",
    "\n",
    "#lowercase and remove punctuation, remove stopwords        \n",
    "df['text'] = df['text'].str.lower()\n",
    "df['text'] = df['text'].str.replace('-', ' ')\n",
    "df['text'] = df['text'].str.split(' ')\n",
    "df['text'] = df['text'].apply(lambda x: [item for item in x if item not in stop])\n",
    "df['text'] = df['text'].apply(', '.join)\n",
    "df['text'] = df['text'].str.replace('[{}]'.format(string.punctuation), '')\n",
    "df['text'] = df['text'].apply(lemmatize_text)\n",
    "df['text'] = df['text'].apply(', '.join)\n",
    "df['text'] = df['text'].str.replace('[{}]'.format(string.punctuation), '')\n",
    "df['text'] = df['text'].str.replace('\\\\', ' ')\n",
    "\n",
    "\n",
    "#Train Word2Vec\n",
    "\n",
    "from gensim.models import Word2Vec\n",
    "\n",
    "text = [row.split() for row in df['text']]\n",
    "model_w2v = Word2Vec(text)\n",
    "\n",
    "model_w2v.save('model_w2v.bin')\n",
    "\n",
    "#Average Word2Vec Vectors for BOW\n",
    "\n",
    "from tqdm import tqdm_notebook as tqdm\n",
    "\n",
    "text_vec = []\n",
    "text_avg_vec = []\n",
    "count = 0\n",
    "for row in tqdm(range(len(text))):\n",
    "    [word.split(' ', 1) for word in text[row]]\n",
    "  \n",
    "    for i in range(len(text[row])):\n",
    "        try:\n",
    "            text_vec.append(model_w2v[text[row][i]])\n",
    "            count = count + 1\n",
    "        except KeyError as e:\n",
    "            text_vec.append([0]*100)\n",
    "  \n",
    "    average = np.add.reduce(text_vec)\n",
    "    if count==0:\n",
    "        count = 1\n",
    "    average = np.divide(average, count)\n",
    "    text_avg_vec.append(average)\n",
    "    text_vec = []\n",
    "    count = 0\n",
    "\n",
    "for i in range(len(text_avg_vec)):\n",
    "    if type(text_avg_vec[i]) != np.ndarray:\n",
    "        text_avg_vec[i] = np.zeros(100)\n",
    "\n",
    "from sklearn.feature_extraction.text import TfidfVectorizer\n",
    "\n",
    "tfidf = TfidfVectorizer(ngram_range=(1,2), max_features=29900)\n",
    "\n",
    "tfidf_features = tfidf.fit_transform(df['text'])\n",
    "\n",
    "x_train = text_avg_vec\n",
    "x_train = np.array(x_train).reshape(-1, 100)\n",
    "\n",
    "from scipy import sparse\n",
    "\n",
    "x_train = sparse.csr_matrix(x_train)\n",
    "x_train.shape\n",
    "\n",
    "x_train = sparse.hstack([x_train, tfidf_features])\n",
    "x_train.shape\n",
    "\n",
    "df['label'] = df['label'] - 1\n",
    "\n",
    "y_train= np.asarray(df.label)\n",
    "\n",
    "from sklearn.model_selection import train_test_split\n",
    "x_train, x_val, y_train, y_val = train_test_split(x_train, y_train, test_size=40000, random_state=42)\n",
    "\n",
    "print(x_train.shape)\n",
    "\n",
    "#print(x_val.shape)"
   ]
  },
  {
   "cell_type": "code",
   "execution_count": 3,
   "metadata": {
    "hidden": true
   },
   "outputs": [],
   "source": [
    "def batch_generator(X, y, batch_size, shuffle):\n",
    "    number_of_batches = X.shape[0]/batch_size\n",
    "    counter = 0\n",
    "    sample_index = np.arange(X.shape[0])\n",
    "    if shuffle:\n",
    "        np.random.shuffle(sample_index)\n",
    "    while True:\n",
    "        batch_index = sample_index[batch_size*counter:batch_size*(counter+1)]\n",
    "        X_batch = X[batch_index,:].toarray()\n",
    "        X_batch = np.reshape(X_batch, (X_batch.shape[0], X_batch.shape[1], 1))\n",
    "        y_batch = y[batch_index]\n",
    "        counter += 1\n",
    "        yield X_batch, y_batch\n",
    "        if (counter == number_of_batches):\n",
    "            if shuffle:\n",
    "                np.random.shuffle(sample_index)\n",
    "            counter = 0"
   ]
  },
  {
   "cell_type": "code",
   "execution_count": 81,
   "metadata": {
    "hidden": true
   },
   "outputs": [
    {
     "data": {
      "text/plain": [
       "(40000, 30000)"
      ]
     },
     "execution_count": 81,
     "metadata": {},
     "output_type": "execute_result"
    }
   ],
   "source": [
    "x_val.shape"
   ]
  },
  {
   "cell_type": "code",
   "execution_count": 5,
   "metadata": {
    "hidden": true
   },
   "outputs": [],
   "source": [
    "x_val = x_val.toarray()\n",
    "x_val = np.reshape(x_val, (x_val.shape[0], x_val.shape[1], 1))"
   ]
  },
  {
   "cell_type": "code",
   "execution_count": 7,
   "metadata": {
    "hidden": true
   },
   "outputs": [
    {
     "name": "stderr",
     "output_type": "stream",
     "text": [
      "Using TensorFlow backend.\n",
      "C:\\Users\\danie\\anaconda3\\lib\\site-packages\\tensorflow\\python\\framework\\dtypes.py:516: FutureWarning: Passing (type, 1) or '1type' as a synonym of type is deprecated; in a future version of numpy, it will be understood as (type, (1,)) / '(1,)type'.\n",
      "  _np_qint8 = np.dtype([(\"qint8\", np.int8, 1)])\n",
      "C:\\Users\\danie\\anaconda3\\lib\\site-packages\\tensorflow\\python\\framework\\dtypes.py:517: FutureWarning: Passing (type, 1) or '1type' as a synonym of type is deprecated; in a future version of numpy, it will be understood as (type, (1,)) / '(1,)type'.\n",
      "  _np_quint8 = np.dtype([(\"quint8\", np.uint8, 1)])\n",
      "C:\\Users\\danie\\anaconda3\\lib\\site-packages\\tensorflow\\python\\framework\\dtypes.py:518: FutureWarning: Passing (type, 1) or '1type' as a synonym of type is deprecated; in a future version of numpy, it will be understood as (type, (1,)) / '(1,)type'.\n",
      "  _np_qint16 = np.dtype([(\"qint16\", np.int16, 1)])\n",
      "C:\\Users\\danie\\anaconda3\\lib\\site-packages\\tensorflow\\python\\framework\\dtypes.py:519: FutureWarning: Passing (type, 1) or '1type' as a synonym of type is deprecated; in a future version of numpy, it will be understood as (type, (1,)) / '(1,)type'.\n",
      "  _np_quint16 = np.dtype([(\"quint16\", np.uint16, 1)])\n",
      "C:\\Users\\danie\\anaconda3\\lib\\site-packages\\tensorflow\\python\\framework\\dtypes.py:520: FutureWarning: Passing (type, 1) or '1type' as a synonym of type is deprecated; in a future version of numpy, it will be understood as (type, (1,)) / '(1,)type'.\n",
      "  _np_qint32 = np.dtype([(\"qint32\", np.int32, 1)])\n",
      "C:\\Users\\danie\\anaconda3\\lib\\site-packages\\tensorflow\\python\\framework\\dtypes.py:525: FutureWarning: Passing (type, 1) or '1type' as a synonym of type is deprecated; in a future version of numpy, it will be understood as (type, (1,)) / '(1,)type'.\n",
      "  np_resource = np.dtype([(\"resource\", np.ubyte, 1)])\n",
      "C:\\Users\\danie\\anaconda3\\lib\\site-packages\\tensorboard\\compat\\tensorflow_stub\\dtypes.py:541: FutureWarning: Passing (type, 1) or '1type' as a synonym of type is deprecated; in a future version of numpy, it will be understood as (type, (1,)) / '(1,)type'.\n",
      "  _np_qint8 = np.dtype([(\"qint8\", np.int8, 1)])\n",
      "C:\\Users\\danie\\anaconda3\\lib\\site-packages\\tensorboard\\compat\\tensorflow_stub\\dtypes.py:542: FutureWarning: Passing (type, 1) or '1type' as a synonym of type is deprecated; in a future version of numpy, it will be understood as (type, (1,)) / '(1,)type'.\n",
      "  _np_quint8 = np.dtype([(\"quint8\", np.uint8, 1)])\n",
      "C:\\Users\\danie\\anaconda3\\lib\\site-packages\\tensorboard\\compat\\tensorflow_stub\\dtypes.py:543: FutureWarning: Passing (type, 1) or '1type' as a synonym of type is deprecated; in a future version of numpy, it will be understood as (type, (1,)) / '(1,)type'.\n",
      "  _np_qint16 = np.dtype([(\"qint16\", np.int16, 1)])\n",
      "C:\\Users\\danie\\anaconda3\\lib\\site-packages\\tensorboard\\compat\\tensorflow_stub\\dtypes.py:544: FutureWarning: Passing (type, 1) or '1type' as a synonym of type is deprecated; in a future version of numpy, it will be understood as (type, (1,)) / '(1,)type'.\n",
      "  _np_quint16 = np.dtype([(\"quint16\", np.uint16, 1)])\n",
      "C:\\Users\\danie\\anaconda3\\lib\\site-packages\\tensorboard\\compat\\tensorflow_stub\\dtypes.py:545: FutureWarning: Passing (type, 1) or '1type' as a synonym of type is deprecated; in a future version of numpy, it will be understood as (type, (1,)) / '(1,)type'.\n",
      "  _np_qint32 = np.dtype([(\"qint32\", np.int32, 1)])\n",
      "C:\\Users\\danie\\anaconda3\\lib\\site-packages\\tensorboard\\compat\\tensorflow_stub\\dtypes.py:550: FutureWarning: Passing (type, 1) or '1type' as a synonym of type is deprecated; in a future version of numpy, it will be understood as (type, (1,)) / '(1,)type'.\n",
      "  np_resource = np.dtype([(\"resource\", np.ubyte, 1)])\n"
     ]
    }
   ],
   "source": [
    "import keras\n",
    "\n",
    "y_train = keras.utils.to_categorical(y_train, num_classes=2, dtype='int32')\n",
    "y_val = keras.utils.to_categorical(y_val, num_classes=2, dtype='int32')"
   ]
  },
  {
   "cell_type": "code",
   "execution_count": 8,
   "metadata": {
    "hidden": true
   },
   "outputs": [
    {
     "name": "stdout",
     "output_type": "stream",
     "text": [
      "WARNING:tensorflow:From C:\\Users\\danie\\anaconda3\\lib\\site-packages\\keras\\backend\\tensorflow_backend.py:4070: The name tf.nn.max_pool is deprecated. Please use tf.nn.max_pool2d instead.\n",
      "\n",
      "Model: \"sequential_1\"\n",
      "_________________________________________________________________\n",
      "Layer (type)                 Output Shape              Param #   \n",
      "=================================================================\n",
      "conv1d_1 (Conv1D)            (None, 29998, 32)         128       \n",
      "_________________________________________________________________\n",
      "conv1d_2 (Conv1D)            (None, 29996, 32)         3104      \n",
      "_________________________________________________________________\n",
      "max_pooling1d_1 (MaxPooling1 (None, 14998, 32)         0         \n",
      "_________________________________________________________________\n",
      "conv1d_3 (Conv1D)            (None, 14996, 64)         6208      \n",
      "_________________________________________________________________\n",
      "conv1d_4 (Conv1D)            (None, 14994, 64)         12352     \n",
      "_________________________________________________________________\n",
      "max_pooling1d_2 (MaxPooling1 (None, 7497, 64)          0         \n",
      "_________________________________________________________________\n",
      "conv1d_5 (Conv1D)            (None, 7495, 128)         24704     \n",
      "_________________________________________________________________\n",
      "conv1d_6 (Conv1D)            (None, 7493, 128)         49280     \n",
      "_________________________________________________________________\n",
      "max_pooling1d_3 (MaxPooling1 (None, 3746, 128)         0         \n",
      "_________________________________________________________________\n",
      "conv1d_7 (Conv1D)            (None, 3744, 256)         98560     \n",
      "_________________________________________________________________\n",
      "conv1d_8 (Conv1D)            (None, 3742, 256)         196864    \n",
      "_________________________________________________________________\n",
      "max_pooling1d_4 (MaxPooling1 (None, 748, 256)          0         \n",
      "_________________________________________________________________\n",
      "flatten_1 (Flatten)          (None, 191488)            0         \n",
      "_________________________________________________________________\n",
      "batch_normalization_1 (Batch (None, 191488)            765952    \n",
      "_________________________________________________________________\n",
      "dense_1 (Dense)              (None, 200)               38297800  \n",
      "_________________________________________________________________\n",
      "dense_2 (Dense)              (None, 100)               20100     \n",
      "_________________________________________________________________\n",
      "dense_3 (Dense)              (None, 2)                 202       \n",
      "=================================================================\n",
      "Total params: 39,475,254\n",
      "Trainable params: 39,092,278\n",
      "Non-trainable params: 382,976\n",
      "_________________________________________________________________\n"
     ]
    }
   ],
   "source": [
    "#CNN Training\n",
    "\n",
    "shape = (x_train.shape[1], 1)\n",
    "model = keras.models.Sequential()\n",
    "\n",
    "model.add(keras.layers.Conv1D(32, kernel_size=3, activation='relu', input_shape=shape))\n",
    "model.add(keras.layers.Conv1D(32, kernel_size=3, activation='relu'))\n",
    "\n",
    "model.add(keras.layers.MaxPooling1D(pool_size=2))\n",
    "          \n",
    "model.add(keras.layers.Conv1D(64, kernel_size=3, activation='relu'))\n",
    "model.add(keras.layers.Conv1D(64, kernel_size=3, activation='relu'))\n",
    "          \n",
    "model.add(keras.layers.MaxPooling1D(pool_size=2))\n",
    "          \n",
    "model.add(keras.layers.Conv1D(128, kernel_size=3, activation='relu'))\n",
    "model.add(keras.layers.Conv1D(128, kernel_size=3, activation='relu'))\n",
    "          \n",
    "model.add(keras.layers.MaxPooling1D(pool_size=2))\n",
    "          \n",
    "model.add(keras.layers.Conv1D(256, kernel_size=3, activation='relu'))\n",
    "model.add(keras.layers.Conv1D(256, kernel_size=3, activation='relu'))\n",
    "          \n",
    "model.add(keras.layers.MaxPooling1D(pool_size=5))\n",
    "\n",
    "model.add(keras.layers.Flatten())\n",
    "model.add(keras.layers.BatchNormalization())\n",
    "          \n",
    "model.add(keras.layers.Dense(200, activation='relu'))\n",
    "model.add(keras.layers.Dense(100, activation='relu'))\n",
    "model.add(keras.layers.Dense(2, activation='relu'))\n",
    "\n",
    "\n",
    "model.compile(loss='categorical_crossentropy', optimizer='adam', metrics=['accuracy'])\n",
    "checkpoint = keras.callbacks.ModelCheckpoint(\"CNN.model\", monitor='val_loss', verbose=1, save_best_only=True)\n",
    "\n",
    "model.summary()"
   ]
  },
  {
   "cell_type": "code",
   "execution_count": 10,
   "metadata": {
    "hidden": true
   },
   "outputs": [
    {
     "name": "stdout",
     "output_type": "stream",
     "text": [
      "Epoch 1/25\n",
      " 680/3750 [====>.........................] - ETA: 2:01:38 - loss: 0.7412 - accuracy: 0.7585"
     ]
    },
    {
     "ename": "KeyboardInterrupt",
     "evalue": "",
     "output_type": "error",
     "traceback": [
      "\u001b[1;31m---------------------------------------------------------------------------\u001b[0m",
      "\u001b[1;31mKeyboardInterrupt\u001b[0m                         Traceback (most recent call last)",
      "\u001b[1;32m<ipython-input-10-126e786e1330>\u001b[0m in \u001b[0;36m<module>\u001b[1;34m\u001b[0m\n\u001b[1;32m----> 1\u001b[1;33m \u001b[0mmodel1\u001b[0m \u001b[1;33m=\u001b[0m \u001b[0mmodel\u001b[0m\u001b[1;33m.\u001b[0m\u001b[0mfit_generator\u001b[0m\u001b[1;33m(\u001b[0m\u001b[0mgenerator\u001b[0m\u001b[1;33m=\u001b[0m\u001b[0mbatch_generator\u001b[0m\u001b[1;33m(\u001b[0m\u001b[0mx_train\u001b[0m\u001b[1;33m,\u001b[0m \u001b[0my_train\u001b[0m\u001b[1;33m,\u001b[0m \u001b[1;36m32\u001b[0m\u001b[1;33m,\u001b[0m \u001b[1;32mTrue\u001b[0m\u001b[1;33m)\u001b[0m\u001b[1;33m,\u001b[0m \u001b[0mvalidation_data\u001b[0m\u001b[1;33m=\u001b[0m\u001b[1;33m(\u001b[0m\u001b[0mx_val\u001b[0m\u001b[1;33m,\u001b[0m \u001b[0my_val\u001b[0m\u001b[1;33m)\u001b[0m\u001b[1;33m,\u001b[0m \u001b[0msteps_per_epoch\u001b[0m\u001b[1;33m=\u001b[0m\u001b[1;33m(\u001b[0m\u001b[0mx_train\u001b[0m\u001b[1;33m.\u001b[0m\u001b[0mshape\u001b[0m\u001b[1;33m[\u001b[0m\u001b[1;36m0\u001b[0m\u001b[1;33m]\u001b[0m\u001b[1;33m)\u001b[0m\u001b[1;33m/\u001b[0m\u001b[1;36m32\u001b[0m\u001b[1;33m,\u001b[0m\u001b[0mepochs\u001b[0m\u001b[1;33m=\u001b[0m\u001b[1;36m25\u001b[0m\u001b[1;33m)\u001b[0m\u001b[1;33m\u001b[0m\u001b[1;33m\u001b[0m\u001b[0m\n\u001b[0m",
      "\u001b[1;32m~\\anaconda3\\lib\\site-packages\\keras\\legacy\\interfaces.py\u001b[0m in \u001b[0;36mwrapper\u001b[1;34m(*args, **kwargs)\u001b[0m\n\u001b[0;32m     89\u001b[0m                 warnings.warn('Update your `' + object_name + '` call to the ' +\n\u001b[0;32m     90\u001b[0m                               'Keras 2 API: ' + signature, stacklevel=2)\n\u001b[1;32m---> 91\u001b[1;33m             \u001b[1;32mreturn\u001b[0m \u001b[0mfunc\u001b[0m\u001b[1;33m(\u001b[0m\u001b[1;33m*\u001b[0m\u001b[0margs\u001b[0m\u001b[1;33m,\u001b[0m \u001b[1;33m**\u001b[0m\u001b[0mkwargs\u001b[0m\u001b[1;33m)\u001b[0m\u001b[1;33m\u001b[0m\u001b[1;33m\u001b[0m\u001b[0m\n\u001b[0m\u001b[0;32m     92\u001b[0m         \u001b[0mwrapper\u001b[0m\u001b[1;33m.\u001b[0m\u001b[0m_original_function\u001b[0m \u001b[1;33m=\u001b[0m \u001b[0mfunc\u001b[0m\u001b[1;33m\u001b[0m\u001b[1;33m\u001b[0m\u001b[0m\n\u001b[0;32m     93\u001b[0m         \u001b[1;32mreturn\u001b[0m \u001b[0mwrapper\u001b[0m\u001b[1;33m\u001b[0m\u001b[1;33m\u001b[0m\u001b[0m\n",
      "\u001b[1;32m~\\anaconda3\\lib\\site-packages\\keras\\engine\\training.py\u001b[0m in \u001b[0;36mfit_generator\u001b[1;34m(self, generator, steps_per_epoch, epochs, verbose, callbacks, validation_data, validation_steps, validation_freq, class_weight, max_queue_size, workers, use_multiprocessing, shuffle, initial_epoch)\u001b[0m\n\u001b[0;32m   1730\u001b[0m             \u001b[0muse_multiprocessing\u001b[0m\u001b[1;33m=\u001b[0m\u001b[0muse_multiprocessing\u001b[0m\u001b[1;33m,\u001b[0m\u001b[1;33m\u001b[0m\u001b[1;33m\u001b[0m\u001b[0m\n\u001b[0;32m   1731\u001b[0m             \u001b[0mshuffle\u001b[0m\u001b[1;33m=\u001b[0m\u001b[0mshuffle\u001b[0m\u001b[1;33m,\u001b[0m\u001b[1;33m\u001b[0m\u001b[1;33m\u001b[0m\u001b[0m\n\u001b[1;32m-> 1732\u001b[1;33m             initial_epoch=initial_epoch)\n\u001b[0m\u001b[0;32m   1733\u001b[0m \u001b[1;33m\u001b[0m\u001b[0m\n\u001b[0;32m   1734\u001b[0m     \u001b[1;33m@\u001b[0m\u001b[0minterfaces\u001b[0m\u001b[1;33m.\u001b[0m\u001b[0mlegacy_generator_methods_support\u001b[0m\u001b[1;33m\u001b[0m\u001b[1;33m\u001b[0m\u001b[0m\n",
      "\u001b[1;32m~\\anaconda3\\lib\\site-packages\\keras\\engine\\training_generator.py\u001b[0m in \u001b[0;36mfit_generator\u001b[1;34m(model, generator, steps_per_epoch, epochs, verbose, callbacks, validation_data, validation_steps, validation_freq, class_weight, max_queue_size, workers, use_multiprocessing, shuffle, initial_epoch)\u001b[0m\n\u001b[0;32m    218\u001b[0m                                             \u001b[0msample_weight\u001b[0m\u001b[1;33m=\u001b[0m\u001b[0msample_weight\u001b[0m\u001b[1;33m,\u001b[0m\u001b[1;33m\u001b[0m\u001b[1;33m\u001b[0m\u001b[0m\n\u001b[0;32m    219\u001b[0m                                             \u001b[0mclass_weight\u001b[0m\u001b[1;33m=\u001b[0m\u001b[0mclass_weight\u001b[0m\u001b[1;33m,\u001b[0m\u001b[1;33m\u001b[0m\u001b[1;33m\u001b[0m\u001b[0m\n\u001b[1;32m--> 220\u001b[1;33m                                             reset_metrics=False)\n\u001b[0m\u001b[0;32m    221\u001b[0m \u001b[1;33m\u001b[0m\u001b[0m\n\u001b[0;32m    222\u001b[0m                 \u001b[0mouts\u001b[0m \u001b[1;33m=\u001b[0m \u001b[0mto_list\u001b[0m\u001b[1;33m(\u001b[0m\u001b[0mouts\u001b[0m\u001b[1;33m)\u001b[0m\u001b[1;33m\u001b[0m\u001b[1;33m\u001b[0m\u001b[0m\n",
      "\u001b[1;32m~\\anaconda3\\lib\\site-packages\\keras\\engine\\training.py\u001b[0m in \u001b[0;36mtrain_on_batch\u001b[1;34m(self, x, y, sample_weight, class_weight, reset_metrics)\u001b[0m\n\u001b[0;32m   1512\u001b[0m             \u001b[0mins\u001b[0m \u001b[1;33m=\u001b[0m \u001b[0mx\u001b[0m \u001b[1;33m+\u001b[0m \u001b[0my\u001b[0m \u001b[1;33m+\u001b[0m \u001b[0msample_weights\u001b[0m\u001b[1;33m\u001b[0m\u001b[1;33m\u001b[0m\u001b[0m\n\u001b[0;32m   1513\u001b[0m         \u001b[0mself\u001b[0m\u001b[1;33m.\u001b[0m\u001b[0m_make_train_function\u001b[0m\u001b[1;33m(\u001b[0m\u001b[1;33m)\u001b[0m\u001b[1;33m\u001b[0m\u001b[1;33m\u001b[0m\u001b[0m\n\u001b[1;32m-> 1514\u001b[1;33m         \u001b[0moutputs\u001b[0m \u001b[1;33m=\u001b[0m \u001b[0mself\u001b[0m\u001b[1;33m.\u001b[0m\u001b[0mtrain_function\u001b[0m\u001b[1;33m(\u001b[0m\u001b[0mins\u001b[0m\u001b[1;33m)\u001b[0m\u001b[1;33m\u001b[0m\u001b[1;33m\u001b[0m\u001b[0m\n\u001b[0m\u001b[0;32m   1515\u001b[0m \u001b[1;33m\u001b[0m\u001b[0m\n\u001b[0;32m   1516\u001b[0m         \u001b[1;32mif\u001b[0m \u001b[0mreset_metrics\u001b[0m\u001b[1;33m:\u001b[0m\u001b[1;33m\u001b[0m\u001b[1;33m\u001b[0m\u001b[0m\n",
      "\u001b[1;32m~\\anaconda3\\lib\\site-packages\\tensorflow\\python\\keras\\backend.py\u001b[0m in \u001b[0;36m__call__\u001b[1;34m(self, inputs)\u001b[0m\n\u001b[0;32m   3290\u001b[0m \u001b[1;33m\u001b[0m\u001b[0m\n\u001b[0;32m   3291\u001b[0m     fetched = self._callable_fn(*array_vals,\n\u001b[1;32m-> 3292\u001b[1;33m                                 run_metadata=self.run_metadata)\n\u001b[0m\u001b[0;32m   3293\u001b[0m     \u001b[0mself\u001b[0m\u001b[1;33m.\u001b[0m\u001b[0m_call_fetch_callbacks\u001b[0m\u001b[1;33m(\u001b[0m\u001b[0mfetched\u001b[0m\u001b[1;33m[\u001b[0m\u001b[1;33m-\u001b[0m\u001b[0mlen\u001b[0m\u001b[1;33m(\u001b[0m\u001b[0mself\u001b[0m\u001b[1;33m.\u001b[0m\u001b[0m_fetches\u001b[0m\u001b[1;33m)\u001b[0m\u001b[1;33m:\u001b[0m\u001b[1;33m]\u001b[0m\u001b[1;33m)\u001b[0m\u001b[1;33m\u001b[0m\u001b[1;33m\u001b[0m\u001b[0m\n\u001b[0;32m   3294\u001b[0m     output_structure = nest.pack_sequence_as(\n",
      "\u001b[1;32m~\\anaconda3\\lib\\site-packages\\tensorflow\\python\\client\\session.py\u001b[0m in \u001b[0;36m__call__\u001b[1;34m(self, *args, **kwargs)\u001b[0m\n\u001b[0;32m   1456\u001b[0m         ret = tf_session.TF_SessionRunCallable(self._session._session,\n\u001b[0;32m   1457\u001b[0m                                                \u001b[0mself\u001b[0m\u001b[1;33m.\u001b[0m\u001b[0m_handle\u001b[0m\u001b[1;33m,\u001b[0m \u001b[0margs\u001b[0m\u001b[1;33m,\u001b[0m\u001b[1;33m\u001b[0m\u001b[1;33m\u001b[0m\u001b[0m\n\u001b[1;32m-> 1458\u001b[1;33m                                                run_metadata_ptr)\n\u001b[0m\u001b[0;32m   1459\u001b[0m         \u001b[1;32mif\u001b[0m \u001b[0mrun_metadata\u001b[0m\u001b[1;33m:\u001b[0m\u001b[1;33m\u001b[0m\u001b[1;33m\u001b[0m\u001b[0m\n\u001b[0;32m   1460\u001b[0m           \u001b[0mproto_data\u001b[0m \u001b[1;33m=\u001b[0m \u001b[0mtf_session\u001b[0m\u001b[1;33m.\u001b[0m\u001b[0mTF_GetBuffer\u001b[0m\u001b[1;33m(\u001b[0m\u001b[0mrun_metadata_ptr\u001b[0m\u001b[1;33m)\u001b[0m\u001b[1;33m\u001b[0m\u001b[1;33m\u001b[0m\u001b[0m\n",
      "\u001b[1;31mKeyboardInterrupt\u001b[0m: "
     ]
    }
   ],
   "source": [
    "model1 = model.fit_generator(generator=batch_generator(x_train, y_train, 32, True), validation_data=(x_val, y_val), steps_per_epoch=(x_train.shape[0])/32,epochs=25)"
   ]
  }
 ],
 "metadata": {
  "colab": {
   "collapsed_sections": [],
   "name": "Full.ipynb",
   "provenance": []
  },
  "kernelspec": {
   "display_name": "Python 3",
   "language": "python",
   "name": "python3"
  },
  "language_info": {
   "codemirror_mode": {
    "name": "ipython",
    "version": 3
   },
   "file_extension": ".py",
   "mimetype": "text/x-python",
   "name": "python",
   "nbconvert_exporter": "python",
   "pygments_lexer": "ipython3",
   "version": "3.7.6"
  }
 },
 "nbformat": 4,
 "nbformat_minor": 4
}
